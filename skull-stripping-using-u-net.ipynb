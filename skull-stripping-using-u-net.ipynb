{
 "cells": [
  {
   "cell_type": "code",
   "execution_count": 1,
   "id": "8a81d625",
   "metadata": {
    "execution": {
     "iopub.execute_input": "2023-06-23T15:06:53.591522Z",
     "iopub.status.busy": "2023-06-23T15:06:53.590708Z",
     "iopub.status.idle": "2023-06-23T15:07:11.638879Z",
     "shell.execute_reply": "2023-06-23T15:07:11.637895Z"
    },
    "papermill": {
     "duration": 18.061354,
     "end_time": "2023-06-23T15:07:11.641354",
     "exception": false,
     "start_time": "2023-06-23T15:06:53.580000",
     "status": "completed"
    },
    "tags": []
   },
   "outputs": [
    {
     "name": "stderr",
     "output_type": "stream",
     "text": [
      "/opt/conda/lib/python3.10/site-packages/tensorflow_io/python/ops/__init__.py:98: UserWarning: unable to load libtensorflow_io_plugins.so: unable to open file: libtensorflow_io_plugins.so, from paths: ['/opt/conda/lib/python3.10/site-packages/tensorflow_io/python/ops/libtensorflow_io_plugins.so']\n",
      "caused by: ['/opt/conda/lib/python3.10/site-packages/tensorflow_io/python/ops/libtensorflow_io_plugins.so: undefined symbol: _ZN3tsl6StatusC1EN10tensorflow5error4CodeESt17basic_string_viewIcSt11char_traitsIcEENS_14SourceLocationE']\n",
      "  warnings.warn(f\"unable to load libtensorflow_io_plugins.so: {e}\")\n",
      "/opt/conda/lib/python3.10/site-packages/tensorflow_io/python/ops/__init__.py:104: UserWarning: file system plugins are not loaded: unable to open file: libtensorflow_io.so, from paths: ['/opt/conda/lib/python3.10/site-packages/tensorflow_io/python/ops/libtensorflow_io.so']\n",
      "caused by: ['/opt/conda/lib/python3.10/site-packages/tensorflow_io/python/ops/libtensorflow_io.so: undefined symbol: _ZTVN10tensorflow13GcsFileSystemE']\n",
      "  warnings.warn(f\"file system plugins are not loaded: {e}\")\n"
     ]
    }
   ],
   "source": [
    "import os\n",
    "import cv2\n",
    "import re\n",
    "import numpy as np\n",
    "import matplotlib.pyplot as plt\n",
    "import tensorflow as tf\n",
    "import matplotlib.image as mpimg\n",
    "from glob import glob\n",
    "from tqdm import tqdm\n",
    "from tensorflow.keras.models import Model, load_model\n",
    "from sklearn.model_selection import train_test_split\n",
    "from tensorflow.keras.layers import Conv2D, Flatten, Dense, Conv2DTranspose, MaxPool2D, ReLU, Input, BatchNormalization, Concatenate, Lambda, Activation, Dropout\n",
    "from tensorflow.keras.optimizers import Adam\n",
    "from tensorflow.keras.utils import CustomObjectScope\n",
    "from sklearn.metrics import accuracy_score, f1_score, jaccard_score, precision_score, recall_score\n",
    "from tensorflow.keras.metrics import Recall, Precision\n",
    "from tensorflow.keras.callbacks import ModelCheckpoint, CSVLogger, ReduceLROnPlateau"
   ]
  },
  {
   "cell_type": "code",
   "execution_count": 2,
   "id": "66b59466",
   "metadata": {
    "execution": {
     "iopub.execute_input": "2023-06-23T15:07:11.659978Z",
     "iopub.status.busy": "2023-06-23T15:07:11.658565Z",
     "iopub.status.idle": "2023-06-23T15:07:11.664054Z",
     "shell.execute_reply": "2023-06-23T15:07:11.663212Z"
    },
    "papermill": {
     "duration": 0.016288,
     "end_time": "2023-06-23T15:07:11.665974",
     "exception": false,
     "start_time": "2023-06-23T15:07:11.649686",
     "status": "completed"
    },
    "tags": []
   },
   "outputs": [],
   "source": [
    "#Global variable\n",
    "BATCH_SIZE = 16\n",
    "W,H = 256, 256\n",
    "CHANNEL = 3\n",
    "lr = 1e-5\n",
    "epochs = 100"
   ]
  },
  {
   "cell_type": "markdown",
   "id": "07fcfd08",
   "metadata": {
    "papermill": {
     "duration": 0.007677,
     "end_time": "2023-06-23T15:07:11.681451",
     "exception": false,
     "start_time": "2023-06-23T15:07:11.673774",
     "status": "completed"
    },
    "tags": []
   },
   "source": [
    "# Evaluation Function"
   ]
  },
  {
   "cell_type": "code",
   "execution_count": 3,
   "id": "7e1ae1cc",
   "metadata": {
    "execution": {
     "iopub.execute_input": "2023-06-23T15:07:11.698690Z",
     "iopub.status.busy": "2023-06-23T15:07:11.697923Z",
     "iopub.status.idle": "2023-06-23T15:07:11.705917Z",
     "shell.execute_reply": "2023-06-23T15:07:11.705086Z"
    },
    "papermill": {
     "duration": 0.018409,
     "end_time": "2023-06-23T15:07:11.707786",
     "exception": false,
     "start_time": "2023-06-23T15:07:11.689377",
     "status": "completed"
    },
    "tags": []
   },
   "outputs": [],
   "source": [
    "def iou(y_true, y_pred):\n",
    "    def f(y_true, y_pred):\n",
    "        intersection = (y_true * y_pred).sum()\n",
    "        union = y_true.sum() + y_pred.sum() - intersection\n",
    "        x = (intersection + 1e-15) / (union + 1e-15)\n",
    "        x = x.astype(np.float32)\n",
    "        return x\n",
    "    return tf.numpy_function(f, [y_true, y_pred], tf.float32)\n",
    "\n",
    "smooth = 1e-15\n",
    "def dice_coef(y_true, y_pred):\n",
    "    y_true = tf.keras.layers.Flatten()(y_true)\n",
    "    y_pred = tf.keras.layers.Flatten()(y_pred)\n",
    "    intersection = tf.reduce_sum(y_true * y_pred)\n",
    "    return (2. * intersection  + smooth) / (tf.reduce_sum(y_true) + tf.reduce_sum(y_pred) + smooth)\n",
    "\n",
    "def dice_loss(y_true, y_pred):\n",
    "    return 1.0 - dice_coef(y_true, y_pred)"
   ]
  },
  {
   "cell_type": "code",
   "execution_count": 4,
   "id": "c9c0311c",
   "metadata": {
    "execution": {
     "iopub.execute_input": "2023-06-23T15:07:11.724946Z",
     "iopub.status.busy": "2023-06-23T15:07:11.724148Z",
     "iopub.status.idle": "2023-06-23T15:07:11.729117Z",
     "shell.execute_reply": "2023-06-23T15:07:11.728118Z"
    },
    "papermill": {
     "duration": 0.015566,
     "end_time": "2023-06-23T15:07:11.731166",
     "exception": false,
     "start_time": "2023-06-23T15:07:11.715600",
     "status": "completed"
    },
    "tags": []
   },
   "outputs": [],
   "source": [
    "#create folder for save augmented images\n",
    "def create_dir(path):\n",
    "    if not os.path.exists(path):\n",
    "        os.makedirs(path)"
   ]
  },
  {
   "cell_type": "markdown",
   "id": "44a08eed",
   "metadata": {
    "papermill": {
     "duration": 0.007874,
     "end_time": "2023-06-23T15:07:11.747464",
     "exception": false,
     "start_time": "2023-06-23T15:07:11.739590",
     "status": "completed"
    },
    "tags": []
   },
   "source": [
    "# U-NET (MODEL)"
   ]
  },
  {
   "cell_type": "code",
   "execution_count": 5,
   "id": "17df0a0a",
   "metadata": {
    "execution": {
     "iopub.execute_input": "2023-06-23T15:07:11.765705Z",
     "iopub.status.busy": "2023-06-23T15:07:11.764924Z",
     "iopub.status.idle": "2023-06-23T15:07:11.775899Z",
     "shell.execute_reply": "2023-06-23T15:07:11.775012Z"
    },
    "papermill": {
     "duration": 0.022013,
     "end_time": "2023-06-23T15:07:11.777881",
     "exception": false,
     "start_time": "2023-06-23T15:07:11.755868",
     "status": "completed"
    },
    "tags": []
   },
   "outputs": [],
   "source": [
    "def conv_block(input, num_filters):\n",
    "    x = Conv2D(num_filters, 3, padding='same')(input)\n",
    "    x = BatchNormalization()(x)\n",
    "    x = Activation(\"relu\")(x)\n",
    "\n",
    "    return x\n",
    "\n",
    "def encoder_block(input, num_filters):\n",
    "    x = conv_block(input, num_filters)\n",
    "    p = MaxPool2D((2,2))(x)\n",
    "    return x, p\n",
    "\n",
    "def decoder_block(input, skip_features, num_filters):\n",
    "    x = Conv2DTranspose(num_filters, (2,2), strides=2, padding='same')(input)\n",
    "    x = Concatenate()([x, skip_features])\n",
    "    x = conv_block(x, num_filters)\n",
    "    return x\n",
    "\n",
    "def build_unet(input_shape):\n",
    "    inputs = Input(input_shape)\n",
    "\n",
    "    s1, p1 = encoder_block(inputs, 32)\n",
    "    s2, p2 = encoder_block(p1, 64)\n",
    "    s3, p3 = encoder_block(p2, 128)\n",
    "    s4, p4 = encoder_block(p3, 256)\n",
    "    s5, p5 = encoder_block(p4, 512)\n",
    "    s6, p6 = encoder_block(p5, 1024)\n",
    "\n",
    "    b1 = conv_block(p6, 2048)\n",
    "\n",
    "    d1 = decoder_block(b1, s6, 1024)\n",
    "    d2 = decoder_block(d1, s5, 512)\n",
    "    d3 = decoder_block(d2, s4, 256)\n",
    "    d4 = decoder_block(d3, s3, 128)\n",
    "    d5 = decoder_block(d4, s2, 64)\n",
    "    d6 = decoder_block(d5, s1, 32)\n",
    "\n",
    "    outputs = Conv2D(1, 1, padding='same', activation='sigmoid')(d6)\n",
    "\n",
    "    model = Model(inputs, outputs, name='U-Net')\n",
    "    return model"
   ]
  },
  {
   "cell_type": "code",
   "execution_count": 6,
   "id": "a69d902e",
   "metadata": {
    "execution": {
     "iopub.execute_input": "2023-06-23T15:07:11.796465Z",
     "iopub.status.busy": "2023-06-23T15:07:11.795590Z",
     "iopub.status.idle": "2023-06-23T15:07:18.126476Z",
     "shell.execute_reply": "2023-06-23T15:07:18.125606Z"
    },
    "papermill": {
     "duration": 6.46046,
     "end_time": "2023-06-23T15:07:18.246739",
     "exception": false,
     "start_time": "2023-06-23T15:07:11.786279",
     "status": "completed"
    },
    "tags": []
   },
   "outputs": [
    {
     "name": "stdout",
     "output_type": "stream",
     "text": [
      "Model: \"U-Net\"\n",
      "__________________________________________________________________________________________________\n",
      " Layer (type)                   Output Shape         Param #     Connected to                     \n",
      "==================================================================================================\n",
      " input_1 (InputLayer)           [(None, 256, 256, 3  0           []                               \n",
      "                                )]                                                                \n",
      "                                                                                                  \n",
      " conv2d (Conv2D)                (None, 256, 256, 32  896         ['input_1[0][0]']                \n",
      "                                )                                                                 \n",
      "                                                                                                  \n",
      " batch_normalization (BatchNorm  (None, 256, 256, 32  128        ['conv2d[0][0]']                 \n",
      " alization)                     )                                                                 \n",
      "                                                                                                  \n",
      " activation (Activation)        (None, 256, 256, 32  0           ['batch_normalization[0][0]']    \n",
      "                                )                                                                 \n",
      "                                                                                                  \n",
      " max_pooling2d (MaxPooling2D)   (None, 128, 128, 32  0           ['activation[0][0]']             \n",
      "                                )                                                                 \n",
      "                                                                                                  \n",
      " conv2d_1 (Conv2D)              (None, 128, 128, 64  18496       ['max_pooling2d[0][0]']          \n",
      "                                )                                                                 \n",
      "                                                                                                  \n",
      " batch_normalization_1 (BatchNo  (None, 128, 128, 64  256        ['conv2d_1[0][0]']               \n",
      " rmalization)                   )                                                                 \n",
      "                                                                                                  \n",
      " activation_1 (Activation)      (None, 128, 128, 64  0           ['batch_normalization_1[0][0]']  \n",
      "                                )                                                                 \n",
      "                                                                                                  \n",
      " max_pooling2d_1 (MaxPooling2D)  (None, 64, 64, 64)  0           ['activation_1[0][0]']           \n",
      "                                                                                                  \n",
      " conv2d_2 (Conv2D)              (None, 64, 64, 128)  73856       ['max_pooling2d_1[0][0]']        \n",
      "                                                                                                  \n",
      " batch_normalization_2 (BatchNo  (None, 64, 64, 128)  512        ['conv2d_2[0][0]']               \n",
      " rmalization)                                                                                     \n",
      "                                                                                                  \n",
      " activation_2 (Activation)      (None, 64, 64, 128)  0           ['batch_normalization_2[0][0]']  \n",
      "                                                                                                  \n",
      " max_pooling2d_2 (MaxPooling2D)  (None, 32, 32, 128)  0          ['activation_2[0][0]']           \n",
      "                                                                                                  \n",
      " conv2d_3 (Conv2D)              (None, 32, 32, 256)  295168      ['max_pooling2d_2[0][0]']        \n",
      "                                                                                                  \n",
      " batch_normalization_3 (BatchNo  (None, 32, 32, 256)  1024       ['conv2d_3[0][0]']               \n",
      " rmalization)                                                                                     \n",
      "                                                                                                  \n",
      " activation_3 (Activation)      (None, 32, 32, 256)  0           ['batch_normalization_3[0][0]']  \n",
      "                                                                                                  \n",
      " max_pooling2d_3 (MaxPooling2D)  (None, 16, 16, 256)  0          ['activation_3[0][0]']           \n",
      "                                                                                                  \n",
      " conv2d_4 (Conv2D)              (None, 16, 16, 512)  1180160     ['max_pooling2d_3[0][0]']        \n",
      "                                                                                                  \n",
      " batch_normalization_4 (BatchNo  (None, 16, 16, 512)  2048       ['conv2d_4[0][0]']               \n",
      " rmalization)                                                                                     \n",
      "                                                                                                  \n",
      " activation_4 (Activation)      (None, 16, 16, 512)  0           ['batch_normalization_4[0][0]']  \n",
      "                                                                                                  \n",
      " max_pooling2d_4 (MaxPooling2D)  (None, 8, 8, 512)   0           ['activation_4[0][0]']           \n",
      "                                                                                                  \n",
      " conv2d_5 (Conv2D)              (None, 8, 8, 1024)   4719616     ['max_pooling2d_4[0][0]']        \n",
      "                                                                                                  \n",
      " batch_normalization_5 (BatchNo  (None, 8, 8, 1024)  4096        ['conv2d_5[0][0]']               \n",
      " rmalization)                                                                                     \n",
      "                                                                                                  \n",
      " activation_5 (Activation)      (None, 8, 8, 1024)   0           ['batch_normalization_5[0][0]']  \n",
      "                                                                                                  \n",
      " max_pooling2d_5 (MaxPooling2D)  (None, 4, 4, 1024)  0           ['activation_5[0][0]']           \n",
      "                                                                                                  \n",
      " conv2d_6 (Conv2D)              (None, 4, 4, 2048)   18876416    ['max_pooling2d_5[0][0]']        \n",
      "                                                                                                  \n",
      " batch_normalization_6 (BatchNo  (None, 4, 4, 2048)  8192        ['conv2d_6[0][0]']               \n",
      " rmalization)                                                                                     \n",
      "                                                                                                  \n",
      " activation_6 (Activation)      (None, 4, 4, 2048)   0           ['batch_normalization_6[0][0]']  \n",
      "                                                                                                  \n",
      " conv2d_transpose (Conv2DTransp  (None, 8, 8, 1024)  8389632     ['activation_6[0][0]']           \n",
      " ose)                                                                                             \n",
      "                                                                                                  \n",
      " concatenate (Concatenate)      (None, 8, 8, 2048)   0           ['conv2d_transpose[0][0]',       \n",
      "                                                                  'activation_5[0][0]']           \n",
      "                                                                                                  \n",
      " conv2d_7 (Conv2D)              (None, 8, 8, 1024)   18875392    ['concatenate[0][0]']            \n",
      "                                                                                                  \n",
      " batch_normalization_7 (BatchNo  (None, 8, 8, 1024)  4096        ['conv2d_7[0][0]']               \n",
      " rmalization)                                                                                     \n",
      "                                                                                                  \n",
      " activation_7 (Activation)      (None, 8, 8, 1024)   0           ['batch_normalization_7[0][0]']  \n",
      "                                                                                                  \n",
      " conv2d_transpose_1 (Conv2DTran  (None, 16, 16, 512)  2097664    ['activation_7[0][0]']           \n",
      " spose)                                                                                           \n",
      "                                                                                                  \n",
      " concatenate_1 (Concatenate)    (None, 16, 16, 1024  0           ['conv2d_transpose_1[0][0]',     \n",
      "                                )                                 'activation_4[0][0]']           \n",
      "                                                                                                  \n",
      " conv2d_8 (Conv2D)              (None, 16, 16, 512)  4719104     ['concatenate_1[0][0]']          \n",
      "                                                                                                  \n",
      " batch_normalization_8 (BatchNo  (None, 16, 16, 512)  2048       ['conv2d_8[0][0]']               \n",
      " rmalization)                                                                                     \n",
      "                                                                                                  \n",
      " activation_8 (Activation)      (None, 16, 16, 512)  0           ['batch_normalization_8[0][0]']  \n",
      "                                                                                                  \n",
      " conv2d_transpose_2 (Conv2DTran  (None, 32, 32, 256)  524544     ['activation_8[0][0]']           \n",
      " spose)                                                                                           \n",
      "                                                                                                  \n",
      " concatenate_2 (Concatenate)    (None, 32, 32, 512)  0           ['conv2d_transpose_2[0][0]',     \n",
      "                                                                  'activation_3[0][0]']           \n",
      "                                                                                                  \n",
      " conv2d_9 (Conv2D)              (None, 32, 32, 256)  1179904     ['concatenate_2[0][0]']          \n",
      "                                                                                                  \n",
      " batch_normalization_9 (BatchNo  (None, 32, 32, 256)  1024       ['conv2d_9[0][0]']               \n",
      " rmalization)                                                                                     \n",
      "                                                                                                  \n",
      " activation_9 (Activation)      (None, 32, 32, 256)  0           ['batch_normalization_9[0][0]']  \n",
      "                                                                                                  \n",
      " conv2d_transpose_3 (Conv2DTran  (None, 64, 64, 128)  131200     ['activation_9[0][0]']           \n",
      " spose)                                                                                           \n",
      "                                                                                                  \n",
      " concatenate_3 (Concatenate)    (None, 64, 64, 256)  0           ['conv2d_transpose_3[0][0]',     \n",
      "                                                                  'activation_2[0][0]']           \n",
      "                                                                                                  \n",
      " conv2d_10 (Conv2D)             (None, 64, 64, 128)  295040      ['concatenate_3[0][0]']          \n",
      "                                                                                                  \n",
      " batch_normalization_10 (BatchN  (None, 64, 64, 128)  512        ['conv2d_10[0][0]']              \n",
      " ormalization)                                                                                    \n",
      "                                                                                                  \n",
      " activation_10 (Activation)     (None, 64, 64, 128)  0           ['batch_normalization_10[0][0]'] \n",
      "                                                                                                  \n",
      " conv2d_transpose_4 (Conv2DTran  (None, 128, 128, 64  32832      ['activation_10[0][0]']          \n",
      " spose)                         )                                                                 \n",
      "                                                                                                  \n",
      " concatenate_4 (Concatenate)    (None, 128, 128, 12  0           ['conv2d_transpose_4[0][0]',     \n",
      "                                8)                                'activation_1[0][0]']           \n",
      "                                                                                                  \n",
      " conv2d_11 (Conv2D)             (None, 128, 128, 64  73792       ['concatenate_4[0][0]']          \n",
      "                                )                                                                 \n",
      "                                                                                                  \n",
      " batch_normalization_11 (BatchN  (None, 128, 128, 64  256        ['conv2d_11[0][0]']              \n",
      " ormalization)                  )                                                                 \n",
      "                                                                                                  \n",
      " activation_11 (Activation)     (None, 128, 128, 64  0           ['batch_normalization_11[0][0]'] \n",
      "                                )                                                                 \n",
      "                                                                                                  \n",
      " conv2d_transpose_5 (Conv2DTran  (None, 256, 256, 32  8224       ['activation_11[0][0]']          \n",
      " spose)                         )                                                                 \n",
      "                                                                                                  \n",
      " concatenate_5 (Concatenate)    (None, 256, 256, 64  0           ['conv2d_transpose_5[0][0]',     \n",
      "                                )                                 'activation[0][0]']             \n",
      "                                                                                                  \n",
      " conv2d_12 (Conv2D)             (None, 256, 256, 32  18464       ['concatenate_5[0][0]']          \n",
      "                                )                                                                 \n",
      "                                                                                                  \n",
      " batch_normalization_12 (BatchN  (None, 256, 256, 32  128        ['conv2d_12[0][0]']              \n",
      " ormalization)                  )                                                                 \n",
      "                                                                                                  \n",
      " activation_12 (Activation)     (None, 256, 256, 32  0           ['batch_normalization_12[0][0]'] \n",
      "                                )                                                                 \n",
      "                                                                                                  \n",
      " conv2d_13 (Conv2D)             (None, 256, 256, 1)  33          ['activation_12[0][0]']          \n",
      "                                                                                                  \n",
      "==================================================================================================\n",
      "Total params: 61,534,753\n",
      "Trainable params: 61,522,593\n",
      "Non-trainable params: 12,160\n",
      "__________________________________________________________________________________________________\n"
     ]
    }
   ],
   "source": [
    "inputs_shape = (256,256,3)\n",
    "model = build_unet(inputs_shape)\n",
    "model.summary()"
   ]
  },
  {
   "cell_type": "code",
   "execution_count": 7,
   "id": "04bab6be",
   "metadata": {
    "execution": {
     "iopub.execute_input": "2023-06-23T15:07:18.290773Z",
     "iopub.status.busy": "2023-06-23T15:07:18.290408Z",
     "iopub.status.idle": "2023-06-23T15:07:18.315572Z",
     "shell.execute_reply": "2023-06-23T15:07:18.314634Z"
    },
    "papermill": {
     "duration": 0.04973,
     "end_time": "2023-06-23T15:07:18.317922",
     "exception": false,
     "start_time": "2023-06-23T15:07:18.268192",
     "status": "completed"
    },
    "tags": []
   },
   "outputs": [],
   "source": [
    "metrics = [dice_coef, iou, Recall(), Precision()]\n",
    "model.compile(loss=dice_loss, optimizer=Adam(lr), metrics=metrics)"
   ]
  },
  {
   "cell_type": "code",
   "execution_count": 8,
   "id": "ea6d68f4",
   "metadata": {
    "execution": {
     "iopub.execute_input": "2023-06-23T15:07:18.361615Z",
     "iopub.status.busy": "2023-06-23T15:07:18.361307Z",
     "iopub.status.idle": "2023-06-23T15:07:18.365993Z",
     "shell.execute_reply": "2023-06-23T15:07:18.365020Z"
    },
    "papermill": {
     "duration": 0.028816,
     "end_time": "2023-06-23T15:07:18.368102",
     "exception": false,
     "start_time": "2023-06-23T15:07:18.339286",
     "status": "completed"
    },
    "tags": []
   },
   "outputs": [],
   "source": [
    "model_path = \"unet_for_skull_stripping.h5\"\n",
    "csv_path = \"unet_for_skull_stripping.csv\"\n",
    "path = \"/kaggle/input/skull-stripping/temp\"\n",
    "split = 0.1"
   ]
  },
  {
   "cell_type": "markdown",
   "id": "e682a18f",
   "metadata": {
    "papermill": {
     "duration": 0.019916,
     "end_time": "2023-06-23T15:07:18.408925",
     "exception": false,
     "start_time": "2023-06-23T15:07:18.389009",
     "status": "completed"
    },
    "tags": []
   },
   "source": [
    "# Data Pipeline"
   ]
  },
  {
   "cell_type": "code",
   "execution_count": 9,
   "id": "34113ef8",
   "metadata": {
    "execution": {
     "iopub.execute_input": "2023-06-23T15:07:18.451038Z",
     "iopub.status.busy": "2023-06-23T15:07:18.450737Z",
     "iopub.status.idle": "2023-06-23T15:07:18.456312Z",
     "shell.execute_reply": "2023-06-23T15:07:18.455416Z"
    },
    "papermill": {
     "duration": 0.029111,
     "end_time": "2023-06-23T15:07:18.458330",
     "exception": false,
     "start_time": "2023-06-23T15:07:18.429219",
     "status": "completed"
    },
    "tags": []
   },
   "outputs": [],
   "source": [
    "#load dataset\n",
    "def load_data(path, split=0.1):\n",
    "    images = sorted(glob(os.path.join(path, \"images/*\")), key=lambda x: int(re.search(r'\\d+', x).group()))\n",
    "    masks = sorted(glob(os.path.join(path, \"mask/*\")), key=lambda x: int(re.search(r'\\d+', x).group()))\n",
    "\n",
    "    return images, masks"
   ]
  },
  {
   "cell_type": "code",
   "execution_count": 10,
   "id": "b909e9f2",
   "metadata": {
    "execution": {
     "iopub.execute_input": "2023-06-23T15:07:18.498928Z",
     "iopub.status.busy": "2023-06-23T15:07:18.498638Z",
     "iopub.status.idle": "2023-06-23T15:07:18.504977Z",
     "shell.execute_reply": "2023-06-23T15:07:18.504059Z"
    },
    "papermill": {
     "duration": 0.029667,
     "end_time": "2023-06-23T15:07:18.507218",
     "exception": false,
     "start_time": "2023-06-23T15:07:18.477551",
     "status": "completed"
    },
    "tags": []
   },
   "outputs": [],
   "source": [
    "#process image function\n",
    "def read_img(path):\n",
    "    img = cv2.imread(path, cv2.IMREAD_COLOR)\n",
    "    img = cv2.resize(img, (256, 256))\n",
    "    img = img / 255\n",
    "    img = img.astype(np.float32)\n",
    "    return img\n",
    "\n",
    "#process mask function\n",
    "def read_mask(path):\n",
    "    mask = cv2.imread(path, cv2.IMREAD_GRAYSCALE)\n",
    "    mask = cv2.resize(mask, (256, 256))\n",
    "    mask = mask / 255\n",
    "    mask = np.expand_dims(mask, axis=-1)\n",
    "    mask = mask.astype(np.float32)\n",
    "    return mask"
   ]
  },
  {
   "cell_type": "code",
   "execution_count": 11,
   "id": "a1bacf36",
   "metadata": {
    "execution": {
     "iopub.execute_input": "2023-06-23T15:07:18.549956Z",
     "iopub.status.busy": "2023-06-23T15:07:18.549635Z",
     "iopub.status.idle": "2023-06-23T15:07:18.556140Z",
     "shell.execute_reply": "2023-06-23T15:07:18.555216Z"
    },
    "papermill": {
     "duration": 0.030405,
     "end_time": "2023-06-23T15:07:18.558183",
     "exception": false,
     "start_time": "2023-06-23T15:07:18.527778",
     "status": "completed"
    },
    "tags": []
   },
   "outputs": [],
   "source": [
    "#enable to apply cv\n",
    "def preprocess(x, y):\n",
    "    def f(x, y):\n",
    "        x = x.decode()\n",
    "        y = y.decode()\n",
    "\n",
    "        x = read_img(x)\n",
    "        y = read_mask(y)\n",
    "        return x, y\n",
    "\n",
    "    image, mask = tf.numpy_function(f, [x, y], [tf.float32, tf.float32])\n",
    "    image.set_shape([256, 256, 3])\n",
    "    mask.set_shape([256, 256, 1])\n",
    "\n",
    "    return image, mask"
   ]
  },
  {
   "cell_type": "code",
   "execution_count": 12,
   "id": "76c09321",
   "metadata": {
    "execution": {
     "iopub.execute_input": "2023-06-23T15:07:18.599827Z",
     "iopub.status.busy": "2023-06-23T15:07:18.599564Z",
     "iopub.status.idle": "2023-06-23T15:07:18.605776Z",
     "shell.execute_reply": "2023-06-23T15:07:18.604923Z"
    },
    "papermill": {
     "duration": 0.029205,
     "end_time": "2023-06-23T15:07:18.607830",
     "exception": false,
     "start_time": "2023-06-23T15:07:18.578625",
     "status": "completed"
    },
    "tags": []
   },
   "outputs": [],
   "source": [
    "def tf_dataset(x, y, batch=8):\n",
    "    dataset = tf.data.Dataset.from_tensor_slices((x, y))\n",
    "    dataset = dataset.shuffle(buffer_size=1000)\n",
    "    dataset = dataset.map(preprocess)\n",
    "    dataset = dataset.batch(batch)\n",
    "    dataset = dataset.prefetch(2)\n",
    "    return dataset"
   ]
  },
  {
   "cell_type": "code",
   "execution_count": 13,
   "id": "e5d54bc2",
   "metadata": {
    "execution": {
     "iopub.execute_input": "2023-06-23T15:07:18.648678Z",
     "iopub.status.busy": "2023-06-23T15:07:18.648419Z",
     "iopub.status.idle": "2023-06-23T15:07:18.787965Z",
     "shell.execute_reply": "2023-06-23T15:07:18.786705Z"
    },
    "papermill": {
     "duration": 0.162685,
     "end_time": "2023-06-23T15:07:18.790287",
     "exception": false,
     "start_time": "2023-06-23T15:07:18.627602",
     "status": "completed"
    },
    "tags": []
   },
   "outputs": [
    {
     "name": "stdout",
     "output_type": "stream",
     "text": [
      "image: 722 - Masks: 722\n"
     ]
    }
   ],
   "source": [
    "images, masks = load_data(path)\n",
    "print(f'image: {len(images)} - Masks: {len(masks)}')"
   ]
  },
  {
   "cell_type": "code",
   "execution_count": 14,
   "id": "f2f79e12",
   "metadata": {
    "execution": {
     "iopub.execute_input": "2023-06-23T15:07:18.835244Z",
     "iopub.status.busy": "2023-06-23T15:07:18.834901Z",
     "iopub.status.idle": "2023-06-23T15:07:18.843209Z",
     "shell.execute_reply": "2023-06-23T15:07:18.840320Z"
    },
    "papermill": {
     "duration": 0.033638,
     "end_time": "2023-06-23T15:07:18.845777",
     "exception": false,
     "start_time": "2023-06-23T15:07:18.812139",
     "status": "completed"
    },
    "tags": []
   },
   "outputs": [
    {
     "name": "stdout",
     "output_type": "stream",
     "text": [
      "image: 722 - Masks: 722\n",
      "image: 22 - Masks: 22\n"
     ]
    }
   ],
   "source": [
    "train_image = images\n",
    "train_masks = masks\n",
    "test_image = images[700:]\n",
    "test_masks = masks[700:]\n",
    "print(f'image: {len(train_image)} - Masks: {len(train_masks)}')\n",
    "print(f'image: {len(test_image)} - Masks: {len(test_masks)}')"
   ]
  },
  {
   "cell_type": "code",
   "execution_count": 15,
   "id": "7f202171",
   "metadata": {
    "execution": {
     "iopub.execute_input": "2023-06-23T15:07:18.892197Z",
     "iopub.status.busy": "2023-06-23T15:07:18.891301Z",
     "iopub.status.idle": "2023-06-23T15:07:19.569213Z",
     "shell.execute_reply": "2023-06-23T15:07:19.568330Z"
    },
    "papermill": {
     "duration": 0.703915,
     "end_time": "2023-06-23T15:07:19.571959",
     "exception": false,
     "start_time": "2023-06-23T15:07:18.868044",
     "status": "completed"
    },
    "tags": []
   },
   "outputs": [
    {
     "data": {
      "text/plain": [
       "<matplotlib.image.AxesImage at 0x7fa35855f340>"
      ]
     },
     "execution_count": 15,
     "metadata": {},
     "output_type": "execute_result"
    },
    {
     "data": {
      "image/png": "[encoded data removed]",
      "text/plain": [
       "<Figure size 1000x800 with 2 Axes>"
      ]
     },
     "metadata": {},
     "output_type": "display_data"
    }
   ],
   "source": [
    "n = 100\n",
    "img = cv2.imread(train_image[n], cv2.IMREAD_COLOR)\n",
    "msk = cv2.imread(train_masks[n], cv2.IMREAD_COLOR)\n",
    "\n",
    "fig, ax = plt.subplots(1,2, figsize=(10,8))\n",
    "ax[0].imshow(img)\n",
    "ax[1].imshow(msk)"
   ]
  },
  {
   "cell_type": "code",
   "execution_count": 16,
   "id": "94c51dfd",
   "metadata": {
    "execution": {
     "iopub.execute_input": "2023-06-23T15:07:19.616368Z",
     "iopub.status.busy": "2023-06-23T15:07:19.616026Z",
     "iopub.status.idle": "2023-06-23T15:07:19.774934Z",
     "shell.execute_reply": "2023-06-23T15:07:19.773889Z"
    },
    "papermill": {
     "duration": 0.183924,
     "end_time": "2023-06-23T15:07:19.777525",
     "exception": false,
     "start_time": "2023-06-23T15:07:19.593601",
     "status": "completed"
    },
    "tags": []
   },
   "outputs": [],
   "source": [
    "#convert dataset into tf dataset\n",
    "train_dataset = tf_dataset(train_image, train_masks, batch=BATCH_SIZE)\n",
    "test_dataset = tf_dataset(test_image, test_masks, batch=BATCH_SIZE)"
   ]
  },
  {
   "cell_type": "code",
   "execution_count": 17,
   "id": "6de0109a",
   "metadata": {
    "execution": {
     "iopub.execute_input": "2023-06-23T15:07:19.825613Z",
     "iopub.status.busy": "2023-06-23T15:07:19.824725Z",
     "iopub.status.idle": "2023-06-23T15:07:19.830367Z",
     "shell.execute_reply": "2023-06-23T15:07:19.829490Z"
    },
    "papermill": {
     "duration": 0.031377,
     "end_time": "2023-06-23T15:07:19.832485",
     "exception": false,
     "start_time": "2023-06-23T15:07:19.801108",
     "status": "completed"
    },
    "tags": []
   },
   "outputs": [],
   "source": [
    "#Callbacks\n",
    "Callbacks = [\n",
    "    ModelCheckpoint(model_path, verbose=1, save_best_only=True), \n",
    "    CSVLogger(csv_path),\n",
    "    ReduceLROnPlateau(monitor='val_loss', factor=0.1, patience=5, min_lr=1e-7, verbose=1)\n",
    "]"
   ]
  },
  {
   "cell_type": "code",
   "execution_count": 18,
   "id": "e45db411",
   "metadata": {
    "execution": {
     "iopub.execute_input": "2023-06-23T15:07:19.879979Z",
     "iopub.status.busy": "2023-06-23T15:07:19.879101Z",
     "iopub.status.idle": "2023-06-23T15:37:33.373230Z",
     "shell.execute_reply": "2023-06-23T15:37:33.371936Z"
    },
    "papermill": {
     "duration": 1813.522658,
     "end_time": "2023-06-23T15:37:33.377397",
     "exception": false,
     "start_time": "2023-06-23T15:07:19.854739",
     "status": "completed"
    },
    "tags": []
   },
   "outputs": [
    {
     "name": "stdout",
     "output_type": "stream",
     "text": [
      "Epoch 1/100\n",
      "46/46 [==============================] - ETA: 0s - loss: 0.6129 - dice_coef: 0.3869 - iou: 0.2408 - recall: 0.6096 - precision: 0.3985\n",
      "Epoch 1: val_loss improved from inf to 0.67960, saving model to unet_for_skull_stripping.h5\n",
      "46/46 [==============================] - 58s 517ms/step - loss: 0.6129 - dice_coef: 0.3869 - iou: 0.2408 - recall: 0.6096 - precision: 0.3985 - val_loss: 0.6796 - val_dice_coef: 0.3210 - val_iou: 0.1912 - val_recall: 0.0032 - val_precision: 0.0711 - lr: 1.0000e-05\n",
      "Epoch 2/100\n",
      "46/46 [==============================] - ETA: 0s - loss: 0.4722 - dice_coef: 0.5284 - iou: 0.3599 - recall: 0.8622 - precision: 0.5524\n",
      "Epoch 2: val_loss did not improve from 0.67960\n",
      "46/46 [==============================] - 13s 269ms/step - loss: 0.4722 - dice_coef: 0.5284 - iou: 0.3599 - recall: 0.8622 - precision: 0.5524 - val_loss: 0.6921 - val_dice_coef: 0.3096 - val_iou: 0.1831 - val_recall: 2.7479e-04 - val_precision: 0.0586 - lr: 1.0000e-05\n",
      "Epoch 3/100\n",
      "46/46 [==============================] - ETA: 0s - loss: 0.3695 - dice_coef: 0.6307 - iou: 0.4612 - recall: 0.9650 - precision: 0.6290\n",
      "Epoch 3: val_loss did not improve from 0.67960\n",
      "46/46 [==============================] - 13s 273ms/step - loss: 0.3695 - dice_coef: 0.6307 - iou: 0.4612 - recall: 0.9650 - precision: 0.6290 - val_loss: 0.7120 - val_dice_coef: 0.2895 - val_iou: 0.1692 - val_recall: 8.0992e-05 - val_precision: 0.0408 - lr: 1.0000e-05\n",
      "Epoch 4/100\n",
      "46/46 [==============================] - ETA: 0s - loss: 0.3068 - dice_coef: 0.6935 - iou: 0.5311 - recall: 0.9848 - precision: 0.7144\n",
      "Epoch 4: val_loss did not improve from 0.67960\n",
      "46/46 [==============================] - 13s 275ms/step - loss: 0.3068 - dice_coef: 0.6935 - iou: 0.5311 - recall: 0.9848 - precision: 0.7144 - val_loss: 0.7283 - val_dice_coef: 0.2719 - val_iou: 0.1574 - val_recall: 4.3388e-05 - val_precision: 0.0441 - lr: 1.0000e-05\n",
      "Epoch 5/100\n",
      "46/46 [==============================] - ETA: 0s - loss: 0.2593 - dice_coef: 0.7393 - iou: 0.5869 - recall: 0.9878 - precision: 0.8108\n",
      "Epoch 5: val_loss did not improve from 0.67960\n",
      "46/46 [==============================] - 13s 279ms/step - loss: 0.2593 - dice_coef: 0.7393 - iou: 0.5869 - recall: 0.9878 - precision: 0.8108 - val_loss: 0.7252 - val_dice_coef: 0.2724 - val_iou: 0.1577 - val_recall: 1.0702e-04 - val_precision: 0.2517 - lr: 1.0000e-05\n",
      "Epoch 6/100\n",
      "46/46 [==============================] - ETA: 0s - loss: 0.2222 - dice_coef: 0.7781 - iou: 0.6372 - recall: 0.9876 - precision: 0.8872\n",
      "Epoch 6: val_loss improved from 0.67960 to 0.62065, saving model to unet_for_skull_stripping.h5\n",
      "46/46 [==============================] - 16s 336ms/step - loss: 0.2222 - dice_coef: 0.7781 - iou: 0.6372 - recall: 0.9876 - precision: 0.8872 - val_loss: 0.6206 - val_dice_coef: 0.3812 - val_iou: 0.2355 - val_recall: 0.2145 - val_precision: 0.9677 - lr: 1.0000e-05\n",
      "Epoch 7/100\n",
      "46/46 [==============================] - ETA: 0s - loss: 0.1977 - dice_coef: 0.8029 - iou: 0.6709 - recall: 0.9859 - precision: 0.9242\n",
      "Epoch 7: val_loss improved from 0.62065 to 0.48156, saving model to unet_for_skull_stripping.h5\n",
      "46/46 [==============================] - 16s 334ms/step - loss: 0.1977 - dice_coef: 0.8029 - iou: 0.6709 - recall: 0.9859 - precision: 0.9242 - val_loss: 0.4816 - val_dice_coef: 0.5166 - val_iou: 0.3483 - val_recall: 0.5613 - val_precision: 0.9476 - lr: 1.0000e-05\n",
      "Epoch 8/100\n",
      "46/46 [==============================] - ETA: 0s - loss: 0.1787 - dice_coef: 0.8185 - iou: 0.6936 - recall: 0.9870 - precision: 0.9426\n",
      "Epoch 8: val_loss improved from 0.48156 to 0.35864, saving model to unet_for_skull_stripping.h5\n",
      "46/46 [==============================] - 16s 339ms/step - loss: 0.1787 - dice_coef: 0.8185 - iou: 0.6936 - recall: 0.9870 - precision: 0.9426 - val_loss: 0.3586 - val_dice_coef: 0.6406 - val_iou: 0.4713 - val_recall: 0.7626 - val_precision: 0.9164 - lr: 1.0000e-05\n",
      "Epoch 9/100\n",
      "46/46 [==============================] - ETA: 0s - loss: 0.1643 - dice_coef: 0.8358 - iou: 0.7180 - recall: 0.9871 - precision: 0.9539\n",
      "Epoch 9: val_loss improved from 0.35864 to 0.27670, saving model to unet_for_skull_stripping.h5\n",
      "46/46 [==============================] - 16s 337ms/step - loss: 0.1643 - dice_coef: 0.8358 - iou: 0.7180 - recall: 0.9871 - precision: 0.9539 - val_loss: 0.2767 - val_dice_coef: 0.7239 - val_iou: 0.5672 - val_recall: 0.8585 - val_precision: 0.9275 - lr: 1.0000e-05\n",
      "Epoch 10/100\n",
      "46/46 [==============================] - ETA: 0s - loss: 0.1544 - dice_coef: 0.8462 - iou: 0.7336 - recall: 0.9870 - precision: 0.9591\n",
      "Epoch 10: val_loss improved from 0.27670 to 0.22227, saving model to unet_for_skull_stripping.h5\n",
      "46/46 [==============================] - 15s 325ms/step - loss: 0.1544 - dice_coef: 0.8462 - iou: 0.7336 - recall: 0.9870 - precision: 0.9591 - val_loss: 0.2223 - val_dice_coef: 0.7789 - val_iou: 0.6379 - val_recall: 0.9692 - val_precision: 0.8633 - lr: 1.0000e-05\n",
      "Epoch 11/100\n",
      "46/46 [==============================] - ETA: 0s - loss: 0.1455 - dice_coef: 0.8553 - iou: 0.7474 - recall: 0.9884 - precision: 0.9645\n",
      "Epoch 11: val_loss improved from 0.22227 to 0.19030, saving model to unet_for_skull_stripping.h5\n",
      "46/46 [==============================] - 15s 327ms/step - loss: 0.1455 - dice_coef: 0.8553 - iou: 0.7474 - recall: 0.9884 - precision: 0.9645 - val_loss: 0.1903 - val_dice_coef: 0.8087 - val_iou: 0.6788 - val_recall: 0.9288 - val_precision: 0.9708 - lr: 1.0000e-05\n",
      "Epoch 12/100\n",
      "46/46 [==============================] - ETA: 0s - loss: 0.1389 - dice_coef: 0.8599 - iou: 0.7545 - recall: 0.9883 - precision: 0.9691\n",
      "Epoch 12: val_loss improved from 0.19030 to 0.17046, saving model to unet_for_skull_stripping.h5\n",
      "46/46 [==============================] - 16s 338ms/step - loss: 0.1389 - dice_coef: 0.8599 - iou: 0.7545 - recall: 0.9883 - precision: 0.9691 - val_loss: 0.1705 - val_dice_coef: 0.8338 - val_iou: 0.7150 - val_recall: 0.9443 - val_precision: 0.9785 - lr: 1.0000e-05\n",
      "Epoch 13/100\n",
      "46/46 [==============================] - ETA: 0s - loss: 0.1339 - dice_coef: 0.8661 - iou: 0.7641 - recall: 0.9880 - precision: 0.9713\n",
      "Epoch 13: val_loss improved from 0.17046 to 0.16824, saving model to unet_for_skull_stripping.h5\n",
      "46/46 [==============================] - 16s 336ms/step - loss: 0.1339 - dice_coef: 0.8661 - iou: 0.7641 - recall: 0.9880 - precision: 0.9713 - val_loss: 0.1682 - val_dice_coef: 0.8293 - val_iou: 0.7085 - val_recall: 0.9175 - val_precision: 0.9933 - lr: 1.0000e-05\n",
      "Epoch 14/100\n",
      "46/46 [==============================] - ETA: 0s - loss: 0.1284 - dice_coef: 0.8714 - iou: 0.7722 - recall: 0.9881 - precision: 0.9760\n",
      "Epoch 14: val_loss improved from 0.16824 to 0.14710, saving model to unet_for_skull_stripping.h5\n",
      "46/46 [==============================] - 15s 329ms/step - loss: 0.1284 - dice_coef: 0.8714 - iou: 0.7722 - recall: 0.9881 - precision: 0.9760 - val_loss: 0.1471 - val_dice_coef: 0.8564 - val_iou: 0.7489 - val_recall: 0.9621 - val_precision: 0.9830 - lr: 1.0000e-05\n",
      "Epoch 15/100\n",
      "46/46 [==============================] - ETA: 0s - loss: 0.1245 - dice_coef: 0.8760 - iou: 0.7795 - recall: 0.9884 - precision: 0.9783\n",
      "Epoch 15: val_loss improved from 0.14710 to 0.13860, saving model to unet_for_skull_stripping.h5\n",
      "46/46 [==============================] - 16s 350ms/step - loss: 0.1245 - dice_coef: 0.8760 - iou: 0.7795 - recall: 0.9884 - precision: 0.9783 - val_loss: 0.1386 - val_dice_coef: 0.8648 - val_iou: 0.7619 - val_recall: 0.9759 - val_precision: 0.9786 - lr: 1.0000e-05\n",
      "Epoch 16/100\n",
      "46/46 [==============================] - ETA: 0s - loss: 0.1211 - dice_coef: 0.8787 - iou: 0.7838 - recall: 0.9889 - precision: 0.9787\n",
      "Epoch 16: val_loss did not improve from 0.13860\n",
      "46/46 [==============================] - 13s 284ms/step - loss: 0.1211 - dice_coef: 0.8787 - iou: 0.7838 - recall: 0.9889 - precision: 0.9787 - val_loss: 0.1419 - val_dice_coef: 0.8539 - val_iou: 0.7452 - val_recall: 0.9342 - val_precision: 0.9973 - lr: 1.0000e-05\n",
      "Epoch 17/100\n",
      "46/46 [==============================] - ETA: 0s - loss: 0.1185 - dice_coef: 0.8819 - iou: 0.7889 - recall: 0.9878 - precision: 0.9811\n",
      "Epoch 17: val_loss improved from 0.13860 to 0.12703, saving model to unet_for_skull_stripping.h5\n",
      "46/46 [==============================] - 15s 329ms/step - loss: 0.1185 - dice_coef: 0.8819 - iou: 0.7889 - recall: 0.9878 - precision: 0.9811 - val_loss: 0.1270 - val_dice_coef: 0.8719 - val_iou: 0.7728 - val_recall: 0.9836 - val_precision: 0.9846 - lr: 1.0000e-05\n",
      "Epoch 18/100\n",
      "46/46 [==============================] - ETA: 0s - loss: 0.1155 - dice_coef: 0.8839 - iou: 0.7921 - recall: 0.9888 - precision: 0.9815\n",
      "Epoch 18: val_loss improved from 0.12703 to 0.12342, saving model to unet_for_skull_stripping.h5\n",
      "46/46 [==============================] - 15s 330ms/step - loss: 0.1155 - dice_coef: 0.8839 - iou: 0.7921 - recall: 0.9888 - precision: 0.9815 - val_loss: 0.1234 - val_dice_coef: 0.8751 - val_iou: 0.7780 - val_recall: 0.9831 - val_precision: 0.9878 - lr: 1.0000e-05\n",
      "Epoch 19/100\n",
      "46/46 [==============================] - ETA: 0s - loss: 0.1129 - dice_coef: 0.8873 - iou: 0.7976 - recall: 0.9885 - precision: 0.9837\n",
      "Epoch 19: val_loss improved from 0.12342 to 0.11978, saving model to unet_for_skull_stripping.h5\n",
      "46/46 [==============================] - 15s 330ms/step - loss: 0.1129 - dice_coef: 0.8873 - iou: 0.7976 - recall: 0.9885 - precision: 0.9837 - val_loss: 0.1198 - val_dice_coef: 0.8783 - val_iou: 0.7830 - val_recall: 0.9812 - val_precision: 0.9907 - lr: 1.0000e-05\n",
      "Epoch 20/100\n",
      "46/46 [==============================] - ETA: 0s - loss: 0.1104 - dice_coef: 0.8892 - iou: 0.8006 - recall: 0.9886 - precision: 0.9858\n",
      "Epoch 20: val_loss did not improve from 0.11978\n",
      "46/46 [==============================] - 13s 284ms/step - loss: 0.1104 - dice_coef: 0.8892 - iou: 0.8006 - recall: 0.9886 - precision: 0.9858 - val_loss: 0.1214 - val_dice_coef: 0.8772 - val_iou: 0.7812 - val_recall: 0.9971 - val_precision: 0.9686 - lr: 1.0000e-05\n",
      "Epoch 21/100\n",
      "46/46 [==============================] - ETA: 0s - loss: 0.1086 - dice_coef: 0.8919 - iou: 0.8051 - recall: 0.9888 - precision: 0.9851\n",
      "Epoch 21: val_loss improved from 0.11978 to 0.11487, saving model to unet_for_skull_stripping.h5\n",
      "46/46 [==============================] - 15s 331ms/step - loss: 0.1086 - dice_coef: 0.8919 - iou: 0.8051 - recall: 0.9888 - precision: 0.9851 - val_loss: 0.1149 - val_dice_coef: 0.8829 - val_iou: 0.7905 - val_recall: 0.9830 - val_precision: 0.9908 - lr: 1.0000e-05\n",
      "Epoch 22/100\n",
      "46/46 [==============================] - ETA: 0s - loss: 0.1067 - dice_coef: 0.8930 - iou: 0.8068 - recall: 0.9885 - precision: 0.9868\n",
      "Epoch 22: val_loss improved from 0.11487 to 0.11452, saving model to unet_for_skull_stripping.h5\n",
      "46/46 [==============================] - 15s 328ms/step - loss: 0.1067 - dice_coef: 0.8930 - iou: 0.8068 - recall: 0.9885 - precision: 0.9868 - val_loss: 0.1145 - val_dice_coef: 0.8826 - val_iou: 0.7899 - val_recall: 0.9932 - val_precision: 0.9811 - lr: 1.0000e-05\n",
      "Epoch 23/100\n",
      "46/46 [==============================] - ETA: 0s - loss: 0.1049 - dice_coef: 0.8936 - iou: 0.8080 - recall: 0.9892 - precision: 0.9881\n",
      "Epoch 23: val_loss improved from 0.11452 to 0.11443, saving model to unet_for_skull_stripping.h5\n",
      "46/46 [==============================] - 15s 330ms/step - loss: 0.1049 - dice_coef: 0.8936 - iou: 0.8080 - recall: 0.9892 - precision: 0.9881 - val_loss: 0.1144 - val_dice_coef: 0.8857 - val_iou: 0.7948 - val_recall: 0.9609 - val_precision: 0.9976 - lr: 1.0000e-05\n",
      "Epoch 24/100\n",
      "46/46 [==============================] - ETA: 0s - loss: 0.1036 - dice_coef: 0.8968 - iou: 0.8130 - recall: 0.9885 - precision: 0.9875\n",
      "Epoch 24: val_loss improved from 0.11443 to 0.10939, saving model to unet_for_skull_stripping.h5\n",
      "46/46 [==============================] - 15s 327ms/step - loss: 0.1036 - dice_coef: 0.8968 - iou: 0.8130 - recall: 0.9885 - precision: 0.9875 - val_loss: 0.1094 - val_dice_coef: 0.8910 - val_iou: 0.8035 - val_recall: 0.9826 - val_precision: 0.9901 - lr: 1.0000e-05\n",
      "Epoch 25/100\n",
      "46/46 [==============================] - ETA: 0s - loss: 0.1020 - dice_coef: 0.8967 - iou: 0.8130 - recall: 0.9885 - precision: 0.9887\n",
      "Epoch 25: val_loss improved from 0.10939 to 0.10865, saving model to unet_for_skull_stripping.h5\n",
      "46/46 [==============================] - 15s 328ms/step - loss: 0.1020 - dice_coef: 0.8967 - iou: 0.8130 - recall: 0.9885 - precision: 0.9887 - val_loss: 0.1087 - val_dice_coef: 0.8946 - val_iou: 0.8094 - val_recall: 0.9715 - val_precision: 0.9954 - lr: 1.0000e-05\n",
      "Epoch 26/100\n",
      "46/46 [==============================] - ETA: 0s - loss: 0.1009 - dice_coef: 0.8997 - iou: 0.8179 - recall: 0.9878 - precision: 0.9890\n",
      "Epoch 26: val_loss improved from 0.10865 to 0.10714, saving model to unet_for_skull_stripping.h5\n",
      "46/46 [==============================] - 15s 330ms/step - loss: 0.1009 - dice_coef: 0.8997 - iou: 0.8179 - recall: 0.9878 - precision: 0.9890 - val_loss: 0.1071 - val_dice_coef: 0.8906 - val_iou: 0.8028 - val_recall: 0.9887 - val_precision: 0.9856 - lr: 1.0000e-05\n",
      "Epoch 27/100\n",
      "46/46 [==============================] - ETA: 0s - loss: 0.0991 - dice_coef: 0.9010 - iou: 0.8200 - recall: 0.9891 - precision: 0.9894\n",
      "Epoch 27: val_loss did not improve from 0.10714\n",
      "46/46 [==============================] - 13s 284ms/step - loss: 0.0991 - dice_coef: 0.9010 - iou: 0.8200 - recall: 0.9891 - precision: 0.9894 - val_loss: 0.1076 - val_dice_coef: 0.8934 - val_iou: 0.8074 - val_recall: 0.9592 - val_precision: 0.9984 - lr: 1.0000e-05\n",
      "Epoch 28/100\n",
      "46/46 [==============================] - ETA: 0s - loss: 0.0983 - dice_coef: 0.9009 - iou: 0.8199 - recall: 0.9884 - precision: 0.9898\n",
      "Epoch 28: val_loss did not improve from 0.10714\n",
      "46/46 [==============================] - 13s 285ms/step - loss: 0.0983 - dice_coef: 0.9009 - iou: 0.8199 - recall: 0.9884 - precision: 0.9898 - val_loss: 0.1100 - val_dice_coef: 0.8924 - val_iou: 0.8057 - val_recall: 0.9515 - val_precision: 0.9991 - lr: 1.0000e-05\n",
      "Epoch 29/100\n",
      "46/46 [==============================] - ETA: 0s - loss: 0.0967 - dice_coef: 0.9024 - iou: 0.8223 - recall: 0.9881 - precision: 0.9904\n",
      "Epoch 29: val_loss improved from 0.10714 to 0.10080, saving model to unet_for_skull_stripping.h5\n",
      "46/46 [==============================] - 15s 328ms/step - loss: 0.0967 - dice_coef: 0.9024 - iou: 0.8223 - recall: 0.9881 - precision: 0.9904 - val_loss: 0.1008 - val_dice_coef: 0.9014 - val_iou: 0.8205 - val_recall: 0.9837 - val_precision: 0.9942 - lr: 1.0000e-05\n",
      "Epoch 30/100\n",
      "46/46 [==============================] - ETA: 0s - loss: 0.0960 - dice_coef: 0.9039 - iou: 0.8247 - recall: 0.9881 - precision: 0.9905\n",
      "Epoch 30: val_loss did not improve from 0.10080\n",
      "46/46 [==============================] - 13s 282ms/step - loss: 0.0960 - dice_coef: 0.9039 - iou: 0.8247 - recall: 0.9881 - precision: 0.9905 - val_loss: 0.1049 - val_dice_coef: 0.8914 - val_iou: 0.8041 - val_recall: 0.9983 - val_precision: 0.9718 - lr: 1.0000e-05\n",
      "Epoch 31/100\n",
      "46/46 [==============================] - ETA: 0s - loss: 0.0954 - dice_coef: 0.9049 - iou: 0.8264 - recall: 0.9873 - precision: 0.9901\n",
      "Epoch 31: val_loss improved from 0.10080 to 0.09964, saving model to unet_for_skull_stripping.h5\n",
      "46/46 [==============================] - 17s 359ms/step - loss: 0.0954 - dice_coef: 0.9049 - iou: 0.8264 - recall: 0.9873 - precision: 0.9901 - val_loss: 0.0996 - val_dice_coef: 0.9002 - val_iou: 0.8185 - val_recall: 0.9948 - val_precision: 0.9823 - lr: 1.0000e-05\n",
      "Epoch 32/100\n",
      "46/46 [==============================] - ETA: 0s - loss: 0.0939 - dice_coef: 0.9058 - iou: 0.8279 - recall: 0.9886 - precision: 0.9908\n",
      "Epoch 32: val_loss improved from 0.09964 to 0.09673, saving model to unet_for_skull_stripping.h5\n",
      "46/46 [==============================] - 15s 329ms/step - loss: 0.0939 - dice_coef: 0.9058 - iou: 0.8279 - recall: 0.9886 - precision: 0.9908 - val_loss: 0.0967 - val_dice_coef: 0.9064 - val_iou: 0.8289 - val_recall: 0.9829 - val_precision: 0.9960 - lr: 1.0000e-05\n",
      "Epoch 33/100\n",
      "46/46 [==============================] - ETA: 0s - loss: 0.0925 - dice_coef: 0.9071 - iou: 0.8301 - recall: 0.9889 - precision: 0.9916\n",
      "Epoch 33: val_loss improved from 0.09673 to 0.09605, saving model to unet_for_skull_stripping.h5\n",
      "46/46 [==============================] - 15s 328ms/step - loss: 0.0925 - dice_coef: 0.9071 - iou: 0.8301 - recall: 0.9889 - precision: 0.9916 - val_loss: 0.0961 - val_dice_coef: 0.9057 - val_iou: 0.8276 - val_recall: 0.9837 - val_precision: 0.9935 - lr: 1.0000e-05\n",
      "Epoch 34/100\n",
      "46/46 [==============================] - ETA: 0s - loss: 0.0915 - dice_coef: 0.9082 - iou: 0.8320 - recall: 0.9878 - precision: 0.9929\n",
      "Epoch 34: val_loss did not improve from 0.09605\n",
      "46/46 [==============================] - 13s 282ms/step - loss: 0.0915 - dice_coef: 0.9082 - iou: 0.8320 - recall: 0.9878 - precision: 0.9929 - val_loss: 0.0981 - val_dice_coef: 0.9066 - val_iou: 0.8292 - val_recall: 0.9974 - val_precision: 0.9798 - lr: 1.0000e-05\n",
      "Epoch 35/100\n",
      "46/46 [==============================] - ETA: 0s - loss: 0.0907 - dice_coef: 0.9089 - iou: 0.8331 - recall: 0.9887 - precision: 0.9925\n",
      "Epoch 35: val_loss improved from 0.09605 to 0.09410, saving model to unet_for_skull_stripping.h5\n",
      "46/46 [==============================] - 15s 327ms/step - loss: 0.0907 - dice_coef: 0.9089 - iou: 0.8331 - recall: 0.9887 - precision: 0.9925 - val_loss: 0.0941 - val_dice_coef: 0.9077 - val_iou: 0.8311 - val_recall: 0.9918 - val_precision: 0.9899 - lr: 1.0000e-05\n",
      "Epoch 36/100\n",
      "46/46 [==============================] - ETA: 0s - loss: 0.0903 - dice_coef: 0.9101 - iou: 0.8352 - recall: 0.9883 - precision: 0.9916\n",
      "Epoch 36: val_loss did not improve from 0.09410\n",
      "46/46 [==============================] - 13s 284ms/step - loss: 0.0903 - dice_coef: 0.9101 - iou: 0.8352 - recall: 0.9883 - precision: 0.9916 - val_loss: 0.0944 - val_dice_coef: 0.9068 - val_iou: 0.8295 - val_recall: 0.9958 - val_precision: 0.9835 - lr: 1.0000e-05\n",
      "Epoch 37/100\n",
      "46/46 [==============================] - ETA: 0s - loss: 0.0890 - dice_coef: 0.9105 - iou: 0.8359 - recall: 0.9886 - precision: 0.9925\n",
      "Epoch 37: val_loss improved from 0.09410 to 0.09089, saving model to unet_for_skull_stripping.h5\n",
      "46/46 [==============================] - 15s 333ms/step - loss: 0.0890 - dice_coef: 0.9105 - iou: 0.8359 - recall: 0.9886 - precision: 0.9925 - val_loss: 0.0909 - val_dice_coef: 0.9122 - val_iou: 0.8387 - val_recall: 0.9877 - val_precision: 0.9946 - lr: 1.0000e-05\n",
      "Epoch 38/100\n",
      "46/46 [==============================] - ETA: 0s - loss: 0.0874 - dice_coef: 0.9127 - iou: 0.8394 - recall: 0.9887 - precision: 0.9938\n",
      "Epoch 38: val_loss did not improve from 0.09089\n",
      "46/46 [==============================] - 13s 284ms/step - loss: 0.0874 - dice_coef: 0.9127 - iou: 0.8394 - recall: 0.9887 - precision: 0.9938 - val_loss: 0.0984 - val_dice_coef: 0.9033 - val_iou: 0.8237 - val_recall: 0.9989 - val_precision: 0.9669 - lr: 1.0000e-05\n",
      "Epoch 39/100\n",
      "46/46 [==============================] - ETA: 0s - loss: 0.0869 - dice_coef: 0.9134 - iou: 0.8407 - recall: 0.9892 - precision: 0.9935\n",
      "Epoch 39: val_loss improved from 0.09089 to 0.08942, saving model to unet_for_skull_stripping.h5\n",
      "46/46 [==============================] - 15s 330ms/step - loss: 0.0869 - dice_coef: 0.9134 - iou: 0.8407 - recall: 0.9892 - precision: 0.9935 - val_loss: 0.0894 - val_dice_coef: 0.9112 - val_iou: 0.8368 - val_recall: 0.9933 - val_precision: 0.9917 - lr: 1.0000e-05\n",
      "Epoch 40/100\n",
      "46/46 [==============================] - ETA: 0s - loss: 0.0865 - dice_coef: 0.9129 - iou: 0.8399 - recall: 0.9883 - precision: 0.9930\n",
      "Epoch 40: val_loss did not improve from 0.08942\n",
      "46/46 [==============================] - 13s 283ms/step - loss: 0.0865 - dice_coef: 0.9129 - iou: 0.8399 - recall: 0.9883 - precision: 0.9930 - val_loss: 0.0895 - val_dice_coef: 0.9112 - val_iou: 0.8368 - val_recall: 0.9757 - val_precision: 0.9982 - lr: 1.0000e-05\n",
      "Epoch 41/100\n",
      "46/46 [==============================] - ETA: 0s - loss: 0.0857 - dice_coef: 0.9143 - iou: 0.8423 - recall: 0.9885 - precision: 0.9934\n",
      "Epoch 41: val_loss did not improve from 0.08942\n",
      "46/46 [==============================] - 13s 285ms/step - loss: 0.0857 - dice_coef: 0.9143 - iou: 0.8423 - recall: 0.9885 - precision: 0.9934 - val_loss: 0.0906 - val_dice_coef: 0.9121 - val_iou: 0.8384 - val_recall: 0.9645 - val_precision: 0.9991 - lr: 1.0000e-05\n",
      "Epoch 42/100\n",
      "46/46 [==============================] - ETA: 0s - loss: 0.0842 - dice_coef: 0.9160 - iou: 0.8451 - recall: 0.9890 - precision: 0.9948\n",
      "Epoch 42: val_loss improved from 0.08942 to 0.08661, saving model to unet_for_skull_stripping.h5\n",
      "46/46 [==============================] - 15s 328ms/step - loss: 0.0842 - dice_coef: 0.9160 - iou: 0.8451 - recall: 0.9890 - precision: 0.9948 - val_loss: 0.0866 - val_dice_coef: 0.9149 - val_iou: 0.8432 - val_recall: 0.9804 - val_precision: 0.9981 - lr: 1.0000e-05\n",
      "Epoch 43/100\n",
      "46/46 [==============================] - ETA: 0s - loss: 0.0836 - dice_coef: 0.9167 - iou: 0.8464 - recall: 0.9888 - precision: 0.9945\n",
      "Epoch 43: val_loss did not improve from 0.08661\n",
      "46/46 [==============================] - 14s 291ms/step - loss: 0.0836 - dice_coef: 0.9167 - iou: 0.8464 - recall: 0.9888 - precision: 0.9945 - val_loss: 0.0881 - val_dice_coef: 0.9128 - val_iou: 0.8396 - val_recall: 0.9977 - val_precision: 0.9833 - lr: 1.0000e-05\n",
      "Epoch 44/100\n",
      "46/46 [==============================] - ETA: 0s - loss: 0.0832 - dice_coef: 0.9168 - iou: 0.8465 - recall: 0.9892 - precision: 0.9936\n",
      "Epoch 44: val_loss did not improve from 0.08661\n",
      "46/46 [==============================] - 13s 284ms/step - loss: 0.0832 - dice_coef: 0.9168 - iou: 0.8465 - recall: 0.9892 - precision: 0.9936 - val_loss: 0.0914 - val_dice_coef: 0.9095 - val_iou: 0.8340 - val_recall: 0.9531 - val_precision: 0.9998 - lr: 1.0000e-05\n",
      "Epoch 45/100\n",
      "46/46 [==============================] - ETA: 0s - loss: 0.0819 - dice_coef: 0.9166 - iou: 0.8463 - recall: 0.9886 - precision: 0.9952\n",
      "Epoch 45: val_loss improved from 0.08661 to 0.08393, saving model to unet_for_skull_stripping.h5\n",
      "46/46 [==============================] - 15s 330ms/step - loss: 0.0819 - dice_coef: 0.9166 - iou: 0.8463 - recall: 0.9886 - precision: 0.9952 - val_loss: 0.0839 - val_dice_coef: 0.9175 - val_iou: 0.8477 - val_recall: 0.9830 - val_precision: 0.9974 - lr: 1.0000e-05\n",
      "Epoch 46/100\n",
      "46/46 [==============================] - ETA: 0s - loss: 0.0814 - dice_coef: 0.9185 - iou: 0.8494 - recall: 0.9885 - precision: 0.9950\n",
      "Epoch 46: val_loss did not improve from 0.08393\n",
      "46/46 [==============================] - 13s 281ms/step - loss: 0.0814 - dice_coef: 0.9185 - iou: 0.8494 - recall: 0.9885 - precision: 0.9950 - val_loss: 0.0857 - val_dice_coef: 0.9156 - val_iou: 0.8443 - val_recall: 0.9974 - val_precision: 0.9850 - lr: 1.0000e-05\n",
      "Epoch 47/100\n",
      "46/46 [==============================] - ETA: 0s - loss: 0.0808 - dice_coef: 0.9174 - iou: 0.8478 - recall: 0.9888 - precision: 0.9944\n",
      "Epoch 47: val_loss improved from 0.08393 to 0.08301, saving model to unet_for_skull_stripping.h5\n",
      "46/46 [==============================] - 15s 329ms/step - loss: 0.0808 - dice_coef: 0.9174 - iou: 0.8478 - recall: 0.9888 - precision: 0.9944 - val_loss: 0.0830 - val_dice_coef: 0.9189 - val_iou: 0.8500 - val_recall: 0.9814 - val_precision: 0.9980 - lr: 1.0000e-05\n",
      "Epoch 48/100\n",
      "46/46 [==============================] - ETA: 0s - loss: 0.0800 - dice_coef: 0.9190 - iou: 0.8504 - recall: 0.9885 - precision: 0.9950\n",
      "Epoch 48: val_loss improved from 0.08301 to 0.08127, saving model to unet_for_skull_stripping.h5\n",
      "46/46 [==============================] - 15s 331ms/step - loss: 0.0800 - dice_coef: 0.9190 - iou: 0.8504 - recall: 0.9885 - precision: 0.9950 - val_loss: 0.0813 - val_dice_coef: 0.9195 - val_iou: 0.8509 - val_recall: 0.9849 - val_precision: 0.9963 - lr: 1.0000e-05\n",
      "Epoch 49/100\n",
      "46/46 [==============================] - ETA: 0s - loss: 0.0793 - dice_coef: 0.9205 - iou: 0.8527 - recall: 0.9882 - precision: 0.9951\n",
      "Epoch 49: val_loss improved from 0.08127 to 0.08074, saving model to unet_for_skull_stripping.h5\n",
      "46/46 [==============================] - 15s 330ms/step - loss: 0.0793 - dice_coef: 0.9205 - iou: 0.8527 - recall: 0.9882 - precision: 0.9951 - val_loss: 0.0807 - val_dice_coef: 0.9205 - val_iou: 0.8527 - val_recall: 0.9817 - val_precision: 0.9972 - lr: 1.0000e-05\n",
      "Epoch 50/100\n",
      "46/46 [==============================] - ETA: 0s - loss: 0.0786 - dice_coef: 0.9217 - iou: 0.8548 - recall: 0.9878 - precision: 0.9955\n",
      "Epoch 50: val_loss did not improve from 0.08074\n",
      "46/46 [==============================] - 13s 284ms/step - loss: 0.0786 - dice_coef: 0.9217 - iou: 0.8548 - recall: 0.9878 - precision: 0.9955 - val_loss: 0.0818 - val_dice_coef: 0.9171 - val_iou: 0.8469 - val_recall: 0.9968 - val_precision: 0.9884 - lr: 1.0000e-05\n",
      "Epoch 51/100\n",
      "46/46 [==============================] - ETA: 0s - loss: 0.0782 - dice_coef: 0.9216 - iou: 0.8547 - recall: 0.9880 - precision: 0.9944\n",
      "Epoch 51: val_loss improved from 0.08074 to 0.08057, saving model to unet_for_skull_stripping.h5\n",
      "46/46 [==============================] - 15s 326ms/step - loss: 0.0782 - dice_coef: 0.9216 - iou: 0.8547 - recall: 0.9880 - precision: 0.9944 - val_loss: 0.0806 - val_dice_coef: 0.9204 - val_iou: 0.8526 - val_recall: 0.9963 - val_precision: 0.9892 - lr: 1.0000e-05\n",
      "Epoch 52/100\n",
      "46/46 [==============================] - ETA: 0s - loss: 0.0774 - dice_coef: 0.9225 - iou: 0.8563 - recall: 0.9884 - precision: 0.9949\n",
      "Epoch 52: val_loss improved from 0.08057 to 0.07892, saving model to unet_for_skull_stripping.h5\n",
      "46/46 [==============================] - 15s 330ms/step - loss: 0.0774 - dice_coef: 0.9225 - iou: 0.8563 - recall: 0.9884 - precision: 0.9949 - val_loss: 0.0789 - val_dice_coef: 0.9189 - val_iou: 0.8499 - val_recall: 0.9803 - val_precision: 0.9983 - lr: 1.0000e-05\n",
      "Epoch 53/100\n",
      "46/46 [==============================] - ETA: 0s - loss: 0.0766 - dice_coef: 0.9231 - iou: 0.8574 - recall: 0.9886 - precision: 0.9953\n",
      "Epoch 53: val_loss improved from 0.07892 to 0.07859, saving model to unet_for_skull_stripping.h5\n",
      "46/46 [==============================] - 15s 328ms/step - loss: 0.0766 - dice_coef: 0.9231 - iou: 0.8574 - recall: 0.9886 - precision: 0.9953 - val_loss: 0.0786 - val_dice_coef: 0.9206 - val_iou: 0.8529 - val_recall: 0.9724 - val_precision: 0.9995 - lr: 1.0000e-05\n",
      "Epoch 54/100\n",
      "46/46 [==============================] - ETA: 0s - loss: 0.0758 - dice_coef: 0.9244 - iou: 0.8594 - recall: 0.9882 - precision: 0.9959\n",
      "Epoch 54: val_loss improved from 0.07859 to 0.07651, saving model to unet_for_skull_stripping.h5\n",
      "46/46 [==============================] - 15s 330ms/step - loss: 0.0758 - dice_coef: 0.9244 - iou: 0.8594 - recall: 0.9882 - precision: 0.9959 - val_loss: 0.0765 - val_dice_coef: 0.9224 - val_iou: 0.8559 - val_recall: 0.9878 - val_precision: 0.9954 - lr: 1.0000e-05\n",
      "Epoch 55/100\n",
      "46/46 [==============================] - ETA: 0s - loss: 0.0751 - dice_coef: 0.9248 - iou: 0.8602 - recall: 0.9883 - precision: 0.9962\n",
      "Epoch 55: val_loss did not improve from 0.07651\n",
      "46/46 [==============================] - 13s 282ms/step - loss: 0.0751 - dice_coef: 0.9248 - iou: 0.8602 - recall: 0.9883 - precision: 0.9962 - val_loss: 0.0780 - val_dice_coef: 0.9227 - val_iou: 0.8564 - val_recall: 0.9696 - val_precision: 0.9993 - lr: 1.0000e-05\n",
      "Epoch 56/100\n",
      "46/46 [==============================] - ETA: 0s - loss: 0.0746 - dice_coef: 0.9255 - iou: 0.8615 - recall: 0.9876 - precision: 0.9961\n",
      "Epoch 56: val_loss improved from 0.07651 to 0.07585, saving model to unet_for_skull_stripping.h5\n",
      "46/46 [==============================] - 15s 327ms/step - loss: 0.0746 - dice_coef: 0.9255 - iou: 0.8615 - recall: 0.9876 - precision: 0.9961 - val_loss: 0.0758 - val_dice_coef: 0.9235 - val_iou: 0.8579 - val_recall: 0.9938 - val_precision: 0.9936 - lr: 1.0000e-05\n",
      "Epoch 57/100\n",
      "46/46 [==============================] - ETA: 0s - loss: 0.0735 - dice_coef: 0.9250 - iou: 0.8607 - recall: 0.9884 - precision: 0.9966\n",
      "Epoch 57: val_loss improved from 0.07585 to 0.07552, saving model to unet_for_skull_stripping.h5\n",
      "46/46 [==============================] - 15s 332ms/step - loss: 0.0735 - dice_coef: 0.9250 - iou: 0.8607 - recall: 0.9884 - precision: 0.9966 - val_loss: 0.0755 - val_dice_coef: 0.9254 - val_iou: 0.8612 - val_recall: 0.9807 - val_precision: 0.9979 - lr: 1.0000e-05\n",
      "Epoch 58/100\n",
      "46/46 [==============================] - ETA: 0s - loss: 0.0732 - dice_coef: 0.9269 - iou: 0.8639 - recall: 0.9879 - precision: 0.9965\n",
      "Epoch 58: val_loss improved from 0.07552 to 0.07433, saving model to unet_for_skull_stripping.h5\n",
      "46/46 [==============================] - 15s 328ms/step - loss: 0.0732 - dice_coef: 0.9269 - iou: 0.8639 - recall: 0.9879 - precision: 0.9965 - val_loss: 0.0743 - val_dice_coef: 0.9276 - val_iou: 0.8650 - val_recall: 0.9922 - val_precision: 0.9956 - lr: 1.0000e-05\n",
      "Epoch 59/100\n",
      "46/46 [==============================] - ETA: 0s - loss: 0.0729 - dice_coef: 0.9272 - iou: 0.8644 - recall: 0.9881 - precision: 0.9965\n",
      "Epoch 59: val_loss improved from 0.07433 to 0.07330, saving model to unet_for_skull_stripping.h5\n",
      "46/46 [==============================] - 15s 330ms/step - loss: 0.0729 - dice_coef: 0.9272 - iou: 0.8644 - recall: 0.9881 - precision: 0.9965 - val_loss: 0.0733 - val_dice_coef: 0.9261 - val_iou: 0.8624 - val_recall: 0.9888 - val_precision: 0.9968 - lr: 1.0000e-05\n",
      "Epoch 60/100\n",
      "46/46 [==============================] - ETA: 0s - loss: 0.0717 - dice_coef: 0.9288 - iou: 0.8672 - recall: 0.9878 - precision: 0.9969\n",
      "Epoch 60: val_loss did not improve from 0.07330\n",
      "46/46 [==============================] - 13s 284ms/step - loss: 0.0717 - dice_coef: 0.9288 - iou: 0.8672 - recall: 0.9878 - precision: 0.9969 - val_loss: 0.0778 - val_dice_coef: 0.9194 - val_iou: 0.8508 - val_recall: 0.9982 - val_precision: 0.9841 - lr: 1.0000e-05\n",
      "Epoch 61/100\n",
      "46/46 [==============================] - ETA: 0s - loss: 0.0716 - dice_coef: 0.9286 - iou: 0.8668 - recall: 0.9881 - precision: 0.9962\n",
      "Epoch 61: val_loss improved from 0.07330 to 0.07258, saving model to unet_for_skull_stripping.h5\n",
      "46/46 [==============================] - 15s 328ms/step - loss: 0.0716 - dice_coef: 0.9286 - iou: 0.8668 - recall: 0.9881 - precision: 0.9962 - val_loss: 0.0726 - val_dice_coef: 0.9230 - val_iou: 0.8572 - val_recall: 0.9905 - val_precision: 0.9967 - lr: 1.0000e-05\n",
      "Epoch 62/100\n",
      "46/46 [==============================] - ETA: 0s - loss: 0.0705 - dice_coef: 0.9296 - iou: 0.8686 - recall: 0.9885 - precision: 0.9968\n",
      "Epoch 62: val_loss improved from 0.07258 to 0.07181, saving model to unet_for_skull_stripping.h5\n",
      "46/46 [==============================] - 15s 328ms/step - loss: 0.0705 - dice_coef: 0.9296 - iou: 0.8686 - recall: 0.9885 - precision: 0.9968 - val_loss: 0.0718 - val_dice_coef: 0.9290 - val_iou: 0.8675 - val_recall: 0.9918 - val_precision: 0.9950 - lr: 1.0000e-05\n",
      "Epoch 63/100\n",
      "46/46 [==============================] - ETA: 0s - loss: 0.0703 - dice_coef: 0.9300 - iou: 0.8693 - recall: 0.9881 - precision: 0.9965\n",
      "Epoch 63: val_loss improved from 0.07181 to 0.07120, saving model to unet_for_skull_stripping.h5\n",
      "46/46 [==============================] - 15s 330ms/step - loss: 0.0703 - dice_coef: 0.9300 - iou: 0.8693 - recall: 0.9881 - precision: 0.9965 - val_loss: 0.0712 - val_dice_coef: 0.9296 - val_iou: 0.8685 - val_recall: 0.9897 - val_precision: 0.9967 - lr: 1.0000e-05\n",
      "Epoch 64/100\n",
      "46/46 [==============================] - ETA: 0s - loss: 0.0696 - dice_coef: 0.9304 - iou: 0.8699 - recall: 0.9883 - precision: 0.9970\n",
      "Epoch 64: val_loss did not improve from 0.07120\n",
      "46/46 [==============================] - 13s 283ms/step - loss: 0.0696 - dice_coef: 0.9304 - iou: 0.8699 - recall: 0.9883 - precision: 0.9970 - val_loss: 0.0733 - val_dice_coef: 0.9226 - val_iou: 0.8565 - val_recall: 0.9708 - val_precision: 0.9994 - lr: 1.0000e-05\n",
      "Epoch 65/100\n",
      "46/46 [==============================] - ETA: 0s - loss: 0.0687 - dice_coef: 0.9313 - iou: 0.8715 - recall: 0.9877 - precision: 0.9975\n",
      "Epoch 65: val_loss improved from 0.07120 to 0.07116, saving model to unet_for_skull_stripping.h5\n",
      "46/46 [==============================] - 15s 328ms/step - loss: 0.0687 - dice_coef: 0.9313 - iou: 0.8715 - recall: 0.9877 - precision: 0.9975 - val_loss: 0.0712 - val_dice_coef: 0.9275 - val_iou: 0.8649 - val_recall: 0.9944 - val_precision: 0.9934 - lr: 1.0000e-05\n",
      "Epoch 66/100\n",
      "46/46 [==============================] - ETA: 0s - loss: 0.0682 - dice_coef: 0.9318 - iou: 0.8723 - recall: 0.9881 - precision: 0.9972\n",
      "Epoch 66: val_loss improved from 0.07116 to 0.06923, saving model to unet_for_skull_stripping.h5\n",
      "46/46 [==============================] - 15s 328ms/step - loss: 0.0682 - dice_coef: 0.9318 - iou: 0.8723 - recall: 0.9881 - precision: 0.9972 - val_loss: 0.0692 - val_dice_coef: 0.9310 - val_iou: 0.8708 - val_recall: 0.9854 - val_precision: 0.9983 - lr: 1.0000e-05\n",
      "Epoch 67/100\n",
      "46/46 [==============================] - ETA: 0s - loss: 0.0678 - dice_coef: 0.9324 - iou: 0.8734 - recall: 0.9878 - precision: 0.9972\n",
      "Epoch 67: val_loss did not improve from 0.06923\n",
      "46/46 [==============================] - 14s 292ms/step - loss: 0.0678 - dice_coef: 0.9324 - iou: 0.8734 - recall: 0.9878 - precision: 0.9972 - val_loss: 0.0703 - val_dice_coef: 0.9314 - val_iou: 0.8717 - val_recall: 0.9944 - val_precision: 0.9942 - lr: 1.0000e-05\n",
      "Epoch 68/100\n",
      "46/46 [==============================] - ETA: 0s - loss: 0.0673 - dice_coef: 0.9330 - iou: 0.8745 - recall: 0.9880 - precision: 0.9971\n",
      "Epoch 68: val_loss improved from 0.06923 to 0.06890, saving model to unet_for_skull_stripping.h5\n",
      "46/46 [==============================] - 15s 329ms/step - loss: 0.0673 - dice_coef: 0.9330 - iou: 0.8745 - recall: 0.9880 - precision: 0.9971 - val_loss: 0.0689 - val_dice_coef: 0.9309 - val_iou: 0.8708 - val_recall: 0.9823 - val_precision: 0.9987 - lr: 1.0000e-05\n",
      "Epoch 69/100\n",
      "46/46 [==============================] - ETA: 0s - loss: 0.0667 - dice_coef: 0.9334 - iou: 0.8752 - recall: 0.9878 - precision: 0.9974\n",
      "Epoch 69: val_loss improved from 0.06890 to 0.06864, saving model to unet_for_skull_stripping.h5\n",
      "46/46 [==============================] - 15s 327ms/step - loss: 0.0667 - dice_coef: 0.9334 - iou: 0.8752 - recall: 0.9878 - precision: 0.9974 - val_loss: 0.0686 - val_dice_coef: 0.9326 - val_iou: 0.8737 - val_recall: 0.9916 - val_precision: 0.9958 - lr: 1.0000e-05\n",
      "Epoch 70/100\n",
      "46/46 [==============================] - ETA: 0s - loss: 0.0661 - dice_coef: 0.9341 - iou: 0.8765 - recall: 0.9880 - precision: 0.9975\n",
      "Epoch 70: val_loss did not improve from 0.06864\n",
      "46/46 [==============================] - 13s 284ms/step - loss: 0.0661 - dice_coef: 0.9341 - iou: 0.8765 - recall: 0.9880 - precision: 0.9975 - val_loss: 0.0714 - val_dice_coef: 0.9268 - val_iou: 0.8636 - val_recall: 0.9981 - val_precision: 0.9876 - lr: 1.0000e-05\n",
      "Epoch 71/100\n",
      "46/46 [==============================] - ETA: 0s - loss: 0.0661 - dice_coef: 0.9338 - iou: 0.8759 - recall: 0.9877 - precision: 0.9969\n",
      "Epoch 71: val_loss improved from 0.06864 to 0.06824, saving model to unet_for_skull_stripping.h5\n",
      "46/46 [==============================] - 15s 330ms/step - loss: 0.0661 - dice_coef: 0.9338 - iou: 0.8759 - recall: 0.9877 - precision: 0.9969 - val_loss: 0.0682 - val_dice_coef: 0.9341 - val_iou: 0.8764 - val_recall: 0.9921 - val_precision: 0.9954 - lr: 1.0000e-05\n",
      "Epoch 72/100\n",
      "46/46 [==============================] - ETA: 0s - loss: 0.0655 - dice_coef: 0.9347 - iou: 0.8775 - recall: 0.9877 - precision: 0.9970\n",
      "Epoch 72: val_loss did not improve from 0.06824\n",
      "46/46 [==============================] - 13s 283ms/step - loss: 0.0655 - dice_coef: 0.9347 - iou: 0.8775 - recall: 0.9877 - precision: 0.9970 - val_loss: 0.0688 - val_dice_coef: 0.9313 - val_iou: 0.8715 - val_recall: 0.9879 - val_precision: 0.9926 - lr: 1.0000e-05\n",
      "Epoch 73/100\n",
      "46/46 [==============================] - ETA: 0s - loss: 0.0649 - dice_coef: 0.9356 - iou: 0.8791 - recall: 0.9874 - precision: 0.9973\n",
      "Epoch 73: val_loss improved from 0.06824 to 0.06594, saving model to unet_for_skull_stripping.h5\n",
      "46/46 [==============================] - 15s 327ms/step - loss: 0.0649 - dice_coef: 0.9356 - iou: 0.8791 - recall: 0.9874 - precision: 0.9973 - val_loss: 0.0659 - val_dice_coef: 0.9325 - val_iou: 0.8736 - val_recall: 0.9855 - val_precision: 0.9985 - lr: 1.0000e-05\n",
      "Epoch 74/100\n",
      "46/46 [==============================] - ETA: 0s - loss: 0.0643 - dice_coef: 0.9357 - iou: 0.8792 - recall: 0.9874 - precision: 0.9973\n",
      "Epoch 74: val_loss did not improve from 0.06594\n",
      "46/46 [==============================] - 13s 284ms/step - loss: 0.0643 - dice_coef: 0.9357 - iou: 0.8792 - recall: 0.9874 - precision: 0.9973 - val_loss: 0.0665 - val_dice_coef: 0.9337 - val_iou: 0.8757 - val_recall: 0.9812 - val_precision: 0.9986 - lr: 1.0000e-05\n",
      "Epoch 75/100\n",
      "46/46 [==============================] - ETA: 0s - loss: 0.0639 - dice_coef: 0.9363 - iou: 0.8803 - recall: 0.9875 - precision: 0.9973\n",
      "Epoch 75: val_loss improved from 0.06594 to 0.06554, saving model to unet_for_skull_stripping.h5\n",
      "46/46 [==============================] - 15s 331ms/step - loss: 0.0639 - dice_coef: 0.9363 - iou: 0.8803 - recall: 0.9875 - precision: 0.9973 - val_loss: 0.0655 - val_dice_coef: 0.9364 - val_iou: 0.8805 - val_recall: 0.9792 - val_precision: 0.9991 - lr: 1.0000e-05\n",
      "Epoch 76/100\n",
      "46/46 [==============================] - ETA: 0s - loss: 0.0631 - dice_coef: 0.9369 - iou: 0.8814 - recall: 0.9877 - precision: 0.9976\n",
      "Epoch 76: val_loss improved from 0.06554 to 0.06473, saving model to unet_for_skull_stripping.h5\n",
      "46/46 [==============================] - 15s 328ms/step - loss: 0.0631 - dice_coef: 0.9369 - iou: 0.8814 - recall: 0.9877 - precision: 0.9976 - val_loss: 0.0647 - val_dice_coef: 0.9346 - val_iou: 0.8773 - val_recall: 0.9818 - val_precision: 0.9990 - lr: 1.0000e-05\n",
      "Epoch 77/100\n",
      "46/46 [==============================] - ETA: 0s - loss: 0.0627 - dice_coef: 0.9366 - iou: 0.8810 - recall: 0.9879 - precision: 0.9975\n",
      "Epoch 77: val_loss did not improve from 0.06473\n",
      "46/46 [==============================] - 13s 282ms/step - loss: 0.0627 - dice_coef: 0.9366 - iou: 0.8810 - recall: 0.9879 - precision: 0.9975 - val_loss: 0.0674 - val_dice_coef: 0.9311 - val_iou: 0.8711 - val_recall: 0.9693 - val_precision: 0.9991 - lr: 1.0000e-05\n",
      "Epoch 78/100\n",
      "46/46 [==============================] - ETA: 0s - loss: 0.0624 - dice_coef: 0.9374 - iou: 0.8822 - recall: 0.9864 - precision: 0.9976\n",
      "Epoch 78: val_loss improved from 0.06473 to 0.06348, saving model to unet_for_skull_stripping.h5\n",
      "46/46 [==============================] - 15s 327ms/step - loss: 0.0624 - dice_coef: 0.9374 - iou: 0.8822 - recall: 0.9864 - precision: 0.9976 - val_loss: 0.0635 - val_dice_coef: 0.9372 - val_iou: 0.8818 - val_recall: 0.9864 - val_precision: 0.9978 - lr: 1.0000e-05\n",
      "Epoch 79/100\n",
      "46/46 [==============================] - ETA: 0s - loss: 0.0618 - dice_coef: 0.9376 - iou: 0.8827 - recall: 0.9873 - precision: 0.9976\n",
      "Epoch 79: val_loss did not improve from 0.06348\n",
      "46/46 [==============================] - 14s 292ms/step - loss: 0.0618 - dice_coef: 0.9376 - iou: 0.8827 - recall: 0.9873 - precision: 0.9976 - val_loss: 0.0656 - val_dice_coef: 0.9362 - val_iou: 0.8801 - val_recall: 0.9718 - val_precision: 0.9992 - lr: 1.0000e-05\n",
      "Epoch 80/100\n",
      "46/46 [==============================] - ETA: 0s - loss: 0.0619 - dice_coef: 0.9382 - iou: 0.8837 - recall: 0.9866 - precision: 0.9971\n",
      "Epoch 80: val_loss did not improve from 0.06348\n",
      "46/46 [==============================] - 13s 287ms/step - loss: 0.0619 - dice_coef: 0.9382 - iou: 0.8837 - recall: 0.9866 - precision: 0.9971 - val_loss: 0.0638 - val_dice_coef: 0.9356 - val_iou: 0.8790 - val_recall: 0.9775 - val_precision: 0.9992 - lr: 1.0000e-05\n",
      "Epoch 81/100\n",
      "46/46 [==============================] - ETA: 0s - loss: 0.0608 - dice_coef: 0.9393 - iou: 0.8856 - recall: 0.9872 - precision: 0.9975\n",
      "Epoch 81: val_loss improved from 0.06348 to 0.06207, saving model to unet_for_skull_stripping.h5\n",
      "46/46 [==============================] - 15s 328ms/step - loss: 0.0608 - dice_coef: 0.9393 - iou: 0.8856 - recall: 0.9872 - precision: 0.9975 - val_loss: 0.0621 - val_dice_coef: 0.9376 - val_iou: 0.8825 - val_recall: 0.9867 - val_precision: 0.9977 - lr: 1.0000e-05\n",
      "Epoch 82/100\n",
      "46/46 [==============================] - ETA: 0s - loss: 0.0601 - dice_coef: 0.9401 - iou: 0.8870 - recall: 0.9875 - precision: 0.9978\n",
      "Epoch 82: val_loss improved from 0.06207 to 0.06113, saving model to unet_for_skull_stripping.h5\n",
      "46/46 [==============================] - 15s 328ms/step - loss: 0.0601 - dice_coef: 0.9401 - iou: 0.8870 - recall: 0.9875 - precision: 0.9978 - val_loss: 0.0611 - val_dice_coef: 0.9387 - val_iou: 0.8844 - val_recall: 0.9840 - val_precision: 0.9990 - lr: 1.0000e-05\n",
      "Epoch 83/100\n",
      "46/46 [==============================] - ETA: 0s - loss: 0.0597 - dice_coef: 0.9404 - iou: 0.8876 - recall: 0.9873 - precision: 0.9979\n",
      "Epoch 83: val_loss did not improve from 0.06113\n",
      "46/46 [==============================] - 13s 284ms/step - loss: 0.0597 - dice_coef: 0.9404 - iou: 0.8876 - recall: 0.9873 - precision: 0.9979 - val_loss: 0.0630 - val_dice_coef: 0.9385 - val_iou: 0.8841 - val_recall: 0.9731 - val_precision: 0.9993 - lr: 1.0000e-05\n",
      "Epoch 84/100\n",
      "46/46 [==============================] - ETA: 0s - loss: 0.0592 - dice_coef: 0.9402 - iou: 0.8873 - recall: 0.9871 - precision: 0.9979\n",
      "Epoch 84: val_loss improved from 0.06113 to 0.06058, saving model to unet_for_skull_stripping.h5\n",
      "46/46 [==============================] - 15s 331ms/step - loss: 0.0592 - dice_coef: 0.9402 - iou: 0.8873 - recall: 0.9871 - precision: 0.9979 - val_loss: 0.0606 - val_dice_coef: 0.9405 - val_iou: 0.8878 - val_recall: 0.9814 - val_precision: 0.9991 - lr: 1.0000e-05\n",
      "Epoch 85/100\n",
      "46/46 [==============================] - ETA: 0s - loss: 0.0585 - dice_coef: 0.9410 - iou: 0.8887 - recall: 0.9871 - precision: 0.9982\n",
      "Epoch 85: val_loss improved from 0.06058 to 0.06004, saving model to unet_for_skull_stripping.h5\n",
      "46/46 [==============================] - 15s 330ms/step - loss: 0.0585 - dice_coef: 0.9410 - iou: 0.8887 - recall: 0.9871 - precision: 0.9982 - val_loss: 0.0600 - val_dice_coef: 0.9388 - val_iou: 0.8847 - val_recall: 0.9806 - val_precision: 0.9994 - lr: 1.0000e-05\n",
      "Epoch 86/100\n",
      "46/46 [==============================] - ETA: 0s - loss: 0.0581 - dice_coef: 0.9422 - iou: 0.8907 - recall: 0.9873 - precision: 0.9982\n",
      "Epoch 86: val_loss improved from 0.06004 to 0.06002, saving model to unet_for_skull_stripping.h5\n",
      "46/46 [==============================] - 15s 326ms/step - loss: 0.0581 - dice_coef: 0.9422 - iou: 0.8907 - recall: 0.9873 - precision: 0.9982 - val_loss: 0.0600 - val_dice_coef: 0.9395 - val_iou: 0.8859 - val_recall: 0.9819 - val_precision: 0.9988 - lr: 1.0000e-05\n",
      "Epoch 87/100\n",
      "46/46 [==============================] - ETA: 0s - loss: 0.0576 - dice_coef: 0.9419 - iou: 0.8902 - recall: 0.9872 - precision: 0.9982\n",
      "Epoch 87: val_loss improved from 0.06002 to 0.05881, saving model to unet_for_skull_stripping.h5\n",
      "46/46 [==============================] - 15s 330ms/step - loss: 0.0576 - dice_coef: 0.9419 - iou: 0.8902 - recall: 0.9872 - precision: 0.9982 - val_loss: 0.0588 - val_dice_coef: 0.9425 - val_iou: 0.8913 - val_recall: 0.9800 - val_precision: 0.9994 - lr: 1.0000e-05\n",
      "Epoch 88/100\n",
      "46/46 [==============================] - ETA: 0s - loss: 0.0573 - dice_coef: 0.9423 - iou: 0.8909 - recall: 0.9869 - precision: 0.9983\n",
      "Epoch 88: val_loss did not improve from 0.05881\n",
      "46/46 [==============================] - 14s 294ms/step - loss: 0.0573 - dice_coef: 0.9423 - iou: 0.8909 - recall: 0.9869 - precision: 0.9983 - val_loss: 0.0620 - val_dice_coef: 0.9351 - val_iou: 0.8781 - val_recall: 0.9977 - val_precision: 0.9909 - lr: 1.0000e-05\n",
      "Epoch 89/100\n",
      "46/46 [==============================] - ETA: 0s - loss: 0.0571 - dice_coef: 0.9428 - iou: 0.8918 - recall: 0.9873 - precision: 0.9975\n",
      "Epoch 89: val_loss improved from 0.05881 to 0.05834, saving model to unet_for_skull_stripping.h5\n",
      "46/46 [==============================] - 16s 338ms/step - loss: 0.0571 - dice_coef: 0.9428 - iou: 0.8918 - recall: 0.9873 - precision: 0.9975 - val_loss: 0.0583 - val_dice_coef: 0.9418 - val_iou: 0.8900 - val_recall: 0.9873 - val_precision: 0.9980 - lr: 1.0000e-05\n",
      "Epoch 90/100\n",
      "46/46 [==============================] - ETA: 0s - loss: 0.0565 - dice_coef: 0.9437 - iou: 0.8934 - recall: 0.9870 - precision: 0.9981\n",
      "Epoch 90: val_loss did not improve from 0.05834\n",
      "46/46 [==============================] - 13s 284ms/step - loss: 0.0565 - dice_coef: 0.9437 - iou: 0.8934 - recall: 0.9870 - precision: 0.9981 - val_loss: 0.0590 - val_dice_coef: 0.9405 - val_iou: 0.8876 - val_recall: 0.9924 - val_precision: 0.9957 - lr: 1.0000e-05\n",
      "Epoch 91/100\n",
      "46/46 [==============================] - ETA: 0s - loss: 0.0567 - dice_coef: 0.9434 - iou: 0.8929 - recall: 0.9869 - precision: 0.9977\n",
      "Epoch 91: val_loss improved from 0.05834 to 0.05721, saving model to unet_for_skull_stripping.h5\n",
      "46/46 [==============================] - 15s 329ms/step - loss: 0.0567 - dice_coef: 0.9434 - iou: 0.8929 - recall: 0.9869 - precision: 0.9977 - val_loss: 0.0572 - val_dice_coef: 0.9419 - val_iou: 0.8901 - val_recall: 0.9837 - val_precision: 0.9989 - lr: 1.0000e-05\n",
      "Epoch 92/100\n",
      "46/46 [==============================] - ETA: 0s - loss: 0.0557 - dice_coef: 0.9445 - iou: 0.8949 - recall: 0.9869 - precision: 0.9981\n",
      "Epoch 92: val_loss improved from 0.05721 to 0.05663, saving model to unet_for_skull_stripping.h5\n",
      "46/46 [==============================] - 15s 328ms/step - loss: 0.0557 - dice_coef: 0.9445 - iou: 0.8949 - recall: 0.9869 - precision: 0.9981 - val_loss: 0.0566 - val_dice_coef: 0.9452 - val_iou: 0.8961 - val_recall: 0.9856 - val_precision: 0.9992 - lr: 1.0000e-05\n",
      "Epoch 93/100\n",
      "46/46 [==============================] - ETA: 0s - loss: 0.0555 - dice_coef: 0.9445 - iou: 0.8950 - recall: 0.9871 - precision: 0.9979\n",
      "Epoch 93: val_loss did not improve from 0.05663\n",
      "46/46 [==============================] - 13s 282ms/step - loss: 0.0555 - dice_coef: 0.9445 - iou: 0.8950 - recall: 0.9871 - precision: 0.9979 - val_loss: 0.0603 - val_dice_coef: 0.9381 - val_iou: 0.8834 - val_recall: 0.9674 - val_precision: 0.9997 - lr: 1.0000e-05\n",
      "Epoch 94/100\n",
      "46/46 [==============================] - ETA: 0s - loss: 0.0553 - dice_coef: 0.9441 - iou: 0.8943 - recall: 0.9863 - precision: 0.9978\n",
      "Epoch 94: val_loss improved from 0.05663 to 0.05646, saving model to unet_for_skull_stripping.h5\n",
      "46/46 [==============================] - 15s 330ms/step - loss: 0.0553 - dice_coef: 0.9441 - iou: 0.8943 - recall: 0.9863 - precision: 0.9978 - val_loss: 0.0565 - val_dice_coef: 0.9439 - val_iou: 0.8937 - val_recall: 0.9883 - val_precision: 0.9979 - lr: 1.0000e-05\n",
      "Epoch 95/100\n",
      "46/46 [==============================] - ETA: 0s - loss: 0.0544 - dice_coef: 0.9458 - iou: 0.8972 - recall: 0.9869 - precision: 0.9981\n",
      "Epoch 95: val_loss improved from 0.05646 to 0.05570, saving model to unet_for_skull_stripping.h5\n",
      "46/46 [==============================] - 15s 330ms/step - loss: 0.0544 - dice_coef: 0.9458 - iou: 0.8972 - recall: 0.9869 - precision: 0.9981 - val_loss: 0.0557 - val_dice_coef: 0.9431 - val_iou: 0.8924 - val_recall: 0.9928 - val_precision: 0.9972 - lr: 1.0000e-05\n",
      "Epoch 96/100\n",
      "46/46 [==============================] - ETA: 0s - loss: 0.0536 - dice_coef: 0.9463 - iou: 0.8980 - recall: 0.9871 - precision: 0.9984\n",
      "Epoch 96: val_loss did not improve from 0.05570\n",
      "46/46 [==============================] - 13s 282ms/step - loss: 0.0536 - dice_coef: 0.9463 - iou: 0.8980 - recall: 0.9871 - precision: 0.9984 - val_loss: 0.0580 - val_dice_coef: 0.9400 - val_iou: 0.8869 - val_recall: 0.9979 - val_precision: 0.9915 - lr: 1.0000e-05\n",
      "Epoch 97/100\n",
      "46/46 [==============================] - ETA: 0s - loss: 0.0534 - dice_coef: 0.9465 - iou: 0.8985 - recall: 0.9871 - precision: 0.9984\n",
      "Epoch 97: val_loss improved from 0.05570 to 0.05412, saving model to unet_for_skull_stripping.h5\n",
      "46/46 [==============================] - 15s 329ms/step - loss: 0.0534 - dice_coef: 0.9465 - iou: 0.8985 - recall: 0.9871 - precision: 0.9984 - val_loss: 0.0541 - val_dice_coef: 0.9466 - val_iou: 0.8986 - val_recall: 0.9899 - val_precision: 0.9980 - lr: 1.0000e-05\n",
      "Epoch 98/100\n",
      "46/46 [==============================] - ETA: 0s - loss: 0.0527 - dice_coef: 0.9474 - iou: 0.9001 - recall: 0.9868 - precision: 0.9987\n",
      "Epoch 98: val_loss did not improve from 0.05412\n",
      "46/46 [==============================] - 13s 283ms/step - loss: 0.0527 - dice_coef: 0.9474 - iou: 0.9001 - recall: 0.9868 - precision: 0.9987 - val_loss: 0.0543 - val_dice_coef: 0.9444 - val_iou: 0.8947 - val_recall: 0.9868 - val_precision: 0.9984 - lr: 1.0000e-05\n",
      "Epoch 99/100\n",
      "46/46 [==============================] - ETA: 0s - loss: 0.0524 - dice_coef: 0.9477 - iou: 0.9007 - recall: 0.9868 - precision: 0.9988\n",
      "Epoch 99: val_loss did not improve from 0.05412\n",
      "46/46 [==============================] - 13s 285ms/step - loss: 0.0524 - dice_coef: 0.9477 - iou: 0.9007 - recall: 0.9868 - precision: 0.9988 - val_loss: 0.0544 - val_dice_coef: 0.9459 - val_iou: 0.8974 - val_recall: 0.9931 - val_precision: 0.9970 - lr: 1.0000e-05\n",
      "Epoch 100/100\n",
      "46/46 [==============================] - ETA: 0s - loss: 0.0521 - dice_coef: 0.9473 - iou: 0.8999 - recall: 0.9870 - precision: 0.9986\n",
      "Epoch 100: val_loss improved from 0.05412 to 0.05405, saving model to unet_for_skull_stripping.h5\n",
      "46/46 [==============================] - 15s 327ms/step - loss: 0.0521 - dice_coef: 0.9473 - iou: 0.8999 - recall: 0.9870 - precision: 0.9986 - val_loss: 0.0540 - val_dice_coef: 0.9471 - val_iou: 0.8995 - val_recall: 0.9830 - val_precision: 0.9989 - lr: 1.0000e-05\n"
     ]
    },
    {
     "data": {
      "text/plain": [
       "<keras.callbacks.History at 0x7fa35835f100>"
      ]
     },
     "execution_count": 18,
     "metadata": {},
     "output_type": "execute_result"
    }
   ],
   "source": [
    "#training\n",
    "model.fit(\n",
    "    train_dataset,\n",
    "    epochs=epochs,\n",
    "    validation_data=test_dataset, \n",
    "    callbacks=Callbacks\n",
    "    )"
   ]
  },
  {
   "cell_type": "markdown",
   "id": "82771d02",
   "metadata": {
    "papermill": {
     "duration": 0.401372,
     "end_time": "2023-06-23T15:37:34.246196",
     "exception": false,
     "start_time": "2023-06-23T15:37:33.844824",
     "status": "completed"
    },
    "tags": []
   },
   "source": [
    "# Load the model"
   ]
  },
  {
   "cell_type": "code",
   "execution_count": 19,
   "id": "a3a63052",
   "metadata": {
    "execution": {
     "iopub.execute_input": "2023-06-23T15:37:35.050159Z",
     "iopub.status.busy": "2023-06-23T15:37:35.049424Z",
     "iopub.status.idle": "2023-06-23T15:37:38.642234Z",
     "shell.execute_reply": "2023-06-23T15:37:38.641188Z"
    },
    "papermill": {
     "duration": 4.000708,
     "end_time": "2023-06-23T15:37:38.644590",
     "exception": false,
     "start_time": "2023-06-23T15:37:34.643882",
     "status": "completed"
    },
    "tags": []
   },
   "outputs": [],
   "source": [
    "with CustomObjectScope({'iou':iou, 'dice_coef':dice_coef, 'dice_loss':dice_loss}):\n",
    "    model = tf.keras.models.load_model(\"/kaggle/working/unet_for_skull_stripping.h5\")"
   ]
  },
  {
   "cell_type": "code",
   "execution_count": 20,
   "id": "3239ef8e",
   "metadata": {
    "execution": {
     "iopub.execute_input": "2023-06-23T15:37:39.445133Z",
     "iopub.status.busy": "2023-06-23T15:37:39.444779Z",
     "iopub.status.idle": "2023-06-23T15:37:39.450718Z",
     "shell.execute_reply": "2023-06-23T15:37:39.449829Z"
    },
    "papermill": {
     "duration": 0.413303,
     "end_time": "2023-06-23T15:37:39.453005",
     "exception": false,
     "start_time": "2023-06-23T15:37:39.039702",
     "status": "completed"
    },
    "tags": []
   },
   "outputs": [],
   "source": [
    "path = \"/kaggle/working/predicted\"\n",
    "create_dir(path)"
   ]
  },
  {
   "cell_type": "markdown",
   "id": "21d92fe8",
   "metadata": {
    "papermill": {
     "duration": 0.402537,
     "end_time": "2023-06-23T15:37:40.309286",
     "exception": false,
     "start_time": "2023-06-23T15:37:39.906749",
     "status": "completed"
    },
    "tags": []
   },
   "source": [
    "# Prediction"
   ]
  },
  {
   "cell_type": "code",
   "execution_count": 21,
   "id": "aa09e564",
   "metadata": {
    "execution": {
     "iopub.execute_input": "2023-06-23T15:37:41.171031Z",
     "iopub.status.busy": "2023-06-23T15:37:41.170662Z",
     "iopub.status.idle": "2023-06-23T15:37:44.976378Z",
     "shell.execute_reply": "2023-06-23T15:37:44.975009Z"
    },
    "papermill": {
     "duration": 4.257976,
     "end_time": "2023-06-23T15:37:44.979305",
     "exception": false,
     "start_time": "2023-06-23T15:37:40.721329",
     "status": "completed"
    },
    "tags": []
   },
   "outputs": [
    {
     "name": "stderr",
     "output_type": "stream",
     "text": [
      "  0%|          | 0/22 [00:00<?, ?it/s]"
     ]
    },
    {
     "name": "stdout",
     "output_type": "stream",
     "text": [
      "1/1 [==============================] - 2s 2s/step\n"
     ]
    },
    {
     "name": "stderr",
     "output_type": "stream",
     "text": [
      "  5%|▍         | 1/22 [00:01<00:34,  1.64s/it]"
     ]
    },
    {
     "name": "stdout",
     "output_type": "stream",
     "text": [
      "(256, 256, 3) (256, 256, 1) (256, 256, 1)\n",
      "1/1 [==============================] - 0s 23ms/step\n",
      "(256, 256, 3) (256, 256, 1) (256, 256, 1)\n",
      "1/1 [==============================] - 0s 21ms/step\n"
     ]
    },
    {
     "name": "stderr",
     "output_type": "stream",
     "text": [
      " 14%|█▎        | 3/22 [00:01<00:09,  2.07it/s]"
     ]
    },
    {
     "name": "stdout",
     "output_type": "stream",
     "text": [
      "(256, 256, 3) (256, 256, 1) (256, 256, 1)\n",
      "1/1 [==============================] - 0s 21ms/step\n",
      "(256, 256, 3) (256, 256, 1) (256, 256, 1)\n",
      "1/1 [==============================] - 0s 20ms/step\n"
     ]
    },
    {
     "name": "stderr",
     "output_type": "stream",
     "text": [
      " 23%|██▎       | 5/22 [00:01<00:04,  3.60it/s]"
     ]
    },
    {
     "name": "stdout",
     "output_type": "stream",
     "text": [
      "(256, 256, 3) (256, 256, 1) (256, 256, 1)\n",
      "1/1 [==============================] - 0s 25ms/step\n",
      "(256, 256, 3) (256, 256, 1) (256, 256, 1)\n",
      "1/1 [==============================] - 0s 21ms/step\n"
     ]
    },
    {
     "name": "stderr",
     "output_type": "stream",
     "text": [
      " 32%|███▏      | 7/22 [00:02<00:02,  5.13it/s]"
     ]
    },
    {
     "name": "stdout",
     "output_type": "stream",
     "text": [
      "(256, 256, 3) (256, 256, 1) (256, 256, 1)\n",
      "1/1 [==============================] - 0s 46ms/step\n",
      "(256, 256, 3) (256, 256, 1) (256, 256, 1)\n",
      "1/1 [==============================] - 0s 39ms/step\n"
     ]
    },
    {
     "name": "stderr",
     "output_type": "stream",
     "text": [
      " 41%|████      | 9/22 [00:02<00:02,  6.04it/s]"
     ]
    },
    {
     "name": "stdout",
     "output_type": "stream",
     "text": [
      "(256, 256, 3) (256, 256, 1) (256, 256, 1)\n",
      "1/1 [==============================] - 0s 44ms/step\n"
     ]
    },
    {
     "name": "stderr",
     "output_type": "stream",
     "text": [
      " 45%|████▌     | 10/22 [00:02<00:01,  6.45it/s]"
     ]
    },
    {
     "name": "stdout",
     "output_type": "stream",
     "text": [
      "(256, 256, 3) (256, 256, 1) (256, 256, 1)\n",
      "1/1 [==============================] - 0s 35ms/step\n"
     ]
    },
    {
     "name": "stderr",
     "output_type": "stream",
     "text": [
      " 50%|█████     | 11/22 [00:02<00:01,  6.93it/s]"
     ]
    },
    {
     "name": "stdout",
     "output_type": "stream",
     "text": [
      "(256, 256, 3) (256, 256, 1) (256, 256, 1)\n",
      "1/1 [==============================] - 0s 37ms/step\n"
     ]
    },
    {
     "name": "stderr",
     "output_type": "stream",
     "text": [
      " 55%|█████▍    | 12/22 [00:02<00:01,  7.29it/s]"
     ]
    },
    {
     "name": "stdout",
     "output_type": "stream",
     "text": [
      "(256, 256, 3) (256, 256, 1) (256, 256, 1)\n",
      "1/1 [==============================] - 0s 35ms/step\n"
     ]
    },
    {
     "name": "stderr",
     "output_type": "stream",
     "text": [
      " 59%|█████▉    | 13/22 [00:02<00:01,  7.75it/s]"
     ]
    },
    {
     "name": "stdout",
     "output_type": "stream",
     "text": [
      "(256, 256, 3) (256, 256, 1) (256, 256, 1)\n",
      "1/1 [==============================] - 0s 34ms/step\n"
     ]
    },
    {
     "name": "stderr",
     "output_type": "stream",
     "text": [
      " 64%|██████▎   | 14/22 [00:02<00:00,  8.12it/s]"
     ]
    },
    {
     "name": "stdout",
     "output_type": "stream",
     "text": [
      "(256, 256, 3) (256, 256, 1) (256, 256, 1)\n",
      "1/1 [==============================] - 0s 37ms/step\n"
     ]
    },
    {
     "name": "stderr",
     "output_type": "stream",
     "text": [
      " 68%|██████▊   | 15/22 [00:03<00:00,  8.42it/s]"
     ]
    },
    {
     "name": "stdout",
     "output_type": "stream",
     "text": [
      "(256, 256, 3) (256, 256, 1) (256, 256, 1)\n",
      "1/1 [==============================] - 0s 35ms/step\n"
     ]
    },
    {
     "name": "stderr",
     "output_type": "stream",
     "text": [
      " 73%|███████▎  | 16/22 [00:03<00:00,  8.55it/s]"
     ]
    },
    {
     "name": "stdout",
     "output_type": "stream",
     "text": [
      "(256, 256, 3) (256, 256, 1) (256, 256, 1)\n",
      "1/1 [==============================] - 0s 33ms/step\n"
     ]
    },
    {
     "name": "stderr",
     "output_type": "stream",
     "text": [
      " 77%|███████▋  | 17/22 [00:03<00:00,  8.61it/s]"
     ]
    },
    {
     "name": "stdout",
     "output_type": "stream",
     "text": [
      "(256, 256, 3) (256, 256, 1) (256, 256, 1)\n",
      "1/1 [==============================] - 0s 33ms/step\n"
     ]
    },
    {
     "name": "stderr",
     "output_type": "stream",
     "text": [
      " 82%|████████▏ | 18/22 [00:03<00:00,  8.82it/s]"
     ]
    },
    {
     "name": "stdout",
     "output_type": "stream",
     "text": [
      "(256, 256, 3) (256, 256, 1) (256, 256, 1)\n",
      "1/1 [==============================] - 0s 32ms/step\n"
     ]
    },
    {
     "name": "stderr",
     "output_type": "stream",
     "text": [
      " 86%|████████▋ | 19/22 [00:03<00:00,  9.06it/s]"
     ]
    },
    {
     "name": "stdout",
     "output_type": "stream",
     "text": [
      "(256, 256, 3) (256, 256, 1) (256, 256, 1)\n",
      "1/1 [==============================] - 0s 34ms/step\n"
     ]
    },
    {
     "name": "stderr",
     "output_type": "stream",
     "text": [
      " 91%|█████████ | 20/22 [00:03<00:00,  8.23it/s]"
     ]
    },
    {
     "name": "stdout",
     "output_type": "stream",
     "text": [
      "(256, 256, 3) (256, 256, 1) (256, 256, 1)\n",
      "1/1 [==============================] - 0s 23ms/step\n",
      "(256, 256, 3) (256, 256, 1) (256, 256, 1)\n",
      "1/1 [==============================] - 0s 23ms/step\n"
     ]
    },
    {
     "name": "stderr",
     "output_type": "stream",
     "text": [
      "100%|██████████| 22/22 [00:03<00:00,  5.81it/s]"
     ]
    },
    {
     "name": "stdout",
     "output_type": "stream",
     "text": [
      "(256, 256, 3) (256, 256, 1) (256, 256, 1)\n"
     ]
    },
    {
     "name": "stderr",
     "output_type": "stream",
     "text": [
      "\n"
     ]
    }
   ],
   "source": [
    "for img, msk in tqdm(zip(test_image, test_masks), total=len(test_image)):\n",
    "    image_name = img.split(\"/\")[-1]\n",
    "\n",
    "    ori_x = cv2.imread(img, cv2.IMREAD_COLOR)\n",
    "    ori_x = cv2.resize(ori_x, (W,H))\n",
    "    x = ori_x / 255.0\n",
    "    x = x.astype(np.float32)\n",
    "    x = np.expand_dims(x, axis=0)\n",
    "\n",
    "    ori_y = cv2.imread(msk, cv2.IMREAD_GRAYSCALE)\n",
    "    ori_y = cv2.resize(ori_y, (W,H))\n",
    "    ori_y = np.expand_dims(ori_y, axis=-1)\n",
    "\n",
    "    y_pred = model.predict(x)[0] > 0.5  \n",
    "    y_pred = y_pred.astype(np.int32)\n",
    "    y_pred = y_pred.reshape(256, 256, 1)\n",
    "\n",
    "    print(ori_x.shape, ori_y.shape, y_pred.shape)\n",
    "    save_image_path = f\"/kaggle/working/predicted/{image_name}\"\n",
    "\n",
    "    sep_line = np.ones((H, 10, 3)) * 255\n",
    "    cat_image = np.concatenate([ori_y, y_pred*255], axis=1)\n",
    "    cv2.imwrite(save_image_path, cat_image)\n",
    "     \n"
   ]
  },
  {
   "cell_type": "code",
   "execution_count": 22,
   "id": "c1ff909d",
   "metadata": {
    "execution": {
     "iopub.execute_input": "2023-06-23T15:37:45.877119Z",
     "iopub.status.busy": "2023-06-23T15:37:45.876086Z",
     "iopub.status.idle": "2023-06-23T15:37:46.180009Z",
     "shell.execute_reply": "2023-06-23T15:37:46.178999Z"
    },
    "papermill": {
     "duration": 0.721725,
     "end_time": "2023-06-23T15:37:46.182432",
     "exception": false,
     "start_time": "2023-06-23T15:37:45.460707",
     "status": "completed"
    },
    "tags": []
   },
   "outputs": [
    {
     "data": {
      "text/plain": [
       "Text(0.5, 0, 'truth ------------------------------------------------- predicted')"
      ]
     },
     "execution_count": 22,
     "metadata": {},
     "output_type": "execute_result"
    },
    {
     "data": {
      "image/png": "[encoded data removed]",
      "text/plain": [
       "<Figure size 640x480 with 1 Axes>"
      ]
     },
     "metadata": {},
     "output_type": "display_data"
    }
   ],
   "source": [
    "i = \"/kaggle/working/predicted/709.png\"\n",
    "i = cv2.imread(i, cv2.IMREAD_GRAYSCALE)\n",
    "plt.imshow(i)\n",
    "plt.xlabel(\"truth ------------------------------------------------- predicted\")"
   ]
  },
  {
   "cell_type": "code",
   "execution_count": 23,
   "id": "c707f4cf",
   "metadata": {
    "execution": {
     "iopub.execute_input": "2023-06-23T15:37:47.097040Z",
     "iopub.status.busy": "2023-06-23T15:37:47.096679Z",
     "iopub.status.idle": "2023-06-23T15:37:47.102479Z",
     "shell.execute_reply": "2023-06-23T15:37:47.101460Z"
    },
    "papermill": {
     "duration": 0.456951,
     "end_time": "2023-06-23T15:37:47.104773",
     "exception": false,
     "start_time": "2023-06-23T15:37:46.647822",
     "status": "completed"
    },
    "tags": []
   },
   "outputs": [],
   "source": [
    "t_path = \"/kaggle/working/\"\n",
    "image_folder = sorted(glob(os.path.join(t_path, \"predicted/*\")))"
   ]
  },
  {
   "cell_type": "markdown",
   "id": "dde8efc7",
   "metadata": {
    "papermill": {
     "duration": 0.40428,
     "end_time": "2023-06-23T15:37:47.930480",
     "exception": false,
     "start_time": "2023-06-23T15:37:47.526200",
     "status": "completed"
    },
    "tags": []
   },
   "source": [
    "# Visualize Prediction"
   ]
  },
  {
   "cell_type": "code",
   "execution_count": 24,
   "id": "d1619182",
   "metadata": {
    "execution": {
     "iopub.execute_input": "2023-06-23T15:37:48.762378Z",
     "iopub.status.busy": "2023-06-23T15:37:48.761990Z",
     "iopub.status.idle": "2023-06-23T15:37:49.444547Z",
     "shell.execute_reply": "2023-06-23T15:37:49.443445Z"
    },
    "papermill": {
     "duration": 1.096214,
     "end_time": "2023-06-23T15:37:49.446782",
     "exception": false,
     "start_time": "2023-06-23T15:37:48.350568",
     "status": "completed"
    },
    "tags": []
   },
   "outputs": [
    {
     "data": {
      "image/png": "[encoded data removed]",
      "text/plain": [
       "<Figure size 2000x500 with 10 Axes>"
      ]
     },
     "metadata": {},
     "output_type": "display_data"
    }
   ],
   "source": [
    "rows = 2\n",
    "columns = 5\n",
    "\n",
    "# Create a figure and axis objects\n",
    "fig, axes = plt.subplots(rows, columns, figsize=(20, 5))\n",
    "\n",
    "# Flatten the axes array to iterate through it easily\n",
    "axes = axes.flatten()\n",
    "\n",
    "# Loop through the images and display them\n",
    "for i, ax in enumerate(axes):\n",
    "    # Check if there are more images than needed for the grid\n",
    "    if i < len(image_folder):\n",
    "        # Read the image file\n",
    "        image = mpimg.imread(image_folder[i])\n",
    "        # Display the image\n",
    "        ax.imshow(image)\n",
    "        ax.axis(\"off\")\n",
    "    else:\n",
    "        # If there are no more images, hide the remaining axes\n",
    "        ax.axis(\"off\")\n",
    "\n",
    "# Adjust the spacing between the subplots\n",
    "plt.tight_layout()\n",
    "\n",
    "# Show the plot\n",
    "plt.show()\n"
   ]
  },
  {
   "cell_type": "code",
   "execution_count": null,
   "id": "4280faa9",
   "metadata": {
    "papermill": {
     "duration": 0.426079,
     "end_time": "2023-06-23T15:37:50.351517",
     "exception": false,
     "start_time": "2023-06-23T15:37:49.925438",
     "status": "completed"
    },
    "tags": []
   },
   "outputs": [],
   "source": []
  },
  {
   "cell_type": "code",
   "execution_count": null,
   "id": "572ad009",
   "metadata": {
    "papermill": {
     "duration": 0.455583,
     "end_time": "2023-06-23T15:37:51.235029",
     "exception": false,
     "start_time": "2023-06-23T15:37:50.779446",
     "status": "completed"
    },
    "tags": []
   },
   "outputs": [],
   "source": []
  }
 ],
 "metadata": {
  "kernelspec": {
   "display_name": "Python 3",
   "language": "python",
   "name": "python3"
  },
  "language_info": {
   "codemirror_mode": {
    "name": "ipython",
    "version": 3
   },
   "file_extension": ".py",
   "mimetype": "text/x-python",
   "name": "python",
   "nbconvert_exporter": "python",
   "pygments_lexer": "ipython3",
   "version": "3.10.10"
  },
  "papermill": {
   "default_parameters": {},
   "duration": 1876.041296,
   "end_time": "2023-06-23T15:37:54.643388",
   "environment_variables": {},
   "exception": null,
   "input_path": "__notebook__.ipynb",
   "output_path": "__notebook__.ipynb",
   "parameters": {},
   "start_time": "2023-06-23T15:06:38.602092",
   "version": "2.4.0"
  }
 },
 "nbformat": 4,
 "nbformat_minor": 5
}
