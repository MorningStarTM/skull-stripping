{
 "cells": [
  {
   "cell_type": "code",
   "execution_count": 1,
   "id": "5b25e18b",
   "metadata": {
    "execution": {
     "iopub.execute_input": "2023-06-22T16:44:32.876719Z",
     "iopub.status.busy": "2023-06-22T16:44:32.876305Z",
     "iopub.status.idle": "2023-06-22T16:44:43.103039Z",
     "shell.execute_reply": "2023-06-22T16:44:43.101897Z"
    },
    "papermill": {
     "duration": 10.239226,
     "end_time": "2023-06-22T16:44:43.106110",
     "exception": false,
     "start_time": "2023-06-22T16:44:32.866884",
     "status": "completed"
    },
    "tags": []
   },
   "outputs": [
    {
     "name": "stderr",
     "output_type": "stream",
     "text": [
      "/opt/conda/lib/python3.10/site-packages/tensorflow_io/python/ops/__init__.py:98: UserWarning: unable to load libtensorflow_io_plugins.so: unable to open file: libtensorflow_io_plugins.so, from paths: ['/opt/conda/lib/python3.10/site-packages/tensorflow_io/python/ops/libtensorflow_io_plugins.so']\n",
      "caused by: ['/opt/conda/lib/python3.10/site-packages/tensorflow_io/python/ops/libtensorflow_io_plugins.so: undefined symbol: _ZN3tsl6StatusC1EN10tensorflow5error4CodeESt17basic_string_viewIcSt11char_traitsIcEENS_14SourceLocationE']\n",
      "  warnings.warn(f\"unable to load libtensorflow_io_plugins.so: {e}\")\n",
      "/opt/conda/lib/python3.10/site-packages/tensorflow_io/python/ops/__init__.py:104: UserWarning: file system plugins are not loaded: unable to open file: libtensorflow_io.so, from paths: ['/opt/conda/lib/python3.10/site-packages/tensorflow_io/python/ops/libtensorflow_io.so']\n",
      "caused by: ['/opt/conda/lib/python3.10/site-packages/tensorflow_io/python/ops/libtensorflow_io.so: undefined symbol: _ZTVN10tensorflow13GcsFileSystemE']\n",
      "  warnings.warn(f\"file system plugins are not loaded: {e}\")\n"
     ]
    }
   ],
   "source": [
    "import os\n",
    "import cv2\n",
    "import numpy as np\n",
    "import matplotlib.pyplot as plt\n",
    "import tensorflow as tf\n",
    "import matplotlib.image as mpimg\n",
    "from glob import glob\n",
    "from tqdm import tqdm\n",
    "from tensorflow.keras.models import Model, load_model\n",
    "from sklearn.model_selection import train_test_split\n",
    "from tensorflow.keras.layers import Conv2D, Flatten, Dense, Conv2DTranspose, MaxPool2D, ReLU, Input, BatchNormalization, Concatenate, Lambda, Activation, Dropout\n",
    "from tensorflow.keras.optimizers import Adam\n",
    "from tensorflow.keras.utils import CustomObjectScope\n",
    "from sklearn.metrics import accuracy_score, f1_score, jaccard_score, precision_score, recall_score\n",
    "from tensorflow.keras.metrics import Recall, Precision\n",
    "from tensorflow.keras.callbacks import ModelCheckpoint, CSVLogger, ReduceLROnPlateau"
   ]
  },
  {
   "cell_type": "code",
   "execution_count": 2,
   "id": "eff4be61",
   "metadata": {
    "execution": {
     "iopub.execute_input": "2023-06-22T16:44:43.125240Z",
     "iopub.status.busy": "2023-06-22T16:44:43.124526Z",
     "iopub.status.idle": "2023-06-22T16:44:43.129297Z",
     "shell.execute_reply": "2023-06-22T16:44:43.128403Z"
    },
    "papermill": {
     "duration": 0.016151,
     "end_time": "2023-06-22T16:44:43.131447",
     "exception": false,
     "start_time": "2023-06-22T16:44:43.115296",
     "status": "completed"
    },
    "tags": []
   },
   "outputs": [],
   "source": [
    "#Global variable\n",
    "BATCH_SIZE = 16\n",
    "W,H = 256, 256\n",
    "CHANNEL = 3\n",
    "lr = 1e-5"
   ]
  },
  {
   "cell_type": "markdown",
   "id": "77230289",
   "metadata": {
    "papermill": {
     "duration": 0.007685,
     "end_time": "2023-06-22T16:44:43.146957",
     "exception": false,
     "start_time": "2023-06-22T16:44:43.139272",
     "status": "completed"
    },
    "tags": []
   },
   "source": [
    "## Evaluation Function"
   ]
  },
  {
   "cell_type": "code",
   "execution_count": 3,
   "id": "d52b0ae3",
   "metadata": {
    "execution": {
     "iopub.execute_input": "2023-06-22T16:44:43.163833Z",
     "iopub.status.busy": "2023-06-22T16:44:43.163551Z",
     "iopub.status.idle": "2023-06-22T16:44:43.171496Z",
     "shell.execute_reply": "2023-06-22T16:44:43.170483Z"
    },
    "papermill": {
     "duration": 0.018805,
     "end_time": "2023-06-22T16:44:43.173634",
     "exception": false,
     "start_time": "2023-06-22T16:44:43.154829",
     "status": "completed"
    },
    "tags": []
   },
   "outputs": [],
   "source": [
    "def iou(y_true, y_pred):\n",
    "    def f(y_true, y_pred):\n",
    "        intersection = (y_true * y_pred).sum()\n",
    "        union = y_true.sum() + y_pred.sum() - intersection\n",
    "        x = (intersection + 1e-15) / (union + 1e-15)\n",
    "        x = x.astype(np.float32)\n",
    "        return x\n",
    "    return tf.numpy_function(f, [y_true, y_pred], tf.float32)\n",
    "\n",
    "smooth = 1e-15\n",
    "def dice_coef(y_true, y_pred):\n",
    "    y_true = tf.keras.layers.Flatten()(y_true)\n",
    "    y_pred = tf.keras.layers.Flatten()(y_pred)\n",
    "    intersection = tf.reduce_sum(y_true * y_pred)\n",
    "    return (2. * intersection  + smooth) / (tf.reduce_sum(y_true) + tf.reduce_sum(y_pred) + smooth)\n",
    "\n",
    "def dice_loss(y_true, y_pred):\n",
    "    return 1.0 - dice_coef(y_true, y_pred)"
   ]
  },
  {
   "cell_type": "code",
   "execution_count": 4,
   "id": "43e2b318",
   "metadata": {
    "execution": {
     "iopub.execute_input": "2023-06-22T16:44:43.191484Z",
     "iopub.status.busy": "2023-06-22T16:44:43.190585Z",
     "iopub.status.idle": "2023-06-22T16:44:43.195533Z",
     "shell.execute_reply": "2023-06-22T16:44:43.194685Z"
    },
    "papermill": {
     "duration": 0.01609,
     "end_time": "2023-06-22T16:44:43.197577",
     "exception": false,
     "start_time": "2023-06-22T16:44:43.181487",
     "status": "completed"
    },
    "tags": []
   },
   "outputs": [],
   "source": [
    "#create folder for save augmented images\n",
    "def create_dir(path):\n",
    "    if not os.path.exists(path):\n",
    "        os.makedirs(path)"
   ]
  },
  {
   "cell_type": "markdown",
   "id": "713b14cc",
   "metadata": {
    "papermill": {
     "duration": 0.007422,
     "end_time": "2023-06-22T16:44:43.212603",
     "exception": false,
     "start_time": "2023-06-22T16:44:43.205181",
     "status": "completed"
    },
    "tags": []
   },
   "source": [
    "## U-NET (MODEL)"
   ]
  },
  {
   "cell_type": "code",
   "execution_count": 5,
   "id": "1d9f9ce9",
   "metadata": {
    "execution": {
     "iopub.execute_input": "2023-06-22T16:44:43.229492Z",
     "iopub.status.busy": "2023-06-22T16:44:43.228712Z",
     "iopub.status.idle": "2023-06-22T16:44:43.239101Z",
     "shell.execute_reply": "2023-06-22T16:44:43.238198Z"
    },
    "papermill": {
     "duration": 0.02069,
     "end_time": "2023-06-22T16:44:43.241051",
     "exception": false,
     "start_time": "2023-06-22T16:44:43.220361",
     "status": "completed"
    },
    "tags": []
   },
   "outputs": [],
   "source": [
    "def conv_block(input, num_filters):\n",
    "    x = Conv2D(num_filters, 3, padding='same')(input)\n",
    "    x = BatchNormalization()(x)\n",
    "    x = Activation(\"relu\")(x)\n",
    "\n",
    "    return x\n",
    "\n",
    "def encoder_block(input, num_filters):\n",
    "    x = conv_block(input, num_filters)\n",
    "    p = MaxPool2D((2,2))(x)\n",
    "    return x, p\n",
    "\n",
    "def decoder_block(input, skip_features, num_filters):\n",
    "    x = Conv2DTranspose(num_filters, (2,2), strides=2, padding='same')(input)\n",
    "    x = Concatenate()([x, skip_features])\n",
    "    x = conv_block(x, num_filters)\n",
    "    return x\n",
    "\n",
    "def build_unet(input_shape):\n",
    "    inputs = Input(input_shape)\n",
    "\n",
    "    s1, p1 = encoder_block(inputs, 32)\n",
    "    s2, p2 = encoder_block(p1, 64)\n",
    "    s3, p3 = encoder_block(p2, 128)\n",
    "    s4, p4 = encoder_block(p3, 256)\n",
    "    s5, p5 = encoder_block(p4, 512)\n",
    "    s6, p6 = encoder_block(p5, 1024)\n",
    "\n",
    "    b1 = conv_block(p6, 2048)\n",
    "\n",
    "    d1 = decoder_block(b1, s6, 1024)\n",
    "    d2 = decoder_block(d1, s5, 512)\n",
    "    d3 = decoder_block(d2, s4, 256)\n",
    "    d4 = decoder_block(d3, s3, 128)\n",
    "    d5 = decoder_block(d4, s2, 64)\n",
    "    d6 = decoder_block(d5, s1, 32)\n",
    "\n",
    "    outputs = Conv2D(1, 1, padding='same', activation='sigmoid')(d6)\n",
    "\n",
    "    model = Model(inputs, outputs, name='U-Net')\n",
    "    return model"
   ]
  },
  {
   "cell_type": "code",
   "execution_count": 6,
   "id": "775450de",
   "metadata": {
    "execution": {
     "iopub.execute_input": "2023-06-22T16:44:43.257398Z",
     "iopub.status.busy": "2023-06-22T16:44:43.256639Z",
     "iopub.status.idle": "2023-06-22T16:44:48.258663Z",
     "shell.execute_reply": "2023-06-22T16:44:48.257903Z"
    },
    "papermill": {
     "duration": 5.115997,
     "end_time": "2023-06-22T16:44:48.364471",
     "exception": false,
     "start_time": "2023-06-22T16:44:43.248474",
     "status": "completed"
    },
    "tags": []
   },
   "outputs": [
    {
     "name": "stdout",
     "output_type": "stream",
     "text": [
      "Model: \"U-Net\"\n",
      "__________________________________________________________________________________________________\n",
      " Layer (type)                   Output Shape         Param #     Connected to                     \n",
      "==================================================================================================\n",
      " input_1 (InputLayer)           [(None, 256, 256, 3  0           []                               \n",
      "                                )]                                                                \n",
      "                                                                                                  \n",
      " conv2d (Conv2D)                (None, 256, 256, 32  896         ['input_1[0][0]']                \n",
      "                                )                                                                 \n",
      "                                                                                                  \n",
      " batch_normalization (BatchNorm  (None, 256, 256, 32  128        ['conv2d[0][0]']                 \n",
      " alization)                     )                                                                 \n",
      "                                                                                                  \n",
      " activation (Activation)        (None, 256, 256, 32  0           ['batch_normalization[0][0]']    \n",
      "                                )                                                                 \n",
      "                                                                                                  \n",
      " max_pooling2d (MaxPooling2D)   (None, 128, 128, 32  0           ['activation[0][0]']             \n",
      "                                )                                                                 \n",
      "                                                                                                  \n",
      " conv2d_1 (Conv2D)              (None, 128, 128, 64  18496       ['max_pooling2d[0][0]']          \n",
      "                                )                                                                 \n",
      "                                                                                                  \n",
      " batch_normalization_1 (BatchNo  (None, 128, 128, 64  256        ['conv2d_1[0][0]']               \n",
      " rmalization)                   )                                                                 \n",
      "                                                                                                  \n",
      " activation_1 (Activation)      (None, 128, 128, 64  0           ['batch_normalization_1[0][0]']  \n",
      "                                )                                                                 \n",
      "                                                                                                  \n",
      " max_pooling2d_1 (MaxPooling2D)  (None, 64, 64, 64)  0           ['activation_1[0][0]']           \n",
      "                                                                                                  \n",
      " conv2d_2 (Conv2D)              (None, 64, 64, 128)  73856       ['max_pooling2d_1[0][0]']        \n",
      "                                                                                                  \n",
      " batch_normalization_2 (BatchNo  (None, 64, 64, 128)  512        ['conv2d_2[0][0]']               \n",
      " rmalization)                                                                                     \n",
      "                                                                                                  \n",
      " activation_2 (Activation)      (None, 64, 64, 128)  0           ['batch_normalization_2[0][0]']  \n",
      "                                                                                                  \n",
      " max_pooling2d_2 (MaxPooling2D)  (None, 32, 32, 128)  0          ['activation_2[0][0]']           \n",
      "                                                                                                  \n",
      " conv2d_3 (Conv2D)              (None, 32, 32, 256)  295168      ['max_pooling2d_2[0][0]']        \n",
      "                                                                                                  \n",
      " batch_normalization_3 (BatchNo  (None, 32, 32, 256)  1024       ['conv2d_3[0][0]']               \n",
      " rmalization)                                                                                     \n",
      "                                                                                                  \n",
      " activation_3 (Activation)      (None, 32, 32, 256)  0           ['batch_normalization_3[0][0]']  \n",
      "                                                                                                  \n",
      " max_pooling2d_3 (MaxPooling2D)  (None, 16, 16, 256)  0          ['activation_3[0][0]']           \n",
      "                                                                                                  \n",
      " conv2d_4 (Conv2D)              (None, 16, 16, 512)  1180160     ['max_pooling2d_3[0][0]']        \n",
      "                                                                                                  \n",
      " batch_normalization_4 (BatchNo  (None, 16, 16, 512)  2048       ['conv2d_4[0][0]']               \n",
      " rmalization)                                                                                     \n",
      "                                                                                                  \n",
      " activation_4 (Activation)      (None, 16, 16, 512)  0           ['batch_normalization_4[0][0]']  \n",
      "                                                                                                  \n",
      " max_pooling2d_4 (MaxPooling2D)  (None, 8, 8, 512)   0           ['activation_4[0][0]']           \n",
      "                                                                                                  \n",
      " conv2d_5 (Conv2D)              (None, 8, 8, 1024)   4719616     ['max_pooling2d_4[0][0]']        \n",
      "                                                                                                  \n",
      " batch_normalization_5 (BatchNo  (None, 8, 8, 1024)  4096        ['conv2d_5[0][0]']               \n",
      " rmalization)                                                                                     \n",
      "                                                                                                  \n",
      " activation_5 (Activation)      (None, 8, 8, 1024)   0           ['batch_normalization_5[0][0]']  \n",
      "                                                                                                  \n",
      " max_pooling2d_5 (MaxPooling2D)  (None, 4, 4, 1024)  0           ['activation_5[0][0]']           \n",
      "                                                                                                  \n",
      " conv2d_6 (Conv2D)              (None, 4, 4, 2048)   18876416    ['max_pooling2d_5[0][0]']        \n",
      "                                                                                                  \n",
      " batch_normalization_6 (BatchNo  (None, 4, 4, 2048)  8192        ['conv2d_6[0][0]']               \n",
      " rmalization)                                                                                     \n",
      "                                                                                                  \n",
      " activation_6 (Activation)      (None, 4, 4, 2048)   0           ['batch_normalization_6[0][0]']  \n",
      "                                                                                                  \n",
      " conv2d_transpose (Conv2DTransp  (None, 8, 8, 1024)  8389632     ['activation_6[0][0]']           \n",
      " ose)                                                                                             \n",
      "                                                                                                  \n",
      " concatenate (Concatenate)      (None, 8, 8, 2048)   0           ['conv2d_transpose[0][0]',       \n",
      "                                                                  'activation_5[0][0]']           \n",
      "                                                                                                  \n",
      " conv2d_7 (Conv2D)              (None, 8, 8, 1024)   18875392    ['concatenate[0][0]']            \n",
      "                                                                                                  \n",
      " batch_normalization_7 (BatchNo  (None, 8, 8, 1024)  4096        ['conv2d_7[0][0]']               \n",
      " rmalization)                                                                                     \n",
      "                                                                                                  \n",
      " activation_7 (Activation)      (None, 8, 8, 1024)   0           ['batch_normalization_7[0][0]']  \n",
      "                                                                                                  \n",
      " conv2d_transpose_1 (Conv2DTran  (None, 16, 16, 512)  2097664    ['activation_7[0][0]']           \n",
      " spose)                                                                                           \n",
      "                                                                                                  \n",
      " concatenate_1 (Concatenate)    (None, 16, 16, 1024  0           ['conv2d_transpose_1[0][0]',     \n",
      "                                )                                 'activation_4[0][0]']           \n",
      "                                                                                                  \n",
      " conv2d_8 (Conv2D)              (None, 16, 16, 512)  4719104     ['concatenate_1[0][0]']          \n",
      "                                                                                                  \n",
      " batch_normalization_8 (BatchNo  (None, 16, 16, 512)  2048       ['conv2d_8[0][0]']               \n",
      " rmalization)                                                                                     \n",
      "                                                                                                  \n",
      " activation_8 (Activation)      (None, 16, 16, 512)  0           ['batch_normalization_8[0][0]']  \n",
      "                                                                                                  \n",
      " conv2d_transpose_2 (Conv2DTran  (None, 32, 32, 256)  524544     ['activation_8[0][0]']           \n",
      " spose)                                                                                           \n",
      "                                                                                                  \n",
      " concatenate_2 (Concatenate)    (None, 32, 32, 512)  0           ['conv2d_transpose_2[0][0]',     \n",
      "                                                                  'activation_3[0][0]']           \n",
      "                                                                                                  \n",
      " conv2d_9 (Conv2D)              (None, 32, 32, 256)  1179904     ['concatenate_2[0][0]']          \n",
      "                                                                                                  \n",
      " batch_normalization_9 (BatchNo  (None, 32, 32, 256)  1024       ['conv2d_9[0][0]']               \n",
      " rmalization)                                                                                     \n",
      "                                                                                                  \n",
      " activation_9 (Activation)      (None, 32, 32, 256)  0           ['batch_normalization_9[0][0]']  \n",
      "                                                                                                  \n",
      " conv2d_transpose_3 (Conv2DTran  (None, 64, 64, 128)  131200     ['activation_9[0][0]']           \n",
      " spose)                                                                                           \n",
      "                                                                                                  \n",
      " concatenate_3 (Concatenate)    (None, 64, 64, 256)  0           ['conv2d_transpose_3[0][0]',     \n",
      "                                                                  'activation_2[0][0]']           \n",
      "                                                                                                  \n",
      " conv2d_10 (Conv2D)             (None, 64, 64, 128)  295040      ['concatenate_3[0][0]']          \n",
      "                                                                                                  \n",
      " batch_normalization_10 (BatchN  (None, 64, 64, 128)  512        ['conv2d_10[0][0]']              \n",
      " ormalization)                                                                                    \n",
      "                                                                                                  \n",
      " activation_10 (Activation)     (None, 64, 64, 128)  0           ['batch_normalization_10[0][0]'] \n",
      "                                                                                                  \n",
      " conv2d_transpose_4 (Conv2DTran  (None, 128, 128, 64  32832      ['activation_10[0][0]']          \n",
      " spose)                         )                                                                 \n",
      "                                                                                                  \n",
      " concatenate_4 (Concatenate)    (None, 128, 128, 12  0           ['conv2d_transpose_4[0][0]',     \n",
      "                                8)                                'activation_1[0][0]']           \n",
      "                                                                                                  \n",
      " conv2d_11 (Conv2D)             (None, 128, 128, 64  73792       ['concatenate_4[0][0]']          \n",
      "                                )                                                                 \n",
      "                                                                                                  \n",
      " batch_normalization_11 (BatchN  (None, 128, 128, 64  256        ['conv2d_11[0][0]']              \n",
      " ormalization)                  )                                                                 \n",
      "                                                                                                  \n",
      " activation_11 (Activation)     (None, 128, 128, 64  0           ['batch_normalization_11[0][0]'] \n",
      "                                )                                                                 \n",
      "                                                                                                  \n",
      " conv2d_transpose_5 (Conv2DTran  (None, 256, 256, 32  8224       ['activation_11[0][0]']          \n",
      " spose)                         )                                                                 \n",
      "                                                                                                  \n",
      " concatenate_5 (Concatenate)    (None, 256, 256, 64  0           ['conv2d_transpose_5[0][0]',     \n",
      "                                )                                 'activation[0][0]']             \n",
      "                                                                                                  \n",
      " conv2d_12 (Conv2D)             (None, 256, 256, 32  18464       ['concatenate_5[0][0]']          \n",
      "                                )                                                                 \n",
      "                                                                                                  \n",
      " batch_normalization_12 (BatchN  (None, 256, 256, 32  128        ['conv2d_12[0][0]']              \n",
      " ormalization)                  )                                                                 \n",
      "                                                                                                  \n",
      " activation_12 (Activation)     (None, 256, 256, 32  0           ['batch_normalization_12[0][0]'] \n",
      "                                )                                                                 \n",
      "                                                                                                  \n",
      " conv2d_13 (Conv2D)             (None, 256, 256, 1)  33          ['activation_12[0][0]']          \n",
      "                                                                                                  \n",
      "==================================================================================================\n",
      "Total params: 61,534,753\n",
      "Trainable params: 61,522,593\n",
      "Non-trainable params: 12,160\n",
      "__________________________________________________________________________________________________\n"
     ]
    }
   ],
   "source": [
    "inputs_shape = (256,256,3)\n",
    "model = build_unet(inputs_shape)\n",
    "model.summary()"
   ]
  },
  {
   "cell_type": "code",
   "execution_count": 7,
   "id": "5613b485",
   "metadata": {
    "execution": {
     "iopub.execute_input": "2023-06-22T16:44:48.406599Z",
     "iopub.status.busy": "2023-06-22T16:44:48.406289Z",
     "iopub.status.idle": "2023-06-22T16:44:48.430154Z",
     "shell.execute_reply": "2023-06-22T16:44:48.429275Z"
    },
    "papermill": {
     "duration": 0.047616,
     "end_time": "2023-06-22T16:44:48.432518",
     "exception": false,
     "start_time": "2023-06-22T16:44:48.384902",
     "status": "completed"
    },
    "tags": []
   },
   "outputs": [],
   "source": [
    "metrics = [dice_coef, iou, Recall(), Precision()]\n",
    "model.compile(loss=dice_loss, optimizer=Adam(lr), metrics=metrics)"
   ]
  },
  {
   "cell_type": "code",
   "execution_count": 8,
   "id": "fd58f2fc",
   "metadata": {
    "execution": {
     "iopub.execute_input": "2023-06-22T16:44:48.474460Z",
     "iopub.status.busy": "2023-06-22T16:44:48.474166Z",
     "iopub.status.idle": "2023-06-22T16:44:48.479125Z",
     "shell.execute_reply": "2023-06-22T16:44:48.478236Z"
    },
    "papermill": {
     "duration": 0.027063,
     "end_time": "2023-06-22T16:44:48.481162",
     "exception": false,
     "start_time": "2023-06-22T16:44:48.454099",
     "status": "completed"
    },
    "tags": []
   },
   "outputs": [],
   "source": [
    "model_path = \"unet_for_skull_stripping.h5\"\n",
    "csv_path = \"unet_for_skull_stripping.csv\"\n",
    "path = \"/kaggle/input/skull-stripping/temp\"\n",
    "split = 0.1"
   ]
  },
  {
   "cell_type": "markdown",
   "id": "842e1ba6",
   "metadata": {
    "papermill": {
     "duration": 0.019114,
     "end_time": "2023-06-22T16:44:48.520578",
     "exception": false,
     "start_time": "2023-06-22T16:44:48.501464",
     "status": "completed"
    },
    "tags": []
   },
   "source": [
    "# Data Pipeline"
   ]
  },
  {
   "cell_type": "code",
   "execution_count": 9,
   "id": "de6cfeaf",
   "metadata": {
    "execution": {
     "iopub.execute_input": "2023-06-22T16:44:48.560586Z",
     "iopub.status.busy": "2023-06-22T16:44:48.560258Z",
     "iopub.status.idle": "2023-06-22T16:44:48.565312Z",
     "shell.execute_reply": "2023-06-22T16:44:48.564373Z"
    },
    "papermill": {
     "duration": 0.027521,
     "end_time": "2023-06-22T16:44:48.567472",
     "exception": false,
     "start_time": "2023-06-22T16:44:48.539951",
     "status": "completed"
    },
    "tags": []
   },
   "outputs": [],
   "source": [
    "#load dataset\n",
    "def load_data(path, split=0.1):\n",
    "    images = sorted(glob(os.path.join(path, \"images/*\")))\n",
    "    masks = sorted(glob(os.path.join(path, \"mask/*\")))\n",
    "\n",
    "    return images, masks"
   ]
  },
  {
   "cell_type": "code",
   "execution_count": 10,
   "id": "693f3db6",
   "metadata": {
    "execution": {
     "iopub.execute_input": "2023-06-22T16:44:48.608714Z",
     "iopub.status.busy": "2023-06-22T16:44:48.608040Z",
     "iopub.status.idle": "2023-06-22T16:44:48.615236Z",
     "shell.execute_reply": "2023-06-22T16:44:48.614372Z"
    },
    "papermill": {
     "duration": 0.030035,
     "end_time": "2023-06-22T16:44:48.617271",
     "exception": false,
     "start_time": "2023-06-22T16:44:48.587236",
     "status": "completed"
    },
    "tags": []
   },
   "outputs": [],
   "source": [
    "#process image function\n",
    "def read_img(path):\n",
    "    img = cv2.imread(path, cv2.IMREAD_COLOR)\n",
    "    img = cv2.resize(img, (256, 256))\n",
    "    img = img / 255\n",
    "    img = img.astype(np.float32)\n",
    "    return img\n",
    "\n",
    "#process mask function\n",
    "def read_mask(path):\n",
    "    mask = cv2.imread(path, cv2.IMREAD_GRAYSCALE)\n",
    "    mask = cv2.resize(mask, (256, 256))\n",
    "    mask = mask / 255\n",
    "    mask = np.expand_dims(mask, axis=-1)\n",
    "    mask = mask.astype(np.float32)\n",
    "    return mask"
   ]
  },
  {
   "cell_type": "code",
   "execution_count": 11,
   "id": "855d89c7",
   "metadata": {
    "execution": {
     "iopub.execute_input": "2023-06-22T16:44:48.657681Z",
     "iopub.status.busy": "2023-06-22T16:44:48.657398Z",
     "iopub.status.idle": "2023-06-22T16:44:48.663005Z",
     "shell.execute_reply": "2023-06-22T16:44:48.662170Z"
    },
    "papermill": {
     "duration": 0.028264,
     "end_time": "2023-06-22T16:44:48.665287",
     "exception": false,
     "start_time": "2023-06-22T16:44:48.637023",
     "status": "completed"
    },
    "tags": []
   },
   "outputs": [],
   "source": [
    "#enable to apply cv\n",
    "def preprocess(x, y):\n",
    "    def f(x, y):\n",
    "        x = x.decode()\n",
    "        y = y.decode()\n",
    "\n",
    "        x = read_img(x)\n",
    "        y = read_mask(y)\n",
    "        return x, y\n",
    "\n",
    "    image, mask = tf.numpy_function(f, [x, y], [tf.float32, tf.float32])\n",
    "    image.set_shape([256, 256, 3])\n",
    "    mask.set_shape([256, 256, 1])\n",
    "\n",
    "    return image, mask"
   ]
  },
  {
   "cell_type": "code",
   "execution_count": 12,
   "id": "0de0f4dc",
   "metadata": {
    "execution": {
     "iopub.execute_input": "2023-06-22T16:44:48.705732Z",
     "iopub.status.busy": "2023-06-22T16:44:48.705469Z",
     "iopub.status.idle": "2023-06-22T16:44:48.711113Z",
     "shell.execute_reply": "2023-06-22T16:44:48.710281Z"
    },
    "papermill": {
     "duration": 0.028481,
     "end_time": "2023-06-22T16:44:48.713152",
     "exception": false,
     "start_time": "2023-06-22T16:44:48.684671",
     "status": "completed"
    },
    "tags": []
   },
   "outputs": [],
   "source": [
    "def tf_dataset(x, y, batch=8):\n",
    "    dataset = tf.data.Dataset.from_tensor_slices((x, y))\n",
    "    dataset = dataset.shuffle(buffer_size=1000)\n",
    "    dataset = dataset.map(preprocess)\n",
    "    dataset = dataset.batch(batch)\n",
    "    dataset = dataset.prefetch(2)\n",
    "    return dataset"
   ]
  },
  {
   "cell_type": "code",
   "execution_count": 13,
   "id": "d771287e",
   "metadata": {
    "execution": {
     "iopub.execute_input": "2023-06-22T16:44:48.754004Z",
     "iopub.status.busy": "2023-06-22T16:44:48.753736Z",
     "iopub.status.idle": "2023-06-22T16:44:49.199616Z",
     "shell.execute_reply": "2023-06-22T16:44:49.198263Z"
    },
    "papermill": {
     "duration": 0.469199,
     "end_time": "2023-06-22T16:44:49.201820",
     "exception": false,
     "start_time": "2023-06-22T16:44:48.732621",
     "status": "completed"
    },
    "tags": []
   },
   "outputs": [
    {
     "name": "stdout",
     "output_type": "stream",
     "text": [
      "image: 722 - Masks: 722\n"
     ]
    }
   ],
   "source": [
    "images, masks = load_data(path)\n",
    "print(f'image: {len(images)} - Masks: {len(masks)}')"
   ]
  },
  {
   "cell_type": "code",
   "execution_count": 14,
   "id": "020cf126",
   "metadata": {
    "execution": {
     "iopub.execute_input": "2023-06-22T16:44:49.241947Z",
     "iopub.status.busy": "2023-06-22T16:44:49.241150Z",
     "iopub.status.idle": "2023-06-22T16:44:49.247376Z",
     "shell.execute_reply": "2023-06-22T16:44:49.246255Z"
    },
    "papermill": {
     "duration": 0.028203,
     "end_time": "2023-06-22T16:44:49.249306",
     "exception": false,
     "start_time": "2023-06-22T16:44:49.221103",
     "status": "completed"
    },
    "tags": []
   },
   "outputs": [
    {
     "name": "stdout",
     "output_type": "stream",
     "text": [
      "image: 722 - Masks: 722\n",
      "image: 22 - Masks: 22\n"
     ]
    }
   ],
   "source": [
    "train_image = images\n",
    "train_masks = masks\n",
    "test_image = images[700:]\n",
    "test_masks = masks[700:]\n",
    "print(f'image: {len(train_image)} - Masks: {len(train_masks)}')\n",
    "print(f'image: {len(test_image)} - Masks: {len(test_masks)}')"
   ]
  },
  {
   "cell_type": "code",
   "execution_count": 15,
   "id": "d2cfa8a7",
   "metadata": {
    "execution": {
     "iopub.execute_input": "2023-06-22T16:44:49.289114Z",
     "iopub.status.busy": "2023-06-22T16:44:49.288315Z",
     "iopub.status.idle": "2023-06-22T16:44:49.438352Z",
     "shell.execute_reply": "2023-06-22T16:44:49.437469Z"
    },
    "papermill": {
     "duration": 0.172449,
     "end_time": "2023-06-22T16:44:49.440562",
     "exception": false,
     "start_time": "2023-06-22T16:44:49.268113",
     "status": "completed"
    },
    "tags": []
   },
   "outputs": [],
   "source": [
    "#convert dataset into tf dataset\n",
    "train_dataset = tf_dataset(train_image, train_masks, batch=BATCH_SIZE)\n",
    "test_dataset = tf_dataset(test_image, test_masks, batch=BATCH_SIZE)"
   ]
  },
  {
   "cell_type": "code",
   "execution_count": 16,
   "id": "9f2d26ed",
   "metadata": {
    "execution": {
     "iopub.execute_input": "2023-06-22T16:44:49.484413Z",
     "iopub.status.busy": "2023-06-22T16:44:49.484116Z",
     "iopub.status.idle": "2023-06-22T16:44:49.490219Z",
     "shell.execute_reply": "2023-06-22T16:44:49.489362Z"
    },
    "papermill": {
     "duration": 0.028509,
     "end_time": "2023-06-22T16:44:49.492308",
     "exception": false,
     "start_time": "2023-06-22T16:44:49.463799",
     "status": "completed"
    },
    "tags": []
   },
   "outputs": [],
   "source": [
    "#Callbacks\n",
    "Callbacks = [\n",
    "    ModelCheckpoint(model_path, verbose=1, save_best_only=True), \n",
    "    CSVLogger(csv_path),\n",
    "    ReduceLROnPlateau(monitor='val_loss', factor=0.1, patience=5, min_lr=1e-7, verbose=1)\n",
    "]"
   ]
  },
  {
   "cell_type": "code",
   "execution_count": 17,
   "id": "557a3a5e",
   "metadata": {
    "execution": {
     "iopub.execute_input": "2023-06-22T16:44:49.534268Z",
     "iopub.status.busy": "2023-06-22T16:44:49.533983Z",
     "iopub.status.idle": "2023-06-22T16:56:51.487399Z",
     "shell.execute_reply": "2023-06-22T16:56:51.486396Z"
    },
    "papermill": {
     "duration": 721.976658,
     "end_time": "2023-06-22T16:56:51.489537",
     "exception": false,
     "start_time": "2023-06-22T16:44:49.512879",
     "status": "completed"
    },
    "tags": []
   },
   "outputs": [
    {
     "name": "stdout",
     "output_type": "stream",
     "text": [
      "Epoch 1/40\n",
      "46/46 [==============================] - ETA: 0s - loss: 0.6816 - dice_coef: 0.3201 - iou: 0.1913 - recall: 0.3858 - precision: 0.2473\n",
      "Epoch 1: val_loss improved from inf to 0.70939, saving model to unet_for_skull_stripping.h5\n",
      "46/46 [==============================] - 50s 435ms/step - loss: 0.6816 - dice_coef: 0.3201 - iou: 0.1913 - recall: 0.3858 - precision: 0.2473 - val_loss: 0.7094 - val_dice_coef: 0.2970 - val_iou: 0.1745 - val_recall: 0.2037 - val_precision: 0.2792 - lr: 1.0000e-05\n",
      "Epoch 2/40\n",
      "46/46 [==============================] - ETA: 0s - loss: 0.5492 - dice_coef: 0.4510 - iou: 0.2919 - recall: 0.7674 - precision: 0.5299\n",
      "Epoch 2: val_loss improved from 0.70939 to 0.70541, saving model to unet_for_skull_stripping.h5\n",
      "46/46 [==============================] - 15s 326ms/step - loss: 0.5492 - dice_coef: 0.4510 - iou: 0.2919 - recall: 0.7674 - precision: 0.5299 - val_loss: 0.7054 - val_dice_coef: 0.2954 - val_iou: 0.1733 - val_recall: 0.2205 - val_precision: 0.4473 - lr: 1.0000e-05\n",
      "Epoch 3/40\n",
      "46/46 [==============================] - ETA: 0s - loss: 0.4446 - dice_coef: 0.5567 - iou: 0.3863 - recall: 0.8998 - precision: 0.5806\n",
      "Epoch 3: val_loss improved from 0.70541 to 0.68843, saving model to unet_for_skull_stripping.h5\n",
      "46/46 [==============================] - 15s 328ms/step - loss: 0.4446 - dice_coef: 0.5567 - iou: 0.3863 - recall: 0.8998 - precision: 0.5806 - val_loss: 0.6884 - val_dice_coef: 0.2974 - val_iou: 0.1751 - val_recall: 0.4760 - val_precision: 0.6533 - lr: 1.0000e-05\n",
      "Epoch 4/40\n",
      "46/46 [==============================] - ETA: 0s - loss: 0.3824 - dice_coef: 0.6187 - iou: 0.4485 - recall: 0.9283 - precision: 0.6592\n",
      "Epoch 4: val_loss improved from 0.68843 to 0.65394, saving model to unet_for_skull_stripping.h5\n",
      "46/46 [==============================] - 15s 331ms/step - loss: 0.3824 - dice_coef: 0.6187 - iou: 0.4485 - recall: 0.9283 - precision: 0.6592 - val_loss: 0.6539 - val_dice_coef: 0.3431 - val_iou: 0.2071 - val_recall: 0.7321 - val_precision: 0.8014 - lr: 1.0000e-05\n",
      "Epoch 5/40\n",
      "46/46 [==============================] - ETA: 0s - loss: 0.3443 - dice_coef: 0.6557 - iou: 0.4881 - recall: 0.9364 - precision: 0.7112\n",
      "Epoch 5: val_loss improved from 0.65394 to 0.61519, saving model to unet_for_skull_stripping.h5\n",
      "46/46 [==============================] - 15s 329ms/step - loss: 0.3443 - dice_coef: 0.6557 - iou: 0.4881 - recall: 0.9364 - precision: 0.7112 - val_loss: 0.6152 - val_dice_coef: 0.3837 - val_iou: 0.2374 - val_recall: 0.7577 - val_precision: 0.8743 - lr: 1.0000e-05\n",
      "Epoch 6/40\n",
      "46/46 [==============================] - ETA: 0s - loss: 0.3158 - dice_coef: 0.6843 - iou: 0.5204 - recall: 0.9415 - precision: 0.7505\n",
      "Epoch 6: val_loss improved from 0.61519 to 0.57774, saving model to unet_for_skull_stripping.h5\n",
      "46/46 [==============================] - 16s 335ms/step - loss: 0.3158 - dice_coef: 0.6843 - iou: 0.5204 - recall: 0.9415 - precision: 0.7505 - val_loss: 0.5777 - val_dice_coef: 0.4308 - val_iou: 0.2747 - val_recall: 0.6709 - val_precision: 0.9211 - lr: 1.0000e-05\n",
      "Epoch 7/40\n",
      "46/46 [==============================] - ETA: 0s - loss: 0.2892 - dice_coef: 0.7109 - iou: 0.5518 - recall: 0.9463 - precision: 0.7856\n",
      "Epoch 7: val_loss improved from 0.57774 to 0.50762, saving model to unet_for_skull_stripping.h5\n",
      "46/46 [==============================] - 15s 333ms/step - loss: 0.2892 - dice_coef: 0.7109 - iou: 0.5518 - recall: 0.9463 - precision: 0.7856 - val_loss: 0.5076 - val_dice_coef: 0.4947 - val_iou: 0.3286 - val_recall: 0.7083 - val_precision: 0.9241 - lr: 1.0000e-05\n",
      "Epoch 8/40\n",
      "46/46 [==============================] - ETA: 0s - loss: 0.2625 - dice_coef: 0.7379 - iou: 0.5850 - recall: 0.9533 - precision: 0.8190\n",
      "Epoch 8: val_loss improved from 0.50762 to 0.39559, saving model to unet_for_skull_stripping.h5\n",
      "46/46 [==============================] - 15s 329ms/step - loss: 0.2625 - dice_coef: 0.7379 - iou: 0.5850 - recall: 0.9533 - precision: 0.8190 - val_loss: 0.3956 - val_dice_coef: 0.6077 - val_iou: 0.4365 - val_recall: 0.9065 - val_precision: 0.7911 - lr: 1.0000e-05\n",
      "Epoch 9/40\n",
      "46/46 [==============================] - ETA: 0s - loss: 0.2429 - dice_coef: 0.7560 - iou: 0.6081 - recall: 0.9577 - precision: 0.8456\n",
      "Epoch 9: val_loss improved from 0.39559 to 0.37406, saving model to unet_for_skull_stripping.h5\n",
      "46/46 [==============================] - 15s 330ms/step - loss: 0.2429 - dice_coef: 0.7560 - iou: 0.6081 - recall: 0.9577 - precision: 0.8456 - val_loss: 0.3741 - val_dice_coef: 0.6289 - val_iou: 0.4587 - val_recall: 0.8290 - val_precision: 0.8881 - lr: 1.0000e-05\n",
      "Epoch 10/40\n",
      "46/46 [==============================] - ETA: 0s - loss: 0.2268 - dice_coef: 0.7738 - iou: 0.6313 - recall: 0.9602 - precision: 0.8755\n",
      "Epoch 10: val_loss improved from 0.37406 to 0.33662, saving model to unet_for_skull_stripping.h5\n",
      "46/46 [==============================] - 16s 334ms/step - loss: 0.2268 - dice_coef: 0.7738 - iou: 0.6313 - recall: 0.9602 - precision: 0.8755 - val_loss: 0.3366 - val_dice_coef: 0.6584 - val_iou: 0.4908 - val_recall: 0.8836 - val_precision: 0.8350 - lr: 1.0000e-05\n",
      "Epoch 11/40\n",
      "46/46 [==============================] - ETA: 0s - loss: 0.2141 - dice_coef: 0.7854 - iou: 0.6469 - recall: 0.9656 - precision: 0.8909\n",
      "Epoch 11: val_loss improved from 0.33662 to 0.32683, saving model to unet_for_skull_stripping.h5\n",
      "46/46 [==============================] - 15s 332ms/step - loss: 0.2141 - dice_coef: 0.7854 - iou: 0.6469 - recall: 0.9656 - precision: 0.8909 - val_loss: 0.3268 - val_dice_coef: 0.6574 - val_iou: 0.4907 - val_recall: 0.9496 - val_precision: 0.7316 - lr: 1.0000e-05\n",
      "Epoch 12/40\n",
      "46/46 [==============================] - ETA: 0s - loss: 0.2062 - dice_coef: 0.7936 - iou: 0.6581 - recall: 0.9646 - precision: 0.8990\n",
      "Epoch 12: val_loss improved from 0.32683 to 0.31082, saving model to unet_for_skull_stripping.h5\n",
      "46/46 [==============================] - 16s 339ms/step - loss: 0.2062 - dice_coef: 0.7936 - iou: 0.6581 - recall: 0.9646 - precision: 0.8990 - val_loss: 0.3108 - val_dice_coef: 0.6850 - val_iou: 0.5210 - val_recall: 0.8880 - val_precision: 0.8368 - lr: 1.0000e-05\n",
      "Epoch 13/40\n",
      "46/46 [==============================] - ETA: 0s - loss: 0.1965 - dice_coef: 0.8021 - iou: 0.6700 - recall: 0.9691 - precision: 0.9122\n",
      "Epoch 13: val_loss improved from 0.31082 to 0.28611, saving model to unet_for_skull_stripping.h5\n",
      "46/46 [==============================] - 15s 332ms/step - loss: 0.1965 - dice_coef: 0.8021 - iou: 0.6700 - recall: 0.9691 - precision: 0.9122 - val_loss: 0.2861 - val_dice_coef: 0.7092 - val_iou: 0.5496 - val_recall: 0.8902 - val_precision: 0.8954 - lr: 1.0000e-05\n",
      "Epoch 14/40\n",
      "46/46 [==============================] - ETA: 0s - loss: 0.1876 - dice_coef: 0.8121 - iou: 0.6839 - recall: 0.9725 - precision: 0.9260\n",
      "Epoch 14: val_loss improved from 0.28611 to 0.26518, saving model to unet_for_skull_stripping.h5\n",
      "46/46 [==============================] - 16s 340ms/step - loss: 0.1876 - dice_coef: 0.8121 - iou: 0.6839 - recall: 0.9725 - precision: 0.9260 - val_loss: 0.2652 - val_dice_coef: 0.7254 - val_iou: 0.5696 - val_recall: 0.9193 - val_precision: 0.8994 - lr: 1.0000e-05\n",
      "Epoch 15/40\n",
      "46/46 [==============================] - ETA: 0s - loss: 0.1824 - dice_coef: 0.8158 - iou: 0.6893 - recall: 0.9739 - precision: 0.9265\n",
      "Epoch 15: val_loss did not improve from 0.26518\n",
      "46/46 [==============================] - 13s 286ms/step - loss: 0.1824 - dice_coef: 0.8158 - iou: 0.6893 - recall: 0.9739 - precision: 0.9265 - val_loss: 0.2812 - val_dice_coef: 0.7175 - val_iou: 0.5595 - val_recall: 0.8114 - val_precision: 0.9639 - lr: 1.0000e-05\n",
      "Epoch 16/40\n",
      "46/46 [==============================] - ETA: 0s - loss: 0.1771 - dice_coef: 0.8230 - iou: 0.6996 - recall: 0.9739 - precision: 0.9336\n",
      "Epoch 16: val_loss improved from 0.26518 to 0.22857, saving model to unet_for_skull_stripping.h5\n",
      "46/46 [==============================] - 15s 333ms/step - loss: 0.1771 - dice_coef: 0.8230 - iou: 0.6996 - recall: 0.9739 - precision: 0.9336 - val_loss: 0.2286 - val_dice_coef: 0.7697 - val_iou: 0.6257 - val_recall: 0.9254 - val_precision: 0.9440 - lr: 1.0000e-05\n",
      "Epoch 17/40\n",
      "46/46 [==============================] - ETA: 0s - loss: 0.1738 - dice_coef: 0.8236 - iou: 0.7008 - recall: 0.9738 - precision: 0.9339\n",
      "Epoch 17: val_loss improved from 0.22857 to 0.21371, saving model to unet_for_skull_stripping.h5\n",
      "46/46 [==============================] - 15s 330ms/step - loss: 0.1738 - dice_coef: 0.8236 - iou: 0.7008 - recall: 0.9738 - precision: 0.9339 - val_loss: 0.2137 - val_dice_coef: 0.7819 - val_iou: 0.6420 - val_recall: 0.9754 - val_precision: 0.8965 - lr: 1.0000e-05\n",
      "Epoch 18/40\n",
      "46/46 [==============================] - ETA: 0s - loss: 0.1692 - dice_coef: 0.8294 - iou: 0.7089 - recall: 0.9739 - precision: 0.9385\n",
      "Epoch 18: val_loss improved from 0.21371 to 0.20654, saving model to unet_for_skull_stripping.h5\n",
      "46/46 [==============================] - 15s 333ms/step - loss: 0.1692 - dice_coef: 0.8294 - iou: 0.7089 - recall: 0.9739 - precision: 0.9385 - val_loss: 0.2065 - val_dice_coef: 0.8001 - val_iou: 0.6671 - val_recall: 0.9885 - val_precision: 0.8749 - lr: 1.0000e-05\n",
      "Epoch 19/40\n",
      "46/46 [==============================] - ETA: 0s - loss: 0.1665 - dice_coef: 0.8341 - iou: 0.7157 - recall: 0.9742 - precision: 0.9376\n",
      "Epoch 19: val_loss did not improve from 0.20654\n",
      "46/46 [==============================] - 13s 287ms/step - loss: 0.1665 - dice_coef: 0.8341 - iou: 0.7157 - recall: 0.9742 - precision: 0.9376 - val_loss: 0.2099 - val_dice_coef: 0.7857 - val_iou: 0.6472 - val_recall: 0.9971 - val_precision: 0.8576 - lr: 1.0000e-05\n",
      "Epoch 20/40\n",
      "46/46 [==============================] - ETA: 0s - loss: 0.1616 - dice_coef: 0.8389 - iou: 0.7226 - recall: 0.9779 - precision: 0.9407\n",
      "Epoch 20: val_loss improved from 0.20654 to 0.19605, saving model to unet_for_skull_stripping.h5\n",
      "46/46 [==============================] - 15s 329ms/step - loss: 0.1616 - dice_coef: 0.8389 - iou: 0.7226 - recall: 0.9779 - precision: 0.9407 - val_loss: 0.1960 - val_dice_coef: 0.8128 - val_iou: 0.6851 - val_recall: 0.9511 - val_precision: 0.9414 - lr: 1.0000e-05\n",
      "Epoch 21/40\n",
      "46/46 [==============================] - ETA: 0s - loss: 0.1582 - dice_coef: 0.8416 - iou: 0.7267 - recall: 0.9775 - precision: 0.9447\n",
      "Epoch 21: val_loss improved from 0.19605 to 0.19027, saving model to unet_for_skull_stripping.h5\n",
      "46/46 [==============================] - 16s 340ms/step - loss: 0.1582 - dice_coef: 0.8416 - iou: 0.7267 - recall: 0.9775 - precision: 0.9447 - val_loss: 0.1903 - val_dice_coef: 0.8148 - val_iou: 0.6877 - val_recall: 0.9945 - val_precision: 0.8930 - lr: 1.0000e-05\n",
      "Epoch 22/40\n",
      "46/46 [==============================] - ETA: 0s - loss: 0.1551 - dice_coef: 0.8452 - iou: 0.7321 - recall: 0.9780 - precision: 0.9471\n",
      "Epoch 22: val_loss improved from 0.19027 to 0.18767, saving model to unet_for_skull_stripping.h5\n",
      "46/46 [==============================] - 15s 332ms/step - loss: 0.1551 - dice_coef: 0.8452 - iou: 0.7321 - recall: 0.9780 - precision: 0.9471 - val_loss: 0.1877 - val_dice_coef: 0.7998 - val_iou: 0.6673 - val_recall: 0.9619 - val_precision: 0.9398 - lr: 1.0000e-05\n",
      "Epoch 23/40\n",
      "46/46 [==============================] - ETA: 0s - loss: 0.1517 - dice_coef: 0.8481 - iou: 0.7365 - recall: 0.9782 - precision: 0.9510\n",
      "Epoch 23: val_loss improved from 0.18767 to 0.18196, saving model to unet_for_skull_stripping.h5\n",
      "46/46 [==============================] - 15s 334ms/step - loss: 0.1517 - dice_coef: 0.8481 - iou: 0.7365 - recall: 0.9782 - precision: 0.9510 - val_loss: 0.1820 - val_dice_coef: 0.8084 - val_iou: 0.6790 - val_recall: 0.9945 - val_precision: 0.8989 - lr: 1.0000e-05\n",
      "Epoch 24/40\n",
      "46/46 [==============================] - ETA: 0s - loss: 0.1493 - dice_coef: 0.8509 - iou: 0.7406 - recall: 0.9793 - precision: 0.9509\n",
      "Epoch 24: val_loss did not improve from 0.18196\n",
      "46/46 [==============================] - 13s 286ms/step - loss: 0.1493 - dice_coef: 0.8509 - iou: 0.7406 - recall: 0.9793 - precision: 0.9509 - val_loss: 0.1821 - val_dice_coef: 0.8095 - val_iou: 0.6804 - val_recall: 0.9333 - val_precision: 0.9613 - lr: 1.0000e-05\n",
      "Epoch 25/40\n",
      "46/46 [==============================] - ETA: 0s - loss: 0.1470 - dice_coef: 0.8533 - iou: 0.7443 - recall: 0.9780 - precision: 0.9541\n",
      "Epoch 25: val_loss improved from 0.18196 to 0.17747, saving model to unet_for_skull_stripping.h5\n",
      "46/46 [==============================] - 16s 336ms/step - loss: 0.1470 - dice_coef: 0.8533 - iou: 0.7443 - recall: 0.9780 - precision: 0.9541 - val_loss: 0.1775 - val_dice_coef: 0.8255 - val_iou: 0.7029 - val_recall: 0.9654 - val_precision: 0.9354 - lr: 1.0000e-05\n",
      "Epoch 26/40\n",
      "46/46 [==============================] - ETA: 0s - loss: 0.1447 - dice_coef: 0.8556 - iou: 0.7479 - recall: 0.9776 - precision: 0.9553\n",
      "Epoch 26: val_loss improved from 0.17747 to 0.17076, saving model to unet_for_skull_stripping.h5\n",
      "46/46 [==============================] - 15s 331ms/step - loss: 0.1447 - dice_coef: 0.8556 - iou: 0.7479 - recall: 0.9776 - precision: 0.9553 - val_loss: 0.1708 - val_dice_coef: 0.8373 - val_iou: 0.7205 - val_recall: 0.9718 - val_precision: 0.9414 - lr: 1.0000e-05\n",
      "Epoch 27/40\n",
      "46/46 [==============================] - ETA: 0s - loss: 0.1425 - dice_coef: 0.8575 - iou: 0.7507 - recall: 0.9792 - precision: 0.9556\n",
      "Epoch 27: val_loss did not improve from 0.17076\n",
      "46/46 [==============================] - 13s 287ms/step - loss: 0.1425 - dice_coef: 0.8575 - iou: 0.7507 - recall: 0.9792 - precision: 0.9556 - val_loss: 0.1846 - val_dice_coef: 0.8207 - val_iou: 0.6961 - val_recall: 0.9981 - val_precision: 0.8612 - lr: 1.0000e-05\n",
      "Epoch 28/40\n",
      "46/46 [==============================] - ETA: 0s - loss: 0.1406 - dice_coef: 0.8584 - iou: 0.7522 - recall: 0.9803 - precision: 0.9551\n",
      "Epoch 28: val_loss improved from 0.17076 to 0.16958, saving model to unet_for_skull_stripping.h5\n",
      "46/46 [==============================] - 15s 331ms/step - loss: 0.1406 - dice_coef: 0.8584 - iou: 0.7522 - recall: 0.9803 - precision: 0.9551 - val_loss: 0.1696 - val_dice_coef: 0.8302 - val_iou: 0.7098 - val_recall: 0.9670 - val_precision: 0.9252 - lr: 1.0000e-05\n",
      "Epoch 29/40\n",
      "46/46 [==============================] - ETA: 0s - loss: 0.1384 - dice_coef: 0.8613 - iou: 0.7566 - recall: 0.9789 - precision: 0.9589\n",
      "Epoch 29: val_loss did not improve from 0.16958\n",
      "46/46 [==============================] - 13s 287ms/step - loss: 0.1384 - dice_coef: 0.8613 - iou: 0.7566 - recall: 0.9789 - precision: 0.9589 - val_loss: 0.1783 - val_dice_coef: 0.8191 - val_iou: 0.6937 - val_recall: 0.9130 - val_precision: 0.9598 - lr: 1.0000e-05\n",
      "Epoch 30/40\n",
      "46/46 [==============================] - ETA: 0s - loss: 0.1365 - dice_coef: 0.8637 - iou: 0.7602 - recall: 0.9783 - precision: 0.9616\n",
      "Epoch 30: val_loss improved from 0.16958 to 0.16494, saving model to unet_for_skull_stripping.h5\n",
      "46/46 [==============================] - 15s 329ms/step - loss: 0.1365 - dice_coef: 0.8637 - iou: 0.7602 - recall: 0.9783 - precision: 0.9616 - val_loss: 0.1649 - val_dice_coef: 0.8392 - val_iou: 0.7231 - val_recall: 0.9863 - val_precision: 0.9243 - lr: 1.0000e-05\n",
      "Epoch 31/40\n",
      "46/46 [==============================] - ETA: 0s - loss: 0.1336 - dice_coef: 0.8668 - iou: 0.7651 - recall: 0.9817 - precision: 0.9618\n",
      "Epoch 31: val_loss improved from 0.16494 to 0.15764, saving model to unet_for_skull_stripping.h5\n",
      "46/46 [==============================] - 15s 329ms/step - loss: 0.1336 - dice_coef: 0.8668 - iou: 0.7651 - recall: 0.9817 - precision: 0.9618 - val_loss: 0.1576 - val_dice_coef: 0.8283 - val_iou: 0.7081 - val_recall: 0.9691 - val_precision: 0.9531 - lr: 1.0000e-05\n",
      "Epoch 32/40\n",
      "46/46 [==============================] - ETA: 0s - loss: 0.1322 - dice_coef: 0.8673 - iou: 0.7658 - recall: 0.9803 - precision: 0.9627\n",
      "Epoch 32: val_loss did not improve from 0.15764\n",
      "46/46 [==============================] - 13s 289ms/step - loss: 0.1322 - dice_coef: 0.8673 - iou: 0.7658 - recall: 0.9803 - precision: 0.9627 - val_loss: 0.1609 - val_dice_coef: 0.8409 - val_iou: 0.7256 - val_recall: 0.9602 - val_precision: 0.9455 - lr: 1.0000e-05\n",
      "Epoch 33/40\n",
      "46/46 [==============================] - ETA: 0s - loss: 0.1319 - dice_coef: 0.8682 - iou: 0.7673 - recall: 0.9779 - precision: 0.9631\n",
      "Epoch 33: val_loss improved from 0.15764 to 0.15678, saving model to unet_for_skull_stripping.h5\n",
      "46/46 [==============================] - 15s 329ms/step - loss: 0.1319 - dice_coef: 0.8682 - iou: 0.7673 - recall: 0.9779 - precision: 0.9631 - val_loss: 0.1568 - val_dice_coef: 0.8458 - val_iou: 0.7328 - val_recall: 0.9890 - val_precision: 0.9236 - lr: 1.0000e-05\n",
      "Epoch 34/40\n",
      "46/46 [==============================] - ETA: 0s - loss: 0.1294 - dice_coef: 0.8698 - iou: 0.7698 - recall: 0.9803 - precision: 0.9639\n",
      "Epoch 34: val_loss did not improve from 0.15678\n",
      "46/46 [==============================] - 13s 288ms/step - loss: 0.1294 - dice_coef: 0.8698 - iou: 0.7698 - recall: 0.9803 - precision: 0.9639 - val_loss: 0.1655 - val_dice_coef: 0.8427 - val_iou: 0.7286 - val_recall: 0.9983 - val_precision: 0.8953 - lr: 1.0000e-05\n",
      "Epoch 35/40\n",
      "46/46 [==============================] - ETA: 0s - loss: 0.1268 - dice_coef: 0.8730 - iou: 0.7748 - recall: 0.9807 - precision: 0.9676\n",
      "Epoch 35: val_loss improved from 0.15678 to 0.15590, saving model to unet_for_skull_stripping.h5\n",
      "46/46 [==============================] - 15s 329ms/step - loss: 0.1268 - dice_coef: 0.8730 - iou: 0.7748 - recall: 0.9807 - precision: 0.9676 - val_loss: 0.1559 - val_dice_coef: 0.8414 - val_iou: 0.7262 - val_recall: 0.9922 - val_precision: 0.9237 - lr: 1.0000e-05\n",
      "Epoch 36/40\n",
      "46/46 [==============================] - ETA: 0s - loss: 0.1271 - dice_coef: 0.8726 - iou: 0.7742 - recall: 0.9792 - precision: 0.9647\n",
      "Epoch 36: val_loss did not improve from 0.15590\n",
      "46/46 [==============================] - 13s 288ms/step - loss: 0.1271 - dice_coef: 0.8726 - iou: 0.7742 - recall: 0.9792 - precision: 0.9647 - val_loss: 0.1591 - val_dice_coef: 0.8414 - val_iou: 0.7262 - val_recall: 0.9506 - val_precision: 0.9535 - lr: 1.0000e-05\n",
      "Epoch 37/40\n",
      "46/46 [==============================] - ETA: 0s - loss: 0.1258 - dice_coef: 0.8719 - iou: 0.7735 - recall: 0.9792 - precision: 0.9649\n",
      "Epoch 37: val_loss improved from 0.15590 to 0.15104, saving model to unet_for_skull_stripping.h5\n",
      "46/46 [==============================] - 15s 334ms/step - loss: 0.1258 - dice_coef: 0.8719 - iou: 0.7735 - recall: 0.9792 - precision: 0.9649 - val_loss: 0.1510 - val_dice_coef: 0.8419 - val_iou: 0.7273 - val_recall: 0.9760 - val_precision: 0.9478 - lr: 1.0000e-05\n",
      "Epoch 38/40\n",
      "46/46 [==============================] - ETA: 0s - loss: 0.1267 - dice_coef: 0.8731 - iou: 0.7750 - recall: 0.9760 - precision: 0.9624\n",
      "Epoch 38: val_loss did not improve from 0.15104\n",
      "46/46 [==============================] - 13s 290ms/step - loss: 0.1267 - dice_coef: 0.8731 - iou: 0.7750 - recall: 0.9760 - precision: 0.9624 - val_loss: 0.1527 - val_dice_coef: 0.8478 - val_iou: 0.7358 - val_recall: 0.9964 - val_precision: 0.9156 - lr: 1.0000e-05\n",
      "Epoch 39/40\n",
      "46/46 [==============================] - ETA: 0s - loss: 0.1229 - dice_coef: 0.8771 - iou: 0.7814 - recall: 0.9793 - precision: 0.9675\n",
      "Epoch 39: val_loss did not improve from 0.15104\n",
      "46/46 [==============================] - 13s 287ms/step - loss: 0.1229 - dice_coef: 0.8771 - iou: 0.7814 - recall: 0.9793 - precision: 0.9675 - val_loss: 0.1641 - val_dice_coef: 0.8344 - val_iou: 0.7159 - val_recall: 0.9991 - val_precision: 0.8828 - lr: 1.0000e-05\n",
      "Epoch 40/40\n",
      "46/46 [==============================] - ETA: 0s - loss: 0.1209 - dice_coef: 0.8794 - iou: 0.7849 - recall: 0.9808 - precision: 0.9683\n",
      "Epoch 40: val_loss improved from 0.15104 to 0.14483, saving model to unet_for_skull_stripping.h5\n",
      "46/46 [==============================] - 15s 330ms/step - loss: 0.1209 - dice_coef: 0.8794 - iou: 0.7849 - recall: 0.9808 - precision: 0.9683 - val_loss: 0.1448 - val_dice_coef: 0.8485 - val_iou: 0.7371 - val_recall: 0.9781 - val_precision: 0.9531 - lr: 1.0000e-05\n"
     ]
    },
    {
     "data": {
      "text/plain": [
       "<keras.callbacks.History at 0x7c3d23151f60>"
      ]
     },
     "execution_count": 17,
     "metadata": {},
     "output_type": "execute_result"
    }
   ],
   "source": [
    "#training\n",
    "model.fit(\n",
    "    train_dataset,\n",
    "    epochs=40,\n",
    "    validation_data=test_dataset, \n",
    "    callbacks=Callbacks\n",
    "    )"
   ]
  },
  {
   "cell_type": "markdown",
   "id": "38395ee7",
   "metadata": {
    "papermill": {
     "duration": 0.166041,
     "end_time": "2023-06-22T16:56:51.824154",
     "exception": false,
     "start_time": "2023-06-22T16:56:51.658113",
     "status": "completed"
    },
    "tags": []
   },
   "source": [
    "## Load the model"
   ]
  },
  {
   "cell_type": "code",
   "execution_count": 18,
   "id": "2aca2f30",
   "metadata": {
    "execution": {
     "iopub.execute_input": "2023-06-22T16:56:52.159554Z",
     "iopub.status.busy": "2023-06-22T16:56:52.159144Z",
     "iopub.status.idle": "2023-06-22T16:56:55.580264Z",
     "shell.execute_reply": "2023-06-22T16:56:55.579189Z"
    },
    "papermill": {
     "duration": 3.590476,
     "end_time": "2023-06-22T16:56:55.582891",
     "exception": false,
     "start_time": "2023-06-22T16:56:51.992415",
     "status": "completed"
    },
    "tags": []
   },
   "outputs": [],
   "source": [
    "with CustomObjectScope({'iou':iou, 'dice_coef':dice_coef, 'dice_loss':dice_loss}):\n",
    "    model = tf.keras.models.load_model(\"/kaggle/working/unet_for_skull_stripping.h5\")"
   ]
  },
  {
   "cell_type": "code",
   "execution_count": 19,
   "id": "6feb9829",
   "metadata": {
    "execution": {
     "iopub.execute_input": "2023-06-22T16:56:55.972792Z",
     "iopub.status.busy": "2023-06-22T16:56:55.971718Z",
     "iopub.status.idle": "2023-06-22T16:56:55.976839Z",
     "shell.execute_reply": "2023-06-22T16:56:55.976001Z"
    },
    "papermill": {
     "duration": 0.228723,
     "end_time": "2023-06-22T16:56:55.978955",
     "exception": false,
     "start_time": "2023-06-22T16:56:55.750232",
     "status": "completed"
    },
    "tags": []
   },
   "outputs": [],
   "source": [
    "path = \"/kaggle/working/predicted\"\n",
    "create_dir(path)"
   ]
  },
  {
   "cell_type": "markdown",
   "id": "6a0a8d18",
   "metadata": {
    "papermill": {
     "duration": 0.165671,
     "end_time": "2023-06-22T16:56:56.316278",
     "exception": false,
     "start_time": "2023-06-22T16:56:56.150607",
     "status": "completed"
    },
    "tags": []
   },
   "source": [
    "## prediction"
   ]
  },
  {
   "cell_type": "code",
   "execution_count": 20,
   "id": "e64e5e1b",
   "metadata": {
    "execution": {
     "iopub.execute_input": "2023-06-22T16:56:56.649413Z",
     "iopub.status.busy": "2023-06-22T16:56:56.649036Z",
     "iopub.status.idle": "2023-06-22T16:57:00.193129Z",
     "shell.execute_reply": "2023-06-22T16:57:00.192044Z"
    },
    "papermill": {
     "duration": 3.713609,
     "end_time": "2023-06-22T16:57:00.195553",
     "exception": false,
     "start_time": "2023-06-22T16:56:56.481944",
     "status": "completed"
    },
    "tags": []
   },
   "outputs": [
    {
     "name": "stderr",
     "output_type": "stream",
     "text": [
      "  0%|          | 0/22 [00:00<?, ?it/s]"
     ]
    },
    {
     "name": "stdout",
     "output_type": "stream",
     "text": [
      "1/1 [==============================] - 2s 2s/step\n"
     ]
    },
    {
     "name": "stderr",
     "output_type": "stream",
     "text": [
      "  5%|▍         | 1/22 [00:01<00:33,  1.60s/it]"
     ]
    },
    {
     "name": "stdout",
     "output_type": "stream",
     "text": [
      "(256, 256, 3) (256, 256, 1) (256, 256, 1)\n",
      "1/1 [==============================] - 0s 22ms/step\n",
      "(256, 256, 3) (256, 256, 1) (256, 256, 1)\n",
      "1/1 [==============================] - 0s 22ms/step\n"
     ]
    },
    {
     "name": "stderr",
     "output_type": "stream",
     "text": [
      " 14%|█▎        | 3/22 [00:01<00:09,  2.10it/s]"
     ]
    },
    {
     "name": "stdout",
     "output_type": "stream",
     "text": [
      "(256, 256, 3) (256, 256, 1) (256, 256, 1)\n",
      "1/1 [==============================] - 0s 21ms/step\n"
     ]
    },
    {
     "name": "stderr",
     "output_type": "stream",
     "text": [
      " 18%|█▊        | 4/22 [00:02<00:07,  2.36it/s]"
     ]
    },
    {
     "name": "stdout",
     "output_type": "stream",
     "text": [
      "(256, 256, 3) (256, 256, 1) (256, 256, 1)\n",
      "1/1 [==============================] - 0s 20ms/step\n",
      "(256, 256, 3) (256, 256, 1) (256, 256, 1)\n",
      "1/1 [==============================] - 0s 21ms/step\n"
     ]
    },
    {
     "name": "stderr",
     "output_type": "stream",
     "text": [
      " 27%|██▋       | 6/22 [00:02<00:04,  3.98it/s]"
     ]
    },
    {
     "name": "stdout",
     "output_type": "stream",
     "text": [
      "(256, 256, 3) (256, 256, 1) (256, 256, 1)\n",
      "1/1 [==============================] - 0s 20ms/step\n",
      "(256, 256, 3) (256, 256, 1) (256, 256, 1)\n",
      "1/1 [==============================] - 0s 20ms/step\n"
     ]
    },
    {
     "name": "stderr",
     "output_type": "stream",
     "text": [
      " 36%|███▋      | 8/22 [00:02<00:02,  5.62it/s]"
     ]
    },
    {
     "name": "stdout",
     "output_type": "stream",
     "text": [
      "(256, 256, 3) (256, 256, 1) (256, 256, 1)\n",
      "1/1 [==============================] - 0s 21ms/step\n",
      "(256, 256, 3) (256, 256, 1) (256, 256, 1)\n",
      "1/1 [==============================] - 0s 21ms/step\n"
     ]
    },
    {
     "name": "stderr",
     "output_type": "stream",
     "text": [
      " 45%|████▌     | 10/22 [00:02<00:01,  7.12it/s]"
     ]
    },
    {
     "name": "stdout",
     "output_type": "stream",
     "text": [
      "(256, 256, 3) (256, 256, 1) (256, 256, 1)\n",
      "1/1 [==============================] - 0s 21ms/step\n",
      "(256, 256, 3) (256, 256, 1) (256, 256, 1)\n",
      "1/1 [==============================] - 0s 20ms/step\n"
     ]
    },
    {
     "name": "stderr",
     "output_type": "stream",
     "text": [
      " 55%|█████▍    | 12/22 [00:02<00:01,  8.36it/s]"
     ]
    },
    {
     "name": "stdout",
     "output_type": "stream",
     "text": [
      "(256, 256, 3) (256, 256, 1) (256, 256, 1)\n",
      "1/1 [==============================] - 0s 20ms/step\n",
      "(256, 256, 3) (256, 256, 1) (256, 256, 1)\n",
      "1/1 [==============================] - 0s 23ms/step\n"
     ]
    },
    {
     "name": "stderr",
     "output_type": "stream",
     "text": [
      " 64%|██████▎   | 14/22 [00:02<00:00,  9.38it/s]"
     ]
    },
    {
     "name": "stdout",
     "output_type": "stream",
     "text": [
      "(256, 256, 3) (256, 256, 1) (256, 256, 1)\n",
      "1/1 [==============================] - 0s 23ms/step\n",
      "(256, 256, 3) (256, 256, 1) (256, 256, 1)\n",
      "1/1 [==============================] - 0s 21ms/step\n"
     ]
    },
    {
     "name": "stderr",
     "output_type": "stream",
     "text": [
      " 73%|███████▎  | 16/22 [00:03<00:00, 10.24it/s]"
     ]
    },
    {
     "name": "stdout",
     "output_type": "stream",
     "text": [
      "(256, 256, 3) (256, 256, 1) (256, 256, 1)\n",
      "1/1 [==============================] - 0s 21ms/step\n",
      "(256, 256, 3) (256, 256, 1) (256, 256, 1)\n",
      "1/1 [==============================] - 0s 21ms/step\n"
     ]
    },
    {
     "name": "stderr",
     "output_type": "stream",
     "text": [
      " 82%|████████▏ | 18/22 [00:03<00:00, 10.81it/s]"
     ]
    },
    {
     "name": "stdout",
     "output_type": "stream",
     "text": [
      "(256, 256, 3) (256, 256, 1) (256, 256, 1)\n",
      "1/1 [==============================] - 0s 20ms/step\n",
      "(256, 256, 3) (256, 256, 1) (256, 256, 1)\n",
      "1/1 [==============================] - 0s 26ms/step\n"
     ]
    },
    {
     "name": "stderr",
     "output_type": "stream",
     "text": [
      " 91%|█████████ | 20/22 [00:03<00:00, 11.09it/s]"
     ]
    },
    {
     "name": "stdout",
     "output_type": "stream",
     "text": [
      "(256, 256, 3) (256, 256, 1) (256, 256, 1)\n",
      "1/1 [==============================] - 0s 21ms/step\n",
      "(256, 256, 3) (256, 256, 1) (256, 256, 1)\n",
      "1/1 [==============================] - 0s 22ms/step\n"
     ]
    },
    {
     "name": "stderr",
     "output_type": "stream",
     "text": [
      "100%|██████████| 22/22 [00:03<00:00,  6.23it/s]"
     ]
    },
    {
     "name": "stdout",
     "output_type": "stream",
     "text": [
      "(256, 256, 3) (256, 256, 1) (256, 256, 1)\n"
     ]
    },
    {
     "name": "stderr",
     "output_type": "stream",
     "text": [
      "\n"
     ]
    }
   ],
   "source": [
    "for img, msk in tqdm(zip(test_image, test_masks), total=len(test_image)):\n",
    "    image_name = img.split(\"/\")[-1]\n",
    "\n",
    "    ori_x = cv2.imread(img, cv2.IMREAD_COLOR)\n",
    "    ori_x = cv2.resize(ori_x, (W,H))\n",
    "    x = ori_x / 255.0\n",
    "    x = x.astype(np.float32)\n",
    "    x = np.expand_dims(x, axis=0)\n",
    "\n",
    "    ori_y = cv2.imread(msk, cv2.IMREAD_GRAYSCALE)\n",
    "    ori_y = cv2.resize(ori_y, (W,H))\n",
    "    ori_y = np.expand_dims(ori_y, axis=-1)\n",
    "\n",
    "    y_pred = model.predict(x)[0] > 0.5  \n",
    "    y_pred = y_pred.astype(np.int32)\n",
    "    y_pred = y_pred.reshape(256, 256, 1)\n",
    "\n",
    "    print(ori_x.shape, ori_y.shape, y_pred.shape)\n",
    "    save_image_path = f\"/kaggle/working/predicted/{image_name}\"\n",
    "\n",
    "    sep_line = np.ones((H, 10, 3)) * 255\n",
    "    cat_image = np.concatenate([ori_y, y_pred*255], axis=1)\n",
    "    cv2.imwrite(save_image_path, cat_image)\n",
    "     \n"
   ]
  },
  {
   "cell_type": "code",
   "execution_count": 21,
   "id": "f7f34eb8",
   "metadata": {
    "execution": {
     "iopub.execute_input": "2023-06-22T16:57:00.556789Z",
     "iopub.status.busy": "2023-06-22T16:57:00.556137Z",
     "iopub.status.idle": "2023-06-22T16:57:00.863145Z",
     "shell.execute_reply": "2023-06-22T16:57:00.862196Z"
    },
    "papermill": {
     "duration": 0.48365,
     "end_time": "2023-06-22T16:57:00.865189",
     "exception": false,
     "start_time": "2023-06-22T16:57:00.381539",
     "status": "completed"
    },
    "tags": []
   },
   "outputs": [
    {
     "data": {
      "text/plain": [
       "<matplotlib.image.AxesImage at 0x7c3d10266bf0>"
      ]
     },
     "execution_count": 21,
     "metadata": {},
     "output_type": "execute_result"
    },
    {
     "data": {
      "image/png": "[encoded data removed]",
      "text/plain": [
       "<Figure size 640x480 with 1 Axes>"
      ]
     },
     "metadata": {},
     "output_type": "display_data"
    }
   ],
   "source": [
    "i = \"/kaggle/working/predicted/8.png\"\n",
    "i = cv2.imread(i, cv2.IMREAD_GRAYSCALE)\n",
    "plt.imshow(i)"
   ]
  },
  {
   "cell_type": "code",
   "execution_count": 22,
   "id": "e2bd8436",
   "metadata": {
    "execution": {
     "iopub.execute_input": "2023-06-22T16:57:01.222282Z",
     "iopub.status.busy": "2023-06-22T16:57:01.221937Z",
     "iopub.status.idle": "2023-06-22T16:57:01.227261Z",
     "shell.execute_reply": "2023-06-22T16:57:01.226241Z"
    },
    "papermill": {
     "duration": 0.181162,
     "end_time": "2023-06-22T16:57:01.229402",
     "exception": false,
     "start_time": "2023-06-22T16:57:01.048240",
     "status": "completed"
    },
    "tags": []
   },
   "outputs": [],
   "source": [
    "t_path = \"/kaggle/working/\"\n",
    "image_folder = sorted(glob(os.path.join(t_path, \"predicted/*\")))"
   ]
  },
  {
   "cell_type": "markdown",
   "id": "e2591103",
   "metadata": {
    "papermill": {
     "duration": 0.182592,
     "end_time": "2023-06-22T16:57:01.585038",
     "exception": false,
     "start_time": "2023-06-22T16:57:01.402446",
     "status": "completed"
    },
    "tags": []
   },
   "source": [
    "## Visualize Prediction"
   ]
  },
  {
   "cell_type": "code",
   "execution_count": 23,
   "id": "b142b819",
   "metadata": {
    "execution": {
     "iopub.execute_input": "2023-06-22T16:57:01.946028Z",
     "iopub.status.busy": "2023-06-22T16:57:01.945095Z",
     "iopub.status.idle": "2023-06-22T16:57:02.614215Z",
     "shell.execute_reply": "2023-06-22T16:57:02.613190Z"
    },
    "papermill": {
     "duration": 0.853391,
     "end_time": "2023-06-22T16:57:02.616708",
     "exception": false,
     "start_time": "2023-06-22T16:57:01.763317",
     "status": "completed"
    },
    "tags": []
   },
   "outputs": [
    {
     "data": {
      "image/png": "[encoded data removed]",
      "text/plain": [
       "<Figure size 2000x500 with 10 Axes>"
      ]
     },
     "metadata": {},
     "output_type": "display_data"
    }
   ],
   "source": [
    "rows = 2\n",
    "columns = 5\n",
    "\n",
    "# Create a figure and axis objects\n",
    "fig, axes = plt.subplots(rows, columns, figsize=(20, 5))\n",
    "\n",
    "# Flatten the axes array to iterate through it easily\n",
    "axes = axes.flatten()\n",
    "\n",
    "# Loop through the images and display them\n",
    "for i, ax in enumerate(axes):\n",
    "    # Check if there are more images than needed for the grid\n",
    "    if i < len(image_folder):\n",
    "        # Read the image file\n",
    "        image = mpimg.imread(image_folder[i])\n",
    "        # Display the image\n",
    "        ax.imshow(image)\n",
    "        ax.axis(\"off\")\n",
    "    else:\n",
    "        # If there are no more images, hide the remaining axes\n",
    "        ax.axis(\"off\")\n",
    "\n",
    "# Adjust the spacing between the subplots\n",
    "plt.tight_layout()\n",
    "\n",
    "# Show the plot\n",
    "plt.show()\n"
   ]
  },
  {
   "cell_type": "code",
   "execution_count": null,
   "id": "f14e0515",
   "metadata": {
    "papermill": {
     "duration": 0.221793,
     "end_time": "2023-06-22T16:57:03.031528",
     "exception": false,
     "start_time": "2023-06-22T16:57:02.809735",
     "status": "completed"
    },
    "tags": []
   },
   "outputs": [],
   "source": []
  }
 ],
 "metadata": {
  "kernelspec": {
   "display_name": "Python 3",
   "language": "python",
   "name": "python3"
  },
  "language_info": {
   "codemirror_mode": {
    "name": "ipython",
    "version": 3
   },
   "file_extension": ".py",
   "mimetype": "text/x-python",
   "name": "python",
   "nbconvert_exporter": "python",
   "pygments_lexer": "ipython3",
   "version": "3.10.10"
  },
  "papermill": {
   "default_parameters": {},
   "duration": 765.37563,
   "end_time": "2023-06-22T16:57:06.490737",
   "environment_variables": {},
   "exception": null,
   "input_path": "__notebook__.ipynb",
   "output_path": "__notebook__.ipynb",
   "parameters": {},
   "start_time": "2023-06-22T16:44:21.115107",
   "version": "2.4.0"
  }
 },
 "nbformat": 4,
 "nbformat_minor": 5
}
