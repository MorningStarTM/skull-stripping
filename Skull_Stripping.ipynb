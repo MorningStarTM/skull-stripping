{
  "nbformat": 4,
  "nbformat_minor": 0,
  "metadata": {
    "colab": {
      "provenance": [],
      "gpuType": "T4",
      "mount_file_id": "11RZAPHbtPdgVdD-0TDvrDiKQXp5PM8P_",
      "authorship_tag": "ABX9TyNL9icTPgI5j+xteLHDlYiT",
      "include_colab_link": true
    },
    "kernelspec": {
      "name": "python3",
      "display_name": "Python 3"
    },
    "language_info": {
      "name": "python"
    },
    "accelerator": "GPU",
    "gpuClass": "standard"
  },
  "cells": [
    {
      "cell_type": "markdown",
      "metadata": {
        "id": "view-in-github",
        "colab_type": "text"
      },
      "source": [
        "<a href=\"https://colab.research.google.com/github/MorningStarTM/skull-stripping/blob/main/Skull_Stripping.ipynb\" target=\"_parent\"><img src=\"https://colab.research.google.com/assets/colab-badge.svg\" alt=\"Open In Colab\"/></a>"
      ]
    },
    {
      "cell_type": "code",
      "execution_count": 90,
      "metadata": {
        "id": "LU9BntwJG9GS"
      },
      "outputs": [],
      "source": [
        "import os\n",
        "import cv2\n",
        "import numpy as np\n",
        "import matplotlib.pyplot as plt\n",
        "import tensorflow as tf\n",
        "from glob import glob\n",
        "from tqdm import tqdm\n",
        "from tensorflow.keras.models import Model, load_model\n",
        "from sklearn.model_selection import train_test_split\n",
        "from tensorflow.keras.layers import Conv2D, Flatten, Dense, Conv2DTranspose, MaxPool2D, ReLU, Input, BatchNormalization, Concatenate, Lambda, Activation, Dropout\n",
        "from tensorflow.keras.optimizers import Adam\n",
        "from tensorflow.keras.metrics import Recall, Precision\n",
        "from tensorflow.keras.callbacks import ModelCheckpoint, CSVLogger, ReduceLROnPlateau"
      ]
    },
    {
      "cell_type": "code",
      "source": [
        "#Global variable\n",
        "BATCH_SIZE = 16\n",
        "W,H = 256, 256\n",
        "CHANNEL = 3\n",
        "lr = 1e-5"
      ],
      "metadata": {
        "id": "o2IUFH_SxuYz"
      },
      "execution_count": 91,
      "outputs": []
    },
    {
      "cell_type": "code",
      "source": [
        "def iou(y_true, y_pred):\n",
        "  def f(y_true, y_pred):\n",
        "    intersection = (y_true * y_pred).sum()\n",
        "    union = y_true.sum() + y_pred.sum() - intersection\n",
        "    x = (intersection + 1e-15) / (union + 1e-15)\n",
        "    x = x.astype(np.float32)\n",
        "    return x\n",
        "  return tf.numpy_function(f, [y_true, y_pred], tf.float32)\n",
        "\n",
        "smooth = 1e-15\n",
        "def dice_coef(y_true, y_pred):\n",
        "  y_true = tf.keras.layers.Flatten()(y_true)\n",
        "  y_pred = tf.keras.layers.Flatten()(y_pred)\n",
        "  intersection = tf.reduce_sum(y_true * y_pred)\n",
        "  return (2. * intersection  + smooth) / (tf.reduce_sum(y_true) + tf.reduce_sum(y_pred) + smooth)\n",
        "\n",
        "def dice_loss(y_true, y_pred):\n",
        "  return 1.0 - dice_coef(y_true, y_pred)"
      ],
      "metadata": {
        "id": "xb6wxXDfmioX"
      },
      "execution_count": 92,
      "outputs": []
    },
    {
      "cell_type": "markdown",
      "source": [
        "# U-NET"
      ],
      "metadata": {
        "id": "-ieAj5PbJSLB"
      }
    },
    {
      "cell_type": "code",
      "source": [
        "def conv_block(input, num_filters):\n",
        "  x = Conv2D(num_filters, 3, padding='same')(input)\n",
        "  x = BatchNormalization()(x)\n",
        "  x = Activation(\"relu\")(x)\n",
        "\n",
        "  return x\n",
        "\n",
        "def encoder_block(input, num_filters):\n",
        "  x = conv_block(input, num_filters)\n",
        "  p = MaxPool2D((2,2))(x)\n",
        "  return x, p\n",
        "\n",
        "def decoder_block(input, skip_features, num_filters):\n",
        "  x = Conv2DTranspose(num_filters, (2,2), strides=2, padding='same')(input)\n",
        "  x = Concatenate()([x, skip_features])\n",
        "  x = conv_block(x, num_filters)\n",
        "  return x\n",
        "\n",
        "def build_unet(input_shape):\n",
        "  inputs = Input(input_shape)\n",
        "\n",
        "  s1, p1 = encoder_block(inputs, 32)\n",
        "  s2, p2 = encoder_block(p1, 64)\n",
        "  s3, p3 = encoder_block(p2, 128)\n",
        "  s4, p4 = encoder_block(p3, 256)\n",
        "  s5, p5 = encoder_block(p4, 512)\n",
        "  s6, p6 = encoder_block(p5, 1024)\n",
        "\n",
        "  b1 = conv_block(p6, 2048)\n",
        "\n",
        "  d1 = decoder_block(b1, s6, 1024)\n",
        "  d2 = decoder_block(d1, s5, 512)\n",
        "  d3 = decoder_block(d2, s4, 256)\n",
        "  d4 = decoder_block(d3, s3, 128)\n",
        "  d5 = decoder_block(d4, s2, 64)\n",
        "  d6 = decoder_block(d5, s1, 32)\n",
        "\n",
        "  outputs = Conv2D(1, 1, padding='same', activation='sigmoid')(d6)\n",
        "\n",
        "  model = Model(inputs, outputs, name='U-Net')\n",
        "  return model"
      ],
      "metadata": {
        "id": "QnGlLW55mMll"
      },
      "execution_count": 93,
      "outputs": []
    },
    {
      "cell_type": "code",
      "source": [
        "inputs_shape = (256,256,3)\n",
        "model = build_unet(inputs_shape)\n",
        "model.summary()"
      ],
      "metadata": {
        "colab": {
          "base_uri": "https://localhost:8080/"
        },
        "id": "efyoTQcAmrM-",
        "outputId": "55284276-6912-46ef-eb56-996f825ee26e"
      },
      "execution_count": 94,
      "outputs": [
        {
          "output_type": "stream",
          "name": "stdout",
          "text": [
            "Model: \"U-Net\"\n",
            "__________________________________________________________________________________________________\n",
            " Layer (type)                   Output Shape         Param #     Connected to                     \n",
            "==================================================================================================\n",
            " input_9 (InputLayer)           [(None, 256, 256, 3  0           []                               \n",
            "                                )]                                                                \n",
            "                                                                                                  \n",
            " conv2d_113 (Conv2D)            (None, 256, 256, 32  896         ['input_9[0][0]']                \n",
            "                                )                                                                 \n",
            "                                                                                                  \n",
            " batch_normalization_55 (BatchN  (None, 256, 256, 32  128        ['conv2d_113[0][0]']             \n",
            " ormalization)                  )                                                                 \n",
            "                                                                                                  \n",
            " activation_55 (Activation)     (None, 256, 256, 32  0           ['batch_normalization_55[0][0]'] \n",
            "                                )                                                                 \n",
            "                                                                                                  \n",
            " max_pooling2d_42 (MaxPooling2D  (None, 128, 128, 32  0          ['activation_55[0][0]']          \n",
            " )                              )                                                                 \n",
            "                                                                                                  \n",
            " conv2d_114 (Conv2D)            (None, 128, 128, 64  18496       ['max_pooling2d_42[0][0]']       \n",
            "                                )                                                                 \n",
            "                                                                                                  \n",
            " batch_normalization_56 (BatchN  (None, 128, 128, 64  256        ['conv2d_114[0][0]']             \n",
            " ormalization)                  )                                                                 \n",
            "                                                                                                  \n",
            " activation_56 (Activation)     (None, 128, 128, 64  0           ['batch_normalization_56[0][0]'] \n",
            "                                )                                                                 \n",
            "                                                                                                  \n",
            " max_pooling2d_43 (MaxPooling2D  (None, 64, 64, 64)  0           ['activation_56[0][0]']          \n",
            " )                                                                                                \n",
            "                                                                                                  \n",
            " conv2d_115 (Conv2D)            (None, 64, 64, 128)  73856       ['max_pooling2d_43[0][0]']       \n",
            "                                                                                                  \n",
            " batch_normalization_57 (BatchN  (None, 64, 64, 128)  512        ['conv2d_115[0][0]']             \n",
            " ormalization)                                                                                    \n",
            "                                                                                                  \n",
            " activation_57 (Activation)     (None, 64, 64, 128)  0           ['batch_normalization_57[0][0]'] \n",
            "                                                                                                  \n",
            " max_pooling2d_44 (MaxPooling2D  (None, 32, 32, 128)  0          ['activation_57[0][0]']          \n",
            " )                                                                                                \n",
            "                                                                                                  \n",
            " conv2d_116 (Conv2D)            (None, 32, 32, 256)  295168      ['max_pooling2d_44[0][0]']       \n",
            "                                                                                                  \n",
            " batch_normalization_58 (BatchN  (None, 32, 32, 256)  1024       ['conv2d_116[0][0]']             \n",
            " ormalization)                                                                                    \n",
            "                                                                                                  \n",
            " activation_58 (Activation)     (None, 32, 32, 256)  0           ['batch_normalization_58[0][0]'] \n",
            "                                                                                                  \n",
            " max_pooling2d_45 (MaxPooling2D  (None, 16, 16, 256)  0          ['activation_58[0][0]']          \n",
            " )                                                                                                \n",
            "                                                                                                  \n",
            " conv2d_117 (Conv2D)            (None, 16, 16, 512)  1180160     ['max_pooling2d_45[0][0]']       \n",
            "                                                                                                  \n",
            " batch_normalization_59 (BatchN  (None, 16, 16, 512)  2048       ['conv2d_117[0][0]']             \n",
            " ormalization)                                                                                    \n",
            "                                                                                                  \n",
            " activation_59 (Activation)     (None, 16, 16, 512)  0           ['batch_normalization_59[0][0]'] \n",
            "                                                                                                  \n",
            " max_pooling2d_46 (MaxPooling2D  (None, 8, 8, 512)   0           ['activation_59[0][0]']          \n",
            " )                                                                                                \n",
            "                                                                                                  \n",
            " conv2d_118 (Conv2D)            (None, 8, 8, 1024)   4719616     ['max_pooling2d_46[0][0]']       \n",
            "                                                                                                  \n",
            " batch_normalization_60 (BatchN  (None, 8, 8, 1024)  4096        ['conv2d_118[0][0]']             \n",
            " ormalization)                                                                                    \n",
            "                                                                                                  \n",
            " activation_60 (Activation)     (None, 8, 8, 1024)   0           ['batch_normalization_60[0][0]'] \n",
            "                                                                                                  \n",
            " max_pooling2d_47 (MaxPooling2D  (None, 4, 4, 1024)  0           ['activation_60[0][0]']          \n",
            " )                                                                                                \n",
            "                                                                                                  \n",
            " conv2d_119 (Conv2D)            (None, 4, 4, 2048)   18876416    ['max_pooling2d_47[0][0]']       \n",
            "                                                                                                  \n",
            " batch_normalization_61 (BatchN  (None, 4, 4, 2048)  8192        ['conv2d_119[0][0]']             \n",
            " ormalization)                                                                                    \n",
            "                                                                                                  \n",
            " activation_61 (Activation)     (None, 4, 4, 2048)   0           ['batch_normalization_61[0][0]'] \n",
            "                                                                                                  \n",
            " conv2d_transpose_33 (Conv2DTra  (None, 8, 8, 1024)  8389632     ['activation_61[0][0]']          \n",
            " nspose)                                                                                          \n",
            "                                                                                                  \n",
            " concatenate_33 (Concatenate)   (None, 8, 8, 2048)   0           ['conv2d_transpose_33[0][0]',    \n",
            "                                                                  'activation_60[0][0]']          \n",
            "                                                                                                  \n",
            " conv2d_120 (Conv2D)            (None, 8, 8, 1024)   18875392    ['concatenate_33[0][0]']         \n",
            "                                                                                                  \n",
            " batch_normalization_62 (BatchN  (None, 8, 8, 1024)  4096        ['conv2d_120[0][0]']             \n",
            " ormalization)                                                                                    \n",
            "                                                                                                  \n",
            " activation_62 (Activation)     (None, 8, 8, 1024)   0           ['batch_normalization_62[0][0]'] \n",
            "                                                                                                  \n",
            " conv2d_transpose_34 (Conv2DTra  (None, 16, 16, 512)  2097664    ['activation_62[0][0]']          \n",
            " nspose)                                                                                          \n",
            "                                                                                                  \n",
            " concatenate_34 (Concatenate)   (None, 16, 16, 1024  0           ['conv2d_transpose_34[0][0]',    \n",
            "                                )                                 'activation_59[0][0]']          \n",
            "                                                                                                  \n",
            " conv2d_121 (Conv2D)            (None, 16, 16, 512)  4719104     ['concatenate_34[0][0]']         \n",
            "                                                                                                  \n",
            " batch_normalization_63 (BatchN  (None, 16, 16, 512)  2048       ['conv2d_121[0][0]']             \n",
            " ormalization)                                                                                    \n",
            "                                                                                                  \n",
            " activation_63 (Activation)     (None, 16, 16, 512)  0           ['batch_normalization_63[0][0]'] \n",
            "                                                                                                  \n",
            " conv2d_transpose_35 (Conv2DTra  (None, 32, 32, 256)  524544     ['activation_63[0][0]']          \n",
            " nspose)                                                                                          \n",
            "                                                                                                  \n",
            " concatenate_35 (Concatenate)   (None, 32, 32, 512)  0           ['conv2d_transpose_35[0][0]',    \n",
            "                                                                  'activation_58[0][0]']          \n",
            "                                                                                                  \n",
            " conv2d_122 (Conv2D)            (None, 32, 32, 256)  1179904     ['concatenate_35[0][0]']         \n",
            "                                                                                                  \n",
            " batch_normalization_64 (BatchN  (None, 32, 32, 256)  1024       ['conv2d_122[0][0]']             \n",
            " ormalization)                                                                                    \n",
            "                                                                                                  \n",
            " activation_64 (Activation)     (None, 32, 32, 256)  0           ['batch_normalization_64[0][0]'] \n",
            "                                                                                                  \n",
            " conv2d_transpose_36 (Conv2DTra  (None, 64, 64, 128)  131200     ['activation_64[0][0]']          \n",
            " nspose)                                                                                          \n",
            "                                                                                                  \n",
            " concatenate_36 (Concatenate)   (None, 64, 64, 256)  0           ['conv2d_transpose_36[0][0]',    \n",
            "                                                                  'activation_57[0][0]']          \n",
            "                                                                                                  \n",
            " conv2d_123 (Conv2D)            (None, 64, 64, 128)  295040      ['concatenate_36[0][0]']         \n",
            "                                                                                                  \n",
            " batch_normalization_65 (BatchN  (None, 64, 64, 128)  512        ['conv2d_123[0][0]']             \n",
            " ormalization)                                                                                    \n",
            "                                                                                                  \n",
            " activation_65 (Activation)     (None, 64, 64, 128)  0           ['batch_normalization_65[0][0]'] \n",
            "                                                                                                  \n",
            " conv2d_transpose_37 (Conv2DTra  (None, 128, 128, 64  32832      ['activation_65[0][0]']          \n",
            " nspose)                        )                                                                 \n",
            "                                                                                                  \n",
            " concatenate_37 (Concatenate)   (None, 128, 128, 12  0           ['conv2d_transpose_37[0][0]',    \n",
            "                                8)                                'activation_56[0][0]']          \n",
            "                                                                                                  \n",
            " conv2d_124 (Conv2D)            (None, 128, 128, 64  73792       ['concatenate_37[0][0]']         \n",
            "                                )                                                                 \n",
            "                                                                                                  \n",
            " batch_normalization_66 (BatchN  (None, 128, 128, 64  256        ['conv2d_124[0][0]']             \n",
            " ormalization)                  )                                                                 \n",
            "                                                                                                  \n",
            " activation_66 (Activation)     (None, 128, 128, 64  0           ['batch_normalization_66[0][0]'] \n",
            "                                )                                                                 \n",
            "                                                                                                  \n",
            " conv2d_transpose_38 (Conv2DTra  (None, 256, 256, 32  8224       ['activation_66[0][0]']          \n",
            " nspose)                        )                                                                 \n",
            "                                                                                                  \n",
            " concatenate_38 (Concatenate)   (None, 256, 256, 64  0           ['conv2d_transpose_38[0][0]',    \n",
            "                                )                                 'activation_55[0][0]']          \n",
            "                                                                                                  \n",
            " conv2d_125 (Conv2D)            (None, 256, 256, 32  18464       ['concatenate_38[0][0]']         \n",
            "                                )                                                                 \n",
            "                                                                                                  \n",
            " batch_normalization_67 (BatchN  (None, 256, 256, 32  128        ['conv2d_125[0][0]']             \n",
            " ormalization)                  )                                                                 \n",
            "                                                                                                  \n",
            " activation_67 (Activation)     (None, 256, 256, 32  0           ['batch_normalization_67[0][0]'] \n",
            "                                )                                                                 \n",
            "                                                                                                  \n",
            " conv2d_126 (Conv2D)            (None, 256, 256, 1)  33          ['activation_67[0][0]']          \n",
            "                                                                                                  \n",
            "==================================================================================================\n",
            "Total params: 61,534,753\n",
            "Trainable params: 61,522,593\n",
            "Non-trainable params: 12,160\n",
            "__________________________________________________________________________________________________\n"
          ]
        }
      ]
    },
    {
      "cell_type": "code",
      "source": [
        "metrics = [dice_coef, iou, Recall(), Precision()]\n",
        "model.compile(loss=dice_loss, optimizer=Adam(lr), metrics=metrics)"
      ],
      "metadata": {
        "id": "zdW44J9EnNV1"
      },
      "execution_count": 95,
      "outputs": []
    },
    {
      "cell_type": "markdown",
      "source": [
        "# Preparing Dataset"
      ],
      "metadata": {
        "id": "pv-3CtwAx5sr"
      }
    },
    {
      "cell_type": "code",
      "source": [
        "model_path = os.path.join(\"/content/drive/MyDrive/CNN_Models\",\"unet_for_skull_stripping.h5\")\n",
        "csv_path = os.path.join(\"/content/drive/MyDrive/DataSet/random\",\"unet_for_skull_stripping.csv\")\n",
        "path = \"/content/drive/MyDrive/DataSet/skull_strpping\"\n",
        "split = 0.1"
      ],
      "metadata": {
        "id": "ME7eeI8Wxn8i"
      },
      "execution_count": 96,
      "outputs": []
    },
    {
      "cell_type": "code",
      "source": [
        "train_path = \"/content/drive/MyDrive/DataSet/skull_strpping/train\"\n",
        "test_path = \"/content/drive/MyDrive/DataSet/skull_strpping/test\""
      ],
      "metadata": {
        "id": "3TGDumOe7IxI"
      },
      "execution_count": 97,
      "outputs": []
    },
    {
      "cell_type": "code",
      "source": [
        "#load dataset\n",
        "def load_data(path, split=0.1):\n",
        "  images = sorted(glob(os.path.join(path, \"image_1/*\")))\n",
        "  masks = sorted(glob(os.path.join(path, \"mask_1/*\")))\n",
        "  \n",
        "  return images, masks"
      ],
      "metadata": {
        "id": "w4DyVdKVyTm0"
      },
      "execution_count": 98,
      "outputs": []
    },
    {
      "cell_type": "code",
      "source": [
        "#process image function\n",
        "def read_img(path):\n",
        "  img = cv2.imread(path, cv2.IMREAD_COLOR)\n",
        "  img = cv2.resize(img, (256, 256))\n",
        "  img = img / 255\n",
        "  img = img.astype(np.float32)\n",
        "  return img\n",
        "\n",
        "#process mask function\n",
        "def read_mask(path):\n",
        "  mask = cv2.imread(path, cv2.IMREAD_GRAYSCALE)\n",
        "  mask = cv2.resize(mask, (256, 256))\n",
        "  mask = mask / 255\n",
        "  mask = np.expand_dims(mask, axis=-1)\n",
        "  mask = mask.astype(np.float32)\n",
        "  return mask"
      ],
      "metadata": {
        "id": "RmKztNRgy2k0"
      },
      "execution_count": 99,
      "outputs": []
    },
    {
      "cell_type": "code",
      "source": [
        "def preprocess(x, y):\n",
        "  def f(x, y):\n",
        "    x = x.decode()\n",
        "    y = y.decode()\n",
        "    \n",
        "    x = read_img(x)\n",
        "    y = read_mask(y)\n",
        "    return x, y\n",
        "\n",
        "  image, mask = tf.numpy_function(f, [x, y], [tf.float32, tf.float32])\n",
        "  image.set_shape([256, 256, 3])\n",
        "  mask.set_shape([256, 256, 1])\n",
        "\n",
        "  return image, mask"
      ],
      "metadata": {
        "id": "dEAxYB25z2mQ"
      },
      "execution_count": 100,
      "outputs": []
    },
    {
      "cell_type": "code",
      "source": [
        "def tf_dataset(x, y, batch=8):\n",
        "  dataset = tf.data.Dataset.from_tensor_slices((x, y))\n",
        "  dataset = dataset.shuffle(buffer_size=1000)\n",
        "  dataset = dataset.map(preprocess)\n",
        "  dataset = dataset.batch(batch)\n",
        "  dataset = dataset.prefetch(2)\n",
        "  return dataset"
      ],
      "metadata": {
        "id": "ih0zaqqX0IjC"
      },
      "execution_count": 101,
      "outputs": []
    },
    {
      "cell_type": "code",
      "source": [
        "train_images, train_masks = load_data(train_path)\n",
        "test_images, test_masks = load_data(test_path)\n",
        "print(f'image: {len(train_images)} - Masks: {len(train_masks)}')\n",
        "print(f'image: {len(test_images)} - Masks: {len(test_masks)}')"
      ],
      "metadata": {
        "colab": {
          "base_uri": "https://localhost:8080/"
        },
        "id": "1NnJsWTI0OF1",
        "outputId": "0cf2304e-154b-4ab5-ce7d-c7e9c4efbe80"
      },
      "execution_count": 102,
      "outputs": [
        {
          "output_type": "stream",
          "name": "stdout",
          "text": [
            "image: 712 - Masks: 712\n",
            "image: 72 - Masks: 72\n"
          ]
        }
      ]
    },
    {
      "cell_type": "code",
      "source": [
        "train_dataset = tf_dataset(train_images, train_masks, batch=BATCH_SIZE)\n",
        "test_dataset = tf_dataset(test_images, test_masks, batch=BATCH_SIZE)"
      ],
      "metadata": {
        "id": "s4407Qxt8a5g"
      },
      "execution_count": 103,
      "outputs": []
    },
    {
      "cell_type": "code",
      "source": [
        "Callbacks = [\n",
        "    ModelCheckpoint(model_path, verbose=1, save_best_only=True), \n",
        "    CSVLogger(csv_path),\n",
        "    ReduceLROnPlateau(monitor='val_loss', factor=0.1, patience=5, min_lr=1e-7, verbose=1)\n",
        "]"
      ],
      "metadata": {
        "id": "5KoIC88f2SbS"
      },
      "execution_count": 104,
      "outputs": []
    },
    {
      "cell_type": "code",
      "source": [
        "model.fit(\n",
        "    train_dataset,\n",
        "    epochs=60,\n",
        "    validation_data=test_dataset, \n",
        "    callbacks=Callbacks\n",
        "    )"
      ],
      "metadata": {
        "colab": {
          "base_uri": "https://localhost:8080/"
        },
        "id": "j_TxQm5-8WEe",
        "outputId": "dc98d73c-4d86-468b-8575-d53b9e875712"
      },
      "execution_count": 105,
      "outputs": [
        {
          "output_type": "stream",
          "name": "stdout",
          "text": [
            "Epoch 1/60\n",
            "45/45 [==============================] - ETA: 0s - loss: 0.6477 - dice_coef: 0.3529 - iou: 0.2148 - recall_7: 0.5700 - precision_7: 0.3215\n",
            "Epoch 1: val_loss improved from inf to 0.69474, saving model to /content/drive/MyDrive/CNN_Models/unet_for_skull_stripping.h5\n",
            "45/45 [==============================] - 41s 583ms/step - loss: 0.6477 - dice_coef: 0.3529 - iou: 0.2148 - recall_7: 0.5700 - precision_7: 0.3215 - val_loss: 0.6947 - val_dice_coef: 0.3057 - val_iou: 0.1805 - val_recall_7: 0.8393 - val_precision_7: 0.2838 - lr: 1.0000e-05\n",
            "Epoch 2/60\n",
            "45/45 [==============================] - ETA: 0s - loss: 0.5433 - dice_coef: 0.4565 - iou: 0.2963 - recall_7: 0.8537 - precision_7: 0.4790\n",
            "Epoch 2: val_loss improved from 0.69474 to 0.68860, saving model to /content/drive/MyDrive/CNN_Models/unet_for_skull_stripping.h5\n",
            "45/45 [==============================] - 22s 479ms/step - loss: 0.5433 - dice_coef: 0.4565 - iou: 0.2963 - recall_7: 0.8537 - precision_7: 0.4790 - val_loss: 0.6886 - val_dice_coef: 0.3104 - val_iou: 0.1838 - val_recall_7: 0.7359 - val_precision_7: 0.3420 - lr: 1.0000e-05\n",
            "Epoch 3/60\n",
            "45/45 [==============================] - ETA: 0s - loss: 0.4612 - dice_coef: 0.5393 - iou: 0.3695 - recall_7: 0.9191 - precision_7: 0.5170\n",
            "Epoch 3: val_loss improved from 0.68860 to 0.67255, saving model to /content/drive/MyDrive/CNN_Models/unet_for_skull_stripping.h5\n",
            "45/45 [==============================] - 30s 660ms/step - loss: 0.4612 - dice_coef: 0.5393 - iou: 0.3695 - recall_7: 0.9191 - precision_7: 0.5170 - val_loss: 0.6725 - val_dice_coef: 0.3256 - val_iou: 0.1945 - val_recall_7: 0.7960 - val_precision_7: 0.5061 - lr: 1.0000e-05\n",
            "Epoch 4/60\n",
            "45/45 [==============================] - ETA: 0s - loss: 0.4036 - dice_coef: 0.5968 - iou: 0.4257 - recall_7: 0.9359 - precision_7: 0.5591\n",
            "Epoch 4: val_loss improved from 0.67255 to 0.64562, saving model to /content/drive/MyDrive/CNN_Models/unet_for_skull_stripping.h5\n",
            "45/45 [==============================] - 35s 782ms/step - loss: 0.4036 - dice_coef: 0.5968 - iou: 0.4257 - recall_7: 0.9359 - precision_7: 0.5591 - val_loss: 0.6456 - val_dice_coef: 0.3580 - val_iou: 0.2181 - val_recall_7: 0.8168 - val_precision_7: 0.6125 - lr: 1.0000e-05\n",
            "Epoch 5/60\n",
            "45/45 [==============================] - ETA: 0s - loss: 0.3634 - dice_coef: 0.6360 - iou: 0.4667 - recall_7: 0.9409 - precision_7: 0.6227\n",
            "Epoch 5: val_loss improved from 0.64562 to 0.62278, saving model to /content/drive/MyDrive/CNN_Models/unet_for_skull_stripping.h5\n",
            "45/45 [==============================] - 29s 645ms/step - loss: 0.3634 - dice_coef: 0.6360 - iou: 0.4667 - recall_7: 0.9409 - precision_7: 0.6227 - val_loss: 0.6228 - val_dice_coef: 0.3783 - val_iou: 0.2333 - val_recall_7: 0.6321 - val_precision_7: 0.8289 - lr: 1.0000e-05\n",
            "Epoch 6/60\n",
            "45/45 [==============================] - ETA: 0s - loss: 0.3321 - dice_coef: 0.6683 - iou: 0.5022 - recall_7: 0.9468 - precision_7: 0.7021\n",
            "Epoch 6: val_loss improved from 0.62278 to 0.55162, saving model to /content/drive/MyDrive/CNN_Models/unet_for_skull_stripping.h5\n",
            "45/45 [==============================] - 26s 572ms/step - loss: 0.3321 - dice_coef: 0.6683 - iou: 0.5022 - recall_7: 0.9468 - precision_7: 0.7021 - val_loss: 0.5516 - val_dice_coef: 0.4509 - val_iou: 0.2912 - val_recall_7: 0.7378 - val_precision_7: 0.8319 - lr: 1.0000e-05\n",
            "Epoch 7/60\n",
            "45/45 [==============================] - ETA: 0s - loss: 0.3063 - dice_coef: 0.6941 - iou: 0.5320 - recall_7: 0.9550 - precision_7: 0.7591\n",
            "Epoch 7: val_loss did not improve from 0.55162\n",
            "45/45 [==============================] - 18s 388ms/step - loss: 0.3063 - dice_coef: 0.6941 - iou: 0.5320 - recall_7: 0.9550 - precision_7: 0.7591 - val_loss: 0.6652 - val_dice_coef: 0.3338 - val_iou: 0.2004 - val_recall_7: 0.0621 - val_precision_7: 0.9399 - lr: 1.0000e-05\n",
            "Epoch 8/60\n",
            "45/45 [==============================] - ETA: 0s - loss: 0.2839 - dice_coef: 0.7160 - iou: 0.5579 - recall_7: 0.9602 - precision_7: 0.8044\n",
            "Epoch 8: val_loss improved from 0.55162 to 0.47420, saving model to /content/drive/MyDrive/CNN_Models/unet_for_skull_stripping.h5\n",
            "45/45 [==============================] - 38s 845ms/step - loss: 0.2839 - dice_coef: 0.7160 - iou: 0.5579 - recall_7: 0.9602 - precision_7: 0.8044 - val_loss: 0.4742 - val_dice_coef: 0.5249 - val_iou: 0.3559 - val_recall_7: 0.6400 - val_precision_7: 0.8651 - lr: 1.0000e-05\n",
            "Epoch 9/60\n",
            "45/45 [==============================] - ETA: 0s - loss: 0.2654 - dice_coef: 0.7346 - iou: 0.5807 - recall_7: 0.9649 - precision_7: 0.8376\n",
            "Epoch 9: val_loss did not improve from 0.47420\n",
            "45/45 [==============================] - 16s 360ms/step - loss: 0.2654 - dice_coef: 0.7346 - iou: 0.5807 - recall_7: 0.9649 - precision_7: 0.8376 - val_loss: 0.4819 - val_dice_coef: 0.5180 - val_iou: 0.3496 - val_recall_7: 0.5694 - val_precision_7: 0.9041 - lr: 1.0000e-05\n",
            "Epoch 10/60\n",
            "45/45 [==============================] - ETA: 0s - loss: 0.2495 - dice_coef: 0.7507 - iou: 0.6012 - recall_7: 0.9696 - precision_7: 0.8663\n",
            "Epoch 10: val_loss did not improve from 0.47420\n",
            "45/45 [==============================] - 16s 350ms/step - loss: 0.2495 - dice_coef: 0.7507 - iou: 0.6012 - recall_7: 0.9696 - precision_7: 0.8663 - val_loss: 0.5370 - val_dice_coef: 0.4638 - val_iou: 0.3019 - val_recall_7: 0.4247 - val_precision_7: 0.9234 - lr: 1.0000e-05\n",
            "Epoch 11/60\n",
            "45/45 [==============================] - ETA: 0s - loss: 0.2381 - dice_coef: 0.7620 - iou: 0.6157 - recall_7: 0.9722 - precision_7: 0.8817\n",
            "Epoch 11: val_loss improved from 0.47420 to 0.39927, saving model to /content/drive/MyDrive/CNN_Models/unet_for_skull_stripping.h5\n",
            "45/45 [==============================] - 30s 669ms/step - loss: 0.2381 - dice_coef: 0.7620 - iou: 0.6157 - recall_7: 0.9722 - precision_7: 0.8817 - val_loss: 0.3993 - val_dice_coef: 0.6044 - val_iou: 0.4334 - val_recall_7: 0.6957 - val_precision_7: 0.8671 - lr: 1.0000e-05\n",
            "Epoch 12/60\n",
            "45/45 [==============================] - ETA: 0s - loss: 0.2283 - dice_coef: 0.7719 - iou: 0.6288 - recall_7: 0.9740 - precision_7: 0.8962\n",
            "Epoch 12: val_loss improved from 0.39927 to 0.39392, saving model to /content/drive/MyDrive/CNN_Models/unet_for_skull_stripping.h5\n",
            "45/45 [==============================] - 29s 650ms/step - loss: 0.2283 - dice_coef: 0.7719 - iou: 0.6288 - recall_7: 0.9740 - precision_7: 0.8962 - val_loss: 0.3939 - val_dice_coef: 0.6063 - val_iou: 0.4354 - val_recall_7: 0.6945 - val_precision_7: 0.8603 - lr: 1.0000e-05\n",
            "Epoch 13/60\n",
            "45/45 [==============================] - ETA: 0s - loss: 0.2188 - dice_coef: 0.7811 - iou: 0.6410 - recall_7: 0.9770 - precision_7: 0.9090\n",
            "Epoch 13: val_loss improved from 0.39392 to 0.35040, saving model to /content/drive/MyDrive/CNN_Models/unet_for_skull_stripping.h5\n",
            "45/45 [==============================] - 32s 714ms/step - loss: 0.2188 - dice_coef: 0.7811 - iou: 0.6410 - recall_7: 0.9770 - precision_7: 0.9090 - val_loss: 0.3504 - val_dice_coef: 0.6494 - val_iou: 0.4812 - val_recall_7: 0.8114 - val_precision_7: 0.8106 - lr: 1.0000e-05\n",
            "Epoch 14/60\n",
            "45/45 [==============================] - ETA: 0s - loss: 0.2132 - dice_coef: 0.7870 - iou: 0.6490 - recall_7: 0.9762 - precision_7: 0.9134\n",
            "Epoch 14: val_loss improved from 0.35040 to 0.32570, saving model to /content/drive/MyDrive/CNN_Models/unet_for_skull_stripping.h5\n",
            "45/45 [==============================] - 30s 674ms/step - loss: 0.2132 - dice_coef: 0.7870 - iou: 0.6490 - recall_7: 0.9762 - precision_7: 0.9134 - val_loss: 0.3257 - val_dice_coef: 0.6722 - val_iou: 0.5066 - val_recall_7: 0.8522 - val_precision_7: 0.8083 - lr: 1.0000e-05\n",
            "Epoch 15/60\n",
            "45/45 [==============================] - ETA: 0s - loss: 0.2069 - dice_coef: 0.7932 - iou: 0.6574 - recall_7: 0.9785 - precision_7: 0.9189\n",
            "Epoch 15: val_loss did not improve from 0.32570\n",
            "45/45 [==============================] - 17s 359ms/step - loss: 0.2069 - dice_coef: 0.7932 - iou: 0.6574 - recall_7: 0.9785 - precision_7: 0.9189 - val_loss: 0.3418 - val_dice_coef: 0.6569 - val_iou: 0.4893 - val_recall_7: 0.7842 - val_precision_7: 0.8274 - lr: 1.0000e-05\n",
            "Epoch 16/60\n",
            "45/45 [==============================] - ETA: 0s - loss: 0.2013 - dice_coef: 0.7990 - iou: 0.6655 - recall_7: 0.9792 - precision_7: 0.9278\n",
            "Epoch 16: val_loss improved from 0.32570 to 0.32026, saving model to /content/drive/MyDrive/CNN_Models/unet_for_skull_stripping.h5\n",
            "45/45 [==============================] - 30s 674ms/step - loss: 0.2013 - dice_coef: 0.7990 - iou: 0.6655 - recall_7: 0.9792 - precision_7: 0.9278 - val_loss: 0.3203 - val_dice_coef: 0.6770 - val_iou: 0.5122 - val_recall_7: 0.8876 - val_precision_7: 0.7417 - lr: 1.0000e-05\n",
            "Epoch 17/60\n",
            "45/45 [==============================] - ETA: 0s - loss: 0.1991 - dice_coef: 0.8008 - iou: 0.6681 - recall_7: 0.9798 - precision_7: 0.9218\n",
            "Epoch 17: val_loss did not improve from 0.32026\n",
            "45/45 [==============================] - 17s 372ms/step - loss: 0.1991 - dice_coef: 0.8008 - iou: 0.6681 - recall_7: 0.9798 - precision_7: 0.9218 - val_loss: 0.3267 - val_dice_coef: 0.6759 - val_iou: 0.5110 - val_recall_7: 0.8462 - val_precision_7: 0.7547 - lr: 1.0000e-05\n",
            "Epoch 18/60\n",
            "45/45 [==============================] - ETA: 0s - loss: 0.1928 - dice_coef: 0.8068 - iou: 0.6764 - recall_7: 0.9814 - precision_7: 0.9345\n",
            "Epoch 18: val_loss improved from 0.32026 to 0.31759, saving model to /content/drive/MyDrive/CNN_Models/unet_for_skull_stripping.h5\n",
            "45/45 [==============================] - 30s 673ms/step - loss: 0.1928 - dice_coef: 0.8068 - iou: 0.6764 - recall_7: 0.9814 - precision_7: 0.9345 - val_loss: 0.3176 - val_dice_coef: 0.6835 - val_iou: 0.5192 - val_recall_7: 0.8650 - val_precision_7: 0.7435 - lr: 1.0000e-05\n",
            "Epoch 19/60\n",
            "45/45 [==============================] - ETA: 0s - loss: 0.1878 - dice_coef: 0.8120 - iou: 0.6837 - recall_7: 0.9831 - precision_7: 0.9414\n",
            "Epoch 19: val_loss did not improve from 0.31759\n",
            "45/45 [==============================] - 19s 410ms/step - loss: 0.1878 - dice_coef: 0.8120 - iou: 0.6837 - recall_7: 0.9831 - precision_7: 0.9414 - val_loss: 0.3264 - val_dice_coef: 0.6774 - val_iou: 0.5128 - val_recall_7: 0.8233 - val_precision_7: 0.7594 - lr: 1.0000e-05\n",
            "Epoch 20/60\n",
            "45/45 [==============================] - ETA: 0s - loss: 0.1851 - dice_coef: 0.8151 - iou: 0.6881 - recall_7: 0.9830 - precision_7: 0.9440\n",
            "Epoch 20: val_loss did not improve from 0.31759\n",
            "45/45 [==============================] - 15s 336ms/step - loss: 0.1851 - dice_coef: 0.8151 - iou: 0.6881 - recall_7: 0.9830 - precision_7: 0.9440 - val_loss: 0.3234 - val_dice_coef: 0.6775 - val_iou: 0.5125 - val_recall_7: 0.8360 - val_precision_7: 0.7457 - lr: 1.0000e-05\n",
            "Epoch 21/60\n",
            "45/45 [==============================] - ETA: 0s - loss: 0.1824 - dice_coef: 0.8178 - iou: 0.6921 - recall_7: 0.9847 - precision_7: 0.9431\n",
            "Epoch 21: val_loss did not improve from 0.31759\n",
            "45/45 [==============================] - 16s 343ms/step - loss: 0.1824 - dice_coef: 0.8178 - iou: 0.6921 - recall_7: 0.9847 - precision_7: 0.9431 - val_loss: 0.3183 - val_dice_coef: 0.6820 - val_iou: 0.5176 - val_recall_7: 0.8250 - val_precision_7: 0.7600 - lr: 1.0000e-05\n",
            "Epoch 22/60\n",
            "45/45 [==============================] - ETA: 0s - loss: 0.1798 - dice_coef: 0.8203 - iou: 0.6955 - recall_7: 0.9827 - precision_7: 0.9475\n",
            "Epoch 22: val_loss improved from 0.31759 to 0.31609, saving model to /content/drive/MyDrive/CNN_Models/unet_for_skull_stripping.h5\n",
            "45/45 [==============================] - 24s 530ms/step - loss: 0.1798 - dice_coef: 0.8203 - iou: 0.6955 - recall_7: 0.9827 - precision_7: 0.9475 - val_loss: 0.3161 - val_dice_coef: 0.6862 - val_iou: 0.5225 - val_recall_7: 0.8477 - val_precision_7: 0.7392 - lr: 1.0000e-05\n",
            "Epoch 23/60\n",
            "45/45 [==============================] - ETA: 0s - loss: 0.1776 - dice_coef: 0.8222 - iou: 0.6984 - recall_7: 0.9836 - precision_7: 0.9467\n",
            "Epoch 23: val_loss did not improve from 0.31609\n",
            "45/45 [==============================] - 18s 388ms/step - loss: 0.1776 - dice_coef: 0.8222 - iou: 0.6984 - recall_7: 0.9836 - precision_7: 0.9467 - val_loss: 0.3193 - val_dice_coef: 0.6830 - val_iou: 0.5194 - val_recall_7: 0.8202 - val_precision_7: 0.7582 - lr: 1.0000e-05\n",
            "Epoch 24/60\n",
            "45/45 [==============================] - ETA: 0s - loss: 0.1759 - dice_coef: 0.8239 - iou: 0.7009 - recall_7: 0.9828 - precision_7: 0.9469\n",
            "Epoch 24: val_loss did not improve from 0.31609\n",
            "45/45 [==============================] - 16s 342ms/step - loss: 0.1759 - dice_coef: 0.8239 - iou: 0.7009 - recall_7: 0.9828 - precision_7: 0.9469 - val_loss: 0.3322 - val_dice_coef: 0.6613 - val_iou: 0.4948 - val_recall_7: 0.7567 - val_precision_7: 0.7944 - lr: 1.0000e-05\n",
            "Epoch 25/60\n",
            "45/45 [==============================] - ETA: 0s - loss: 0.1737 - dice_coef: 0.8263 - iou: 0.7042 - recall_7: 0.9818 - precision_7: 0.9489\n",
            "Epoch 25: val_loss improved from 0.31609 to 0.30973, saving model to /content/drive/MyDrive/CNN_Models/unet_for_skull_stripping.h5\n",
            "45/45 [==============================] - 28s 635ms/step - loss: 0.1737 - dice_coef: 0.8263 - iou: 0.7042 - recall_7: 0.9818 - precision_7: 0.9489 - val_loss: 0.3097 - val_dice_coef: 0.6914 - val_iou: 0.5288 - val_recall_7: 0.8672 - val_precision_7: 0.7214 - lr: 1.0000e-05\n",
            "Epoch 26/60\n",
            "45/45 [==============================] - ETA: 0s - loss: 0.1706 - dice_coef: 0.8290 - iou: 0.7082 - recall_7: 0.9837 - precision_7: 0.9529\n",
            "Epoch 26: val_loss did not improve from 0.30973\n",
            "45/45 [==============================] - 17s 378ms/step - loss: 0.1706 - dice_coef: 0.8290 - iou: 0.7082 - recall_7: 0.9837 - precision_7: 0.9529 - val_loss: 0.3163 - val_dice_coef: 0.6852 - val_iou: 0.5212 - val_recall_7: 0.8156 - val_precision_7: 0.7586 - lr: 1.0000e-05\n",
            "Epoch 27/60\n",
            "45/45 [==============================] - ETA: 0s - loss: 0.1675 - dice_coef: 0.8323 - iou: 0.7130 - recall_7: 0.9848 - precision_7: 0.9565\n",
            "Epoch 27: val_loss did not improve from 0.30973\n",
            "45/45 [==============================] - 16s 345ms/step - loss: 0.1675 - dice_coef: 0.8323 - iou: 0.7130 - recall_7: 0.9848 - precision_7: 0.9565 - val_loss: 0.3137 - val_dice_coef: 0.6852 - val_iou: 0.5217 - val_recall_7: 0.8349 - val_precision_7: 0.7433 - lr: 1.0000e-05\n",
            "Epoch 28/60\n",
            "45/45 [==============================] - ETA: 0s - loss: 0.1656 - dice_coef: 0.8343 - iou: 0.7159 - recall_7: 0.9845 - precision_7: 0.9569\n",
            "Epoch 28: val_loss did not improve from 0.30973\n",
            "45/45 [==============================] - 16s 341ms/step - loss: 0.1656 - dice_coef: 0.8343 - iou: 0.7159 - recall_7: 0.9845 - precision_7: 0.9569 - val_loss: 0.3205 - val_dice_coef: 0.6787 - val_iou: 0.5138 - val_recall_7: 0.7938 - val_precision_7: 0.7685 - lr: 1.0000e-05\n",
            "Epoch 29/60\n",
            "45/45 [==============================] - ETA: 0s - loss: 0.1631 - dice_coef: 0.8367 - iou: 0.7194 - recall_7: 0.9850 - precision_7: 0.9606\n",
            "Epoch 29: val_loss did not improve from 0.30973\n",
            "45/45 [==============================] - 15s 335ms/step - loss: 0.1631 - dice_coef: 0.8367 - iou: 0.7194 - recall_7: 0.9850 - precision_7: 0.9606 - val_loss: 0.3107 - val_dice_coef: 0.6882 - val_iou: 0.5248 - val_recall_7: 0.8308 - val_precision_7: 0.7493 - lr: 1.0000e-05\n",
            "Epoch 30/60\n",
            "45/45 [==============================] - ETA: 0s - loss: 0.1619 - dice_coef: 0.8384 - iou: 0.7219 - recall_7: 0.9850 - precision_7: 0.9606\n",
            "Epoch 30: val_loss improved from 0.30973 to 0.30962, saving model to /content/drive/MyDrive/CNN_Models/unet_for_skull_stripping.h5\n",
            "45/45 [==============================] - 32s 726ms/step - loss: 0.1619 - dice_coef: 0.8384 - iou: 0.7219 - recall_7: 0.9850 - precision_7: 0.9606 - val_loss: 0.3096 - val_dice_coef: 0.6910 - val_iou: 0.5284 - val_recall_7: 0.8449 - val_precision_7: 0.7344 - lr: 1.0000e-05\n",
            "Epoch 31/60\n",
            "45/45 [==============================] - ETA: 0s - loss: 0.1597 - dice_coef: 0.8404 - iou: 0.7249 - recall_7: 0.9862 - precision_7: 0.9614\n",
            "Epoch 31: val_loss did not improve from 0.30962\n",
            "45/45 [==============================] - 17s 379ms/step - loss: 0.1597 - dice_coef: 0.8404 - iou: 0.7249 - recall_7: 0.9862 - precision_7: 0.9614 - val_loss: 0.3181 - val_dice_coef: 0.6835 - val_iou: 0.5195 - val_recall_7: 0.7920 - val_precision_7: 0.7658 - lr: 1.0000e-05\n",
            "Epoch 32/60\n",
            "45/45 [==============================] - ETA: 0s - loss: 0.1590 - dice_coef: 0.8413 - iou: 0.7264 - recall_7: 0.9843 - precision_7: 0.9626\n",
            "Epoch 32: val_loss improved from 0.30962 to 0.30506, saving model to /content/drive/MyDrive/CNN_Models/unet_for_skull_stripping.h5\n",
            "45/45 [==============================] - 30s 661ms/step - loss: 0.1590 - dice_coef: 0.8413 - iou: 0.7264 - recall_7: 0.9843 - precision_7: 0.9626 - val_loss: 0.3051 - val_dice_coef: 0.6943 - val_iou: 0.5320 - val_recall_7: 0.8515 - val_precision_7: 0.7309 - lr: 1.0000e-05\n",
            "Epoch 33/60\n",
            "45/45 [==============================] - ETA: 0s - loss: 0.1569 - dice_coef: 0.8429 - iou: 0.7286 - recall_7: 0.9855 - precision_7: 0.9618\n",
            "Epoch 33: val_loss improved from 0.30506 to 0.30495, saving model to /content/drive/MyDrive/CNN_Models/unet_for_skull_stripping.h5\n",
            "45/45 [==============================] - 30s 671ms/step - loss: 0.1569 - dice_coef: 0.8429 - iou: 0.7286 - recall_7: 0.9855 - precision_7: 0.9618 - val_loss: 0.3049 - val_dice_coef: 0.6976 - val_iou: 0.5361 - val_recall_7: 0.8379 - val_precision_7: 0.7452 - lr: 1.0000e-05\n",
            "Epoch 34/60\n",
            "45/45 [==============================] - ETA: 0s - loss: 0.1571 - dice_coef: 0.8427 - iou: 0.7284 - recall_7: 0.9835 - precision_7: 0.9596\n",
            "Epoch 34: val_loss did not improve from 0.30495\n",
            "45/45 [==============================] - 18s 385ms/step - loss: 0.1571 - dice_coef: 0.8427 - iou: 0.7284 - recall_7: 0.9835 - precision_7: 0.9596 - val_loss: 0.3098 - val_dice_coef: 0.6904 - val_iou: 0.5274 - val_recall_7: 0.7982 - val_precision_7: 0.7705 - lr: 1.0000e-05\n",
            "Epoch 35/60\n",
            "45/45 [==============================] - ETA: 0s - loss: 0.1543 - dice_coef: 0.8458 - iou: 0.7329 - recall_7: 0.9841 - precision_7: 0.9632\n",
            "Epoch 35: val_loss did not improve from 0.30495\n",
            "45/45 [==============================] - 16s 340ms/step - loss: 0.1543 - dice_coef: 0.8458 - iou: 0.7329 - recall_7: 0.9841 - precision_7: 0.9632 - val_loss: 0.3122 - val_dice_coef: 0.6885 - val_iou: 0.5255 - val_recall_7: 0.8131 - val_precision_7: 0.7492 - lr: 1.0000e-05\n",
            "Epoch 36/60\n",
            "45/45 [==============================] - ETA: 0s - loss: 0.1532 - dice_coef: 0.8468 - iou: 0.7345 - recall_7: 0.9844 - precision_7: 0.9633\n",
            "Epoch 36: val_loss did not improve from 0.30495\n",
            "45/45 [==============================] - 16s 343ms/step - loss: 0.1532 - dice_coef: 0.8468 - iou: 0.7345 - recall_7: 0.9844 - precision_7: 0.9633 - val_loss: 0.3061 - val_dice_coef: 0.7001 - val_iou: 0.5399 - val_recall_7: 0.8093 - val_precision_7: 0.7673 - lr: 1.0000e-05\n",
            "Epoch 37/60\n",
            "45/45 [==============================] - ETA: 0s - loss: 0.1513 - dice_coef: 0.8489 - iou: 0.7377 - recall_7: 0.9843 - precision_7: 0.9662\n",
            "Epoch 37: val_loss improved from 0.30495 to 0.30291, saving model to /content/drive/MyDrive/CNN_Models/unet_for_skull_stripping.h5\n",
            "45/45 [==============================] - 32s 708ms/step - loss: 0.1513 - dice_coef: 0.8489 - iou: 0.7377 - recall_7: 0.9843 - precision_7: 0.9662 - val_loss: 0.3029 - val_dice_coef: 0.7004 - val_iou: 0.5397 - val_recall_7: 0.8319 - val_precision_7: 0.7511 - lr: 1.0000e-05\n",
            "Epoch 38/60\n",
            "45/45 [==============================] - ETA: 0s - loss: 0.1498 - dice_coef: 0.8502 - iou: 0.7397 - recall_7: 0.9850 - precision_7: 0.9667\n",
            "Epoch 38: val_loss did not improve from 0.30291\n",
            "45/45 [==============================] - 17s 375ms/step - loss: 0.1498 - dice_coef: 0.8502 - iou: 0.7397 - recall_7: 0.9850 - precision_7: 0.9667 - val_loss: 0.3057 - val_dice_coef: 0.6932 - val_iou: 0.5305 - val_recall_7: 0.8121 - val_precision_7: 0.7631 - lr: 1.0000e-05\n",
            "Epoch 39/60\n",
            "45/45 [==============================] - ETA: 0s - loss: 0.1483 - dice_coef: 0.8517 - iou: 0.7419 - recall_7: 0.9853 - precision_7: 0.9674\n",
            "Epoch 39: val_loss did not improve from 0.30291\n",
            "45/45 [==============================] - 16s 343ms/step - loss: 0.1483 - dice_coef: 0.8517 - iou: 0.7419 - recall_7: 0.9853 - precision_7: 0.9674 - val_loss: 0.3035 - val_dice_coef: 0.7001 - val_iou: 0.5397 - val_recall_7: 0.8247 - val_precision_7: 0.7537 - lr: 1.0000e-05\n",
            "Epoch 40/60\n",
            "45/45 [==============================] - ETA: 0s - loss: 0.1473 - dice_coef: 0.8528 - iou: 0.7436 - recall_7: 0.9850 - precision_7: 0.9673\n",
            "Epoch 40: val_loss did not improve from 0.30291\n",
            "45/45 [==============================] - 16s 341ms/step - loss: 0.1473 - dice_coef: 0.8528 - iou: 0.7436 - recall_7: 0.9850 - precision_7: 0.9673 - val_loss: 0.3038 - val_dice_coef: 0.6948 - val_iou: 0.5326 - val_recall_7: 0.8091 - val_precision_7: 0.7654 - lr: 1.0000e-05\n",
            "Epoch 41/60\n",
            "45/45 [==============================] - ETA: 0s - loss: 0.1452 - dice_coef: 0.8549 - iou: 0.7467 - recall_7: 0.9853 - precision_7: 0.9702\n",
            "Epoch 41: val_loss improved from 0.30291 to 0.30287, saving model to /content/drive/MyDrive/CNN_Models/unet_for_skull_stripping.h5\n",
            "45/45 [==============================] - 31s 694ms/step - loss: 0.1452 - dice_coef: 0.8549 - iou: 0.7467 - recall_7: 0.9853 - precision_7: 0.9702 - val_loss: 0.3029 - val_dice_coef: 0.6966 - val_iou: 0.5346 - val_recall_7: 0.8182 - val_precision_7: 0.7558 - lr: 1.0000e-05\n",
            "Epoch 42/60\n",
            "45/45 [==============================] - ETA: 0s - loss: 0.1452 - dice_coef: 0.8545 - iou: 0.7462 - recall_7: 0.9851 - precision_7: 0.9673\n",
            "Epoch 42: val_loss did not improve from 0.30287\n",
            "\n",
            "Epoch 42: ReduceLROnPlateau reducing learning rate to 9.999999747378752e-07.\n",
            "45/45 [==============================] - 19s 409ms/step - loss: 0.1452 - dice_coef: 0.8545 - iou: 0.7462 - recall_7: 0.9851 - precision_7: 0.9673 - val_loss: 0.3054 - val_dice_coef: 0.6948 - val_iou: 0.5329 - val_recall_7: 0.7872 - val_precision_7: 0.7804 - lr: 1.0000e-05\n",
            "Epoch 43/60\n",
            "45/45 [==============================] - ETA: 0s - loss: 0.1430 - dice_coef: 0.8569 - iou: 0.7498 - recall_7: 0.9855 - precision_7: 0.9721\n",
            "Epoch 43: val_loss improved from 0.30287 to 0.30269, saving model to /content/drive/MyDrive/CNN_Models/unet_for_skull_stripping.h5\n",
            "45/45 [==============================] - 31s 693ms/step - loss: 0.1430 - dice_coef: 0.8569 - iou: 0.7498 - recall_7: 0.9855 - precision_7: 0.9721 - val_loss: 0.3027 - val_dice_coef: 0.6918 - val_iou: 0.5299 - val_recall_7: 0.8176 - val_precision_7: 0.7592 - lr: 1.0000e-06\n",
            "Epoch 44/60\n",
            "45/45 [==============================] - ETA: 0s - loss: 0.1421 - dice_coef: 0.8578 - iou: 0.7513 - recall_7: 0.9864 - precision_7: 0.9750\n",
            "Epoch 44: val_loss improved from 0.30269 to 0.30183, saving model to /content/drive/MyDrive/CNN_Models/unet_for_skull_stripping.h5\n",
            "45/45 [==============================] - 22s 475ms/step - loss: 0.1421 - dice_coef: 0.8578 - iou: 0.7513 - recall_7: 0.9864 - precision_7: 0.9750 - val_loss: 0.3018 - val_dice_coef: 0.6979 - val_iou: 0.5363 - val_recall_7: 0.8210 - val_precision_7: 0.7566 - lr: 1.0000e-06\n",
            "Epoch 45/60\n",
            "45/45 [==============================] - ETA: 0s - loss: 0.1414 - dice_coef: 0.8587 - iou: 0.7527 - recall_7: 0.9873 - precision_7: 0.9768\n",
            "Epoch 45: val_loss improved from 0.30183 to 0.30122, saving model to /content/drive/MyDrive/CNN_Models/unet_for_skull_stripping.h5\n",
            "45/45 [==============================] - 30s 666ms/step - loss: 0.1414 - dice_coef: 0.8587 - iou: 0.7527 - recall_7: 0.9873 - precision_7: 0.9768 - val_loss: 0.3012 - val_dice_coef: 0.6979 - val_iou: 0.5360 - val_recall_7: 0.8279 - val_precision_7: 0.7505 - lr: 1.0000e-06\n",
            "Epoch 46/60\n",
            "45/45 [==============================] - ETA: 0s - loss: 0.1406 - dice_coef: 0.8596 - iou: 0.7540 - recall_7: 0.9883 - precision_7: 0.9770\n",
            "Epoch 46: val_loss did not improve from 0.30122\n",
            "45/45 [==============================] - 17s 380ms/step - loss: 0.1406 - dice_coef: 0.8596 - iou: 0.7540 - recall_7: 0.9883 - precision_7: 0.9770 - val_loss: 0.3023 - val_dice_coef: 0.6940 - val_iou: 0.5323 - val_recall_7: 0.8313 - val_precision_7: 0.7472 - lr: 1.0000e-06\n",
            "Epoch 47/60\n",
            "45/45 [==============================] - ETA: 0s - loss: 0.1402 - dice_coef: 0.8597 - iou: 0.7541 - recall_7: 0.9890 - precision_7: 0.9773\n",
            "Epoch 47: val_loss did not improve from 0.30122\n",
            "45/45 [==============================] - 16s 340ms/step - loss: 0.1402 - dice_coef: 0.8597 - iou: 0.7541 - recall_7: 0.9890 - precision_7: 0.9773 - val_loss: 0.3021 - val_dice_coef: 0.7003 - val_iou: 0.5391 - val_recall_7: 0.8269 - val_precision_7: 0.7500 - lr: 1.0000e-06\n",
            "Epoch 48/60\n",
            "45/45 [==============================] - ETA: 0s - loss: 0.1396 - dice_coef: 0.8603 - iou: 0.7550 - recall_7: 0.9903 - precision_7: 0.9775\n",
            "Epoch 48: val_loss did not improve from 0.30122\n",
            "45/45 [==============================] - 15s 339ms/step - loss: 0.1396 - dice_coef: 0.8603 - iou: 0.7550 - recall_7: 0.9903 - precision_7: 0.9775 - val_loss: 0.3031 - val_dice_coef: 0.6946 - val_iou: 0.5326 - val_recall_7: 0.8177 - val_precision_7: 0.7584 - lr: 1.0000e-06\n",
            "Epoch 49/60\n",
            "45/45 [==============================] - ETA: 0s - loss: 0.1396 - dice_coef: 0.8601 - iou: 0.7547 - recall_7: 0.9887 - precision_7: 0.9788\n",
            "Epoch 49: val_loss did not improve from 0.30122\n",
            "45/45 [==============================] - 16s 344ms/step - loss: 0.1396 - dice_coef: 0.8601 - iou: 0.7547 - recall_7: 0.9887 - precision_7: 0.9788 - val_loss: 0.3019 - val_dice_coef: 0.6994 - val_iou: 0.5380 - val_recall_7: 0.8190 - val_precision_7: 0.7588 - lr: 1.0000e-06\n",
            "Epoch 50/60\n",
            "45/45 [==============================] - ETA: 0s - loss: 0.1400 - dice_coef: 0.8600 - iou: 0.7546 - recall_7: 0.9881 - precision_7: 0.9786\n",
            "Epoch 50: val_loss did not improve from 0.30122\n",
            "\n",
            "Epoch 50: ReduceLROnPlateau reducing learning rate to 1e-07.\n",
            "45/45 [==============================] - 16s 342ms/step - loss: 0.1400 - dice_coef: 0.8600 - iou: 0.7546 - recall_7: 0.9881 - precision_7: 0.9786 - val_loss: 0.3029 - val_dice_coef: 0.6919 - val_iou: 0.5294 - val_recall_7: 0.8211 - val_precision_7: 0.7550 - lr: 1.0000e-06\n",
            "Epoch 51/60\n",
            "45/45 [==============================] - ETA: 0s - loss: 0.1392 - dice_coef: 0.8607 - iou: 0.7557 - recall_7: 0.9894 - precision_7: 0.9803\n",
            "Epoch 51: val_loss did not improve from 0.30122\n",
            "45/45 [==============================] - 16s 342ms/step - loss: 0.1392 - dice_coef: 0.8607 - iou: 0.7557 - recall_7: 0.9894 - precision_7: 0.9803 - val_loss: 0.3023 - val_dice_coef: 0.6963 - val_iou: 0.5341 - val_recall_7: 0.8234 - val_precision_7: 0.7535 - lr: 1.0000e-07\n",
            "Epoch 52/60\n",
            "45/45 [==============================] - ETA: 0s - loss: 0.1391 - dice_coef: 0.8608 - iou: 0.7558 - recall_7: 0.9897 - precision_7: 0.9796\n",
            "Epoch 52: val_loss did not improve from 0.30122\n",
            "45/45 [==============================] - 17s 372ms/step - loss: 0.1391 - dice_coef: 0.8608 - iou: 0.7558 - recall_7: 0.9897 - precision_7: 0.9796 - val_loss: 0.3021 - val_dice_coef: 0.6929 - val_iou: 0.5307 - val_recall_7: 0.8249 - val_precision_7: 0.7530 - lr: 1.0000e-07\n",
            "Epoch 53/60\n",
            "45/45 [==============================] - ETA: 0s - loss: 0.1390 - dice_coef: 0.8607 - iou: 0.7557 - recall_7: 0.9896 - precision_7: 0.9798\n",
            "Epoch 53: val_loss did not improve from 0.30122\n",
            "45/45 [==============================] - 17s 371ms/step - loss: 0.1390 - dice_coef: 0.8607 - iou: 0.7557 - recall_7: 0.9896 - precision_7: 0.9798 - val_loss: 0.3023 - val_dice_coef: 0.6922 - val_iou: 0.5299 - val_recall_7: 0.8255 - val_precision_7: 0.7523 - lr: 1.0000e-07\n",
            "Epoch 54/60\n",
            "45/45 [==============================] - ETA: 0s - loss: 0.1393 - dice_coef: 0.8608 - iou: 0.7558 - recall_7: 0.9893 - precision_7: 0.9796\n",
            "Epoch 54: val_loss did not improve from 0.30122\n",
            "45/45 [==============================] - 16s 345ms/step - loss: 0.1393 - dice_coef: 0.8608 - iou: 0.7558 - recall_7: 0.9893 - precision_7: 0.9796 - val_loss: 0.3018 - val_dice_coef: 0.6962 - val_iou: 0.5341 - val_recall_7: 0.8252 - val_precision_7: 0.7525 - lr: 1.0000e-07\n",
            "Epoch 55/60\n",
            "45/45 [==============================] - ETA: 0s - loss: 0.1395 - dice_coef: 0.8607 - iou: 0.7558 - recall_7: 0.9890 - precision_7: 0.9792\n",
            "Epoch 55: val_loss did not improve from 0.30122\n",
            "45/45 [==============================] - 16s 342ms/step - loss: 0.1395 - dice_coef: 0.8607 - iou: 0.7558 - recall_7: 0.9890 - precision_7: 0.9792 - val_loss: 0.3018 - val_dice_coef: 0.7001 - val_iou: 0.5387 - val_recall_7: 0.8252 - val_precision_7: 0.7525 - lr: 1.0000e-07\n",
            "Epoch 56/60\n",
            "45/45 [==============================] - ETA: 0s - loss: 0.1392 - dice_coef: 0.8608 - iou: 0.7557 - recall_7: 0.9892 - precision_7: 0.9796\n",
            "Epoch 56: val_loss did not improve from 0.30122\n",
            "45/45 [==============================] - 17s 370ms/step - loss: 0.1392 - dice_coef: 0.8608 - iou: 0.7557 - recall_7: 0.9892 - precision_7: 0.9796 - val_loss: 0.3028 - val_dice_coef: 0.6963 - val_iou: 0.5353 - val_recall_7: 0.8261 - val_precision_7: 0.7516 - lr: 1.0000e-07\n",
            "Epoch 57/60\n",
            "45/45 [==============================] - ETA: 0s - loss: 0.1391 - dice_coef: 0.8610 - iou: 0.7561 - recall_7: 0.9895 - precision_7: 0.9801\n",
            "Epoch 57: val_loss did not improve from 0.30122\n",
            "45/45 [==============================] - 17s 365ms/step - loss: 0.1391 - dice_coef: 0.8610 - iou: 0.7561 - recall_7: 0.9895 - precision_7: 0.9801 - val_loss: 0.3026 - val_dice_coef: 0.7008 - val_iou: 0.5400 - val_recall_7: 0.8248 - val_precision_7: 0.7524 - lr: 1.0000e-07\n",
            "Epoch 58/60\n",
            "45/45 [==============================] - ETA: 0s - loss: 0.1389 - dice_coef: 0.8612 - iou: 0.7565 - recall_7: 0.9902 - precision_7: 0.9795\n",
            "Epoch 58: val_loss did not improve from 0.30122\n",
            "45/45 [==============================] - 16s 343ms/step - loss: 0.1389 - dice_coef: 0.8612 - iou: 0.7565 - recall_7: 0.9902 - precision_7: 0.9795 - val_loss: 0.3021 - val_dice_coef: 0.7010 - val_iou: 0.5403 - val_recall_7: 0.8255 - val_precision_7: 0.7524 - lr: 1.0000e-07\n",
            "Epoch 59/60\n",
            "45/45 [==============================] - ETA: 0s - loss: 0.1386 - dice_coef: 0.8615 - iou: 0.7570 - recall_7: 0.9902 - precision_7: 0.9805\n",
            "Epoch 59: val_loss did not improve from 0.30122\n",
            "45/45 [==============================] - 16s 346ms/step - loss: 0.1386 - dice_coef: 0.8615 - iou: 0.7570 - recall_7: 0.9902 - precision_7: 0.9805 - val_loss: 0.3029 - val_dice_coef: 0.7010 - val_iou: 0.5404 - val_recall_7: 0.8254 - val_precision_7: 0.7524 - lr: 1.0000e-07\n",
            "Epoch 60/60\n",
            "45/45 [==============================] - ETA: 0s - loss: 0.1398 - dice_coef: 0.8603 - iou: 0.7552 - recall_7: 0.9893 - precision_7: 0.9784\n",
            "Epoch 60: val_loss did not improve from 0.30122\n",
            "45/45 [==============================] - 16s 348ms/step - loss: 0.1398 - dice_coef: 0.8603 - iou: 0.7552 - recall_7: 0.9893 - precision_7: 0.9784 - val_loss: 0.3020 - val_dice_coef: 0.7006 - val_iou: 0.5396 - val_recall_7: 0.8253 - val_precision_7: 0.7523 - lr: 1.0000e-07\n"
          ]
        },
        {
          "output_type": "execute_result",
          "data": {
            "text/plain": [
              "<keras.callbacks.History at 0x7f7dd47962c0>"
            ]
          },
          "metadata": {},
          "execution_count": 105
        }
      ]
    },
    {
      "cell_type": "code",
      "source": [
        "for img, msk in tqdm(zip(test_images, test_masks), total=len(test_images)):\n",
        "  image_name = img.split(\"/\")[-1]\n",
        "\n",
        "  ori_x = cv2.imread(img, cv2.IMREAD_COLOR)\n",
        "  ori_x = cv2.resize(ori_x, (W,H))\n",
        "  x = ori_x / 255.0\n",
        "  x = x.astype(np.float32)\n",
        "  x = np.expand_dims(x, axis=0)\n",
        "\n",
        "  ori_y = cv2.imread(msk, cv2.IMREAD_GRAYSCALE)\n",
        "  ori_y = cv2.resize(ori_y, (W,H))\n",
        "  ori_y = np.expand_dims(ori_y, axis=-1)\n",
        "  \n",
        "  y_pred = model.predict(x)[0] > 0.5  \n",
        "  y_pred = y_pred.astype(np.int32)\n",
        "  y_pred = y_pred.reshape(256, 256, 1)\n",
        "\n",
        "  print(ori_x.shape, ori_y.shape, y_pred.shape)\n",
        "  save_image_path = f\"/content/predicted/{image_name}\"\n",
        "\n",
        "  sep_line = np.ones((H, 10, 3)) * 255\n",
        "  cat_image = np.concatenate([ori_y, y_pred*255], axis=1)\n",
        "  cv2.imwrite(save_image_path, cat_image)"
      ],
      "metadata": {
        "id": "JoheNcmU8eA_",
        "colab": {
          "base_uri": "https://localhost:8080/"
        },
        "outputId": "e9c84310-a4ed-495c-a4c5-67f1998e1aff"
      },
      "execution_count": 107,
      "outputs": [
        {
          "output_type": "stream",
          "name": "stderr",
          "text": [
            "\r  0%|          | 0/72 [00:00<?, ?it/s]"
          ]
        },
        {
          "output_type": "stream",
          "name": "stdout",
          "text": [
            "1/1 [==============================] - 1s 655ms/step\n"
          ]
        },
        {
          "output_type": "stream",
          "name": "stderr",
          "text": [
            "\r  1%|▏         | 1/72 [00:00<00:50,  1.40it/s]"
          ]
        },
        {
          "output_type": "stream",
          "name": "stdout",
          "text": [
            "(256, 256, 3) (256, 256, 1) (256, 256, 1)\n",
            "1/1 [==============================] - 0s 21ms/step\n",
            "(256, 256, 3) (256, 256, 1) (256, 256, 1)\n",
            "1/1 [==============================] - 0s 25ms/step\n"
          ]
        },
        {
          "output_type": "stream",
          "name": "stderr",
          "text": [
            "\r  4%|▍         | 3/72 [00:00<00:17,  4.03it/s]"
          ]
        },
        {
          "output_type": "stream",
          "name": "stdout",
          "text": [
            "(256, 256, 3) (256, 256, 1) (256, 256, 1)\n",
            "1/1 [==============================] - 0s 24ms/step\n",
            "(256, 256, 3) (256, 256, 1) (256, 256, 1)\n",
            "1/1 [==============================] - 0s 22ms/step\n"
          ]
        },
        {
          "output_type": "stream",
          "name": "stderr",
          "text": [
            "\r  7%|▋         | 5/72 [00:01<00:11,  5.95it/s]"
          ]
        },
        {
          "output_type": "stream",
          "name": "stdout",
          "text": [
            "(256, 256, 3) (256, 256, 1) (256, 256, 1)\n",
            "1/1 [==============================] - 0s 34ms/step\n",
            "(256, 256, 3) (256, 256, 1) (256, 256, 1)\n",
            "1/1 [==============================] - 0s 21ms/step\n",
            "(256, 256, 3) (256, 256, 1) (256, 256, 1)\n"
          ]
        },
        {
          "output_type": "stream",
          "name": "stderr",
          "text": [
            "\r 10%|▉         | 7/72 [00:01<00:08,  7.39it/s]"
          ]
        },
        {
          "output_type": "stream",
          "name": "stdout",
          "text": [
            "1/1 [==============================] - 0s 22ms/step\n",
            "(256, 256, 3) (256, 256, 1) (256, 256, 1)\n",
            "1/1 [==============================] - 0s 22ms/step\n"
          ]
        },
        {
          "output_type": "stream",
          "name": "stderr",
          "text": [
            "\r 12%|█▎        | 9/72 [00:01<00:07,  8.67it/s]"
          ]
        },
        {
          "output_type": "stream",
          "name": "stdout",
          "text": [
            "(256, 256, 3) (256, 256, 1) (256, 256, 1)\n",
            "1/1 [==============================] - 0s 21ms/step\n",
            "(256, 256, 3) (256, 256, 1) (256, 256, 1)\n",
            "1/1 [==============================] - 0s 21ms/step\n"
          ]
        },
        {
          "output_type": "stream",
          "name": "stderr",
          "text": [
            "\r 15%|█▌        | 11/72 [00:01<00:06,  9.38it/s]"
          ]
        },
        {
          "output_type": "stream",
          "name": "stdout",
          "text": [
            "(256, 256, 3) (256, 256, 1) (256, 256, 1)\n",
            "1/1 [==============================] - 0s 20ms/step\n",
            "(256, 256, 3) (256, 256, 1) (256, 256, 1)\n",
            "1/1 [==============================] - 0s 23ms/step\n"
          ]
        },
        {
          "output_type": "stream",
          "name": "stderr",
          "text": [
            "\r 18%|█▊        | 13/72 [00:01<00:05,  9.96it/s]"
          ]
        },
        {
          "output_type": "stream",
          "name": "stdout",
          "text": [
            "(256, 256, 3) (256, 256, 1) (256, 256, 1)\n",
            "1/1 [==============================] - 0s 23ms/step\n",
            "(256, 256, 3) (256, 256, 1) (256, 256, 1)\n",
            "1/1 [==============================] - 0s 20ms/step\n"
          ]
        },
        {
          "output_type": "stream",
          "name": "stderr",
          "text": [
            "\r 21%|██        | 15/72 [00:01<00:05, 10.32it/s]"
          ]
        },
        {
          "output_type": "stream",
          "name": "stdout",
          "text": [
            "(256, 256, 3) (256, 256, 1) (256, 256, 1)\n",
            "1/1 [==============================] - 0s 22ms/step\n",
            "(256, 256, 3) (256, 256, 1) (256, 256, 1)\n",
            "1/1 [==============================] - 0s 20ms/step\n"
          ]
        },
        {
          "output_type": "stream",
          "name": "stderr",
          "text": [
            "\r 24%|██▎       | 17/72 [00:02<00:05, 10.57it/s]"
          ]
        },
        {
          "output_type": "stream",
          "name": "stdout",
          "text": [
            "(256, 256, 3) (256, 256, 1) (256, 256, 1)\n",
            "1/1 [==============================] - 0s 21ms/step\n",
            "(256, 256, 3) (256, 256, 1) (256, 256, 1)\n",
            "1/1 [==============================] - 0s 23ms/step\n"
          ]
        },
        {
          "output_type": "stream",
          "name": "stderr",
          "text": [
            "\r 26%|██▋       | 19/72 [00:02<00:04, 10.75it/s]"
          ]
        },
        {
          "output_type": "stream",
          "name": "stdout",
          "text": [
            "(256, 256, 3) (256, 256, 1) (256, 256, 1)\n",
            "1/1 [==============================] - 0s 20ms/step\n",
            "(256, 256, 3) (256, 256, 1) (256, 256, 1)\n",
            "1/1 [==============================] - 0s 20ms/step\n"
          ]
        },
        {
          "output_type": "stream",
          "name": "stderr",
          "text": [
            "\r 29%|██▉       | 21/72 [00:02<00:04, 10.99it/s]"
          ]
        },
        {
          "output_type": "stream",
          "name": "stdout",
          "text": [
            "(256, 256, 3) (256, 256, 1) (256, 256, 1)\n",
            "1/1 [==============================] - 0s 24ms/step\n",
            "(256, 256, 3) (256, 256, 1) (256, 256, 1)\n",
            "1/1 [==============================] - 0s 22ms/step\n",
            "(256, 256, 3) (256, 256, 1) (256, 256, 1)\n"
          ]
        },
        {
          "output_type": "stream",
          "name": "stderr",
          "text": [
            "\r 32%|███▏      | 23/72 [00:02<00:04, 10.99it/s]"
          ]
        },
        {
          "output_type": "stream",
          "name": "stdout",
          "text": [
            "1/1 [==============================] - 0s 21ms/step\n",
            "(256, 256, 3) (256, 256, 1) (256, 256, 1)\n",
            "1/1 [==============================] - 0s 22ms/step\n"
          ]
        },
        {
          "output_type": "stream",
          "name": "stderr",
          "text": [
            "\r 35%|███▍      | 25/72 [00:02<00:04, 11.04it/s]"
          ]
        },
        {
          "output_type": "stream",
          "name": "stdout",
          "text": [
            "(256, 256, 3) (256, 256, 1) (256, 256, 1)\n",
            "1/1 [==============================] - 0s 24ms/step\n",
            "(256, 256, 3) (256, 256, 1) (256, 256, 1)\n",
            "1/1 [==============================] - 0s 24ms/step\n"
          ]
        },
        {
          "output_type": "stream",
          "name": "stderr",
          "text": [
            "\r 38%|███▊      | 27/72 [00:03<00:04, 10.83it/s]"
          ]
        },
        {
          "output_type": "stream",
          "name": "stdout",
          "text": [
            "(256, 256, 3) (256, 256, 1) (256, 256, 1)\n",
            "1/1 [==============================] - 0s 22ms/step\n",
            "(256, 256, 3) (256, 256, 1) (256, 256, 1)\n",
            "1/1 [==============================] - 0s 21ms/step\n",
            "(256, 256, 3) (256, 256, 1) (256, 256, 1)\n"
          ]
        },
        {
          "output_type": "stream",
          "name": "stderr",
          "text": [
            "\r 40%|████      | 29/72 [00:03<00:04, 10.59it/s]"
          ]
        },
        {
          "output_type": "stream",
          "name": "stdout",
          "text": [
            "1/1 [==============================] - 0s 21ms/step\n",
            "(256, 256, 3) (256, 256, 1) (256, 256, 1)\n",
            "1/1 [==============================] - 0s 23ms/step\n",
            "(256, 256, 3) (256, 256, 1) (256, 256, 1)\n"
          ]
        },
        {
          "output_type": "stream",
          "name": "stderr",
          "text": [
            "\r 43%|████▎     | 31/72 [00:03<00:03, 10.66it/s]"
          ]
        },
        {
          "output_type": "stream",
          "name": "stdout",
          "text": [
            "1/1 [==============================] - 0s 22ms/step\n",
            "(256, 256, 3) (256, 256, 1) (256, 256, 1)\n",
            "1/1 [==============================] - 0s 22ms/step\n",
            "(256, 256, 3) (256, 256, 1) (256, 256, 1)\n"
          ]
        },
        {
          "output_type": "stream",
          "name": "stderr",
          "text": [
            "\r 46%|████▌     | 33/72 [00:03<00:03, 10.75it/s]"
          ]
        },
        {
          "output_type": "stream",
          "name": "stdout",
          "text": [
            "1/1 [==============================] - 0s 21ms/step\n",
            "(256, 256, 3) (256, 256, 1) (256, 256, 1)\n",
            "1/1 [==============================] - 0s 22ms/step\n"
          ]
        },
        {
          "output_type": "stream",
          "name": "stderr",
          "text": [
            "\r 49%|████▊     | 35/72 [00:03<00:03, 10.75it/s]"
          ]
        },
        {
          "output_type": "stream",
          "name": "stdout",
          "text": [
            "(256, 256, 3) (256, 256, 1) (256, 256, 1)\n",
            "1/1 [==============================] - 0s 23ms/step\n",
            "(256, 256, 3) (256, 256, 1) (256, 256, 1)\n",
            "1/1 [==============================] - 0s 22ms/step\n"
          ]
        },
        {
          "output_type": "stream",
          "name": "stderr",
          "text": [
            "\r 51%|█████▏    | 37/72 [00:03<00:03, 10.62it/s]"
          ]
        },
        {
          "output_type": "stream",
          "name": "stdout",
          "text": [
            "(256, 256, 3) (256, 256, 1) (256, 256, 1)\n",
            "1/1 [==============================] - 0s 24ms/step\n",
            "(256, 256, 3) (256, 256, 1) (256, 256, 1)\n",
            "1/1 [==============================] - 0s 22ms/step\n"
          ]
        },
        {
          "output_type": "stream",
          "name": "stderr",
          "text": [
            "\r 54%|█████▍    | 39/72 [00:04<00:03, 10.61it/s]"
          ]
        },
        {
          "output_type": "stream",
          "name": "stdout",
          "text": [
            "(256, 256, 3) (256, 256, 1) (256, 256, 1)\n",
            "1/1 [==============================] - 0s 20ms/step\n",
            "(256, 256, 3) (256, 256, 1) (256, 256, 1)\n",
            "1/1 [==============================] - 0s 26ms/step\n"
          ]
        },
        {
          "output_type": "stream",
          "name": "stderr",
          "text": [
            "\r 57%|█████▋    | 41/72 [00:04<00:03, 10.04it/s]"
          ]
        },
        {
          "output_type": "stream",
          "name": "stdout",
          "text": [
            "(256, 256, 3) (256, 256, 1) (256, 256, 1)\n",
            "1/1 [==============================] - 0s 22ms/step\n",
            "(256, 256, 3) (256, 256, 1) (256, 256, 1)\n",
            "1/1 [==============================] - 0s 21ms/step\n",
            "(256, 256, 3) (256, 256, 1) (256, 256, 1)\n"
          ]
        },
        {
          "output_type": "stream",
          "name": "stderr",
          "text": [
            "\r 60%|█████▉    | 43/72 [00:04<00:02, 10.30it/s]"
          ]
        },
        {
          "output_type": "stream",
          "name": "stdout",
          "text": [
            "1/1 [==============================] - 0s 22ms/step\n",
            "(256, 256, 3) (256, 256, 1) (256, 256, 1)\n",
            "1/1 [==============================] - 0s 23ms/step\n"
          ]
        },
        {
          "output_type": "stream",
          "name": "stderr",
          "text": [
            "\r 62%|██████▎   | 45/72 [00:04<00:02, 10.44it/s]"
          ]
        },
        {
          "output_type": "stream",
          "name": "stdout",
          "text": [
            "(256, 256, 3) (256, 256, 1) (256, 256, 1)\n",
            "1/1 [==============================] - 0s 22ms/step\n",
            "(256, 256, 3) (256, 256, 1) (256, 256, 1)\n",
            "1/1 [==============================] - 0s 22ms/step\n"
          ]
        },
        {
          "output_type": "stream",
          "name": "stderr",
          "text": [
            "\r 65%|██████▌   | 47/72 [00:04<00:02,  9.89it/s]"
          ]
        },
        {
          "output_type": "stream",
          "name": "stdout",
          "text": [
            "(256, 256, 3) (256, 256, 1) (256, 256, 1)\n",
            "1/1 [==============================] - 0s 20ms/step\n"
          ]
        },
        {
          "output_type": "stream",
          "name": "stderr",
          "text": [
            "\r 67%|██████▋   | 48/72 [00:05<00:02,  9.37it/s]"
          ]
        },
        {
          "output_type": "stream",
          "name": "stdout",
          "text": [
            "(256, 256, 3) (256, 256, 1) (256, 256, 1)\n",
            "1/1 [==============================] - 0s 24ms/step\n",
            "(256, 256, 3) (256, 256, 1) (256, 256, 1)\n",
            "1/1 [==============================] - 0s 23ms/step\n"
          ]
        },
        {
          "output_type": "stream",
          "name": "stderr",
          "text": [
            "\r 69%|██████▉   | 50/72 [00:05<00:02,  9.26it/s]"
          ]
        },
        {
          "output_type": "stream",
          "name": "stdout",
          "text": [
            "(256, 256, 3) (256, 256, 1) (256, 256, 1)\n",
            "1/1 [==============================] - 0s 25ms/step\n",
            "(256, 256, 3) (256, 256, 1) (256, 256, 1)\n",
            "1/1 [==============================] - 0s 23ms/step\n"
          ]
        },
        {
          "output_type": "stream",
          "name": "stderr",
          "text": [
            "\r 72%|███████▏  | 52/72 [00:05<00:02,  9.66it/s]"
          ]
        },
        {
          "output_type": "stream",
          "name": "stdout",
          "text": [
            "(256, 256, 3) (256, 256, 1) (256, 256, 1)\n",
            "1/1 [==============================] - 0s 22ms/step\n",
            "(256, 256, 3) (256, 256, 1) (256, 256, 1)\n",
            "1/1 [==============================] - 0s 22ms/step\n"
          ]
        },
        {
          "output_type": "stream",
          "name": "stderr",
          "text": [
            "\r 75%|███████▌  | 54/72 [00:05<00:01,  9.86it/s]"
          ]
        },
        {
          "output_type": "stream",
          "name": "stdout",
          "text": [
            "(256, 256, 3) (256, 256, 1) (256, 256, 1)\n",
            "1/1 [==============================] - 0s 20ms/step\n",
            "(256, 256, 3) (256, 256, 1) (256, 256, 1)\n",
            "1/1 [==============================] - 0s 22ms/step\n"
          ]
        },
        {
          "output_type": "stream",
          "name": "stderr",
          "text": [
            "\r 78%|███████▊  | 56/72 [00:05<00:01,  9.61it/s]"
          ]
        },
        {
          "output_type": "stream",
          "name": "stdout",
          "text": [
            "(256, 256, 3) (256, 256, 1) (256, 256, 1)\n",
            "1/1 [==============================] - 0s 29ms/step\n"
          ]
        },
        {
          "output_type": "stream",
          "name": "stderr",
          "text": [
            "\r 79%|███████▉  | 57/72 [00:06<00:01,  8.77it/s]"
          ]
        },
        {
          "output_type": "stream",
          "name": "stdout",
          "text": [
            "(256, 256, 3) (256, 256, 1) (256, 256, 1)\n",
            "1/1 [==============================] - 0s 29ms/step\n"
          ]
        },
        {
          "output_type": "stream",
          "name": "stderr",
          "text": [
            "\r 81%|████████  | 58/72 [00:06<00:01,  8.72it/s]"
          ]
        },
        {
          "output_type": "stream",
          "name": "stdout",
          "text": [
            "(256, 256, 3) (256, 256, 1) (256, 256, 1)\n",
            "1/1 [==============================] - 0s 33ms/step\n"
          ]
        },
        {
          "output_type": "stream",
          "name": "stderr",
          "text": [
            "\r 82%|████████▏ | 59/72 [00:06<00:01,  8.60it/s]"
          ]
        },
        {
          "output_type": "stream",
          "name": "stdout",
          "text": [
            "(256, 256, 3) (256, 256, 1) (256, 256, 1)\n",
            "1/1 [==============================] - 0s 35ms/step\n"
          ]
        },
        {
          "output_type": "stream",
          "name": "stderr",
          "text": [
            "\r 83%|████████▎ | 60/72 [00:06<00:01,  8.56it/s]"
          ]
        },
        {
          "output_type": "stream",
          "name": "stdout",
          "text": [
            "(256, 256, 3) (256, 256, 1) (256, 256, 1)\n",
            "1/1 [==============================] - 0s 29ms/step\n"
          ]
        },
        {
          "output_type": "stream",
          "name": "stderr",
          "text": [
            "\r 85%|████████▍ | 61/72 [00:06<00:01,  7.96it/s]"
          ]
        },
        {
          "output_type": "stream",
          "name": "stdout",
          "text": [
            "(256, 256, 3) (256, 256, 1) (256, 256, 1)\n",
            "1/1 [==============================] - 0s 29ms/step\n"
          ]
        },
        {
          "output_type": "stream",
          "name": "stderr",
          "text": [
            "\r 86%|████████▌ | 62/72 [00:06<00:01,  7.42it/s]"
          ]
        },
        {
          "output_type": "stream",
          "name": "stdout",
          "text": [
            "(256, 256, 3) (256, 256, 1) (256, 256, 1)\n",
            "1/1 [==============================] - 0s 36ms/step\n"
          ]
        },
        {
          "output_type": "stream",
          "name": "stderr",
          "text": [
            "\r 88%|████████▊ | 63/72 [00:06<00:01,  7.35it/s]"
          ]
        },
        {
          "output_type": "stream",
          "name": "stdout",
          "text": [
            "(256, 256, 3) (256, 256, 1) (256, 256, 1)\n",
            "1/1 [==============================] - 0s 32ms/step\n"
          ]
        },
        {
          "output_type": "stream",
          "name": "stderr",
          "text": [
            "\r 89%|████████▉ | 64/72 [00:07<00:01,  7.02it/s]"
          ]
        },
        {
          "output_type": "stream",
          "name": "stdout",
          "text": [
            "(256, 256, 3) (256, 256, 1) (256, 256, 1)\n",
            "1/1 [==============================] - 0s 31ms/step\n"
          ]
        },
        {
          "output_type": "stream",
          "name": "stderr",
          "text": [
            "\r 90%|█████████ | 65/72 [00:07<00:01,  6.74it/s]"
          ]
        },
        {
          "output_type": "stream",
          "name": "stdout",
          "text": [
            "(256, 256, 3) (256, 256, 1) (256, 256, 1)\n",
            "1/1 [==============================] - 0s 33ms/step\n"
          ]
        },
        {
          "output_type": "stream",
          "name": "stderr",
          "text": [
            "\r 92%|█████████▏| 66/72 [00:07<00:00,  6.62it/s]"
          ]
        },
        {
          "output_type": "stream",
          "name": "stdout",
          "text": [
            "(256, 256, 3) (256, 256, 1) (256, 256, 1)\n",
            "1/1 [==============================] - 0s 33ms/step\n"
          ]
        },
        {
          "output_type": "stream",
          "name": "stderr",
          "text": [
            "\r 93%|█████████▎| 67/72 [00:07<00:00,  6.48it/s]"
          ]
        },
        {
          "output_type": "stream",
          "name": "stdout",
          "text": [
            "(256, 256, 3) (256, 256, 1) (256, 256, 1)\n",
            "1/1 [==============================] - 0s 31ms/step\n"
          ]
        },
        {
          "output_type": "stream",
          "name": "stderr",
          "text": [
            "\r 94%|█████████▍| 68/72 [00:07<00:00,  6.43it/s]"
          ]
        },
        {
          "output_type": "stream",
          "name": "stdout",
          "text": [
            "(256, 256, 3) (256, 256, 1) (256, 256, 1)\n",
            "1/1 [==============================] - 0s 29ms/step\n"
          ]
        },
        {
          "output_type": "stream",
          "name": "stderr",
          "text": [
            "\r 96%|█████████▌| 69/72 [00:07<00:00,  6.93it/s]"
          ]
        },
        {
          "output_type": "stream",
          "name": "stdout",
          "text": [
            "(256, 256, 3) (256, 256, 1) (256, 256, 1)\n",
            "1/1 [==============================] - 0s 29ms/step\n"
          ]
        },
        {
          "output_type": "stream",
          "name": "stderr",
          "text": [
            "\r 97%|█████████▋| 70/72 [00:07<00:00,  6.81it/s]"
          ]
        },
        {
          "output_type": "stream",
          "name": "stdout",
          "text": [
            "(256, 256, 3) (256, 256, 1) (256, 256, 1)\n",
            "1/1 [==============================] - 0s 31ms/step\n"
          ]
        },
        {
          "output_type": "stream",
          "name": "stderr",
          "text": [
            "\r 99%|█████████▊| 71/72 [00:08<00:00,  6.58it/s]"
          ]
        },
        {
          "output_type": "stream",
          "name": "stdout",
          "text": [
            "(256, 256, 3) (256, 256, 1) (256, 256, 1)\n",
            "1/1 [==============================] - 0s 31ms/step\n"
          ]
        },
        {
          "output_type": "stream",
          "name": "stderr",
          "text": [
            "100%|██████████| 72/72 [00:08<00:00,  8.65it/s]"
          ]
        },
        {
          "output_type": "stream",
          "name": "stdout",
          "text": [
            "(256, 256, 3) (256, 256, 1) (256, 256, 1)\n"
          ]
        },
        {
          "output_type": "stream",
          "name": "stderr",
          "text": [
            "\n"
          ]
        }
      ]
    },
    {
      "cell_type": "code",
      "source": [
        "i = \"/content/predicted/2300.png\"\n",
        "i = cv2.imread(i, cv2.IMREAD_GRAYSCALE)\n",
        "plt.imshow(i)"
      ],
      "metadata": {
        "colab": {
          "base_uri": "https://localhost:8080/",
          "height": 330
        },
        "id": "p0n7g2gMFZ6f",
        "outputId": "71bb48dd-1c50-45da-a4d4-9ae07098e29b"
      },
      "execution_count": 112,
      "outputs": [
        {
          "output_type": "execute_result",
          "data": {
            "text/plain": [
              "<matplotlib.image.AxesImage at 0x7f7db82c4400>"
            ]
          },
          "metadata": {},
          "execution_count": 112
        },
        {
          "output_type": "display_data",
          "data": {
            "text/plain": [
              "<Figure size 640x480 with 1 Axes>"
            ],
            "image/png": "[encoded data removed]"
          },
          "metadata": {}
        }
      ]
    },
    {
      "cell_type": "code",
      "source": [],
      "metadata": {
        "id": "gVWZ4vaUORnY"
      },
      "execution_count": null,
      "outputs": []
    }
  ]
}