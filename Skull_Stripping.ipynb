{
  "nbformat": 4,
  "nbformat_minor": 0,
  "metadata": {
    "colab": {
      "provenance": [],
      "gpuType": "T4",
      "mount_file_id": "11RZAPHbtPdgVdD-0TDvrDiKQXp5PM8P_",
      "authorship_tag": "ABX9TyN+TLC5njSW4WMwyHO/LI7O",
      "include_colab_link": true
    },
    "kernelspec": {
      "name": "python3",
      "display_name": "Python 3"
    },
    "language_info": {
      "name": "python"
    },
    "accelerator": "GPU",
    "gpuClass": "standard"
  },
  "cells": [
    {
      "cell_type": "markdown",
      "metadata": {
        "id": "view-in-github",
        "colab_type": "text"
      },
      "source": [
        "<a href=\"https://colab.research.google.com/github/MorningStarTM/skull-stripping/blob/main/Skull_Stripping.ipynb\" target=\"_parent\"><img src=\"https://colab.research.google.com/assets/colab-badge.svg\" alt=\"Open In Colab\"/></a>"
      ]
    },
    {
      "cell_type": "code",
      "execution_count": 33,
      "metadata": {
        "id": "LU9BntwJG9GS"
      },
      "outputs": [],
      "source": [
        "import os\n",
        "import cv2\n",
        "import numpy as np\n",
        "import matplotlib.pyplot as plt\n",
        "import tensorflow as tf\n",
        "from glob import glob\n",
        "from tqdm import tqdm\n",
        "from tensorflow.keras.models import Model, load_model\n",
        "from sklearn.model_selection import train_test_split\n",
        "from tensorflow.keras.layers import Conv2D, Flatten, Dense, Conv2DTranspose, MaxPool2D, ReLU, Input, BatchNormalization, Concatenate, Lambda, Activation, Dropout\n",
        "from tensorflow.keras.optimizers import Adam\n",
        "from tensorflow.keras.metrics import Recall, Precision\n",
        "from tensorflow.keras.callbacks import ModelCheckpoint, CSVLogger, ReduceLROnPlateau"
      ]
    },
    {
      "cell_type": "code",
      "source": [
        "#Global variable\n",
        "BATCH_SIZE = 16\n",
        "W,H = 256, 256\n",
        "CHANNEL = 3\n",
        "lr = 1e-6"
      ],
      "metadata": {
        "id": "o2IUFH_SxuYz"
      },
      "execution_count": 43,
      "outputs": []
    },
    {
      "cell_type": "code",
      "source": [
        "def iou(y_true, y_pred):\n",
        "  def f(y_true, y_pred):\n",
        "    intersection = (y_true * y_pred).sum()\n",
        "    union = y_true.sum() + y_pred.sum() - intersection\n",
        "    x = (intersection + 1e-15) / (union + 1e-15)\n",
        "    x = x.astype(np.float32)\n",
        "    return x\n",
        "  return tf.numpy_function(f, [y_true, y_pred], tf.float32)\n",
        "\n",
        "smooth = 1e-15\n",
        "def dice_coef(y_true, y_pred):\n",
        "  y_true = tf.keras.layers.Flatten()(y_true)\n",
        "  y_pred = tf.keras.layers.Flatten()(y_pred)\n",
        "  intersection = tf.reduce_sum(y_true * y_pred)\n",
        "  return (2. * intersection  + smooth) / (tf.reduce_sum(y_true) + tf.reduce_sum(y_pred) + smooth)\n",
        "\n",
        "def dice_loss(y_true, y_pred):\n",
        "  return 1.0 - dice_coef(y_true, y_pred)"
      ],
      "metadata": {
        "id": "xb6wxXDfmioX"
      },
      "execution_count": 26,
      "outputs": []
    },
    {
      "cell_type": "markdown",
      "source": [
        "# U-NET"
      ],
      "metadata": {
        "id": "-ieAj5PbJSLB"
      }
    },
    {
      "cell_type": "code",
      "source": [
        "def conv_block(input, num_filters):\n",
        "  x = Conv2D(num_filters, 3, padding='same')(input)\n",
        "  x = BatchNormalization()(x)\n",
        "  x = Activation(\"relu\")(x)\n",
        "\n",
        "  return x\n",
        "\n",
        "def encoder_block(input, num_filters):\n",
        "  x = conv_block(input, num_filters)\n",
        "  p = MaxPool2D((2,2))(x)\n",
        "  return x, p\n",
        "\n",
        "def decoder_block(input, skip_features, num_filters):\n",
        "  x = Conv2DTranspose(num_filters, (2,2), strides=2, padding='same')(input)\n",
        "  x = Concatenate()([x, skip_features])\n",
        "  x = conv_block(x, num_filters)\n",
        "  return x\n",
        "\n",
        "def build_unet(input_shape):\n",
        "  inputs = Input(input_shape)\n",
        "\n",
        "  s1, p1 = encoder_block(inputs, 32)\n",
        "  s2, p2 = encoder_block(p1, 64)\n",
        "  s3, p3 = encoder_block(p2, 128)\n",
        "  s4, p4 = encoder_block(p3, 256)\n",
        "  s5, p5 = encoder_block(p4, 512)\n",
        "\n",
        "  b1 = conv_block(p5, 1024)\n",
        "\n",
        "  d1 = decoder_block(b1, s5, 512)\n",
        "  d2 = decoder_block(d1, s4, 256)\n",
        "  d3 = decoder_block(d2, s3, 128)\n",
        "  d4 = decoder_block(d3, s2, 64)\n",
        "  d5 = decoder_block(d4, s1, 32)\n",
        "  outputs = Conv2D(1, 1, padding='same', activation='sigmoid')(d5)\n",
        "\n",
        "  model = Model(inputs, outputs, name='U-Net')\n",
        "  return model"
      ],
      "metadata": {
        "id": "QnGlLW55mMll"
      },
      "execution_count": 52,
      "outputs": []
    },
    {
      "cell_type": "code",
      "source": [
        "inputs_shape = (256,256,3)\n",
        "model = build_unet(inputs_shape)\n",
        "model.summary()"
      ],
      "metadata": {
        "colab": {
          "base_uri": "https://localhost:8080/"
        },
        "id": "efyoTQcAmrM-",
        "outputId": "7a2eba8f-1b16-46a4-8ac1-e1e15032764d"
      },
      "execution_count": 53,
      "outputs": [
        {
          "output_type": "stream",
          "name": "stdout",
          "text": [
            "Model: \"U-Net\"\n",
            "__________________________________________________________________________________________________\n",
            " Layer (type)                   Output Shape         Param #     Connected to                     \n",
            "==================================================================================================\n",
            " input_6 (InputLayer)           [(None, 256, 256, 3  0           []                               \n",
            "                                )]                                                                \n",
            "                                                                                                  \n",
            " conv2d_80 (Conv2D)             (None, 256, 256, 32  896         ['input_6[0][0]']                \n",
            "                                )                                                                 \n",
            "                                                                                                  \n",
            " batch_normalization_24 (BatchN  (None, 256, 256, 32  128        ['conv2d_80[0][0]']              \n",
            " ormalization)                  )                                                                 \n",
            "                                                                                                  \n",
            " activation_24 (Activation)     (None, 256, 256, 32  0           ['batch_normalization_24[0][0]'] \n",
            "                                )                                                                 \n",
            "                                                                                                  \n",
            " max_pooling2d_25 (MaxPooling2D  (None, 128, 128, 32  0          ['activation_24[0][0]']          \n",
            " )                              )                                                                 \n",
            "                                                                                                  \n",
            " conv2d_81 (Conv2D)             (None, 128, 128, 64  18496       ['max_pooling2d_25[0][0]']       \n",
            "                                )                                                                 \n",
            "                                                                                                  \n",
            " batch_normalization_25 (BatchN  (None, 128, 128, 64  256        ['conv2d_81[0][0]']              \n",
            " ormalization)                  )                                                                 \n",
            "                                                                                                  \n",
            " activation_25 (Activation)     (None, 128, 128, 64  0           ['batch_normalization_25[0][0]'] \n",
            "                                )                                                                 \n",
            "                                                                                                  \n",
            " max_pooling2d_26 (MaxPooling2D  (None, 64, 64, 64)  0           ['activation_25[0][0]']          \n",
            " )                                                                                                \n",
            "                                                                                                  \n",
            " conv2d_82 (Conv2D)             (None, 64, 64, 128)  73856       ['max_pooling2d_26[0][0]']       \n",
            "                                                                                                  \n",
            " batch_normalization_26 (BatchN  (None, 64, 64, 128)  512        ['conv2d_82[0][0]']              \n",
            " ormalization)                                                                                    \n",
            "                                                                                                  \n",
            " activation_26 (Activation)     (None, 64, 64, 128)  0           ['batch_normalization_26[0][0]'] \n",
            "                                                                                                  \n",
            " max_pooling2d_27 (MaxPooling2D  (None, 32, 32, 128)  0          ['activation_26[0][0]']          \n",
            " )                                                                                                \n",
            "                                                                                                  \n",
            " conv2d_83 (Conv2D)             (None, 32, 32, 256)  295168      ['max_pooling2d_27[0][0]']       \n",
            "                                                                                                  \n",
            " batch_normalization_27 (BatchN  (None, 32, 32, 256)  1024       ['conv2d_83[0][0]']              \n",
            " ormalization)                                                                                    \n",
            "                                                                                                  \n",
            " activation_27 (Activation)     (None, 32, 32, 256)  0           ['batch_normalization_27[0][0]'] \n",
            "                                                                                                  \n",
            " max_pooling2d_28 (MaxPooling2D  (None, 16, 16, 256)  0          ['activation_27[0][0]']          \n",
            " )                                                                                                \n",
            "                                                                                                  \n",
            " conv2d_84 (Conv2D)             (None, 16, 16, 512)  1180160     ['max_pooling2d_28[0][0]']       \n",
            "                                                                                                  \n",
            " batch_normalization_28 (BatchN  (None, 16, 16, 512)  2048       ['conv2d_84[0][0]']              \n",
            " ormalization)                                                                                    \n",
            "                                                                                                  \n",
            " activation_28 (Activation)     (None, 16, 16, 512)  0           ['batch_normalization_28[0][0]'] \n",
            "                                                                                                  \n",
            " max_pooling2d_29 (MaxPooling2D  (None, 8, 8, 512)   0           ['activation_28[0][0]']          \n",
            " )                                                                                                \n",
            "                                                                                                  \n",
            " conv2d_85 (Conv2D)             (None, 8, 8, 1024)   4719616     ['max_pooling2d_29[0][0]']       \n",
            "                                                                                                  \n",
            " batch_normalization_29 (BatchN  (None, 8, 8, 1024)  4096        ['conv2d_85[0][0]']              \n",
            " ormalization)                                                                                    \n",
            "                                                                                                  \n",
            " activation_29 (Activation)     (None, 8, 8, 1024)   0           ['batch_normalization_29[0][0]'] \n",
            "                                                                                                  \n",
            " conv2d_transpose_21 (Conv2DTra  (None, 16, 16, 512)  2097664    ['activation_29[0][0]']          \n",
            " nspose)                                                                                          \n",
            "                                                                                                  \n",
            " concatenate_21 (Concatenate)   (None, 16, 16, 1024  0           ['conv2d_transpose_21[0][0]',    \n",
            "                                )                                 'activation_28[0][0]']          \n",
            "                                                                                                  \n",
            " conv2d_86 (Conv2D)             (None, 16, 16, 512)  4719104     ['concatenate_21[0][0]']         \n",
            "                                                                                                  \n",
            " batch_normalization_30 (BatchN  (None, 16, 16, 512)  2048       ['conv2d_86[0][0]']              \n",
            " ormalization)                                                                                    \n",
            "                                                                                                  \n",
            " activation_30 (Activation)     (None, 16, 16, 512)  0           ['batch_normalization_30[0][0]'] \n",
            "                                                                                                  \n",
            " conv2d_transpose_22 (Conv2DTra  (None, 32, 32, 256)  524544     ['activation_30[0][0]']          \n",
            " nspose)                                                                                          \n",
            "                                                                                                  \n",
            " concatenate_22 (Concatenate)   (None, 32, 32, 512)  0           ['conv2d_transpose_22[0][0]',    \n",
            "                                                                  'activation_27[0][0]']          \n",
            "                                                                                                  \n",
            " conv2d_87 (Conv2D)             (None, 32, 32, 256)  1179904     ['concatenate_22[0][0]']         \n",
            "                                                                                                  \n",
            " batch_normalization_31 (BatchN  (None, 32, 32, 256)  1024       ['conv2d_87[0][0]']              \n",
            " ormalization)                                                                                    \n",
            "                                                                                                  \n",
            " activation_31 (Activation)     (None, 32, 32, 256)  0           ['batch_normalization_31[0][0]'] \n",
            "                                                                                                  \n",
            " conv2d_transpose_23 (Conv2DTra  (None, 64, 64, 128)  131200     ['activation_31[0][0]']          \n",
            " nspose)                                                                                          \n",
            "                                                                                                  \n",
            " concatenate_23 (Concatenate)   (None, 64, 64, 256)  0           ['conv2d_transpose_23[0][0]',    \n",
            "                                                                  'activation_26[0][0]']          \n",
            "                                                                                                  \n",
            " conv2d_88 (Conv2D)             (None, 64, 64, 128)  295040      ['concatenate_23[0][0]']         \n",
            "                                                                                                  \n",
            " batch_normalization_32 (BatchN  (None, 64, 64, 128)  512        ['conv2d_88[0][0]']              \n",
            " ormalization)                                                                                    \n",
            "                                                                                                  \n",
            " activation_32 (Activation)     (None, 64, 64, 128)  0           ['batch_normalization_32[0][0]'] \n",
            "                                                                                                  \n",
            " conv2d_transpose_24 (Conv2DTra  (None, 128, 128, 64  32832      ['activation_32[0][0]']          \n",
            " nspose)                        )                                                                 \n",
            "                                                                                                  \n",
            " concatenate_24 (Concatenate)   (None, 128, 128, 12  0           ['conv2d_transpose_24[0][0]',    \n",
            "                                8)                                'activation_25[0][0]']          \n",
            "                                                                                                  \n",
            " conv2d_89 (Conv2D)             (None, 128, 128, 64  73792       ['concatenate_24[0][0]']         \n",
            "                                )                                                                 \n",
            "                                                                                                  \n",
            " batch_normalization_33 (BatchN  (None, 128, 128, 64  256        ['conv2d_89[0][0]']              \n",
            " ormalization)                  )                                                                 \n",
            "                                                                                                  \n",
            " activation_33 (Activation)     (None, 128, 128, 64  0           ['batch_normalization_33[0][0]'] \n",
            "                                )                                                                 \n",
            "                                                                                                  \n",
            " conv2d_transpose_25 (Conv2DTra  (None, 256, 256, 32  8224       ['activation_33[0][0]']          \n",
            " nspose)                        )                                                                 \n",
            "                                                                                                  \n",
            " concatenate_25 (Concatenate)   (None, 256, 256, 64  0           ['conv2d_transpose_25[0][0]',    \n",
            "                                )                                 'activation_24[0][0]']          \n",
            "                                                                                                  \n",
            " conv2d_90 (Conv2D)             (None, 256, 256, 32  18464       ['concatenate_25[0][0]']         \n",
            "                                )                                                                 \n",
            "                                                                                                  \n",
            " batch_normalization_34 (BatchN  (None, 256, 256, 32  128        ['conv2d_90[0][0]']              \n",
            " ormalization)                  )                                                                 \n",
            "                                                                                                  \n",
            " activation_34 (Activation)     (None, 256, 256, 32  0           ['batch_normalization_34[0][0]'] \n",
            "                                )                                                                 \n",
            "                                                                                                  \n",
            " conv2d_91 (Conv2D)             (None, 256, 256, 1)  33          ['activation_34[0][0]']          \n",
            "                                                                                                  \n",
            "==================================================================================================\n",
            "Total params: 15,381,025\n",
            "Trainable params: 15,375,009\n",
            "Non-trainable params: 6,016\n",
            "__________________________________________________________________________________________________\n"
          ]
        }
      ]
    },
    {
      "cell_type": "code",
      "source": [
        "metrics = [dice_coef, iou, Recall(), Precision()]\n",
        "model.compile(loss=dice_loss, optimizer=Adam(lr), metrics=metrics)"
      ],
      "metadata": {
        "id": "zdW44J9EnNV1"
      },
      "execution_count": 54,
      "outputs": []
    },
    {
      "cell_type": "markdown",
      "source": [
        "# Preparing Dataset"
      ],
      "metadata": {
        "id": "pv-3CtwAx5sr"
      }
    },
    {
      "cell_type": "code",
      "source": [
        "model_path = os.path.join(\"/content/drive/MyDrive/CNN_Models\",\"unet_for_skull_stripping.h5\")\n",
        "csv_path = os.path.join(\"/content/drive/MyDrive/DataSet/random\",\"unet_for_skull_stripping.csv\")\n",
        "path = \"/content/drive/MyDrive/DataSet/skull_strpping\"\n",
        "split = 0.1"
      ],
      "metadata": {
        "id": "ME7eeI8Wxn8i"
      },
      "execution_count": 9,
      "outputs": []
    },
    {
      "cell_type": "code",
      "source": [
        "train_path = \"/content/drive/MyDrive/DataSet/skull_strpping/train\"\n",
        "test_path = \"/content/drive/MyDrive/DataSet/skull_strpping/test\""
      ],
      "metadata": {
        "id": "3TGDumOe7IxI"
      },
      "execution_count": 10,
      "outputs": []
    },
    {
      "cell_type": "code",
      "source": [
        "#load dataset\n",
        "def load_data(path, split=0.1):\n",
        "  images = sorted(glob(os.path.join(path, \"image_1/*\")))\n",
        "  masks = sorted(glob(os.path.join(path, \"mask_1/*\")))\n",
        "  \n",
        "  return images, masks"
      ],
      "metadata": {
        "id": "w4DyVdKVyTm0"
      },
      "execution_count": 11,
      "outputs": []
    },
    {
      "cell_type": "code",
      "source": [
        "#process image function\n",
        "def read_img(path):\n",
        "  img = cv2.imread(path, cv2.IMREAD_COLOR)\n",
        "  img = cv2.resize(img, (256, 256))\n",
        "  img = img / 255\n",
        "  img = img.astype(np.float32)\n",
        "  return img\n",
        "\n",
        "#process mask function\n",
        "def read_mask(path):\n",
        "  mask = cv2.imread(path, cv2.IMREAD_GRAYSCALE)\n",
        "  mask = cv2.resize(mask, (256, 256))\n",
        "  mask = mask / 255\n",
        "  mask = np.expand_dims(mask, axis=-1)\n",
        "  mask = mask.astype(np.float32)\n",
        "  return mask"
      ],
      "metadata": {
        "id": "RmKztNRgy2k0"
      },
      "execution_count": 12,
      "outputs": []
    },
    {
      "cell_type": "code",
      "source": [
        "def preprocess(x, y):\n",
        "  def f(x, y):\n",
        "    x = x.decode()\n",
        "    y = y.decode()\n",
        "    \n",
        "    x = read_img(x)\n",
        "    y = read_mask(y)\n",
        "    return x, y\n",
        "\n",
        "  image, mask = tf.numpy_function(f, [x, y], [tf.float32, tf.float32])\n",
        "  image.set_shape([256, 256, 3])\n",
        "  mask.set_shape([256, 256, 1])\n",
        "\n",
        "  return image, mask"
      ],
      "metadata": {
        "id": "dEAxYB25z2mQ"
      },
      "execution_count": 13,
      "outputs": []
    },
    {
      "cell_type": "code",
      "source": [
        "def tf_dataset(x, y, batch=8):\n",
        "  dataset = tf.data.Dataset.from_tensor_slices((x, y))\n",
        "  dataset = dataset.shuffle(buffer_size=1000)\n",
        "  dataset = dataset.map(preprocess)\n",
        "  dataset = dataset.batch(batch)\n",
        "  dataset = dataset.prefetch(2)\n",
        "  return dataset"
      ],
      "metadata": {
        "id": "ih0zaqqX0IjC"
      },
      "execution_count": 14,
      "outputs": []
    },
    {
      "cell_type": "code",
      "source": [
        "train_images, train_masks = load_data(train_path)\n",
        "test_images, test_masks = load_data(test_path)\n",
        "print(f'image: {len(train_images)} - Masks: {len(train_masks)}')\n",
        "print(f'image: {len(test_images)} - Masks: {len(test_masks)}')"
      ],
      "metadata": {
        "colab": {
          "base_uri": "https://localhost:8080/"
        },
        "id": "1NnJsWTI0OF1",
        "outputId": "c2ee711f-5ac2-42ff-f2eb-bd4a5986758e"
      },
      "execution_count": 15,
      "outputs": [
        {
          "output_type": "stream",
          "name": "stdout",
          "text": [
            "image: 712 - Masks: 712\n",
            "image: 72 - Masks: 72\n"
          ]
        }
      ]
    },
    {
      "cell_type": "code",
      "source": [
        "train_dataset = tf_dataset(train_images, train_masks, batch=BATCH_SIZE)\n",
        "test_dataset = tf_dataset(test_images, test_masks, batch=BATCH_SIZE)"
      ],
      "metadata": {
        "id": "s4407Qxt8a5g"
      },
      "execution_count": 16,
      "outputs": []
    },
    {
      "cell_type": "code",
      "source": [
        "Callbacks = [\n",
        "    ModelCheckpoint(model_path, verbose=1, save_best_only=True), \n",
        "    CSVLogger(csv_path),\n",
        "    ReduceLROnPlateau(monitor='val_loss', factor=0.1, patience=5, min_lr=1e-6, verbose=1)\n",
        "]"
      ],
      "metadata": {
        "id": "5KoIC88f2SbS"
      },
      "execution_count": 55,
      "outputs": []
    },
    {
      "cell_type": "code",
      "source": [
        "model.fit(\n",
        "    train_dataset,\n",
        "    epochs=50,\n",
        "    validation_data=test_dataset, \n",
        "    callbacks=Callbacks\n",
        "    )"
      ],
      "metadata": {
        "colab": {
          "base_uri": "https://localhost:8080/"
        },
        "id": "j_TxQm5-8WEe",
        "outputId": "b081ce51-43c0-4c69-9137-8deab2294b8e"
      },
      "execution_count": 71,
      "outputs": [
        {
          "output_type": "stream",
          "name": "stdout",
          "text": [
            "Epoch 1/50\n",
            "45/45 [==============================] - ETA: 0s - loss: 0.2840 - dice_coef: 0.7158 - iou: 0.5578 - recall_5: 0.9570 - precision_5: 0.7967\n",
            "Epoch 1: val_loss did not improve from 0.33478\n",
            "45/45 [==============================] - 16s 346ms/step - loss: 0.2840 - dice_coef: 0.7158 - iou: 0.5578 - recall_5: 0.9570 - precision_5: 0.7967 - val_loss: 0.3379 - val_dice_coef: 0.6641 - val_iou: 0.4974 - val_recall_5: 0.8987 - val_precision_5: 0.7519 - lr: 1.0000e-06\n",
            "Epoch 2/50\n",
            "45/45 [==============================] - ETA: 0s - loss: 0.2814 - dice_coef: 0.7185 - iou: 0.5609 - recall_5: 0.9574 - precision_5: 0.8031\n",
            "Epoch 2: val_loss did not improve from 0.33478\n",
            "45/45 [==============================] - 15s 323ms/step - loss: 0.2814 - dice_coef: 0.7185 - iou: 0.5609 - recall_5: 0.9574 - precision_5: 0.8031 - val_loss: 0.3349 - val_dice_coef: 0.6654 - val_iou: 0.4988 - val_recall_5: 0.9145 - val_precision_5: 0.7409 - lr: 1.0000e-06\n",
            "Epoch 3/50\n",
            "45/45 [==============================] - ETA: 0s - loss: 0.2809 - dice_coef: 0.7191 - iou: 0.5618 - recall_5: 0.9570 - precision_5: 0.8027\n",
            "Epoch 3: val_loss did not improve from 0.33478\n",
            "45/45 [==============================] - 15s 325ms/step - loss: 0.2809 - dice_coef: 0.7191 - iou: 0.5618 - recall_5: 0.9570 - precision_5: 0.8027 - val_loss: 0.3349 - val_dice_coef: 0.6627 - val_iou: 0.4958 - val_recall_5: 0.9095 - val_precision_5: 0.7455 - lr: 1.0000e-06\n",
            "Epoch 4/50\n",
            "45/45 [==============================] - ETA: 0s - loss: 0.2796 - dice_coef: 0.7203 - iou: 0.5633 - recall_5: 0.9578 - precision_5: 0.8044\n",
            "Epoch 4: val_loss did not improve from 0.33478\n",
            "45/45 [==============================] - 15s 322ms/step - loss: 0.2796 - dice_coef: 0.7203 - iou: 0.5633 - recall_5: 0.9578 - precision_5: 0.8044 - val_loss: 0.3364 - val_dice_coef: 0.6652 - val_iou: 0.4985 - val_recall_5: 0.9085 - val_precision_5: 0.7388 - lr: 1.0000e-06\n",
            "Epoch 5/50\n",
            "45/45 [==============================] - ETA: 0s - loss: 0.2778 - dice_coef: 0.7226 - iou: 0.5661 - recall_5: 0.9580 - precision_5: 0.8086\n",
            "Epoch 5: val_loss did not improve from 0.33478\n",
            "45/45 [==============================] - 15s 327ms/step - loss: 0.2778 - dice_coef: 0.7226 - iou: 0.5661 - recall_5: 0.9580 - precision_5: 0.8086 - val_loss: 0.3348 - val_dice_coef: 0.6615 - val_iou: 0.4945 - val_recall_5: 0.9160 - val_precision_5: 0.7338 - lr: 1.0000e-06\n",
            "Epoch 6/50\n",
            "45/45 [==============================] - ETA: 0s - loss: 0.2766 - dice_coef: 0.7233 - iou: 0.5670 - recall_5: 0.9590 - precision_5: 0.8102\n",
            "Epoch 6: val_loss did not improve from 0.33478\n",
            "45/45 [==============================] - 15s 326ms/step - loss: 0.2766 - dice_coef: 0.7233 - iou: 0.5670 - recall_5: 0.9590 - precision_5: 0.8102 - val_loss: 0.3355 - val_dice_coef: 0.6664 - val_iou: 0.5001 - val_recall_5: 0.9175 - val_precision_5: 0.7293 - lr: 1.0000e-06\n",
            "Epoch 7/50\n",
            "45/45 [==============================] - ETA: 0s - loss: 0.2754 - dice_coef: 0.7246 - iou: 0.5684 - recall_5: 0.9584 - precision_5: 0.8129\n",
            "Epoch 7: val_loss improved from 0.33478 to 0.33474, saving model to /content/drive/MyDrive/CNN_Models/unet_for_skull_stripping.h5\n",
            "45/45 [==============================] - 17s 371ms/step - loss: 0.2754 - dice_coef: 0.7246 - iou: 0.5684 - recall_5: 0.9584 - precision_5: 0.8129 - val_loss: 0.3347 - val_dice_coef: 0.6664 - val_iou: 0.5005 - val_recall_5: 0.9111 - val_precision_5: 0.7409 - lr: 1.0000e-06\n",
            "Epoch 8/50\n",
            "45/45 [==============================] - ETA: 0s - loss: 0.2738 - dice_coef: 0.7264 - iou: 0.5706 - recall_5: 0.9593 - precision_5: 0.8150\n",
            "Epoch 8: val_loss improved from 0.33474 to 0.33346, saving model to /content/drive/MyDrive/CNN_Models/unet_for_skull_stripping.h5\n",
            "45/45 [==============================] - 17s 377ms/step - loss: 0.2738 - dice_coef: 0.7264 - iou: 0.5706 - recall_5: 0.9593 - precision_5: 0.8150 - val_loss: 0.3335 - val_dice_coef: 0.6647 - val_iou: 0.4982 - val_recall_5: 0.9106 - val_precision_5: 0.7397 - lr: 1.0000e-06\n",
            "Epoch 9/50\n",
            "45/45 [==============================] - ETA: 0s - loss: 0.2722 - dice_coef: 0.7278 - iou: 0.5722 - recall_5: 0.9601 - precision_5: 0.8178\n",
            "Epoch 9: val_loss improved from 0.33346 to 0.33313, saving model to /content/drive/MyDrive/CNN_Models/unet_for_skull_stripping.h5\n",
            "45/45 [==============================] - 17s 386ms/step - loss: 0.2722 - dice_coef: 0.7278 - iou: 0.5722 - recall_5: 0.9601 - precision_5: 0.8178 - val_loss: 0.3331 - val_dice_coef: 0.6662 - val_iou: 0.4996 - val_recall_5: 0.9099 - val_precision_5: 0.7383 - lr: 1.0000e-06\n",
            "Epoch 10/50\n",
            "45/45 [==============================] - ETA: 0s - loss: 0.2707 - dice_coef: 0.7295 - iou: 0.5745 - recall_5: 0.9601 - precision_5: 0.8218\n",
            "Epoch 10: val_loss improved from 0.33313 to 0.33222, saving model to /content/drive/MyDrive/CNN_Models/unet_for_skull_stripping.h5\n",
            "45/45 [==============================] - 19s 412ms/step - loss: 0.2707 - dice_coef: 0.7295 - iou: 0.5745 - recall_5: 0.9601 - precision_5: 0.8218 - val_loss: 0.3322 - val_dice_coef: 0.6692 - val_iou: 0.5029 - val_recall_5: 0.9091 - val_precision_5: 0.7415 - lr: 1.0000e-06\n",
            "Epoch 11/50\n",
            "45/45 [==============================] - ETA: 0s - loss: 0.2701 - dice_coef: 0.7294 - iou: 0.5744 - recall_5: 0.9602 - precision_5: 0.8220\n",
            "Epoch 11: val_loss did not improve from 0.33222\n",
            "45/45 [==============================] - 16s 337ms/step - loss: 0.2701 - dice_coef: 0.7294 - iou: 0.5744 - recall_5: 0.9602 - precision_5: 0.8220 - val_loss: 0.3355 - val_dice_coef: 0.6653 - val_iou: 0.4986 - val_recall_5: 0.8939 - val_precision_5: 0.7453 - lr: 1.0000e-06\n",
            "Epoch 12/50\n",
            "45/45 [==============================] - ETA: 0s - loss: 0.2682 - dice_coef: 0.7319 - iou: 0.5774 - recall_5: 0.9607 - precision_5: 0.8260\n",
            "Epoch 12: val_loss did not improve from 0.33222\n",
            "45/45 [==============================] - 15s 325ms/step - loss: 0.2682 - dice_coef: 0.7319 - iou: 0.5774 - recall_5: 0.9607 - precision_5: 0.8260 - val_loss: 0.3375 - val_dice_coef: 0.6602 - val_iou: 0.4929 - val_recall_5: 0.8908 - val_precision_5: 0.7444 - lr: 1.0000e-06\n",
            "Epoch 13/50\n",
            "45/45 [==============================] - ETA: 0s - loss: 0.2672 - dice_coef: 0.7327 - iou: 0.5785 - recall_5: 0.9613 - precision_5: 0.8279\n",
            "Epoch 13: val_loss did not improve from 0.33222\n",
            "45/45 [==============================] - 15s 325ms/step - loss: 0.2672 - dice_coef: 0.7327 - iou: 0.5785 - recall_5: 0.9613 - precision_5: 0.8279 - val_loss: 0.3350 - val_dice_coef: 0.6649 - val_iou: 0.4981 - val_recall_5: 0.9341 - val_precision_5: 0.7054 - lr: 1.0000e-06\n",
            "Epoch 14/50\n",
            "45/45 [==============================] - ETA: 0s - loss: 0.2660 - dice_coef: 0.7340 - iou: 0.5800 - recall_5: 0.9613 - precision_5: 0.8292\n",
            "Epoch 14: val_loss did not improve from 0.33222\n",
            "45/45 [==============================] - 15s 326ms/step - loss: 0.2660 - dice_coef: 0.7340 - iou: 0.5800 - recall_5: 0.9613 - precision_5: 0.8292 - val_loss: 0.3337 - val_dice_coef: 0.6636 - val_iou: 0.4969 - val_recall_5: 0.9050 - val_precision_5: 0.7375 - lr: 1.0000e-06\n",
            "Epoch 15/50\n",
            "45/45 [==============================] - ETA: 0s - loss: 0.2645 - dice_coef: 0.7355 - iou: 0.5819 - recall_5: 0.9625 - precision_5: 0.8308\n",
            "Epoch 15: val_loss did not improve from 0.33222\n",
            "45/45 [==============================] - 15s 328ms/step - loss: 0.2645 - dice_coef: 0.7355 - iou: 0.5819 - recall_5: 0.9625 - precision_5: 0.8308 - val_loss: 0.3382 - val_dice_coef: 0.6666 - val_iou: 0.5004 - val_recall_5: 0.8703 - val_precision_5: 0.7607 - lr: 1.0000e-06\n",
            "Epoch 16/50\n",
            "45/45 [==============================] - ETA: 0s - loss: 0.2637 - dice_coef: 0.7364 - iou: 0.5832 - recall_5: 0.9621 - precision_5: 0.8337\n",
            "Epoch 16: val_loss improved from 0.33222 to 0.33065, saving model to /content/drive/MyDrive/CNN_Models/unet_for_skull_stripping.h5\n",
            "45/45 [==============================] - 17s 377ms/step - loss: 0.2637 - dice_coef: 0.7364 - iou: 0.5832 - recall_5: 0.9621 - precision_5: 0.8337 - val_loss: 0.3306 - val_dice_coef: 0.6687 - val_iou: 0.5023 - val_recall_5: 0.9160 - val_precision_5: 0.7299 - lr: 1.0000e-06\n",
            "Epoch 17/50\n",
            "45/45 [==============================] - ETA: 0s - loss: 0.2622 - dice_coef: 0.7380 - iou: 0.5852 - recall_5: 0.9626 - precision_5: 0.8379\n",
            "Epoch 17: val_loss did not improve from 0.33065\n",
            "45/45 [==============================] - 16s 339ms/step - loss: 0.2622 - dice_coef: 0.7380 - iou: 0.5852 - recall_5: 0.9626 - precision_5: 0.8379 - val_loss: 0.3333 - val_dice_coef: 0.6644 - val_iou: 0.4979 - val_recall_5: 0.9286 - val_precision_5: 0.7124 - lr: 1.0000e-06\n",
            "Epoch 18/50\n",
            "45/45 [==============================] - ETA: 0s - loss: 0.2613 - dice_coef: 0.7389 - iou: 0.5861 - recall_5: 0.9633 - precision_5: 0.8362\n",
            "Epoch 18: val_loss did not improve from 0.33065\n",
            "45/45 [==============================] - 15s 328ms/step - loss: 0.2613 - dice_coef: 0.7389 - iou: 0.5861 - recall_5: 0.9633 - precision_5: 0.8362 - val_loss: 0.3321 - val_dice_coef: 0.6666 - val_iou: 0.5000 - val_recall_5: 0.8869 - val_precision_5: 0.7503 - lr: 1.0000e-06\n",
            "Epoch 19/50\n",
            "45/45 [==============================] - ETA: 0s - loss: 0.2602 - dice_coef: 0.7400 - iou: 0.5876 - recall_5: 0.9628 - precision_5: 0.8401\n",
            "Epoch 19: val_loss did not improve from 0.33065\n",
            "45/45 [==============================] - 15s 330ms/step - loss: 0.2602 - dice_coef: 0.7400 - iou: 0.5876 - recall_5: 0.9628 - precision_5: 0.8401 - val_loss: 0.3360 - val_dice_coef: 0.6620 - val_iou: 0.4950 - val_recall_5: 0.8790 - val_precision_5: 0.7499 - lr: 1.0000e-06\n",
            "Epoch 20/50\n",
            "45/45 [==============================] - ETA: 0s - loss: 0.2588 - dice_coef: 0.7414 - iou: 0.5894 - recall_5: 0.9633 - precision_5: 0.8421\n",
            "Epoch 20: val_loss did not improve from 0.33065\n",
            "45/45 [==============================] - 16s 352ms/step - loss: 0.2588 - dice_coef: 0.7414 - iou: 0.5894 - recall_5: 0.9633 - precision_5: 0.8421 - val_loss: 0.3318 - val_dice_coef: 0.6693 - val_iou: 0.5030 - val_recall_5: 0.8875 - val_precision_5: 0.7499 - lr: 1.0000e-06\n",
            "Epoch 21/50\n",
            "45/45 [==============================] - ETA: 0s - loss: 0.2575 - dice_coef: 0.7424 - iou: 0.5906 - recall_5: 0.9639 - precision_5: 0.8448\n",
            "Epoch 21: val_loss did not improve from 0.33065\n",
            "45/45 [==============================] - 15s 324ms/step - loss: 0.2575 - dice_coef: 0.7424 - iou: 0.5906 - recall_5: 0.9639 - precision_5: 0.8448 - val_loss: 0.3338 - val_dice_coef: 0.6688 - val_iou: 0.5028 - val_recall_5: 0.8993 - val_precision_5: 0.7352 - lr: 1.0000e-06\n",
            "Epoch 22/50\n",
            "45/45 [==============================] - ETA: 0s - loss: 0.2565 - dice_coef: 0.7433 - iou: 0.5917 - recall_5: 0.9645 - precision_5: 0.8464\n",
            "Epoch 22: val_loss did not improve from 0.33065\n",
            "45/45 [==============================] - 15s 329ms/step - loss: 0.2565 - dice_coef: 0.7433 - iou: 0.5917 - recall_5: 0.9645 - precision_5: 0.8464 - val_loss: 0.3334 - val_dice_coef: 0.6663 - val_iou: 0.4999 - val_recall_5: 0.8961 - val_precision_5: 0.7349 - lr: 1.0000e-06\n",
            "Epoch 23/50\n",
            "45/45 [==============================] - ETA: 0s - loss: 0.2548 - dice_coef: 0.7453 - iou: 0.5942 - recall_5: 0.9648 - precision_5: 0.8496\n",
            "Epoch 23: val_loss did not improve from 0.33065\n",
            "45/45 [==============================] - 15s 328ms/step - loss: 0.2548 - dice_coef: 0.7453 - iou: 0.5942 - recall_5: 0.9648 - precision_5: 0.8496 - val_loss: 0.3341 - val_dice_coef: 0.6668 - val_iou: 0.5003 - val_recall_5: 0.8878 - val_precision_5: 0.7411 - lr: 1.0000e-06\n",
            "Epoch 24/50\n",
            "45/45 [==============================] - ETA: 0s - loss: 0.2543 - dice_coef: 0.7461 - iou: 0.5952 - recall_5: 0.9648 - precision_5: 0.8501\n",
            "Epoch 24: val_loss did not improve from 0.33065\n",
            "45/45 [==============================] - 15s 322ms/step - loss: 0.2543 - dice_coef: 0.7461 - iou: 0.5952 - recall_5: 0.9648 - precision_5: 0.8501 - val_loss: 0.3311 - val_dice_coef: 0.6695 - val_iou: 0.5032 - val_recall_5: 0.8856 - val_precision_5: 0.7485 - lr: 1.0000e-06\n",
            "Epoch 25/50\n",
            "45/45 [==============================] - ETA: 0s - loss: 0.2528 - dice_coef: 0.7474 - iou: 0.5969 - recall_5: 0.9651 - precision_5: 0.8526\n",
            "Epoch 25: val_loss did not improve from 0.33065\n",
            "45/45 [==============================] - 15s 333ms/step - loss: 0.2528 - dice_coef: 0.7474 - iou: 0.5969 - recall_5: 0.9651 - precision_5: 0.8526 - val_loss: 0.3342 - val_dice_coef: 0.6627 - val_iou: 0.4958 - val_recall_5: 0.8970 - val_precision_5: 0.7314 - lr: 1.0000e-06\n",
            "Epoch 26/50\n",
            "45/45 [==============================] - ETA: 0s - loss: 0.2521 - dice_coef: 0.7481 - iou: 0.5979 - recall_5: 0.9659 - precision_5: 0.8527\n",
            "Epoch 26: val_loss did not improve from 0.33065\n",
            "45/45 [==============================] - 15s 332ms/step - loss: 0.2521 - dice_coef: 0.7481 - iou: 0.5979 - recall_5: 0.9659 - precision_5: 0.8527 - val_loss: 0.3354 - val_dice_coef: 0.6628 - val_iou: 0.4958 - val_recall_5: 0.8619 - val_precision_5: 0.7633 - lr: 1.0000e-06\n",
            "Epoch 27/50\n",
            "45/45 [==============================] - ETA: 0s - loss: 0.2508 - dice_coef: 0.7497 - iou: 0.5998 - recall_5: 0.9657 - precision_5: 0.8564\n",
            "Epoch 27: val_loss did not improve from 0.33065\n",
            "45/45 [==============================] - 15s 330ms/step - loss: 0.2508 - dice_coef: 0.7497 - iou: 0.5998 - recall_5: 0.9657 - precision_5: 0.8564 - val_loss: 0.3334 - val_dice_coef: 0.6668 - val_iou: 0.5004 - val_recall_5: 0.8858 - val_precision_5: 0.7417 - lr: 1.0000e-06\n",
            "Epoch 28/50\n",
            "45/45 [==============================] - ETA: 0s - loss: 0.2499 - dice_coef: 0.7501 - iou: 0.6003 - recall_5: 0.9662 - precision_5: 0.8583\n",
            "Epoch 28: val_loss did not improve from 0.33065\n",
            "45/45 [==============================] - 15s 326ms/step - loss: 0.2499 - dice_coef: 0.7501 - iou: 0.6003 - recall_5: 0.9662 - precision_5: 0.8583 - val_loss: 0.3312 - val_dice_coef: 0.6697 - val_iou: 0.5037 - val_recall_5: 0.8869 - val_precision_5: 0.7442 - lr: 1.0000e-06\n",
            "Epoch 29/50\n",
            "45/45 [==============================] - ETA: 0s - loss: 0.2490 - dice_coef: 0.7511 - iou: 0.6017 - recall_5: 0.9661 - precision_5: 0.8596\n",
            "Epoch 29: val_loss did not improve from 0.33065\n",
            "45/45 [==============================] - 15s 325ms/step - loss: 0.2490 - dice_coef: 0.7511 - iou: 0.6017 - recall_5: 0.9661 - precision_5: 0.8596 - val_loss: 0.3334 - val_dice_coef: 0.6690 - val_iou: 0.5029 - val_recall_5: 0.8890 - val_precision_5: 0.7356 - lr: 1.0000e-06\n",
            "Epoch 30/50\n",
            "45/45 [==============================] - ETA: 0s - loss: 0.2480 - dice_coef: 0.7518 - iou: 0.6025 - recall_5: 0.9665 - precision_5: 0.8602\n",
            "Epoch 30: val_loss did not improve from 0.33065\n",
            "45/45 [==============================] - 16s 354ms/step - loss: 0.2480 - dice_coef: 0.7518 - iou: 0.6025 - recall_5: 0.9665 - precision_5: 0.8602 - val_loss: 0.3330 - val_dice_coef: 0.6726 - val_iou: 0.5073 - val_recall_5: 0.9018 - val_precision_5: 0.7233 - lr: 1.0000e-06\n",
            "Epoch 31/50\n",
            "45/45 [==============================] - ETA: 0s - loss: 0.2470 - dice_coef: 0.7529 - iou: 0.6039 - recall_5: 0.9670 - precision_5: 0.8618\n",
            "Epoch 31: val_loss did not improve from 0.33065\n",
            "45/45 [==============================] - 15s 326ms/step - loss: 0.2470 - dice_coef: 0.7529 - iou: 0.6039 - recall_5: 0.9670 - precision_5: 0.8618 - val_loss: 0.3366 - val_dice_coef: 0.6646 - val_iou: 0.4979 - val_recall_5: 0.8644 - val_precision_5: 0.7514 - lr: 1.0000e-06\n",
            "Epoch 32/50\n",
            "45/45 [==============================] - ETA: 0s - loss: 0.2463 - dice_coef: 0.7533 - iou: 0.6045 - recall_5: 0.9662 - precision_5: 0.8656\n",
            "Epoch 32: val_loss did not improve from 0.33065\n",
            "45/45 [==============================] - 15s 325ms/step - loss: 0.2463 - dice_coef: 0.7533 - iou: 0.6045 - recall_5: 0.9662 - precision_5: 0.8656 - val_loss: 0.3335 - val_dice_coef: 0.6725 - val_iou: 0.5073 - val_recall_5: 0.8849 - val_precision_5: 0.7376 - lr: 1.0000e-06\n",
            "Epoch 33/50\n",
            "45/45 [==============================] - ETA: 0s - loss: 0.2449 - dice_coef: 0.7549 - iou: 0.6066 - recall_5: 0.9674 - precision_5: 0.8658\n",
            "Epoch 33: val_loss did not improve from 0.33065\n",
            "45/45 [==============================] - 15s 326ms/step - loss: 0.2449 - dice_coef: 0.7549 - iou: 0.6066 - recall_5: 0.9674 - precision_5: 0.8658 - val_loss: 0.3365 - val_dice_coef: 0.6679 - val_iou: 0.5019 - val_recall_5: 0.8932 - val_precision_5: 0.7206 - lr: 1.0000e-06\n",
            "Epoch 34/50\n",
            "45/45 [==============================] - ETA: 0s - loss: 0.2444 - dice_coef: 0.7554 - iou: 0.6073 - recall_5: 0.9671 - precision_5: 0.8669\n",
            "Epoch 34: val_loss did not improve from 0.33065\n",
            "45/45 [==============================] - 15s 328ms/step - loss: 0.2444 - dice_coef: 0.7554 - iou: 0.6073 - recall_5: 0.9671 - precision_5: 0.8669 - val_loss: 0.3331 - val_dice_coef: 0.6653 - val_iou: 0.4985 - val_recall_5: 0.8776 - val_precision_5: 0.7429 - lr: 1.0000e-06\n",
            "Epoch 35/50\n",
            "45/45 [==============================] - ETA: 0s - loss: 0.2434 - dice_coef: 0.7564 - iou: 0.6085 - recall_5: 0.9675 - precision_5: 0.8679\n",
            "Epoch 35: val_loss did not improve from 0.33065\n",
            "45/45 [==============================] - 15s 326ms/step - loss: 0.2434 - dice_coef: 0.7564 - iou: 0.6085 - recall_5: 0.9675 - precision_5: 0.8679 - val_loss: 0.3318 - val_dice_coef: 0.6720 - val_iou: 0.5065 - val_recall_5: 0.8918 - val_precision_5: 0.7314 - lr: 1.0000e-06\n",
            "Epoch 36/50\n",
            "45/45 [==============================] - ETA: 0s - loss: 0.2424 - dice_coef: 0.7579 - iou: 0.6104 - recall_5: 0.9671 - precision_5: 0.8717\n",
            "Epoch 36: val_loss did not improve from 0.33065\n",
            "45/45 [==============================] - 15s 324ms/step - loss: 0.2424 - dice_coef: 0.7579 - iou: 0.6104 - recall_5: 0.9671 - precision_5: 0.8717 - val_loss: 0.3324 - val_dice_coef: 0.6683 - val_iou: 0.5020 - val_recall_5: 0.8912 - val_precision_5: 0.7289 - lr: 1.0000e-06\n",
            "Epoch 37/50\n",
            "45/45 [==============================] - ETA: 0s - loss: 0.2418 - dice_coef: 0.7582 - iou: 0.6108 - recall_5: 0.9680 - precision_5: 0.8693\n",
            "Epoch 37: val_loss did not improve from 0.33065\n",
            "45/45 [==============================] - 16s 357ms/step - loss: 0.2418 - dice_coef: 0.7582 - iou: 0.6108 - recall_5: 0.9680 - precision_5: 0.8693 - val_loss: 0.3321 - val_dice_coef: 0.6708 - val_iou: 0.5050 - val_recall_5: 0.8911 - val_precision_5: 0.7297 - lr: 1.0000e-06\n",
            "Epoch 38/50\n",
            "45/45 [==============================] - ETA: 0s - loss: 0.2406 - dice_coef: 0.7597 - iou: 0.6128 - recall_5: 0.9683 - precision_5: 0.8739\n",
            "Epoch 38: val_loss did not improve from 0.33065\n",
            "45/45 [==============================] - 15s 327ms/step - loss: 0.2406 - dice_coef: 0.7597 - iou: 0.6128 - recall_5: 0.9683 - precision_5: 0.8739 - val_loss: 0.3314 - val_dice_coef: 0.6665 - val_iou: 0.4999 - val_recall_5: 0.8778 - val_precision_5: 0.7419 - lr: 1.0000e-06\n",
            "Epoch 39/50\n",
            "45/45 [==============================] - ETA: 0s - loss: 0.2389 - dice_coef: 0.7613 - iou: 0.6147 - recall_5: 0.9689 - precision_5: 0.8764\n",
            "Epoch 39: val_loss did not improve from 0.33065\n",
            "45/45 [==============================] - 15s 329ms/step - loss: 0.2389 - dice_coef: 0.7613 - iou: 0.6147 - recall_5: 0.9689 - precision_5: 0.8764 - val_loss: 0.3308 - val_dice_coef: 0.6681 - val_iou: 0.5017 - val_recall_5: 0.8841 - val_precision_5: 0.7380 - lr: 1.0000e-06\n",
            "Epoch 40/50\n",
            "45/45 [==============================] - ETA: 0s - loss: 0.2396 - dice_coef: 0.7602 - iou: 0.6136 - recall_5: 0.9680 - precision_5: 0.8745\n",
            "Epoch 40: val_loss did not improve from 0.33065\n",
            "45/45 [==============================] - 15s 326ms/step - loss: 0.2396 - dice_coef: 0.7602 - iou: 0.6136 - recall_5: 0.9680 - precision_5: 0.8745 - val_loss: 0.3325 - val_dice_coef: 0.6616 - val_iou: 0.4949 - val_recall_5: 0.8887 - val_precision_5: 0.7280 - lr: 1.0000e-06\n",
            "Epoch 41/50\n",
            "45/45 [==============================] - ETA: 0s - loss: 0.2374 - dice_coef: 0.7625 - iou: 0.6164 - recall_5: 0.9692 - precision_5: 0.8785\n",
            "Epoch 41: val_loss did not improve from 0.33065\n",
            "45/45 [==============================] - 15s 329ms/step - loss: 0.2374 - dice_coef: 0.7625 - iou: 0.6164 - recall_5: 0.9692 - precision_5: 0.8785 - val_loss: 0.3313 - val_dice_coef: 0.6712 - val_iou: 0.5056 - val_recall_5: 0.8709 - val_precision_5: 0.7491 - lr: 1.0000e-06\n",
            "Epoch 42/50\n",
            "45/45 [==============================] - ETA: 0s - loss: 0.2366 - dice_coef: 0.7629 - iou: 0.6170 - recall_5: 0.9698 - precision_5: 0.8794\n",
            "Epoch 42: val_loss improved from 0.33065 to 0.32976, saving model to /content/drive/MyDrive/CNN_Models/unet_for_skull_stripping.h5\n",
            "45/45 [==============================] - 17s 381ms/step - loss: 0.2366 - dice_coef: 0.7629 - iou: 0.6170 - recall_5: 0.9698 - precision_5: 0.8794 - val_loss: 0.3298 - val_dice_coef: 0.6695 - val_iou: 0.5036 - val_recall_5: 0.8948 - val_precision_5: 0.7277 - lr: 1.0000e-06\n",
            "Epoch 43/50\n",
            "45/45 [==============================] - ETA: 0s - loss: 0.2359 - dice_coef: 0.7638 - iou: 0.6182 - recall_5: 0.9697 - precision_5: 0.8809\n",
            "Epoch 43: val_loss did not improve from 0.32976\n",
            "45/45 [==============================] - 15s 338ms/step - loss: 0.2359 - dice_coef: 0.7638 - iou: 0.6182 - recall_5: 0.9697 - precision_5: 0.8809 - val_loss: 0.3331 - val_dice_coef: 0.6622 - val_iou: 0.4954 - val_recall_5: 0.8586 - val_precision_5: 0.7551 - lr: 1.0000e-06\n",
            "Epoch 44/50\n",
            "45/45 [==============================] - ETA: 0s - loss: 0.2352 - dice_coef: 0.7645 - iou: 0.6191 - recall_5: 0.9690 - precision_5: 0.8836\n",
            "Epoch 44: val_loss did not improve from 0.32976\n",
            "45/45 [==============================] - 15s 330ms/step - loss: 0.2352 - dice_coef: 0.7645 - iou: 0.6191 - recall_5: 0.9690 - precision_5: 0.8836 - val_loss: 0.3325 - val_dice_coef: 0.6611 - val_iou: 0.4945 - val_recall_5: 0.8856 - val_precision_5: 0.7271 - lr: 1.0000e-06\n",
            "Epoch 45/50\n",
            "45/45 [==============================] - ETA: 0s - loss: 0.2338 - dice_coef: 0.7666 - iou: 0.6217 - recall_5: 0.9711 - precision_5: 0.8831\n",
            "Epoch 45: val_loss did not improve from 0.32976\n",
            "45/45 [==============================] - 15s 325ms/step - loss: 0.2338 - dice_coef: 0.7666 - iou: 0.6217 - recall_5: 0.9711 - precision_5: 0.8831 - val_loss: 0.3337 - val_dice_coef: 0.6668 - val_iou: 0.5005 - val_recall_5: 0.8601 - val_precision_5: 0.7504 - lr: 1.0000e-06\n",
            "Epoch 46/50\n",
            "45/45 [==============================] - ETA: 0s - loss: 0.2334 - dice_coef: 0.7666 - iou: 0.6218 - recall_5: 0.9699 - precision_5: 0.8857\n",
            "Epoch 46: val_loss did not improve from 0.32976\n",
            "45/45 [==============================] - 15s 329ms/step - loss: 0.2334 - dice_coef: 0.7666 - iou: 0.6218 - recall_5: 0.9699 - precision_5: 0.8857 - val_loss: 0.3329 - val_dice_coef: 0.6681 - val_iou: 0.5018 - val_recall_5: 0.8862 - val_precision_5: 0.7233 - lr: 1.0000e-06\n",
            "Epoch 47/50\n",
            "45/45 [==============================] - ETA: 0s - loss: 0.2325 - dice_coef: 0.7672 - iou: 0.6225 - recall_5: 0.9703 - precision_5: 0.8866\n",
            "Epoch 47: val_loss did not improve from 0.32976\n",
            "45/45 [==============================] - 15s 327ms/step - loss: 0.2325 - dice_coef: 0.7672 - iou: 0.6225 - recall_5: 0.9703 - precision_5: 0.8866 - val_loss: 0.3306 - val_dice_coef: 0.6662 - val_iou: 0.4998 - val_recall_5: 0.8841 - val_precision_5: 0.7322 - lr: 1.0000e-06\n",
            "Epoch 48/50\n",
            "45/45 [==============================] - ETA: 0s - loss: 0.2323 - dice_coef: 0.7680 - iou: 0.6236 - recall_5: 0.9698 - precision_5: 0.8870\n",
            "Epoch 48: val_loss did not improve from 0.32976\n",
            "45/45 [==============================] - 15s 322ms/step - loss: 0.2323 - dice_coef: 0.7680 - iou: 0.6236 - recall_5: 0.9698 - precision_5: 0.8870 - val_loss: 0.3301 - val_dice_coef: 0.6684 - val_iou: 0.5023 - val_recall_5: 0.8837 - val_precision_5: 0.7331 - lr: 1.0000e-06\n",
            "Epoch 49/50\n",
            "45/45 [==============================] - ETA: 0s - loss: 0.2305 - dice_coef: 0.7695 - iou: 0.6255 - recall_5: 0.9717 - precision_5: 0.8884\n",
            "Epoch 49: val_loss did not improve from 0.32976\n",
            "45/45 [==============================] - 15s 334ms/step - loss: 0.2305 - dice_coef: 0.7695 - iou: 0.6255 - recall_5: 0.9717 - precision_5: 0.8884 - val_loss: 0.3307 - val_dice_coef: 0.6704 - val_iou: 0.5044 - val_recall_5: 0.8654 - val_precision_5: 0.7476 - lr: 1.0000e-06\n",
            "Epoch 50/50\n",
            "45/45 [==============================] - ETA: 0s - loss: 0.2314 - dice_coef: 0.7688 - iou: 0.6249 - recall_5: 0.9701 - precision_5: 0.8869\n",
            "Epoch 50: val_loss did not improve from 0.32976\n",
            "45/45 [==============================] - 15s 323ms/step - loss: 0.2314 - dice_coef: 0.7688 - iou: 0.6249 - recall_5: 0.9701 - precision_5: 0.8869 - val_loss: 0.3313 - val_dice_coef: 0.6645 - val_iou: 0.4982 - val_recall_5: 0.8648 - val_precision_5: 0.7463 - lr: 1.0000e-06\n"
          ]
        },
        {
          "output_type": "execute_result",
          "data": {
            "text/plain": [
              "<keras.callbacks.History at 0x7f7de4495f00>"
            ]
          },
          "metadata": {},
          "execution_count": 71
        }
      ]
    },
    {
      "cell_type": "code",
      "source": [
        "unet = load_model(\"/content/drive/MyDrive/CNN_Models/unet_for_skull_stripping.h5\")"
      ],
      "metadata": {
        "id": "Bw-Ky2zwCrLo"
      },
      "execution_count": null,
      "outputs": []
    },
    {
      "cell_type": "code",
      "source": [
        "for img, msk in tqdm(zip(test_images, test_masks), total=len(test_images)):\n",
        "  image_name = img.split(\"/\")[-1]\n",
        "\n",
        "  ori_x = cv2.imread(img, cv2.IMREAD_COLOR)\n",
        "  ori_x = cv2.resize(ori_x, (W,H))\n",
        "  x = ori_x / 255.0\n",
        "  x = x.astype(np.float32)\n",
        "  x = np.expand_dims(x, axis=0)\n",
        "\n",
        "  ori_y = cv2.imread(msk, cv2.IMREAD_GRAYSCALE)\n",
        "  ori_y = cv2.resize(ori_y, (W,H))\n",
        "  ori_y = np.expand_dims(ori_y, axis=-1)\n",
        "  \n",
        "  y_pred = model.predict(x)[0] > 0.5  \n",
        "  y_pred = y_pred.astype(np.int32)\n",
        "  y_pred = y_pred.reshape(256, 256, 1)\n",
        "\n",
        "  print(ori_x.shape, ori_y.shape, y_pred.shape)\n",
        "  save_image_path = f\"/content/predicted/{image_name}\"\n",
        "\n",
        "  sep_line = np.ones((H, 10, 3)) * 255\n",
        "  cat_image = np.concatenate([ori_y, y_pred*255], axis=1)\n",
        "  cv2.imwrite(save_image_path, cat_image)"
      ],
      "metadata": {
        "id": "JoheNcmU8eA_",
        "colab": {
          "base_uri": "https://localhost:8080/"
        },
        "outputId": "3efa59e4-80f0-46ae-9dcc-1e833792d52b"
      },
      "execution_count": 72,
      "outputs": [
        {
          "output_type": "stream",
          "name": "stderr",
          "text": [
            "\r  0%|          | 0/72 [00:00<?, ?it/s]"
          ]
        },
        {
          "output_type": "stream",
          "name": "stdout",
          "text": [
            "1/1 [==============================] - 0s 20ms/step\n",
            "(256, 256, 3) (256, 256, 1) (256, 256, 1)\n",
            "1/1 [==============================] - 0s 21ms/step\n"
          ]
        },
        {
          "output_type": "stream",
          "name": "stderr",
          "text": [
            "\r  3%|▎         | 2/72 [00:00<00:05, 12.85it/s]"
          ]
        },
        {
          "output_type": "stream",
          "name": "stdout",
          "text": [
            "(256, 256, 3) (256, 256, 1) (256, 256, 1)\n",
            "1/1 [==============================] - 0s 19ms/step\n",
            "(256, 256, 3) (256, 256, 1) (256, 256, 1)\n",
            "1/1 [==============================] - 0s 20ms/step\n"
          ]
        },
        {
          "output_type": "stream",
          "name": "stderr",
          "text": [
            "\r  6%|▌         | 4/72 [00:00<00:05, 12.43it/s]"
          ]
        },
        {
          "output_type": "stream",
          "name": "stdout",
          "text": [
            "(256, 256, 3) (256, 256, 1) (256, 256, 1)\n",
            "1/1 [==============================] - 0s 21ms/step\n",
            "(256, 256, 3) (256, 256, 1) (256, 256, 1)\n",
            "1/1 [==============================] - 0s 19ms/step\n"
          ]
        },
        {
          "output_type": "stream",
          "name": "stderr",
          "text": [
            "\r  8%|▊         | 6/72 [00:00<00:05, 12.19it/s]"
          ]
        },
        {
          "output_type": "stream",
          "name": "stdout",
          "text": [
            "(256, 256, 3) (256, 256, 1) (256, 256, 1)\n",
            "1/1 [==============================] - 0s 21ms/step\n",
            "(256, 256, 3) (256, 256, 1) (256, 256, 1)\n",
            "1/1 [==============================] - 0s 21ms/step\n"
          ]
        },
        {
          "output_type": "stream",
          "name": "stderr",
          "text": [
            "\r 11%|█         | 8/72 [00:00<00:05, 12.20it/s]"
          ]
        },
        {
          "output_type": "stream",
          "name": "stdout",
          "text": [
            "(256, 256, 3) (256, 256, 1) (256, 256, 1)\n",
            "1/1 [==============================] - 0s 19ms/step\n",
            "(256, 256, 3) (256, 256, 1) (256, 256, 1)\n",
            "1/1 [==============================] - 0s 18ms/step\n"
          ]
        },
        {
          "output_type": "stream",
          "name": "stderr",
          "text": [
            "\r 14%|█▍        | 10/72 [00:00<00:04, 12.53it/s]"
          ]
        },
        {
          "output_type": "stream",
          "name": "stdout",
          "text": [
            "(256, 256, 3) (256, 256, 1) (256, 256, 1)\n",
            "1/1 [==============================] - 0s 19ms/step\n",
            "(256, 256, 3) (256, 256, 1) (256, 256, 1)\n",
            "1/1 [==============================] - 0s 21ms/step\n"
          ]
        },
        {
          "output_type": "stream",
          "name": "stderr",
          "text": [
            "\r 17%|█▋        | 12/72 [00:00<00:04, 12.68it/s]"
          ]
        },
        {
          "output_type": "stream",
          "name": "stdout",
          "text": [
            "(256, 256, 3) (256, 256, 1) (256, 256, 1)\n",
            "1/1 [==============================] - 0s 21ms/step\n",
            "(256, 256, 3) (256, 256, 1) (256, 256, 1)\n",
            "1/1 [==============================] - 0s 18ms/step\n"
          ]
        },
        {
          "output_type": "stream",
          "name": "stderr",
          "text": [
            "\r 19%|█▉        | 14/72 [00:01<00:04, 12.50it/s]"
          ]
        },
        {
          "output_type": "stream",
          "name": "stdout",
          "text": [
            "(256, 256, 3) (256, 256, 1) (256, 256, 1)\n",
            "1/1 [==============================] - 0s 25ms/step\n",
            "(256, 256, 3) (256, 256, 1) (256, 256, 1)\n",
            "1/1 [==============================] - 0s 21ms/step\n"
          ]
        },
        {
          "output_type": "stream",
          "name": "stderr",
          "text": [
            "\r 22%|██▏       | 16/72 [00:01<00:04, 12.30it/s]"
          ]
        },
        {
          "output_type": "stream",
          "name": "stdout",
          "text": [
            "(256, 256, 3) (256, 256, 1) (256, 256, 1)\n",
            "1/1 [==============================] - 0s 21ms/step\n",
            "(256, 256, 3) (256, 256, 1) (256, 256, 1)\n",
            "1/1 [==============================] - 0s 20ms/step\n"
          ]
        },
        {
          "output_type": "stream",
          "name": "stderr",
          "text": [
            "\r 25%|██▌       | 18/72 [00:01<00:04, 12.23it/s]"
          ]
        },
        {
          "output_type": "stream",
          "name": "stdout",
          "text": [
            "(256, 256, 3) (256, 256, 1) (256, 256, 1)\n",
            "1/1 [==============================] - 0s 21ms/step\n",
            "(256, 256, 3) (256, 256, 1) (256, 256, 1)\n",
            "1/1 [==============================] - 0s 20ms/step\n"
          ]
        },
        {
          "output_type": "stream",
          "name": "stderr",
          "text": [
            "\r 28%|██▊       | 20/72 [00:01<00:04, 12.19it/s]"
          ]
        },
        {
          "output_type": "stream",
          "name": "stdout",
          "text": [
            "(256, 256, 3) (256, 256, 1) (256, 256, 1)\n",
            "1/1 [==============================] - 0s 21ms/step\n",
            "(256, 256, 3) (256, 256, 1) (256, 256, 1)\n",
            "1/1 [==============================] - 0s 20ms/step\n"
          ]
        },
        {
          "output_type": "stream",
          "name": "stderr",
          "text": [
            "\r 31%|███       | 22/72 [00:01<00:04, 12.29it/s]"
          ]
        },
        {
          "output_type": "stream",
          "name": "stdout",
          "text": [
            "(256, 256, 3) (256, 256, 1) (256, 256, 1)\n",
            "1/1 [==============================] - 0s 20ms/step\n",
            "(256, 256, 3) (256, 256, 1) (256, 256, 1)\n",
            "1/1 [==============================] - 0s 21ms/step\n"
          ]
        },
        {
          "output_type": "stream",
          "name": "stderr",
          "text": [
            "\r 33%|███▎      | 24/72 [00:01<00:03, 12.10it/s]"
          ]
        },
        {
          "output_type": "stream",
          "name": "stdout",
          "text": [
            "(256, 256, 3) (256, 256, 1) (256, 256, 1)\n",
            "1/1 [==============================] - 0s 19ms/step\n",
            "(256, 256, 3) (256, 256, 1) (256, 256, 1)\n",
            "1/1 [==============================] - 0s 20ms/step\n"
          ]
        },
        {
          "output_type": "stream",
          "name": "stderr",
          "text": [
            "\r 36%|███▌      | 26/72 [00:02<00:03, 12.47it/s]"
          ]
        },
        {
          "output_type": "stream",
          "name": "stdout",
          "text": [
            "(256, 256, 3) (256, 256, 1) (256, 256, 1)\n",
            "1/1 [==============================] - 0s 21ms/step\n",
            "(256, 256, 3) (256, 256, 1) (256, 256, 1)\n",
            "1/1 [==============================] - 0s 20ms/step\n"
          ]
        },
        {
          "output_type": "stream",
          "name": "stderr",
          "text": [
            "\r 39%|███▉      | 28/72 [00:02<00:03, 12.36it/s]"
          ]
        },
        {
          "output_type": "stream",
          "name": "stdout",
          "text": [
            "(256, 256, 3) (256, 256, 1) (256, 256, 1)\n",
            "1/1 [==============================] - 0s 20ms/step\n",
            "(256, 256, 3) (256, 256, 1) (256, 256, 1)\n",
            "1/1 [==============================] - 0s 21ms/step\n"
          ]
        },
        {
          "output_type": "stream",
          "name": "stderr",
          "text": [
            "\r 42%|████▏     | 30/72 [00:02<00:03, 12.37it/s]"
          ]
        },
        {
          "output_type": "stream",
          "name": "stdout",
          "text": [
            "(256, 256, 3) (256, 256, 1) (256, 256, 1)\n",
            "1/1 [==============================] - 0s 18ms/step\n",
            "(256, 256, 3) (256, 256, 1) (256, 256, 1)\n",
            "1/1 [==============================] - 0s 18ms/step\n"
          ]
        },
        {
          "output_type": "stream",
          "name": "stderr",
          "text": [
            "\r 44%|████▍     | 32/72 [00:02<00:03, 12.39it/s]"
          ]
        },
        {
          "output_type": "stream",
          "name": "stdout",
          "text": [
            "(256, 256, 3) (256, 256, 1) (256, 256, 1)\n",
            "1/1 [==============================] - 0s 20ms/step\n",
            "(256, 256, 3) (256, 256, 1) (256, 256, 1)\n",
            "1/1 [==============================] - 0s 19ms/step\n"
          ]
        },
        {
          "output_type": "stream",
          "name": "stderr",
          "text": [
            "\r 47%|████▋     | 34/72 [00:02<00:03, 11.99it/s]"
          ]
        },
        {
          "output_type": "stream",
          "name": "stdout",
          "text": [
            "(256, 256, 3) (256, 256, 1) (256, 256, 1)\n",
            "1/1 [==============================] - 0s 21ms/step\n",
            "(256, 256, 3) (256, 256, 1) (256, 256, 1)\n",
            "1/1 [==============================] - 0s 20ms/step\n"
          ]
        },
        {
          "output_type": "stream",
          "name": "stderr",
          "text": [
            "\r 50%|█████     | 36/72 [00:02<00:02, 12.08it/s]"
          ]
        },
        {
          "output_type": "stream",
          "name": "stdout",
          "text": [
            "(256, 256, 3) (256, 256, 1) (256, 256, 1)\n",
            "1/1 [==============================] - 0s 20ms/step\n",
            "(256, 256, 3) (256, 256, 1) (256, 256, 1)\n",
            "1/1 [==============================] - 0s 20ms/step\n"
          ]
        },
        {
          "output_type": "stream",
          "name": "stderr",
          "text": [
            "\r 53%|█████▎    | 38/72 [00:03<00:02, 12.25it/s]"
          ]
        },
        {
          "output_type": "stream",
          "name": "stdout",
          "text": [
            "(256, 256, 3) (256, 256, 1) (256, 256, 1)\n",
            "1/1 [==============================] - 0s 22ms/step\n",
            "(256, 256, 3) (256, 256, 1) (256, 256, 1)\n",
            "1/1 [==============================] - 0s 21ms/step\n"
          ]
        },
        {
          "output_type": "stream",
          "name": "stderr",
          "text": [
            "\r 56%|█████▌    | 40/72 [00:03<00:02, 11.96it/s]"
          ]
        },
        {
          "output_type": "stream",
          "name": "stdout",
          "text": [
            "(256, 256, 3) (256, 256, 1) (256, 256, 1)\n",
            "1/1 [==============================] - 0s 18ms/step\n",
            "(256, 256, 3) (256, 256, 1) (256, 256, 1)\n",
            "1/1 [==============================] - 0s 20ms/step\n"
          ]
        },
        {
          "output_type": "stream",
          "name": "stderr",
          "text": [
            "\r 58%|█████▊    | 42/72 [00:03<00:02, 12.18it/s]"
          ]
        },
        {
          "output_type": "stream",
          "name": "stdout",
          "text": [
            "(256, 256, 3) (256, 256, 1) (256, 256, 1)\n",
            "1/1 [==============================] - 0s 20ms/step\n",
            "(256, 256, 3) (256, 256, 1) (256, 256, 1)\n",
            "1/1 [==============================] - 0s 20ms/step\n"
          ]
        },
        {
          "output_type": "stream",
          "name": "stderr",
          "text": [
            "\r 61%|██████    | 44/72 [00:03<00:02, 12.23it/s]"
          ]
        },
        {
          "output_type": "stream",
          "name": "stdout",
          "text": [
            "(256, 256, 3) (256, 256, 1) (256, 256, 1)\n",
            "1/1 [==============================] - 0s 20ms/step\n",
            "(256, 256, 3) (256, 256, 1) (256, 256, 1)\n",
            "1/1 [==============================] - 0s 18ms/step\n"
          ]
        },
        {
          "output_type": "stream",
          "name": "stderr",
          "text": [
            "\r 64%|██████▍   | 46/72 [00:03<00:02, 12.54it/s]"
          ]
        },
        {
          "output_type": "stream",
          "name": "stdout",
          "text": [
            "(256, 256, 3) (256, 256, 1) (256, 256, 1)\n",
            "1/1 [==============================] - 0s 21ms/step\n",
            "(256, 256, 3) (256, 256, 1) (256, 256, 1)\n",
            "1/1 [==============================] - 0s 21ms/step\n"
          ]
        },
        {
          "output_type": "stream",
          "name": "stderr",
          "text": [
            "\r 67%|██████▋   | 48/72 [00:03<00:01, 12.15it/s]"
          ]
        },
        {
          "output_type": "stream",
          "name": "stdout",
          "text": [
            "(256, 256, 3) (256, 256, 1) (256, 256, 1)\n",
            "1/1 [==============================] - 0s 19ms/step\n",
            "(256, 256, 3) (256, 256, 1) (256, 256, 1)\n",
            "1/1 [==============================] - 0s 20ms/step\n"
          ]
        },
        {
          "output_type": "stream",
          "name": "stderr",
          "text": [
            "\r 69%|██████▉   | 50/72 [00:04<00:01, 12.37it/s]"
          ]
        },
        {
          "output_type": "stream",
          "name": "stdout",
          "text": [
            "(256, 256, 3) (256, 256, 1) (256, 256, 1)\n",
            "1/1 [==============================] - 0s 19ms/step\n",
            "(256, 256, 3) (256, 256, 1) (256, 256, 1)\n",
            "1/1 [==============================] - 0s 19ms/step\n"
          ]
        },
        {
          "output_type": "stream",
          "name": "stderr",
          "text": [
            "\r 72%|███████▏  | 52/72 [00:04<00:01, 12.11it/s]"
          ]
        },
        {
          "output_type": "stream",
          "name": "stdout",
          "text": [
            "(256, 256, 3) (256, 256, 1) (256, 256, 1)\n",
            "1/1 [==============================] - 0s 20ms/step\n",
            "(256, 256, 3) (256, 256, 1) (256, 256, 1)\n",
            "1/1 [==============================] - 0s 20ms/step\n"
          ]
        },
        {
          "output_type": "stream",
          "name": "stderr",
          "text": [
            "\r 75%|███████▌  | 54/72 [00:04<00:01, 12.34it/s]"
          ]
        },
        {
          "output_type": "stream",
          "name": "stdout",
          "text": [
            "(256, 256, 3) (256, 256, 1) (256, 256, 1)\n",
            "1/1 [==============================] - 0s 22ms/step\n",
            "(256, 256, 3) (256, 256, 1) (256, 256, 1)\n",
            "1/1 [==============================] - 0s 19ms/step\n"
          ]
        },
        {
          "output_type": "stream",
          "name": "stderr",
          "text": [
            "\r 78%|███████▊  | 56/72 [00:04<00:01, 12.28it/s]"
          ]
        },
        {
          "output_type": "stream",
          "name": "stdout",
          "text": [
            "(256, 256, 3) (256, 256, 1) (256, 256, 1)\n",
            "1/1 [==============================] - 0s 18ms/step\n",
            "(256, 256, 3) (256, 256, 1) (256, 256, 1)\n",
            "1/1 [==============================] - 0s 18ms/step\n"
          ]
        },
        {
          "output_type": "stream",
          "name": "stderr",
          "text": [
            "\r 81%|████████  | 58/72 [00:04<00:01, 11.98it/s]"
          ]
        },
        {
          "output_type": "stream",
          "name": "stdout",
          "text": [
            "(256, 256, 3) (256, 256, 1) (256, 256, 1)\n",
            "1/1 [==============================] - 0s 18ms/step\n",
            "(256, 256, 3) (256, 256, 1) (256, 256, 1)\n",
            "1/1 [==============================] - 0s 22ms/step\n"
          ]
        },
        {
          "output_type": "stream",
          "name": "stderr",
          "text": [
            "\r 83%|████████▎ | 60/72 [00:04<00:00, 12.12it/s]"
          ]
        },
        {
          "output_type": "stream",
          "name": "stdout",
          "text": [
            "(256, 256, 3) (256, 256, 1) (256, 256, 1)\n",
            "1/1 [==============================] - 0s 22ms/step\n",
            "(256, 256, 3) (256, 256, 1) (256, 256, 1)\n",
            "1/1 [==============================] - 0s 21ms/step\n"
          ]
        },
        {
          "output_type": "stream",
          "name": "stderr",
          "text": [
            "\r 86%|████████▌ | 62/72 [00:05<00:00, 12.17it/s]"
          ]
        },
        {
          "output_type": "stream",
          "name": "stdout",
          "text": [
            "(256, 256, 3) (256, 256, 1) (256, 256, 1)\n",
            "1/1 [==============================] - 0s 19ms/step\n",
            "(256, 256, 3) (256, 256, 1) (256, 256, 1)\n",
            "1/1 [==============================] - 0s 20ms/step\n"
          ]
        },
        {
          "output_type": "stream",
          "name": "stderr",
          "text": [
            "\r 89%|████████▉ | 64/72 [00:05<00:00, 12.26it/s]"
          ]
        },
        {
          "output_type": "stream",
          "name": "stdout",
          "text": [
            "(256, 256, 3) (256, 256, 1) (256, 256, 1)\n",
            "1/1 [==============================] - 0s 19ms/step\n",
            "(256, 256, 3) (256, 256, 1) (256, 256, 1)\n",
            "1/1 [==============================] - 0s 19ms/step\n"
          ]
        },
        {
          "output_type": "stream",
          "name": "stderr",
          "text": [
            "\r 92%|█████████▏| 66/72 [00:05<00:00, 12.14it/s]"
          ]
        },
        {
          "output_type": "stream",
          "name": "stdout",
          "text": [
            "(256, 256, 3) (256, 256, 1) (256, 256, 1)\n",
            "1/1 [==============================] - 0s 19ms/step\n",
            "(256, 256, 3) (256, 256, 1) (256, 256, 1)\n",
            "1/1 [==============================] - 0s 20ms/step\n"
          ]
        },
        {
          "output_type": "stream",
          "name": "stderr",
          "text": [
            "\r 94%|█████████▍| 68/72 [00:05<00:00, 12.11it/s]"
          ]
        },
        {
          "output_type": "stream",
          "name": "stdout",
          "text": [
            "(256, 256, 3) (256, 256, 1) (256, 256, 1)\n",
            "1/1 [==============================] - 0s 20ms/step\n",
            "(256, 256, 3) (256, 256, 1) (256, 256, 1)\n",
            "1/1 [==============================] - 0s 20ms/step\n"
          ]
        },
        {
          "output_type": "stream",
          "name": "stderr",
          "text": [
            "\r 97%|█████████▋| 70/72 [00:05<00:00, 12.03it/s]"
          ]
        },
        {
          "output_type": "stream",
          "name": "stdout",
          "text": [
            "(256, 256, 3) (256, 256, 1) (256, 256, 1)\n",
            "1/1 [==============================] - 0s 19ms/step\n",
            "(256, 256, 3) (256, 256, 1) (256, 256, 1)\n",
            "1/1 [==============================] - 0s 22ms/step\n"
          ]
        },
        {
          "output_type": "stream",
          "name": "stderr",
          "text": [
            "100%|██████████| 72/72 [00:05<00:00, 12.22it/s]"
          ]
        },
        {
          "output_type": "stream",
          "name": "stdout",
          "text": [
            "(256, 256, 3) (256, 256, 1) (256, 256, 1)\n"
          ]
        },
        {
          "output_type": "stream",
          "name": "stderr",
          "text": [
            "\n"
          ]
        }
      ]
    },
    {
      "cell_type": "code",
      "source": [
        "i = \"/content/predicted/2300.png\"\n",
        "i = cv2.imread(i, cv2.IMREAD_GRAYSCALE)\n",
        "plt.imshow(i)"
      ],
      "metadata": {
        "colab": {
          "base_uri": "https://localhost:8080/",
          "height": 330
        },
        "id": "p0n7g2gMFZ6f",
        "outputId": "0a622894-1010-42db-c9d4-d2775892a225"
      },
      "execution_count": 79,
      "outputs": [
        {
          "output_type": "execute_result",
          "data": {
            "text/plain": [
              "<matplotlib.image.AxesImage at 0x7f7dd44720e0>"
            ]
          },
          "metadata": {},
          "execution_count": 79
        },
        {
          "output_type": "display_data",
          "data": {
            "text/plain": [
              "<Figure size 640x480 with 1 Axes>"
            ],
            "image/png": "[encoded data removed]"
          },
          "metadata": {}
        }
      ]
    },
    {
      "cell_type": "code",
      "source": [],
      "metadata": {
        "id": "gVWZ4vaUORnY"
      },
      "execution_count": null,
      "outputs": []
    }
  ]
}