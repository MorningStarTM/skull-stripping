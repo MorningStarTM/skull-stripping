{
 "cells": [
  {
   "cell_type": "code",
   "execution_count": 2,
   "id": "e08f798a",
   "metadata": {},
   "outputs": [],
   "source": [
    "import os\n",
    "import cv2\n",
    "from tqdm import tqdm\n",
    "from glob import glob\n",
    "from albumentations import CenterCrop, RandomRotate90, GridDistortion, HorizontalFlip, VerticalFlip"
   ]
  },
  {
   "cell_type": "code",
   "execution_count": 37,
   "id": "7c1e9f21",
   "metadata": {},
   "outputs": [],
   "source": [
    "H, W = 512,512\n",
    "cc = 384"
   ]
  },
  {
   "cell_type": "code",
   "execution_count": 3,
   "id": "2391e217",
   "metadata": {},
   "outputs": [],
   "source": [
    "#read the data\n",
    "def load_data(path):\n",
    "    images = sorted(glob(os.path.join(path, \"image_1/*\")))\n",
    "    masks = sorted(glob(os.path.join(path, \"mask_1/*\")))\n",
    "    return images, masks"
   ]
  },
  {
   "cell_type": "code",
   "execution_count": 4,
   "id": "44ea962b",
   "metadata": {},
   "outputs": [],
   "source": [
    "#create folder for save augmented images\n",
    "def create_dir(path):\n",
    "    if not os.path.exists(path):\n",
    "        os.makedirs(path)"
   ]
  },
  {
   "cell_type": "code",
   "execution_count": 41,
   "id": "2394b38f",
   "metadata": {},
   "outputs": [],
   "source": [
    "#augmentation\n",
    "def augment_data(images, masks, save_path, augment=True):\n",
    "\n",
    "    for x, y in tqdm(zip(images, masks), total=(len(images))):\n",
    "        name = x.split(\"\\\\\")[-1].split(\".\")\n",
    "        image_name = name[0]\n",
    "        image_ext = name[1]\n",
    "        \n",
    "        name = y.split(\"\\\\\")[-1].split(\".\")\n",
    "        mask_name = name[0]\n",
    "        mask_ext = name[1]\n",
    "        \n",
    "        x = cv2.imread(x, cv2.IMREAD_COLOR)\n",
    "        y = cv2.imread(y, cv2.IMREAD_COLOR)\n",
    "        \n",
    "        if augment == True:\n",
    "            aug = CenterCrop(cc, cc, p=1.0)\n",
    "            augemented = aug(image=x, mask=y)\n",
    "            x1 = augemented[\"image\"]\n",
    "            y1 = augemented[\"mask\"]\n",
    "            \n",
    "            aug = RandomRotate90(p=1.0)\n",
    "            augemented = aug(image=x, mask=y)\n",
    "            x2 = augemented[\"image\"]\n",
    "            y2 = augemented[\"mask\"]\n",
    "            \n",
    "            save_images = [x, x1, x2]\n",
    "            save_masks = [y, y1, y2]\n",
    "        else:\n",
    "            save_images = [x]\n",
    "            save_masks = [y]\n",
    "        \n",
    "        idx = 0\n",
    "        for i, m in zip(save_images, save_masks):\n",
    "            i = cv2.resize(i, (W, H))\n",
    "            m = cv2.resize(m, (W, H))\n",
    "            \n",
    "            temp_img_name = f\"{image_name}_{idx}.{image_ext}\"\n",
    "            temp_mask_name = f\"{mask_name}_{idx}.{mask_ext}\"\n",
    "            \n",
    "            image_path = os.path.join(save_path, \"images\", temp_img_name)\n",
    "            mask_path = os.path.join(save_path, \"masks\", temp_mask_name)\n",
    "            \n",
    "            cv2.imwrite(image_path, i)\n",
    "            cv2.imwrite(mask_path, m)\n",
    "            idx += 1"
   ]
  },
  {
   "cell_type": "code",
   "execution_count": 6,
   "id": "22ec8b79",
   "metadata": {},
   "outputs": [],
   "source": [
    "path = \"C:\\\\Users\\Dark-Devil\\\\Desktop\\\\skull_strpping - Copy\\\\train\""
   ]
  },
  {
   "cell_type": "code",
   "execution_count": 7,
   "id": "05b166f2",
   "metadata": {},
   "outputs": [],
   "source": [
    "images, masks = load_data(path)"
   ]
  },
  {
   "cell_type": "code",
   "execution_count": 8,
   "id": "ae5b2039",
   "metadata": {},
   "outputs": [
    {
     "name": "stdout",
     "output_type": "stream",
     "text": [
      "Original Images : 722 - Original masks: 722\n"
     ]
    }
   ],
   "source": [
    "print(f'Original Images : {len(images)} - Original masks: {len(masks)}')"
   ]
  },
  {
   "cell_type": "code",
   "execution_count": 9,
   "id": "72146968",
   "metadata": {},
   "outputs": [],
   "source": [
    "create_dir(\"train/images\")\n",
    "create_dir(\"train/masks\")"
   ]
  },
  {
   "cell_type": "code",
   "execution_count": 12,
   "id": "dab5314b",
   "metadata": {},
   "outputs": [],
   "source": [
    "save_path = \"train\""
   ]
  },
  {
   "cell_type": "code",
   "execution_count": 42,
   "id": "cdc6bb14",
   "metadata": {},
   "outputs": [
    {
     "name": "stderr",
     "output_type": "stream",
     "text": [
      "100%|████████████████████████████████████████████████████████████████████████████████| 722/722 [01:09<00:00, 10.39it/s]\n"
     ]
    }
   ],
   "source": [
    "augment_data(images, masks, save_path, augment=True)"
   ]
  },
  {
   "cell_type": "code",
   "execution_count": null,
   "id": "d7b4d0dc",
   "metadata": {},
   "outputs": [],
   "source": []
  }
 ],
 "metadata": {
  "kernelspec": {
   "display_name": "Python 3 (ipykernel)",
   "language": "python",
   "name": "python3"
  },
  "language_info": {
   "codemirror_mode": {
    "name": "ipython",
    "version": 3
   },
   "file_extension": ".py",
   "mimetype": "text/x-python",
   "name": "python",
   "nbconvert_exporter": "python",
   "pygments_lexer": "ipython3",
   "version": "3.9.13"
  }
 },
 "nbformat": 4,
 "nbformat_minor": 5
}
