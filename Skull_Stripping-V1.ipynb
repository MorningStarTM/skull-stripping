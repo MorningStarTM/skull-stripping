{
  "nbformat": 4,
  "nbformat_minor": 0,
  "metadata": {
    "colab": {
      "provenance": [],
      "gpuType": "T4",
      "mount_file_id": "11RZAPHbtPdgVdD-0TDvrDiKQXp5PM8P_",
      "authorship_tag": "ABX9TyNURbtbXDU3igbu5WTARNQG",
      "include_colab_link": true
    },
    "kernelspec": {
      "name": "python3",
      "display_name": "Python 3"
    },
    "language_info": {
      "name": "python"
    },
    "accelerator": "GPU",
    "gpuClass": "standard"
  },
  "cells": [
    {
      "cell_type": "markdown",
      "metadata": {
        "id": "view-in-github",
        "colab_type": "text"
      },
      "source": [
        "<a href=\"https://colab.research.google.com/github/MorningStarTM/skull-stripping/blob/main/Skull_Stripping-V1.ipynb\" target=\"_parent\"><img src=\"https://colab.research.google.com/assets/colab-badge.svg\" alt=\"Open In Colab\"/></a>"
      ]
    },
    {
      "cell_type": "code",
      "execution_count": 17,
      "metadata": {
        "id": "LU9BntwJG9GS"
      },
      "outputs": [],
      "source": [
        "import os\n",
        "import cv2\n",
        "import numpy as np\n",
        "import matplotlib.pyplot as plt\n",
        "import tensorflow as tf\n",
        "from glob import glob\n",
        "from tqdm import tqdm\n",
        "from tensorflow.keras.models import Model, load_model\n",
        "from sklearn.model_selection import train_test_split\n",
        "from tensorflow.keras.layers import Conv2D, Flatten, Dense, Conv2DTranspose, MaxPooling2D, ReLU, Input, BatchNormalization, concatenate, Lambda, Activation, Dropout\n",
        "from tensorflow.keras.metrics import Recall, Precision\n",
        "from tensorflow.keras.callbacks import ModelCheckpoint, CSVLogger, ReduceLROnPlateau"
      ]
    },
    {
      "cell_type": "code",
      "source": [
        "#Global variable\n",
        "BATCH_SIZE = 16\n",
        "W,H = 256, 256\n",
        "CHANNEL = 3"
      ],
      "metadata": {
        "id": "o2IUFH_SxuYz"
      },
      "execution_count": null,
      "outputs": []
    },
    {
      "cell_type": "markdown",
      "source": [
        "# U-NET"
      ],
      "metadata": {
        "id": "-ieAj5PbJSLB"
      }
    },
    {
      "cell_type": "code",
      "source": [
        "#input\n",
        "inputs = Input((256, 256, 3), 2)\n",
        "#scale the image between 0 - 255\n",
        "scale_img = Lambda(lambda x: x/255)(inputs)\n",
        "\n",
        "#convolutional layer\n",
        "c1 = Conv2D(16, (3,3), activation='relu', kernel_initializer='he_normal', padding='same')(scale_img)\n",
        "#dropout \n",
        "c1 = Dropout(0.1)(c1)\n",
        "c1 = Conv2D(16, (3,3), activation='relu', kernel_initializer='he_normal', padding='same')(c1)\n",
        "#pooling\n",
        "p1 = MaxPooling2D((2,2))(c1)\n",
        "\n",
        "c2 = Conv2D(32, (3,3), activation='relu', kernel_initializer='he_normal', padding='same')(p1)\n",
        "c2 = Dropout(0.1)(c2)\n",
        "c2 = Conv2D(32, (3,3), activation='relu', kernel_initializer='he_normal', padding='same')(c2)\n",
        "p2 = MaxPooling2D((2,2))(c2)\n",
        "\n",
        "c3 = Conv2D(64, (3,3), activation='relu', kernel_initializer='he_normal', padding='same')(p2)\n",
        "c3 = Dropout(0.1)(c3)\n",
        "c3 = Conv2D(64, (3,3), activation='relu', kernel_initializer='he_normal', padding='same')(c3)\n",
        "p3 = MaxPooling2D((2,2))(c3)\n",
        "\n",
        "c4 = Conv2D(128, (3,3), activation='relu', kernel_initializer='he_normal', padding='same')(p3)\n",
        "c4 = Dropout(0.2)(c4)\n",
        "c4 = Conv2D(128, (3,3), activation='relu', kernel_initializer='he_normal', padding='same')(c4)\n",
        "p4 = MaxPooling2D((2,2))(c4)\n",
        "\n",
        "c5 = Conv2D(256, (3,3), activation='relu', kernel_initializer='he_normal', padding='same')(p4)\n",
        "c5 = Dropout(0.2)(c5)\n",
        "c5 = Conv2D(256, (3,3), activation='relu', kernel_initializer='he_normal', padding='same')(c5)\n",
        "p5 = MaxPooling2D((2,2))(c5)\n",
        "\n",
        "c6 = Conv2D(512, (3,3), activation='relu', kernel_initializer='he_normal', padding='same')(p5)\n",
        "c6 = Dropout(0.2)(c6)\n",
        "c6 = Conv2D(512, (3,3), activation='relu', kernel_initializer='he_normal', padding='same')(c6)\n",
        "p6 = MaxPooling2D((2,2))(c6)\n",
        "\n",
        "u6 = Conv2DTranspose(256, (2,2), strides=(2,2), padding='same')(c6)\n",
        "u6 = concatenate([u6, c5])\n",
        "c6 = Conv2D(256, (3,3), activation='relu', kernel_initializer='he_normal', padding='same')(u6)\n",
        "c6 = Dropout(0.2)(c6)\n",
        "c6 = Conv2D(256, (3,3), activation='relu', kernel_initializer='he_normal', padding='same')(c6)\n",
        "\n",
        "u7 = Conv2DTranspose(128, (2,2), strides=(2,2), padding='same')(c6)\n",
        "u7 = concatenate([u7, c4])\n",
        "c7 = Conv2D(128, (3,3), activation='relu', kernel_initializer='he_normal', padding='same')(u7)\n",
        "c7 = Dropout(0.2)(c7)\n",
        "c7 = Conv2D(128, (3,3), activation='relu', kernel_initializer='he_normal', padding='same')(c7)\n",
        "\n",
        "u8 = Conv2DTranspose(64, (2,2), strides=(2,2), padding='same')(c7)\n",
        "u8 = concatenate([u8, c3])\n",
        "c8 = Conv2D(64, (3,3), activation='relu', kernel_initializer='he_normal', padding='same')(u8)\n",
        "c8 = Dropout(0.1)(c8)\n",
        "c8 = Conv2D(64, (3,3), activation='relu', kernel_initializer='he_normal', padding='same')(c8)\n",
        "\n",
        "u9 = Conv2DTranspose(32, (2,2), strides=(2,2), padding='same')(c8)\n",
        "u9 = concatenate([u9, c2])\n",
        "c9 = Conv2D(32, (3,3), activation='relu', kernel_initializer='he_normal', padding='same')(u9)\n",
        "c9 = Dropout(0.1)(c9)\n",
        "c9 = Conv2D(32, (3,3), activation='relu', kernel_initializer='he_normal', padding='same')(c9)\n",
        "\n",
        "u10 = Conv2DTranspose(16, (2,2), strides=(2,2), padding='same')(c9)\n",
        "u10 = concatenate([u10, c1])\n",
        "c10 = Conv2D(128, (3,3), activation='relu', kernel_initializer='he_normal', padding='same')(u10)\n",
        "c10 = Dropout(0.1)(c10)\n",
        "c10 = Conv2D(128, (3,3), activation='relu', kernel_initializer='he_normal', padding='same')(c10)\n",
        "\n",
        "outputs = Conv2D(1, (1,1), activation='sigmoid')(c10)\n",
        "\n",
        "model = Model(inputs=[inputs], outputs=[outputs])"
      ],
      "metadata": {
        "id": "HQYijUPVJRzn"
      },
      "execution_count": null,
      "outputs": []
    },
    {
      "cell_type": "code",
      "source": [
        "metrics_list = ['accuracy', Recall(), Precision()]"
      ],
      "metadata": {
        "id": "3CeguSofJQa6"
      },
      "execution_count": null,
      "outputs": []
    },
    {
      "cell_type": "code",
      "source": [
        "model.compile(optimizer='adam', loss='binary_crossentropy', metrics=metrics_list)\n",
        "model.summary()"
      ],
      "metadata": {
        "colab": {
          "base_uri": "https://localhost:8080/"
        },
        "id": "-qXG8fpDxXl_",
        "outputId": "b48edf6e-561f-4205-eb37-9a2d7f587e32"
      },
      "execution_count": null,
      "outputs": [
        {
          "output_type": "stream",
          "name": "stdout",
          "text": [
            "Model: \"model\"\n",
            "__________________________________________________________________________________________________\n",
            " Layer (type)                   Output Shape         Param #     Connected to                     \n",
            "==================================================================================================\n",
            " input_1 (InputLayer)           [(2, 256, 256, 3)]   0           []                               \n",
            "                                                                                                  \n",
            " lambda (Lambda)                (2, 256, 256, 3)     0           ['input_1[0][0]']                \n",
            "                                                                                                  \n",
            " conv2d (Conv2D)                (2, 256, 256, 16)    448         ['lambda[0][0]']                 \n",
            "                                                                                                  \n",
            " dropout (Dropout)              (2, 256, 256, 16)    0           ['conv2d[0][0]']                 \n",
            "                                                                                                  \n",
            " conv2d_1 (Conv2D)              (2, 256, 256, 16)    2320        ['dropout[0][0]']                \n",
            "                                                                                                  \n",
            " max_pooling2d (MaxPooling2D)   (2, 128, 128, 16)    0           ['conv2d_1[0][0]']               \n",
            "                                                                                                  \n",
            " conv2d_2 (Conv2D)              (2, 128, 128, 32)    4640        ['max_pooling2d[0][0]']          \n",
            "                                                                                                  \n",
            " dropout_1 (Dropout)            (2, 128, 128, 32)    0           ['conv2d_2[0][0]']               \n",
            "                                                                                                  \n",
            " conv2d_3 (Conv2D)              (2, 128, 128, 32)    9248        ['dropout_1[0][0]']              \n",
            "                                                                                                  \n",
            " max_pooling2d_1 (MaxPooling2D)  (2, 64, 64, 32)     0           ['conv2d_3[0][0]']               \n",
            "                                                                                                  \n",
            " conv2d_4 (Conv2D)              (2, 64, 64, 64)      18496       ['max_pooling2d_1[0][0]']        \n",
            "                                                                                                  \n",
            " dropout_2 (Dropout)            (2, 64, 64, 64)      0           ['conv2d_4[0][0]']               \n",
            "                                                                                                  \n",
            " conv2d_5 (Conv2D)              (2, 64, 64, 64)      36928       ['dropout_2[0][0]']              \n",
            "                                                                                                  \n",
            " max_pooling2d_2 (MaxPooling2D)  (2, 32, 32, 64)     0           ['conv2d_5[0][0]']               \n",
            "                                                                                                  \n",
            " conv2d_6 (Conv2D)              (2, 32, 32, 128)     73856       ['max_pooling2d_2[0][0]']        \n",
            "                                                                                                  \n",
            " dropout_3 (Dropout)            (2, 32, 32, 128)     0           ['conv2d_6[0][0]']               \n",
            "                                                                                                  \n",
            " conv2d_7 (Conv2D)              (2, 32, 32, 128)     147584      ['dropout_3[0][0]']              \n",
            "                                                                                                  \n",
            " max_pooling2d_3 (MaxPooling2D)  (2, 16, 16, 128)    0           ['conv2d_7[0][0]']               \n",
            "                                                                                                  \n",
            " conv2d_8 (Conv2D)              (2, 16, 16, 256)     295168      ['max_pooling2d_3[0][0]']        \n",
            "                                                                                                  \n",
            " dropout_4 (Dropout)            (2, 16, 16, 256)     0           ['conv2d_8[0][0]']               \n",
            "                                                                                                  \n",
            " conv2d_9 (Conv2D)              (2, 16, 16, 256)     590080      ['dropout_4[0][0]']              \n",
            "                                                                                                  \n",
            " max_pooling2d_4 (MaxPooling2D)  (2, 8, 8, 256)      0           ['conv2d_9[0][0]']               \n",
            "                                                                                                  \n",
            " conv2d_10 (Conv2D)             (2, 8, 8, 512)       1180160     ['max_pooling2d_4[0][0]']        \n",
            "                                                                                                  \n",
            " dropout_5 (Dropout)            (2, 8, 8, 512)       0           ['conv2d_10[0][0]']              \n",
            "                                                                                                  \n",
            " conv2d_11 (Conv2D)             (2, 8, 8, 512)       2359808     ['dropout_5[0][0]']              \n",
            "                                                                                                  \n",
            " conv2d_transpose (Conv2DTransp  (2, 16, 16, 256)    524544      ['conv2d_11[0][0]']              \n",
            " ose)                                                                                             \n",
            "                                                                                                  \n",
            " concatenate (Concatenate)      (2, 16, 16, 512)     0           ['conv2d_transpose[0][0]',       \n",
            "                                                                  'conv2d_9[0][0]']               \n",
            "                                                                                                  \n",
            " conv2d_12 (Conv2D)             (2, 16, 16, 256)     1179904     ['concatenate[0][0]']            \n",
            "                                                                                                  \n",
            " dropout_6 (Dropout)            (2, 16, 16, 256)     0           ['conv2d_12[0][0]']              \n",
            "                                                                                                  \n",
            " conv2d_13 (Conv2D)             (2, 16, 16, 256)     590080      ['dropout_6[0][0]']              \n",
            "                                                                                                  \n",
            " conv2d_transpose_1 (Conv2DTran  (2, 32, 32, 128)    131200      ['conv2d_13[0][0]']              \n",
            " spose)                                                                                           \n",
            "                                                                                                  \n",
            " concatenate_1 (Concatenate)    (2, 32, 32, 256)     0           ['conv2d_transpose_1[0][0]',     \n",
            "                                                                  'conv2d_7[0][0]']               \n",
            "                                                                                                  \n",
            " conv2d_14 (Conv2D)             (2, 32, 32, 128)     295040      ['concatenate_1[0][0]']          \n",
            "                                                                                                  \n",
            " dropout_7 (Dropout)            (2, 32, 32, 128)     0           ['conv2d_14[0][0]']              \n",
            "                                                                                                  \n",
            " conv2d_15 (Conv2D)             (2, 32, 32, 128)     147584      ['dropout_7[0][0]']              \n",
            "                                                                                                  \n",
            " conv2d_transpose_2 (Conv2DTran  (2, 64, 64, 64)     32832       ['conv2d_15[0][0]']              \n",
            " spose)                                                                                           \n",
            "                                                                                                  \n",
            " concatenate_2 (Concatenate)    (2, 64, 64, 128)     0           ['conv2d_transpose_2[0][0]',     \n",
            "                                                                  'conv2d_5[0][0]']               \n",
            "                                                                                                  \n",
            " conv2d_16 (Conv2D)             (2, 64, 64, 64)      73792       ['concatenate_2[0][0]']          \n",
            "                                                                                                  \n",
            " dropout_8 (Dropout)            (2, 64, 64, 64)      0           ['conv2d_16[0][0]']              \n",
            "                                                                                                  \n",
            " conv2d_17 (Conv2D)             (2, 64, 64, 64)      36928       ['dropout_8[0][0]']              \n",
            "                                                                                                  \n",
            " conv2d_transpose_3 (Conv2DTran  (2, 128, 128, 32)   8224        ['conv2d_17[0][0]']              \n",
            " spose)                                                                                           \n",
            "                                                                                                  \n",
            " concatenate_3 (Concatenate)    (2, 128, 128, 64)    0           ['conv2d_transpose_3[0][0]',     \n",
            "                                                                  'conv2d_3[0][0]']               \n",
            "                                                                                                  \n",
            " conv2d_18 (Conv2D)             (2, 128, 128, 32)    18464       ['concatenate_3[0][0]']          \n",
            "                                                                                                  \n",
            " dropout_9 (Dropout)            (2, 128, 128, 32)    0           ['conv2d_18[0][0]']              \n",
            "                                                                                                  \n",
            " conv2d_19 (Conv2D)             (2, 128, 128, 32)    9248        ['dropout_9[0][0]']              \n",
            "                                                                                                  \n",
            " conv2d_transpose_4 (Conv2DTran  (2, 256, 256, 16)   2064        ['conv2d_19[0][0]']              \n",
            " spose)                                                                                           \n",
            "                                                                                                  \n",
            " concatenate_4 (Concatenate)    (2, 256, 256, 32)    0           ['conv2d_transpose_4[0][0]',     \n",
            "                                                                  'conv2d_1[0][0]']               \n",
            "                                                                                                  \n",
            " conv2d_20 (Conv2D)             (2, 256, 256, 128)   36992       ['concatenate_4[0][0]']          \n",
            "                                                                                                  \n",
            " dropout_10 (Dropout)           (2, 256, 256, 128)   0           ['conv2d_20[0][0]']              \n",
            "                                                                                                  \n",
            " conv2d_21 (Conv2D)             (2, 256, 256, 128)   147584      ['dropout_10[0][0]']             \n",
            "                                                                                                  \n",
            " conv2d_22 (Conv2D)             (2, 256, 256, 1)     129         ['conv2d_21[0][0]']              \n",
            "                                                                                                  \n",
            "==================================================================================================\n",
            "Total params: 7,953,345\n",
            "Trainable params: 7,953,345\n",
            "Non-trainable params: 0\n",
            "__________________________________________________________________________________________________\n"
          ]
        }
      ]
    },
    {
      "cell_type": "markdown",
      "source": [
        "# Preparing Dataset"
      ],
      "metadata": {
        "id": "pv-3CtwAx5sr"
      }
    },
    {
      "cell_type": "code",
      "source": [
        "model_path = os.path.join(\"/content/drive/MyDrive/CNN_Models\",\"unet_for_skull_stripping.h5\")\n",
        "csv_path = os.path.join(\"/content/drive/MyDrive/DataSet/random\",\"unet_for_skull_stripping.csv\")\n",
        "path = \"/content/drive/MyDrive/DataSet/skull_strpping\"\n",
        "split = 0.1"
      ],
      "metadata": {
        "id": "ME7eeI8Wxn8i"
      },
      "execution_count": null,
      "outputs": []
    },
    {
      "cell_type": "code",
      "source": [
        "train_path = \"/content/drive/MyDrive/DataSet/skull_strpping/train\"\n",
        "test_path = \"/content/drive/MyDrive/DataSet/skull_strpping/test\""
      ],
      "metadata": {
        "id": "3TGDumOe7IxI"
      },
      "execution_count": null,
      "outputs": []
    },
    {
      "cell_type": "code",
      "source": [
        "#load dataset\n",
        "def load_data(path, split=0.1):\n",
        "  images = sorted(glob(os.path.join(path, \"image_1/*\")))\n",
        "  masks = sorted(glob(os.path.join(path, \"mask_1/*\")))\n",
        "  \n",
        "  return images, masks"
      ],
      "metadata": {
        "id": "w4DyVdKVyTm0"
      },
      "execution_count": null,
      "outputs": []
    },
    {
      "cell_type": "code",
      "source": [
        "#process image function\n",
        "def read_img(path):\n",
        "  img = cv2.imread(path, cv2.IMREAD_COLOR)\n",
        "  img = cv2.resize(img, (256, 256))\n",
        "  img = img / 255\n",
        "  img = img.astype(np.float32)\n",
        "  return img\n",
        "\n",
        "#process mask function\n",
        "def read_mask(path):\n",
        "  mask = cv2.imread(path, cv2.IMREAD_GRAYSCALE)\n",
        "  mask = cv2.resize(mask, (256, 256))\n",
        "  mask = mask / 255\n",
        "  mask = np.expand_dims(mask, axis=-1)\n",
        "  mask = mask.astype(np.float32)\n",
        "  return mask"
      ],
      "metadata": {
        "id": "RmKztNRgy2k0"
      },
      "execution_count": null,
      "outputs": []
    },
    {
      "cell_type": "code",
      "source": [
        "def preprocess(x, y):\n",
        "  def f(x, y):\n",
        "    x = x.decode()\n",
        "    y = y.decode()\n",
        "    \n",
        "    x = read_img(x)\n",
        "    y = read_mask(y)\n",
        "    return x, y\n",
        "\n",
        "  image, mask = tf.numpy_function(f, [x, y], [tf.float32, tf.float32])\n",
        "  image.set_shape([256, 256, 3])\n",
        "  mask.set_shape([256, 256, 1])\n",
        "\n",
        "  return image, mask"
      ],
      "metadata": {
        "id": "dEAxYB25z2mQ"
      },
      "execution_count": null,
      "outputs": []
    },
    {
      "cell_type": "code",
      "source": [
        "def tf_dataset(x, y, batch=8):\n",
        "  dataset = tf.data.Dataset.from_tensor_slices((x, y))\n",
        "  dataset = dataset.shuffle(buffer_size=1000)\n",
        "  dataset = dataset.map(preprocess)\n",
        "  dataset = dataset.batch(batch)\n",
        "  dataset = dataset.prefetch(2)\n",
        "  return dataset"
      ],
      "metadata": {
        "id": "ih0zaqqX0IjC"
      },
      "execution_count": null,
      "outputs": []
    },
    {
      "cell_type": "code",
      "source": [
        "train_images, train_masks = load_data(train_path)\n",
        "test_images, test_masks = load_data(test_path)\n",
        "print(f'image: {len(train_images)} - Masks: {len(train_masks)}')\n",
        "print(f'image: {len(test_images)} - Masks: {len(test_masks)}')"
      ],
      "metadata": {
        "colab": {
          "base_uri": "https://localhost:8080/"
        },
        "id": "1NnJsWTI0OF1",
        "outputId": "bc45a205-bf52-4d62-c3da-a3a07370170d"
      },
      "execution_count": null,
      "outputs": [
        {
          "output_type": "stream",
          "name": "stdout",
          "text": [
            "image: 712 - Masks: 712\n",
            "image: 72 - Masks: 72\n"
          ]
        }
      ]
    },
    {
      "cell_type": "code",
      "source": [
        "train_dataset = tf_dataset(train_images, train_masks, batch=BATCH_SIZE)\n",
        "test_dataset = tf_dataset(test_images, test_masks, batch=BATCH_SIZE)"
      ],
      "metadata": {
        "id": "s4407Qxt8a5g"
      },
      "execution_count": null,
      "outputs": []
    },
    {
      "cell_type": "code",
      "source": [
        "Callbacks = [\n",
        "    ModelCheckpoint(model_path, verbose=1, save_best_only=True), \n",
        "    CSVLogger(csv_path),\n",
        "    ReduceLROnPlateau(monitor='val_loss', factor=0.1, patience=5, min_lr=1e-7, verbose=1)\n",
        "]"
      ],
      "metadata": {
        "id": "5KoIC88f2SbS"
      },
      "execution_count": null,
      "outputs": []
    },
    {
      "cell_type": "code",
      "source": [
        "model.fit(\n",
        "    train_dataset,\n",
        "    epochs=10,\n",
        "    validation_data=test_dataset, \n",
        "    callbacks=Callbacks\n",
        "    )"
      ],
      "metadata": {
        "colab": {
          "base_uri": "https://localhost:8080/"
        },
        "id": "j_TxQm5-8WEe",
        "outputId": "81656816-2f11-4dee-afe0-fff1396b75cf"
      },
      "execution_count": null,
      "outputs": [
        {
          "output_type": "stream",
          "name": "stdout",
          "text": [
            "Epoch 1/10\n",
            "45/45 [==============================] - ETA: 0s - loss: 0.6187 - accuracy: 0.7444 - recall: 0.0229 - precision: 0.2943\n",
            "Epoch 1: val_loss improved from inf to 0.54497, saving model to /content/drive/MyDrive/CNN_Models/unet_for_skull_stripping.h5\n",
            "45/45 [==============================] - 497s 10s/step - loss: 0.6187 - accuracy: 0.7444 - recall: 0.0229 - precision: 0.2943 - val_loss: 0.5450 - val_accuracy: 0.7804 - val_recall: 0.0000e+00 - val_precision: 0.0000e+00 - lr: 0.0010\n",
            "Epoch 2/10\n",
            "45/45 [==============================] - ETA: 0s - loss: 0.4093 - accuracy: 0.8016 - recall: 0.3627 - precision: 0.6992\n",
            "Epoch 2: val_loss improved from 0.54497 to 0.18804, saving model to /content/drive/MyDrive/CNN_Models/unet_for_skull_stripping.h5\n",
            "45/45 [==============================] - 22s 493ms/step - loss: 0.4093 - accuracy: 0.8016 - recall: 0.3627 - precision: 0.6992 - val_loss: 0.1880 - val_accuracy: 0.9173 - val_recall: 0.9180 - val_precision: 0.7699 - lr: 0.0010\n",
            "Epoch 3/10\n",
            "45/45 [==============================] - ETA: 0s - loss: 0.2203 - accuracy: 0.8986 - recall: 0.8347 - precision: 0.7856\n",
            "Epoch 3: val_loss improved from 0.18804 to 0.16563, saving model to /content/drive/MyDrive/CNN_Models/unet_for_skull_stripping.h5\n",
            "45/45 [==============================] - 24s 528ms/step - loss: 0.2203 - accuracy: 0.8986 - recall: 0.8347 - precision: 0.7856 - val_loss: 0.1656 - val_accuracy: 0.9297 - val_recall: 0.8615 - val_precision: 0.8386 - lr: 0.0010\n",
            "Epoch 4/10\n",
            "45/45 [==============================] - ETA: 0s - loss: 0.2144 - accuracy: 0.9021 - recall: 0.8058 - precision: 0.8121\n",
            "Epoch 4: val_loss did not improve from 0.16563\n",
            "45/45 [==============================] - 23s 493ms/step - loss: 0.2144 - accuracy: 0.9021 - recall: 0.8058 - precision: 0.8121 - val_loss: 0.1697 - val_accuracy: 0.9312 - val_recall: 0.8439 - val_precision: 0.8543 - lr: 0.0010\n",
            "Epoch 5/10\n",
            "45/45 [==============================] - ETA: 0s - loss: 0.2120 - accuracy: 0.9037 - recall: 0.8017 - precision: 0.8196\n",
            "Epoch 5: val_loss did not improve from 0.16563\n",
            "45/45 [==============================] - 21s 459ms/step - loss: 0.2120 - accuracy: 0.9037 - recall: 0.8017 - precision: 0.8196 - val_loss: 0.1751 - val_accuracy: 0.9347 - val_recall: 0.8447 - val_precision: 0.8677 - lr: 0.0010\n",
            "Epoch 6/10\n",
            "45/45 [==============================] - ETA: 0s - loss: 0.2150 - accuracy: 0.9032 - recall: 0.7970 - precision: 0.8208\n",
            "Epoch 6: val_loss improved from 0.16563 to 0.16206, saving model to /content/drive/MyDrive/CNN_Models/unet_for_skull_stripping.h5\n",
            "45/45 [==============================] - 25s 555ms/step - loss: 0.2150 - accuracy: 0.9032 - recall: 0.7970 - precision: 0.8208 - val_loss: 0.1621 - val_accuracy: 0.9335 - val_recall: 0.8528 - val_precision: 0.8572 - lr: 0.0010\n",
            "Epoch 7/10\n",
            "45/45 [==============================] - ETA: 0s - loss: 0.2160 - accuracy: 0.9024 - recall: 0.7954 - precision: 0.8191\n",
            "Epoch 7: val_loss did not improve from 0.16206\n",
            "45/45 [==============================] - 22s 472ms/step - loss: 0.2160 - accuracy: 0.9024 - recall: 0.7954 - precision: 0.8191 - val_loss: 0.1891 - val_accuracy: 0.9225 - val_recall: 0.7372 - val_precision: 0.8997 - lr: 0.0010\n",
            "Epoch 8/10\n",
            "45/45 [==============================] - ETA: 0s - loss: 0.2145 - accuracy: 0.9028 - recall: 0.7943 - precision: 0.8211\n",
            "Epoch 8: val_loss did not improve from 0.16206\n",
            "45/45 [==============================] - 21s 465ms/step - loss: 0.2145 - accuracy: 0.9028 - recall: 0.7943 - precision: 0.8211 - val_loss: 0.1641 - val_accuracy: 0.9300 - val_recall: 0.8276 - val_precision: 0.8612 - lr: 0.0010\n",
            "Epoch 9/10\n",
            "45/45 [==============================] - ETA: 0s - loss: 0.2107 - accuracy: 0.9044 - recall: 0.7929 - precision: 0.8275\n",
            "Epoch 9: val_loss improved from 0.16206 to 0.15804, saving model to /content/drive/MyDrive/CNN_Models/unet_for_skull_stripping.h5\n",
            "45/45 [==============================] - 25s 546ms/step - loss: 0.2107 - accuracy: 0.9044 - recall: 0.7929 - precision: 0.8275 - val_loss: 0.1580 - val_accuracy: 0.9315 - val_recall: 0.8632 - val_precision: 0.8430 - lr: 0.0010\n",
            "Epoch 10/10\n",
            "45/45 [==============================] - ETA: 0s - loss: 0.2105 - accuracy: 0.9048 - recall: 0.7974 - precision: 0.8260\n",
            "Epoch 10: val_loss did not improve from 0.15804\n",
            "45/45 [==============================] - 22s 492ms/step - loss: 0.2105 - accuracy: 0.9048 - recall: 0.7974 - precision: 0.8260 - val_loss: 0.1616 - val_accuracy: 0.9339 - val_recall: 0.8503 - val_precision: 0.8604 - lr: 0.0010\n"
          ]
        },
        {
          "output_type": "execute_result",
          "data": {
            "text/plain": [
              "<keras.callbacks.History at 0x7f418b499bd0>"
            ]
          },
          "metadata": {},
          "execution_count": 15
        }
      ]
    },
    {
      "cell_type": "code",
      "source": [
        "unet = load_model(\"/content/drive/MyDrive/CNN_Models/unet_for_skull_stripping.h5\")"
      ],
      "metadata": {
        "id": "Bw-Ky2zwCrLo"
      },
      "execution_count": 18,
      "outputs": []
    },
    {
      "cell_type": "code",
      "source": [
        "for img, msk in tqdm(zip(test_images, test_masks), total=len(test_images)):\n",
        "  image_name = img.split(\"/\")[-1]\n",
        "\n",
        "  ori_x = cv2.imread(img, cv2.IMREAD_COLOR)\n",
        "  ori_x = cv2.resize(ori_x, (W,H))\n",
        "  x = ori_x / 255.0\n",
        "  x = x.astype(np.float32)\n",
        "  x = np.expand_dims(x, axis=0)\n",
        "\n",
        "  ori_y = cv2.imread(msk, cv2.IMREAD_GRAYSCALE)\n",
        "  ori_y = cv2.resize(ori_y, (W,H))\n",
        "  ori_y = np.expand_dims(ori_y, axis=-1)\n",
        "  \n",
        "  y_pred = model.predict(x)[0] > 0.5  \n",
        "  y_pred = y_pred.astype(np.int32)\n",
        "  y_pred = y_pred.reshape(256, 256, 1)\n",
        "\n",
        "  print(ori_x.shape, ori_y.shape, y_pred.shape)\n",
        "  save_image_path = f\"/content/predicted/{image_name}\"\n",
        "\n",
        "  sep_line = np.ones((H, 10, 3)) * 255\n",
        "  cat_image = np.concatenate([ori_y, y_pred*255], axis=1)\n",
        "  cv2.imwrite(save_image_path, cat_image)"
      ],
      "metadata": {
        "id": "JoheNcmU8eA_",
        "colab": {
          "base_uri": "https://localhost:8080/",
          "height": 322
        },
        "outputId": "345a86ed-ee02-440c-c24e-2c98d2f7d8d7"
      },
      "execution_count": 47,
      "outputs": [
        {
          "output_type": "stream",
          "name": "stderr",
          "text": [
            "\r  0%|          | 0/72 [00:00<?, ?it/s]"
          ]
        },
        {
          "output_type": "stream",
          "name": "stdout",
          "text": [
            "1/1 [==============================] - 0s 32ms/step\n"
          ]
        },
        {
          "output_type": "stream",
          "name": "stderr",
          "text": [
            "\r  0%|          | 0/72 [00:00<?, ?it/s]"
          ]
        },
        {
          "output_type": "stream",
          "name": "stdout",
          "text": [
            "(256, 256, 3) (256, 256, 1) (256, 256, 1)\n"
          ]
        },
        {
          "output_type": "stream",
          "name": "stderr",
          "text": [
            "\n"
          ]
        },
        {
          "output_type": "error",
          "ename": "ValueError",
          "evalue": "ignored",
          "traceback": [
            "\u001b[0;31m---------------------------------------------------------------------------\u001b[0m",
            "\u001b[0;31mValueError\u001b[0m                                Traceback (most recent call last)",
            "\u001b[0;32m<ipython-input-47-a74e092d3b37>\u001b[0m in \u001b[0;36m<cell line: 1>\u001b[0;34m()\u001b[0m\n\u001b[1;32m     20\u001b[0m \u001b[0;34m\u001b[0m\u001b[0m\n\u001b[1;32m     21\u001b[0m   \u001b[0msep_line\u001b[0m \u001b[0;34m=\u001b[0m \u001b[0mnp\u001b[0m\u001b[0;34m.\u001b[0m\u001b[0mones\u001b[0m\u001b[0;34m(\u001b[0m\u001b[0;34m(\u001b[0m\u001b[0mH\u001b[0m\u001b[0;34m,\u001b[0m \u001b[0;36m10\u001b[0m\u001b[0;34m,\u001b[0m \u001b[0;36m3\u001b[0m\u001b[0;34m)\u001b[0m\u001b[0;34m)\u001b[0m \u001b[0;34m*\u001b[0m \u001b[0;36m255\u001b[0m\u001b[0;34m\u001b[0m\u001b[0;34m\u001b[0m\u001b[0m\n\u001b[0;32m---> 22\u001b[0;31m   \u001b[0mcat_image\u001b[0m \u001b[0;34m=\u001b[0m \u001b[0mnp\u001b[0m\u001b[0;34m.\u001b[0m\u001b[0mconcatenate\u001b[0m\u001b[0;34m(\u001b[0m\u001b[0;34m[\u001b[0m\u001b[0mori_x\u001b[0m\u001b[0;34m,\u001b[0m \u001b[0mori_y\u001b[0m\u001b[0;34m,\u001b[0m \u001b[0my_pred\u001b[0m\u001b[0;34m*\u001b[0m\u001b[0;36m255\u001b[0m\u001b[0;34m]\u001b[0m\u001b[0;34m,\u001b[0m \u001b[0maxis\u001b[0m\u001b[0;34m=\u001b[0m\u001b[0;36m1\u001b[0m\u001b[0;34m)\u001b[0m\u001b[0;34m\u001b[0m\u001b[0;34m\u001b[0m\u001b[0m\n\u001b[0m\u001b[1;32m     23\u001b[0m   \u001b[0mcv2\u001b[0m\u001b[0;34m.\u001b[0m\u001b[0mimwrite\u001b[0m\u001b[0;34m(\u001b[0m\u001b[0msave_image_path\u001b[0m\u001b[0;34m,\u001b[0m \u001b[0mcat_image\u001b[0m\u001b[0;34m)\u001b[0m\u001b[0;34m\u001b[0m\u001b[0;34m\u001b[0m\u001b[0m\n",
            "\u001b[0;32m/usr/local/lib/python3.10/dist-packages/numpy/core/overrides.py\u001b[0m in \u001b[0;36mconcatenate\u001b[0;34m(*args, **kwargs)\u001b[0m\n",
            "\u001b[0;31mValueError\u001b[0m: all the input array dimensions for the concatenation axis must match exactly, but along dimension 2, the array at index 0 has size 3 and the array at index 1 has size 1"
          ]
        }
      ]
    },
    {
      "cell_type": "code",
      "source": [],
      "metadata": {
        "id": "p0n7g2gMFZ6f"
      },
      "execution_count": null,
      "outputs": []
    }
  ]
}